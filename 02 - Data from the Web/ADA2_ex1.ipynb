{
 "cells": [
  {
   "cell_type": "markdown",
   "metadata": {},
   "source": [
    "# HOMEWORK 2(exercise 1)"
   ]
  },
  {
   "cell_type": "markdown",
   "metadata": {},
   "source": [
    "## This file contains solution for 1st exercise (note: Please see the other file for exercise 2 and bonus solutions)"
   ]
  },
  {
   "cell_type": "code",
   "execution_count": 1,
   "metadata": {
    "collapsed": true
   },
   "outputs": [],
   "source": [
    "%matplotlib inline\n",
    "import matplotlib.pyplot as plt\n",
    "import numpy as np\n",
    "import sys\n",
    "from bs4 import BeautifulSoup as BSoup\n",
    "import requests\n",
    "import pandas as pd\n",
    "import seaborn as sns\n",
    "import scipy.stats as stats\n",
    "sns.set_context('notebook')"
   ]
  },
  {
   "cell_type": "markdown",
   "metadata": {},
   "source": [
    "## Main assumption\n",
    "#### In the first exercise, we assume that it takes at least 6 semesters to graduate from bachelor degree. So, when the number of semesters are less than 6, we drop that information since we consider those students as failed to graduate(or haven't graduated yet,so we can't assume how much time it will take for them to graduate)."
   ]
  },
  {
   "cell_type": "markdown",
   "metadata": {},
   "source": [
    "### Following part is link data(HTTP request variables) extraction for URLs that will be used for HTTP requests"
   ]
  },
  {
   "cell_type": "code",
   "execution_count": 2,
   "metadata": {
    "collapsed": false
   },
   "outputs": [],
   "source": [
    "# The following code stores the values by parsing the html file which are going to \n",
    "#be used in request.get for data getting\n",
    "r = requests.get('http://isa.epfl.ch/imoniteur_ISAP/!GEDPUBLICREPORTS.filter?ww_b_list=1&ww_i_reportmodel=133685247&ww_c_langue=&ww_i_reportModelXsl=133685270')\n",
    "soup = BSoup(r.text.encode('utf-8'),'lxml')\n",
    "links = soup.find_all(\"select\")\n",
    "\n",
    "value_years = {} # Initilizing the datas\n",
    "years = []\n",
    "value_semesters = {}\n",
    "semester = []\n",
    "\n",
    "for i in range(2007,2017):\n",
    "    value_years[str(i)] = []\n",
    "    years.append(str(i))\n",
    "for i in range(1,7):\n",
    "    value_semesters['Bachelor semestre '+str(i)] = []\n",
    "    semester.append('Bachelor semestre '+str(i))\n",
    "value_semesters['Bachelor semestre '+str(5)+'b'] = []\n",
    "value_semesters['Bachelor semestre '+str(6)+'b'] = []\n",
    "semester.append('Bachelor semestre '+str(5)+'b')\n",
    "semester.append('Bachelor semestre '+str(6)+'b')\n",
    "\n",
    "for link in links:                     \n",
    "    namesAll = link.find_all(\"option\")\n",
    "    for names in namesAll:\n",
    "        #print(names.contents)\n",
    "        if names.contents:\n",
    "            if names.contents[0][:4] in years: # stores the values for years\n",
    "                value_years[str(names.contents[0][:4])] = names['value']\n",
    "            elif names.contents[0] == 'Informatique': # stores the value for field Informatique\n",
    "                value_informatiq = int(names['value'])\n",
    "            elif names.contents[0] in semester: # stores the values for semesters\n",
    "                value_semesters[names.contents[0]] = names['value']"
   ]
  },
  {
   "cell_type": "markdown",
   "metadata": {},
   "source": [
    "#### This function is used to get the table from the query"
   ]
  },
  {
   "cell_type": "code",
   "execution_count": 3,
   "metadata": {
    "collapsed": true
   },
   "outputs": [],
   "source": [
    "def get_data3(query):\n",
    "    r = requests.get('http://isa.epfl.ch/imoniteur_ISAP/!GEDPUBLICREPORTS.bhtml?ww_x_GPS=-1&ww_i_reportmodel=133685247&ww_i_reportModelXsl=133685270',params=query)\n",
    "    soup = BSoup(r.text.encode('utf-8'),'lxml')\n",
    "    table_soup = soup.find('table')\n",
    "    #data inside the cells of table\n",
    "    data_cell = table_soup.find_all('td')#.renderContents()#.strip()\n",
    "    d=[]\n",
    "    st = []\n",
    "    h = []\n",
    "    for entry in data_cell:\n",
    "        s = entry.text\n",
    "        s = s.replace(u'\\xa0', u' ')\n",
    "        s = s.replace(u'Ã©',u'e') \n",
    "        d.append(s)\n",
    "    #headers\n",
    "    headers=soup.findAll('th')\n",
    "    for header in headers[1:]:\n",
    "        temp = header.text\n",
    "        temp = temp.replace(u'Ã©',u'e')\n",
    "        h.append(temp)\n",
    "        \n",
    "    #for getting current semester info\n",
    "    headers=soup.findAll('th')\n",
    "    #creating dataframe with the obtained data\n",
    "    st=[d[x:x+11] for x in range(0,len(d),12)]\n",
    "    dfr=pd.DataFrame(st,columns=h[:11])\n",
    "    return dfr"
   ]
  },
  {
   "cell_type": "markdown",
   "metadata": {},
   "source": [
    "#### After getting the link data we do requests and gather the information"
   ]
  },
  {
   "cell_type": "code",
   "execution_count": 4,
   "metadata": {
    "collapsed": false
   },
   "outputs": [],
   "source": [
    "#Dataframe 'result' will keep track of all dataframes combined\n",
    "\n",
    "result=pd.DataFrame() #empty dataframe\n",
    "count=0 # will be used to get the header from the first link\n",
    "\n",
    "\n",
    "for y in range(2007,2017): # concatenating whole data into a pandas dataframe\n",
    "    for vS in semester:\n",
    "        query = {'ww_x_UNITE_ACAD' : value_informatiq,'ww_x_PERIODE_ACAD':value_years[str(y)],\n",
    "        'ww_x_PERIODE_PEDAGO':value_semesters[vS]}\n",
    "        data = get_data3(query)\n",
    "        result=pd.concat([result,data])#,ignore_index=True)       "
   ]
  },
  {
   "cell_type": "markdown",
   "metadata": {},
   "source": [
    "#### Now 'result' contains all the data of all bachelor students that began their bachelor in 2007. \n",
    "#### We change the index of dataframe to be 'No Sciper' since each student can be determined by it "
   ]
  },
  {
   "cell_type": "code",
   "execution_count": 5,
   "metadata": {
    "collapsed": false
   },
   "outputs": [],
   "source": [
    "result_s=result.set_index('No Sciper')\n",
    "resultx=result['No Sciper']#indices\n",
    "counter=0 # counts number of students that have less than 6 semesters at EPFL(either because still studies or stopped)\n",
    "# Remove students with less than 6 semesters\n",
    "for i in resultx:\n",
    "    if ((result_s.index==i).sum()<6):\n",
    "        #counter=counter+1\n",
    "        result_s=result_s.drop([i])#,axis=0)\n",
    "# For the remaining students(result_s) compute how many months it took for them to complete studies:\n",
    "#result_s.reset_index(level=0, inplace=True)\n",
    "#result_s=result_s.drop_duplicates(subset='index', keep='last')\n",
    "n_index=result_s.index\n",
    "#female and male student SCIPER numbers\n",
    "female=result_s[result_s['Civilite']=='Madame'].index \n",
    "male=result_s[result_s['Civilite']=='Monsieur'].index"
   ]
  },
  {
   "cell_type": "markdown",
   "metadata": {},
   "source": [
    "### Assumption: We calculated the time it took for the student to graduate as the number of semesters she/he registered at is-academia.\n",
    "#### 'duration' lists keep number of semesters student spends in university"
   ]
  },
  {
   "cell_type": "code",
   "execution_count": 6,
   "metadata": {
    "collapsed": false
   },
   "outputs": [],
   "source": [
    "#general\n",
    "duration=[]\n",
    "for ind in n_index:\n",
    "    t=(result_s.index==ind).sum()\n",
    "    t=6*t\n",
    "    duration.append(t)\n",
    "#female    \n",
    "duration_f=[]\n",
    "for ind in female:\n",
    "    t=(result_s.index==ind).sum()\n",
    "    t=6*t\n",
    "    duration_f.append(t)\n",
    "#male\n",
    "duration_m=[]\n",
    "for ind in male:\n",
    "    t=(result_s.index==ind).sum()\n",
    "    t=6*t\n",
    "    duration_m.append(t)"
   ]
  },
  {
   "cell_type": "markdown",
   "metadata": {},
   "source": [
    "#### Below we make data more organized to only make the dataframe consisting of student id and corresponding number of months it took to study at epfl."
   ]
  },
  {
   "cell_type": "code",
   "execution_count": 7,
   "metadata": {
    "collapsed": true
   },
   "outputs": [],
   "source": [
    "information=pd.DataFrame(duration, index=n_index)\n",
    "information.reset_index(level=0, inplace=True)\n",
    "infor=information.drop_duplicates(subset='No Sciper',keep='last')\n",
    "infor=infor.set_index('No Sciper')\n",
    "infor.columns=['months']\n",
    "\n",
    "#same operations for female and male students\n",
    "information_f=pd.DataFrame(duration_f,index=female)\n",
    "information_f.reset_index(level=0, inplace=True)\n",
    "infor_f=information_f.drop_duplicates(subset='No Sciper',keep='last')\n",
    "infor_f=infor_f.set_index('No Sciper')\n",
    "infor_f.columns=['months']\n",
    "\n",
    "information_m=pd.DataFrame(duration_m,index=male)\n",
    "information_m.reset_index(level=0, inplace=True)\n",
    "infor_m=information_m.drop_duplicates(subset='No Sciper',keep='last')\n",
    "infor_m=infor_m.set_index('No Sciper')\n",
    "infor_m.columns=['months']"
   ]
  },
  {
   "cell_type": "markdown",
   "metadata": {},
   "source": [
    "#### Now let's analyze data"
   ]
  },
  {
   "cell_type": "code",
   "execution_count": 8,
   "metadata": {
    "collapsed": false
   },
   "outputs": [
    {
     "name": "stdout",
     "output_type": "stream",
     "text": [
      "##################\n",
      "DATA SUMMARY FOR ALL(bachelor) STUDENTS\n",
      "##################\n",
      "\n",
      "\n",
      "Average duration is 41.9872340426, median for all students is 36.0, std is 8.54386940951\n",
      "Overall among all students 55.3191489362 percent graduated on expected time which is 36 months\n"
     ]
    },
    {
     "data": {
      "image/png": "[encoded data removed]",
      "text/plain": [
       "<matplotlib.figure.Figure at 0x117311b38>"
      ]
     },
     "metadata": {},
     "output_type": "display_data"
    }
   ],
   "source": [
    "#general analysis\n",
    "infor.hist()\n",
    "print('##################')\n",
    "print('DATA SUMMARY FOR ALL(bachelor) STUDENTS')\n",
    "print('##################')\n",
    "print('\\n')\n",
    "mediang=infor.median()\n",
    "meang=infor.mean()  #average number of semesters\n",
    "stdg=infor.std()\n",
    "print('Average duration is '+ str(meang.values[0]) + ', median for all students is ' + str(mediang.values[0]) + ', std is ' + str(stdg.values[0]) )\n",
    "on_time_students=(infor==6*6).sum()/len(infor)*100 #portion of students that graduated in 6 semesters(in percent)\n",
    "print('Overall among all students ' + str(on_time_students.values[0]) + ' percent graduated on expected time which is 36 months')"
   ]
  },
  {
   "cell_type": "code",
   "execution_count": 9,
   "metadata": {
    "collapsed": false
   },
   "outputs": [
    {
     "name": "stdout",
     "output_type": "stream",
     "text": [
      "##################\n",
      "DATA SUMMARY FOR MALE STUDENTS\n",
      "##################\n",
      "\n",
      "\n",
      "Average duration is 42.0821917808, median for male students is 36.0, std is 8.60060147648\n",
      "Overall among all male students 54.5662100457 percent graduated on expected time which is 36 months\n"
     ]
    },
    {
     "data": {
      "image/png": "[encoded data removed]",
      "text/plain": [
       "<matplotlib.figure.Figure at 0x11a08fa58>"
      ]
     },
     "metadata": {},
     "output_type": "display_data"
    }
   ],
   "source": [
    "#male\n",
    "infor_m.hist()\n",
    "print('##################')\n",
    "print('DATA SUMMARY FOR MALE STUDENTS')\n",
    "print('##################')\n",
    "print('\\n')\n",
    "medianm=infor_m.median()\n",
    "meanm=infor_m.mean()  #average number of semesters\n",
    "stdm=infor_m.std()\n",
    "print('Average duration is '+ str(meanm.values[0]) + ', median for male students is ' + str(medianm.values[0]) + ', std is ' + str(stdm.values[0]) )\n",
    "on_time_boys=(infor_m==6*6).sum()/len(infor_m)*100 #portion of boys that graduated in 6 semesters(in percent)\n",
    "print('Overall among all male students ' + str(on_time_boys.values[0]) + ' percent graduated on expected time which is 36 months')"
   ]
  },
  {
   "cell_type": "code",
   "execution_count": 10,
   "metadata": {
    "collapsed": false
   },
   "outputs": [
    {
     "name": "stdout",
     "output_type": "stream",
     "text": [
      "##################\n",
      "DATA SUMMARY FOR FEMALE STUDENTS\n",
      "##################\n",
      "\n",
      "\n",
      "Average duration is 40.6875, median for female students is 36.0, std is 7.73111643234\n",
      "Overall among all students 65.625 percent graduated on expected time which is 36 months\n"
     ]
    },
    {
     "data": {
      "image/png": "[encoded data removed]",
      "text/plain": [
       "<matplotlib.figure.Figure at 0x1198092e8>"
      ]
     },
     "metadata": {},
     "output_type": "display_data"
    }
   ],
   "source": [
    "#female\n",
    "infor_f.hist()\n",
    "print('##################')\n",
    "print('DATA SUMMARY FOR FEMALE STUDENTS')\n",
    "print('##################')\n",
    "print('\\n')\n",
    "medianf=infor_f.median()\n",
    "meanf=infor_f.mean()  #average number of semesters\n",
    "stdf=infor_f.std()\n",
    "print('Average duration is '+ str(meanf.values[0]) + ', median for female students is ' + str(medianf.values[0]) + ', std is ' + str(stdf.values[0]) )\n",
    "on_time_girls=(infor_f==6*6).sum()/len(infor_f)*100 #portion of girls that graduated in 6 semesters(in percent)\n",
    "print('Overall among all students ' + str(on_time_girls.values[0]) + ' percent graduated on expected time which is 36 months')"
   ]
  },
  {
   "cell_type": "markdown",
   "metadata": {},
   "source": [
    "## The two means are not significantly different.\n",
    "** We use the Two-Sample T-Test, as we want to check whether two distribution (namely duration of study of males and females) differ or not based on the two samples of distributions.\n",
    " Considering the Null Hypothesis to be that the two distributions are same, we implement the T-Test and as it is seen with 33% probability we'd see the obtained result if the two groups are actually identical, hence we can not reject the null hypothesis (we considered 95% confidence level, which is far from the obtained result).**"
   ]
  },
  {
   "cell_type": "code",
   "execution_count": 11,
   "metadata": {
    "collapsed": false
   },
   "outputs": [
    {
     "data": {
      "text/plain": [
       "Ttest_indResult(statistic=array([-0.97727042]), pvalue=array([ 0.33480979]))"
      ]
     },
     "execution_count": 11,
     "metadata": {},
     "output_type": "execute_result"
    }
   ],
   "source": [
    "stats.ttest_ind(a=infor_f,b=infor_m,equal_var=False)"
   ]
  },
  {
   "cell_type": "code",
   "execution_count": null,
   "metadata": {
    "collapsed": true
   },
   "outputs": [],
   "source": []
  }
 ],
 "metadata": {
  "anaconda-cloud": {},
  "kernelspec": {
   "display_name": "Python [Root]",
   "language": "python",
   "name": "Python [Root]"
  },
  "language_info": {
   "codemirror_mode": {
    "name": "ipython",
    "version": 3
   },
   "file_extension": ".py",
   "mimetype": "text/x-python",
   "name": "python",
   "nbconvert_exporter": "python",
   "pygments_lexer": "ipython3",
   "version": "3.5.2"
  }
 },
 "nbformat": 4,
 "nbformat_minor": 0
}
