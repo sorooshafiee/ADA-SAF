{
 "cells": [
  {
   "cell_type": "code",
   "execution_count": 61,
   "metadata": {
    "collapsed": false,
    "scrolled": true
   },
   "outputs": [],
   "source": [
    "from os import path\n",
    "from collections import Counter\n",
    "import pycountry\n",
    "import pandas as pd\n",
    "import matplotlib.pyplot as plt\n",
    "import nltk\n",
    "from nltk.sentiment import SentimentIntensityAnalyzer\n",
    "from functools import reduce\n",
    "import numpy as np\n",
    "%matplotlib inline"
   ]
  },
  {
   "cell_type": "code",
   "execution_count": 2,
   "metadata": {
    "collapsed": true
   },
   "outputs": [],
   "source": [
    "def text_cleaning(text):\n",
    "    # Convert all words to lower case\n",
    "    text = text.lower()    \n",
    "    # Tokenize the text while removing all words with less than 3 characters\n",
    "    tokenizer = nltk.tokenize.RegexpTokenizer(r'\\w{3,}')\n",
    "    token_text = tokenizer.tokenize(text)\n",
    "    # Remove common words from the text\n",
    "    s = set(nltk.corpus.stopwords.words('english'))\n",
    "    token_text = list(filter(lambda x: x not in s, token_text))\n",
    "    return ' '.join(token_text)"
   ]
  },
  {
   "cell_type": "code",
   "execution_count": 3,
   "metadata": {
    "collapsed": true
   },
   "outputs": [],
   "source": [
    "df = pd.read_csv(path.join('hillary-clinton-emails', 'emails.csv'))\n",
    "raw_text = df['ExtractedBodyText'].dropna().reset_index(drop=True)\n",
    "clean_text = raw_text.map(text_cleaning)"
   ]
  },
  {
   "cell_type": "code",
   "execution_count": 4,
   "metadata": {
    "collapsed": true
   },
   "outputs": [],
   "source": [
    "def text_cleaning(text):\n",
    "    # Convert all words to lower case\n",
    "    text = text.lower()    \n",
    "    # Tokenize the text while removing all words with less than 3 characters\n",
    "    tokenizer = nltk.tokenize.RegexpTokenizer(r'\\w{3,}')\n",
    "    token_text = tokenizer.tokenize(text)\n",
    "    # Remove common words from the text\n",
    "    s = set(nltk.corpus.stopwords.words('english'))\n",
    "    token_text = list(filter(lambda x: x not in s, token_text))\n",
    "    return ' '.join(token_text)"
   ]
  },
  {
   "cell_type": "code",
   "execution_count": 5,
   "metadata": {
    "collapsed": true
   },
   "outputs": [],
   "source": [
    "clean_text = raw_text.map(text_cleaning)"
   ]
  },
  {
   "cell_type": "code",
   "execution_count": 6,
   "metadata": {
    "collapsed": true
   },
   "outputs": [],
   "source": [
    "sentim_analyzer = SentimentIntensityAnalyzer()\n",
    "plr_scores = clean_text.map(sentim_analyzer.polarity_scores)\n",
    "compound_scores = plr_scores.map(lambda x: x['compound'])"
   ]
  },
  {
   "cell_type": "code",
   "execution_count": null,
   "metadata": {
    "collapsed": true
   },
   "outputs": [],
   "source": []
  },
  {
   "cell_type": "code",
   "execution_count": 12,
   "metadata": {
    "collapsed": true
   },
   "outputs": [],
   "source": [
    "countries_dict = {country.alpha_2: [country.alpha_2.lower(),\n",
    "                                    country.alpha_3.lower(),\n",
    "                                    country.name.split(\",\")[0].lower()]\n",
    "                  for country in pycountry.countries}"
   ]
  },
  {
   "cell_type": "code",
   "execution_count": 13,
   "metadata": {
    "collapsed": false
   },
   "outputs": [],
   "source": [
    "countries_dict['GB'].extend(['uk', 'united kingdom', 'great britain'])\n",
    "countries_dict['US'].extend(['u.s.', 'u.s.a'])\n",
    "countries_dict['RU'].append('russia')\n",
    "countries_dict['KP'].append('north korea')\n",
    "countries_dict['KR'].append('south korea')\n",
    "countries_dict['SY'].append('syria')"
   ]
  },
  {
   "cell_type": "code",
   "execution_count": 14,
   "metadata": {
    "collapsed": true
   },
   "outputs": [],
   "source": [
    "excluded_words = ['am', 'as', 'at', 'bf', 'cc', 'cv', 'ee', 'eh', 'gf', 'gg', 'id', 'co'\n",
    "                  'ie', 'im', 'in', 'is', 'it', 'no', 'np', 'pm', 'tf', 'to', 'us',\n",
    "                  'arm', 'can', 'com', 'col', 'mac', 'and', 'are', 'ago']"
   ]
  },
  {
   "cell_type": "code",
   "execution_count": 15,
   "metadata": {
    "collapsed": true
   },
   "outputs": [],
   "source": [
    "def search_for_countries(text):\n",
    "    result = []\n",
    "    for key, values in countries_dict.items():\n",
    "        for value in values:\n",
    "            if len(value.split()) == 1:\n",
    "                if (value in text.split()) and (value not in excluded_words):\n",
    "                    result.append(key)\n",
    "                    break\n",
    "                else:\n",
    "                    pass\n",
    "            else:\n",
    "                if value in text:\n",
    "                    result.append(key)\n",
    "                    break\n",
    "                else:\n",
    "                    pass\n",
    "    return result"
   ]
  },
  {
   "cell_type": "code",
   "execution_count": 16,
   "metadata": {
    "collapsed": false
   },
   "outputs": [],
   "source": [
    "countries_existed = clean_text.map(search_for_countries)"
   ]
  },
  {
   "cell_type": "code",
   "execution_count": 123,
   "metadata": {
    "collapsed": false
   },
   "outputs": [],
   "source": [
    "# Falttening the list\n",
    "all_countires = reduce(lambda x,y: x+y,countries_existed)\n",
    "# Calculating the frequency of the countires\n",
    "counts = np.asarray(list(map(lambda x:all_countires.count(x),list(countries_dict.keys()))))"
   ]
  },
  {
   "cell_type": "code",
   "execution_count": 124,
   "metadata": {
    "collapsed": true
   },
   "outputs": [],
   "source": [
    "def score_countries(text,scores):\n",
    "    result = []\n",
    "    for key, values in countries_dict.items():\n",
    "        for value in values:\n",
    "            if len(value.split()) == 1:\n",
    "                if (value in text.split()) and (value not in excluded_words):\n",
    "                    result.append(key)\n",
    "                    break\n",
    "                else:\n",
    "                    pass\n",
    "            else:\n",
    "                if value in text:\n",
    "                    result.append(key)\n",
    "                    break\n",
    "                else:\n",
    "                    pass\n",
    "    return result"
   ]
  },
  {
   "cell_type": "code",
   "execution_count": 349,
   "metadata": {
    "collapsed": false,
    "scrolled": true
   },
   "outputs": [
    {
     "data": {
      "text/plain": [
       "array([ 0.9941    ,  0.99746667,  0.5267    ,  0.41039286,  0.22940678,\n",
       "        0.70884762,  0.63198276,  0.        ,  0.46316667, -0.926     ,\n",
       "        0.9038    , -0.128     ,  0.6673    ,  0.226525  ,  0.15052667,\n",
       "        0.28015   ,  0.        ,  0.        ,  0.        ,  0.646     ,\n",
       "       -0.0055    ,  0.        ,  0.02782   ,  0.        ,  0.        ,\n",
       "        0.        ,  0.        ,  0.        ,  0.        ,  0.04396667,\n",
       "        0.        ,  0.5830913 ,  0.36615   ,  0.21408333,  0.        ,\n",
       "        0.        ,  0.        ,  0.4147    ,  0.34      ,  0.22430667,\n",
       "        0.41309167,  0.        ,  0.        ,  0.        ,  0.48053333,\n",
       "        0.        ,  0.35082738,  0.        ,  1.        ,  0.52635217,\n",
       "        0.408425  ,  0.        , -0.02095   ,  0.5352    ,  0.        ,\n",
       "        0.        ,  0.45324545,  0.42091765,  0.43129211,  0.7842    ,\n",
       "        0.377125  ,  0.        ,  0.9925    ,  0.        ,  0.3262    ,\n",
       "        0.28405   ,  0.543525  ,  0.        ,  0.6705    ,  0.        ,\n",
       "        0.        ,  0.        ,  0.        ,  0.        , -0.9931    ,\n",
       "        0.        ,  0.        ,  0.        ,  0.        ,  0.92195   ,\n",
       "        0.36975222,  0.9998    ,  0.66095   , -0.95275   ,  0.39996667,\n",
       "       -0.9403    ,  0.30181194,  0.692525  ,  0.        ,  0.25178143,\n",
       "        0.8046    ,  0.9969    ,  0.87224444,  0.        ,  0.        ,\n",
       "        0.08753333,  0.82611667,  0.58994   , -0.02095   ,  0.        ,\n",
       "        0.        ,  0.47263529,  0.        ,  0.        ,  0.11203333,\n",
       "        0.34866   ,  0.        ,  0.        ,  0.        ,  0.222175  ,\n",
       "        0.        , -0.01344074,  0.21843333,  0.99      ,  0.9623    ,\n",
       "        0.8263    , -0.6808    ,  0.39911667, -0.9834    ,  0.38637818,\n",
       "        0.        ,  0.6942    ,  0.6665    ,  0.        ,  0.        ,\n",
       "        0.53678421,  0.49985   ,  0.47334   ,  0.        , -0.06545   ,\n",
       "        0.        ,  0.2979    ,  0.061825  ,  0.163325  ,  0.4869    ,\n",
       "        0.59453077,  0.        ,  0.        ,  0.        ,  0.        ,\n",
       "        0.73904167,  0.        ,  0.43367174,  0.78515   ,  0.        ,\n",
       "        0.29277895,  0.46632632,  0.40154272,  0.0102    ,  0.0611    ,\n",
       "        0.        ,  0.        ,  0.41854096,  0.        ,  0.17361667,\n",
       "        0.28315   ,  0.9991    ,  0.        , -0.9706    ,  0.57806   ,\n",
       "        0.        , -0.12953333,  0.        ,  0.31345   ,  0.        ,\n",
       "        0.70173333,  0.        ,  0.34822636,  0.60055   ,  0.        ,\n",
       "        0.8493    , -0.0750125 ,  0.32285   ,  0.9951    ,  0.        ,\n",
       "        0.        ,  0.        ,  0.        ,  0.1531    , -0.11142857,\n",
       "        0.        ,  0.        ,  0.5095375 ,  0.68381864,  0.85366667,\n",
       "        0.19656154,  0.        ,  0.        , -0.13046   ,  0.        ,\n",
       "        0.63091   ,  0.        ,  0.        ,  0.        ,  0.        ,\n",
       "        0.96735   ,  0.25194783,  0.        , -0.0492    ,  0.18486667,\n",
       "        0.35826   ,  0.456732  ,  0.8934    , -0.22134444,  0.        ,\n",
       "        0.79148333,  0.        ,  0.25539286,  0.11126154,  0.        ,\n",
       "        0.        ,  0.        ,  0.6249    ,  0.        ,  0.49875   ,\n",
       "        0.95626667,  0.56386667,  0.35907222,  0.48648333,  0.1358375 ,\n",
       "        0.        ,  0.97705   ,  0.        ,  0.57792   ,  0.24132941,\n",
       "        0.99853333,  0.21315   ,  0.52463333,  0.        ,  0.49885   ,\n",
       "        0.38718966,  0.9925    , -0.9854    ,  0.        ,  0.        ,\n",
       "        0.4689    ,  0.        ,  0.38702821, -0.00675714,  0.        ,\n",
       "       -0.65013333,  0.1346    , -0.9834    ,  0.9969    ,  0.        ,\n",
       "       -0.0988    ,  0.32236667,  0.55566   ,  0.44464302])"
      ]
     },
     "execution_count": 349,
     "metadata": {},
     "output_type": "execute_result"
    }
   ],
   "source": [
    "scores = np.zeros(len(counts))\n",
    "for i,country_name in enumerate(list(countries_dict.keys())):\n",
    "    for j,country in enumerate(countries_existed):\n",
    "        if country_name in country:\n",
    "            scores[i] += compound_scores[j]\n",
    "average_polar = scores/(counts+1*(counts==0))\n",
    "average_polar"
   ]
  },
  {
   "cell_type": "code",
   "execution_count": 216,
   "metadata": {
    "collapsed": false
   },
   "outputs": [
    {
     "name": "stderr",
     "output_type": "stream",
     "text": [
      "/Users/salehi/anaconda3/lib/python3.5/site-packages/ipykernel/__main__.py:4: FutureWarning: sort(columns=....) is deprecated, use sort_values(by=.....)\n"
     ]
    }
   ],
   "source": [
    "data_country = pd.DataFrame({'name':list(countries_dict.keys())})\n",
    "data_country['count'] = counts\n",
    "data_country['polar'] = average_polar\n",
    "data_country = data_country.sort(['polar'])\n",
    "data_country = data_country.set_index(['name'])"
   ]
  },
  {
   "cell_type": "code",
   "execution_count": 266,
   "metadata": {
    "collapsed": false
   },
   "outputs": [
    {
     "data": {
      "text/plain": [
       "17"
      ]
     },
     "execution_count": 266,
     "metadata": {},
     "output_type": "execute_result"
    }
   ],
   "source": [
    "data_country_frequent = data_country[data_country['count']>35]\n",
    "len(data_country_frequent)"
   ]
  },
  {
   "cell_type": "code",
   "execution_count": 363,
   "metadata": {
    "collapsed": false
   },
   "outputs": [
    {
     "data": {
      "text/plain": [
       "FrozenList(['name'])"
      ]
     },
     "execution_count": 363,
     "metadata": {},
     "output_type": "execute_result"
    }
   ],
   "source": [
    "data_country_frequent.index"
   ]
  },
  {
   "cell_type": "code",
   "execution_count": 364,
   "metadata": {
    "collapsed": false
   },
   "outputs": [
    {
     "data": {
      "text/plain": [
       "<Container object of 17 artists>"
      ]
     },
     "execution_count": 364,
     "metadata": {},
     "output_type": "execute_result"
    },
    {
     "data": {
      "image/png": "[encoded data removed]",
      "text/plain": [
       "<matplotlib.figure.Figure at 0x129d7e400>"
      ]
     },
     "metadata": {},
     "output_type": "display_data"
    }
   ],
   "source": [
    "colors = []\n",
    "bins = np.arange(1,len(data_country_frequent)+1)\n",
    "std_polar = np.std(data_country_frequent['polar'])\n",
    "max_polar = np.max(data_country_frequent['polar'])\n",
    "for i in data_country_frequent['polar']:\n",
    "    colors.append(i)\n",
    "colors -= np.min(colors)\n",
    "#colors /= np.max(colors)\n",
    "colors_f = []\n",
    "for col in colors:\n",
    "    colors_f.append((0.2+col,0.3+col,0.3+col))\n",
    "plt.bar(bins,data_country_frequent['polar'],color=colors_f, tick_label=data_country_frequent.index,align='center')\n",
    "        "
   ]
  },
  {
   "cell_type": "code",
   "execution_count": 331,
   "metadata": {
    "collapsed": false
   },
   "outputs": [
    {
     "data": {
      "text/plain": [
       "array([ 0.        ,  0.00510011,  0.02747476,  0.02764116,  0.07750527,\n",
       "        0.1239197 ,  0.12652071,  0.13476556,  0.14544556,  0.16207152,\n",
       "        0.16272154,  0.17723605,  0.1942343 ,  0.20698544,  0.20936507,\n",
       "        0.22033635,  0.45951198])"
      ]
     },
     "execution_count": 331,
     "metadata": {},
     "output_type": "execute_result"
    }
   ],
   "source": [
    "colors = []\n",
    "for i in data_country_frequent['polar']:\n",
    "    colors.append(i)\n",
    "colors -= np.min(colors)\n",
    "colors"
   ]
  },
  {
   "cell_type": "code",
   "execution_count": 311,
   "metadata": {
    "collapsed": false
   },
   "outputs": [
    {
     "data": {
      "text/plain": [
       "-19.35939393939394"
      ]
     },
     "execution_count": 311,
     "metadata": {},
     "output_type": "execute_result"
    }
   ],
   "source": [
    "(429+320-2*156)/11 - 177.26*2/6"
   ]
  },
  {
   "cell_type": "code",
   "execution_count": 344,
   "metadata": {
    "collapsed": false
   },
   "outputs": [
    {
     "data": {
      "text/html": [
       "<div>\n",
       "<table border=\"1\" class=\"dataframe\">\n",
       "  <thead>\n",
       "    <tr style=\"text-align: right;\">\n",
       "      <th></th>\n",
       "      <th>count</th>\n",
       "      <th>polar</th>\n",
       "    </tr>\n",
       "    <tr>\n",
       "      <th>name</th>\n",
       "      <th></th>\n",
       "      <th></th>\n",
       "    </tr>\n",
       "  </thead>\n",
       "  <tbody>\n",
       "    <tr>\n",
       "      <th>KP</th>\n",
       "      <td>45</td>\n",
       "      <td>0.224307</td>\n",
       "    </tr>\n",
       "    <tr>\n",
       "      <th>LY</th>\n",
       "      <td>59</td>\n",
       "      <td>0.229407</td>\n",
       "    </tr>\n",
       "    <tr>\n",
       "      <th>IQ</th>\n",
       "      <td>70</td>\n",
       "      <td>0.251781</td>\n",
       "    </tr>\n",
       "    <tr>\n",
       "      <th>KR</th>\n",
       "      <td>46</td>\n",
       "      <td>0.251948</td>\n",
       "    </tr>\n",
       "    <tr>\n",
       "      <th>PE</th>\n",
       "      <td>67</td>\n",
       "      <td>0.301812</td>\n",
       "    </tr>\n",
       "    <tr>\n",
       "      <th>IR</th>\n",
       "      <td>110</td>\n",
       "      <td>0.348226</td>\n",
       "    </tr>\n",
       "    <tr>\n",
       "      <th>IL</th>\n",
       "      <td>84</td>\n",
       "      <td>0.350827</td>\n",
       "    </tr>\n",
       "    <tr>\n",
       "      <th>TR</th>\n",
       "      <td>36</td>\n",
       "      <td>0.359072</td>\n",
       "    </tr>\n",
       "    <tr>\n",
       "      <th>PK</th>\n",
       "      <td>90</td>\n",
       "      <td>0.369752</td>\n",
       "    </tr>\n",
       "    <tr>\n",
       "      <th>RU</th>\n",
       "      <td>55</td>\n",
       "      <td>0.386378</td>\n",
       "    </tr>\n",
       "    <tr>\n",
       "      <th>MX</th>\n",
       "      <td>39</td>\n",
       "      <td>0.387028</td>\n",
       "    </tr>\n",
       "    <tr>\n",
       "      <th>AF</th>\n",
       "      <td>103</td>\n",
       "      <td>0.401543</td>\n",
       "    </tr>\n",
       "    <tr>\n",
       "      <th>HT</th>\n",
       "      <td>83</td>\n",
       "      <td>0.418541</td>\n",
       "    </tr>\n",
       "    <tr>\n",
       "      <th>SN</th>\n",
       "      <td>38</td>\n",
       "      <td>0.431292</td>\n",
       "    </tr>\n",
       "    <tr>\n",
       "      <th>CN</th>\n",
       "      <td>92</td>\n",
       "      <td>0.433672</td>\n",
       "    </tr>\n",
       "    <tr>\n",
       "      <th>US</th>\n",
       "      <td>179</td>\n",
       "      <td>0.444643</td>\n",
       "    </tr>\n",
       "    <tr>\n",
       "      <th>IN</th>\n",
       "      <td>59</td>\n",
       "      <td>0.683819</td>\n",
       "    </tr>\n",
       "  </tbody>\n",
       "</table>\n",
       "</div>"
      ],
      "text/plain": [
       "      count     polar\n",
       "name                 \n",
       "KP       45  0.224307\n",
       "LY       59  0.229407\n",
       "IQ       70  0.251781\n",
       "KR       46  0.251948\n",
       "PE       67  0.301812\n",
       "IR      110  0.348226\n",
       "IL       84  0.350827\n",
       "TR       36  0.359072\n",
       "PK       90  0.369752\n",
       "RU       55  0.386378\n",
       "MX       39  0.387028\n",
       "AF      103  0.401543\n",
       "HT       83  0.418541\n",
       "SN       38  0.431292\n",
       "CN       92  0.433672\n",
       "US      179  0.444643\n",
       "IN       59  0.683819"
      ]
     },
     "execution_count": 344,
     "metadata": {},
     "output_type": "execute_result"
    }
   ],
   "source": [
    "data_country_frequent"
   ]
  },
  {
   "cell_type": "code",
   "execution_count": 368,
   "metadata": {
    "collapsed": false
   },
   "outputs": [
    {
     "data": {
      "text/plain": [
       "['ht', 'hti', 'haiti']"
      ]
     },
     "execution_count": 368,
     "metadata": {},
     "output_type": "execute_result"
    }
   ],
   "source": [
    "countries_dict['HT']"
   ]
  },
  {
   "cell_type": "code",
   "execution_count": null,
   "metadata": {
    "collapsed": true
   },
   "outputs": [],
   "source": []
  }
 ],
 "metadata": {
  "anaconda-cloud": {},
  "kernelspec": {
   "display_name": "Python [Root]",
   "language": "python",
   "name": "Python [Root]"
  },
  "language_info": {
   "codemirror_mode": {
    "name": "ipython",
    "version": 3
   },
   "file_extension": ".py",
   "mimetype": "text/x-python",
   "name": "python",
   "nbconvert_exporter": "python",
   "pygments_lexer": "ipython3",
   "version": "3.5.2"
  }
 },
 "nbformat": 4,
 "nbformat_minor": 0
}
