{
 "cells": [
  {
   "cell_type": "markdown",
   "metadata": {
    "collapsed": true
   },
   "source": [
    "# Exercise 2\n",
    "    Find all the mentions of world countries in the whole corpus, using the pycountry utility (HINT: remember that there will be different surface forms for the same country in the text, e.g., Switzerland, switzerland, CH, etc.) Perform sentiment analysis on every email message using the demo methods in the nltk.sentiment.util module. Aggregate the polarity information of all the emails by country, and plot a histogram (ordered and colored by polarity level) that summarizes the perception of the different countries. Repeat the aggregation + plotting steps using different demo methods from the sentiment analysis module -- can you find substantial differences?"
   ]
  },
  {
   "cell_type": "code",
   "execution_count": 38,
   "metadata": {
    "collapsed": false
   },
   "outputs": [],
   "source": [
    "from os import path\n",
    "from collections import Counter\n",
    "import pycountry\n",
    "import pandas as pd\n",
    "import matplotlib.pyplot as plt\n",
    "import nltk\n",
    "from nltk.sentiment import SentimentIntensityAnalyzer\n",
    "from nltk.sentiment.util import demo_subjectivity\n",
    "from functools import reduce\n",
    "import numpy as np\n",
    "%matplotlib inline"
   ]
  },
  {
   "cell_type": "code",
   "execution_count": 3,
   "metadata": {
    "collapsed": false
   },
   "outputs": [
    {
     "name": "stdout",
     "output_type": "stream",
     "text": [
      "Reading csv file...\n",
      "is done!\n"
     ]
    }
   ],
   "source": [
    "# Read the csv file\n",
    "print('Reading csv file...')\n",
    "df = pd.read_csv(path.join('hillary-clinton-emails', 'emails.csv'))\n",
    "print('is done!')"
   ]
  },
  {
   "cell_type": "markdown",
   "metadata": {},
   "source": [
    "### Data\n",
    "For this part, we only use the extracted body column. For instance, consider the case when Clinton replied to an email. The raw text contains all messages between them; however, the extracted body column contains only her reply. Hence, it makes sense to only consider the extracted body column to perform sentiment analysis of Hilary Clinton's comments."
   ]
  },
  {
   "cell_type": "code",
   "execution_count": 10,
   "metadata": {
    "collapsed": false
   },
   "outputs": [],
   "source": [
    "raw_text = df['ExtractedBodyText'].dropna().reset_index(drop=True)"
   ]
  },
  {
   "cell_type": "markdown",
   "metadata": {},
   "source": [
    "### Text cleaning\n",
    "Cleaning the raw text is also crucial for further analysis. We use the following function to clean the raw text."
   ]
  },
  {
   "cell_type": "code",
   "execution_count": 13,
   "metadata": {
    "collapsed": true
   },
   "outputs": [],
   "source": [
    "def text_cleaning(text):\n",
    "    # Convert all words to lower case\n",
    "    text = text.lower()    \n",
    "    # Tokenize the text while removing all words with less than 3 characters\n",
    "    tokenizer = nltk.tokenize.RegexpTokenizer(r'\\w{3,}')\n",
    "    token_text = tokenizer.tokenize(text)\n",
    "    # Remove common words from the text\n",
    "    s = set(nltk.corpus.stopwords.words('english'))\n",
    "    token_text = list(filter(lambda x: x not in s, token_text))\n",
    "    return ' '.join(token_text)"
   ]
  },
  {
   "cell_type": "code",
   "execution_count": 14,
   "metadata": {
    "collapsed": false
   },
   "outputs": [],
   "source": [
    "clean_text = raw_text.map(text_cleaning)"
   ]
  },
  {
   "cell_type": "markdown",
   "metadata": {},
   "source": [
    "### Sentiment analysis\n",
    "Now we perform the sentiment intensity analyzer using polarity score criteria on the clean text. We also use 2 different sentiment analyzer using from different demo modules."
   ]
  },
  {
   "cell_type": "code",
   "execution_count": 20,
   "metadata": {
    "collapsed": false
   },
   "outputs": [],
   "source": [
    "sentim_analyzer = SentimentIntensityAnalyzer()\n",
    "plr_scores = clean_text.map(sentim_analyzer.polarity_scores)\n",
    "compound_scores = plr_scores.map(lambda x: x['compound'])"
   ]
  },
  {
   "cell_type": "markdown",
   "metadata": {},
   "source": [
    "#### 1. demo_liu_hu_lexicon:\n",
    "Basic example of sentiment classification using Liu and Hu opinion lexicon. This function simply counts the number of positive, negative and neutral words in the sentence and classifies it depending on which polarity is more represented. Words that do not appear in the lexicon are considered as neutral. However, demo files can only print the results. Thus, we define a new function to store the results. The code is identical to NLTK sentiment codes available [here](http://www.nltk.org/_modules/nltk/sentiment/util.html)."
   ]
  },
  {
   "cell_type": "code",
   "execution_count": 21,
   "metadata": {
    "collapsed": true
   },
   "outputs": [],
   "source": [
    "def demo_liu_hu_lexicon(sentence):\n",
    "    \"\"\"\n",
    "    Basic example of sentiment classification using Liu and Hu opinion lexicon.\n",
    "    This function simply counts the number of positive, negative and neutral words\n",
    "    in the sentence and classifies it depending on which polarity is more represented.\n",
    "    Words that do not appear in the lexicon are considered as neutral.\n",
    "\n",
    "    :param sentence: a sentence whose polarity has to be classified.\n",
    "    :param plot: if True, plot a visual representation of the sentence polarity.\n",
    "    \"\"\"\n",
    "    from nltk.corpus import opinion_lexicon\n",
    "    from nltk.tokenize import treebank\n",
    "\n",
    "    tokenizer = treebank.TreebankWordTokenizer()\n",
    "    pos_words = 0\n",
    "    neg_words = 0\n",
    "    tokenized_sent = [word.lower() for word in tokenizer.tokenize(sentence)]\n",
    "\n",
    "    x = list(range(len(tokenized_sent))) # x axis for the plot\n",
    "    y = []\n",
    "\n",
    "    for word in tokenized_sent:\n",
    "        if word in opinion_lexicon.positive():\n",
    "            pos_words += 1\n",
    "            y.append(1) # positive\n",
    "        elif word in opinion_lexicon.negative():\n",
    "            neg_words += 1\n",
    "            y.append(-1) # negative\n",
    "        else:\n",
    "            y.append(0) # neutral\n",
    "    \n",
    "    if pos_words > neg_words:\n",
    "        output = 'Positive'\n",
    "    elif pos_words < neg_words:\n",
    "        output = 'Negative'\n",
    "    elif pos_words == neg_words:\n",
    "        output = 'Neutral'\n",
    "    return output"
   ]
  },
  {
   "cell_type": "code",
   "execution_count": 22,
   "metadata": {
    "collapsed": false
   },
   "outputs": [],
   "source": [
    "liu_hu_scores = clean_text.map(demo_liu_hu_lexicon)"
   ]
  },
  {
   "cell_type": "markdown",
   "metadata": {},
   "source": [
    "#### 2. demo_sent_subjectivity:\n",
    "Classify a single sentence as subjective or objective using a stored SentimentAnalyzer. Similar to the previous demo function, it can only print the results. Thus, we define a new function to store the results. The code is identical to NLTK sentiment codes available [here](http://www.nltk.org/_modules/nltk/sentiment/util.html)."
   ]
  },
  {
   "cell_type": "code",
   "execution_count": 28,
   "metadata": {
    "collapsed": true
   },
   "outputs": [],
   "source": [
    "def demo_sent_subjectivity(text):\n",
    "\n",
    "    from nltk.classify import NaiveBayesClassifier\n",
    "    from nltk.tokenize import regexp\n",
    "    from nltk.data import load\n",
    "    word_tokenizer = regexp.WhitespaceTokenizer()\n",
    "    try:\n",
    "        sentim_analyzer = load('sa_subjectivity.pickle')\n",
    "    except LookupError:\n",
    "        print('Cannot find the sentiment analyzer you want to load.')\n",
    "        print('Training a new one using NaiveBayesClassifier.')\n",
    "        sentim_analyzer = demo_subjectivity(NaiveBayesClassifier.train, True)\n",
    "\n",
    "    # Tokenize and convert to lower case\n",
    "    tokenized_text = [word.lower() for word in word_tokenizer.tokenize(text)]\n",
    "    return sentim_analyzer.classify(tokenized_text)"
   ]
  },
  {
   "cell_type": "code",
   "execution_count": 29,
   "metadata": {
    "collapsed": false
   },
   "outputs": [
    {
     "name": "stdout",
     "output_type": "stream",
     "text": [
      "Cannot find the sentiment analyzer you want to load.\n",
      "Training a new one using NaiveBayesClassifier.\n",
      "Training classifier\n",
      "Most Informative Features\n",
      "            contains(--) = True             subj : obj    =     61.0 : 1.0\n",
      "        contains(film's) = True             subj : obj    =     33.7 : 1.0\n",
      "       contains(decides) = True              obj : subj   =     28.3 : 1.0\n",
      "      contains(discover) = True              obj : subj   =     26.3 : 1.0\n",
      "    contains(girlfriend) = True              obj : subj   =     25.0 : 1.0\n",
      "          contains(town) = True              obj : subj   =     23.4 : 1.0\n",
      "  contains(entertaining) = True             subj : obj    =     22.2 : 1.0\n",
      "     contains(detective) = True              obj : subj   =     21.0 : 1.0\n",
      "        contains(mother) = True              obj : subj   =     20.1 : 1.0\n",
      "         contains(finds) = True              obj : subj   =     19.9 : 1.0\n",
      "Evaluating NaiveBayesClassifier results...\n",
      "Saving sa_subjectivity.pickle\n"
     ]
    }
   ],
   "source": [
    "sent_sub_scores = clean_text.map(demo_sent_subjectivity)"
   ]
  },
  {
   "cell_type": "markdown",
   "metadata": {},
   "source": [
    "### Countries mentioned in emails\n",
    "In this section, we find all countries which are mentioned in each email."
   ]
  },
  {
   "cell_type": "code",
   "execution_count": 30,
   "metadata": {
    "collapsed": false
   },
   "outputs": [],
   "source": [
    "countries_dict = {country.alpha_2: [country.alpha_2.lower(),\n",
    "                                    country.alpha_3.lower(),\n",
    "                                    country.name.split(\",\")[0].lower()]\n",
    "                  for country in pycountry.countries}"
   ]
  },
  {
   "cell_type": "markdown",
   "metadata": {},
   "source": [
    "Some countries names are still complex which should be shortened or modified. We add the following elements to our dictionary."
   ]
  },
  {
   "cell_type": "code",
   "execution_count": 31,
   "metadata": {
    "collapsed": true
   },
   "outputs": [],
   "source": [
    "countries_dict['GB'].extend(['uk', 'united kingdom', 'great britain'])\n",
    "countries_dict['US'].extend(['u.s.', 'u.s.a'])\n",
    "countries_dict['RU'].append('russia')\n",
    "countries_dict['KP'].append('north korea')\n",
    "countries_dict['KR'].append('south korea')\n",
    "countries_dict['SY'].append('syria')"
   ]
  },
  {
   "cell_type": "markdown",
   "metadata": {},
   "source": [
    "Some words in country alpha_2 and alpha_3 are misleading, e.g., are, pm, re, etc. We should exclude all these words from searching!"
   ]
  },
  {
   "cell_type": "code",
   "execution_count": 32,
   "metadata": {
    "collapsed": true
   },
   "outputs": [],
   "source": [
    "excluded_words = ['am', 'as', 'at', 'bf', 'cc', 'cv', 'ee', 'eh', 'gf', 'gg', 'id', 'co'\n",
    "                  'ie', 'im', 'in', 'is', 'it', 'no', 'np', 'pm', 'tf', 'to', 'us',\n",
    "                  'arm', 'can', 'com', 'col', 'mac', 'and', 'are', 'ago']"
   ]
  },
  {
   "cell_type": "code",
   "execution_count": 33,
   "metadata": {
    "collapsed": false
   },
   "outputs": [],
   "source": [
    "def search_for_countries(text):\n",
    "    result = []\n",
    "    for key, values in countries_dict.items():\n",
    "        for value in values:\n",
    "            if len(value.split()) == 1:\n",
    "                if (value in text.split()) and (value not in excluded_words):\n",
    "                    result.append(key)\n",
    "                    break\n",
    "                else:\n",
    "                    pass\n",
    "            else:\n",
    "                if value in text:\n",
    "                    result.append(key)\n",
    "                    break\n",
    "                else:\n",
    "                    pass\n",
    "    return result"
   ]
  },
  {
   "cell_type": "code",
   "execution_count": 34,
   "metadata": {
    "collapsed": false
   },
   "outputs": [],
   "source": [
    "countries_lst = clean_text.map(search_for_countries)"
   ]
  },
  {
   "cell_type": "markdown",
   "metadata": {},
   "source": [
    "### Plot the results!"
   ]
  },
  {
   "cell_type": "code",
   "execution_count": 39,
   "metadata": {
    "collapsed": false
   },
   "outputs": [],
   "source": [
    "# Falttening the list\n",
    "all_countires = reduce(lambda x,y: x+y,countries_lst)\n",
    "# Calculating the frequency of the countires\n",
    "counts = np.asarray(list(map(lambda x:all_countires.count(x),list(countries_dict.keys()))))"
   ]
  },
  {
   "cell_type": "markdown",
   "metadata": {},
   "source": [
    "calculating the average score among the emails"
   ]
  },
  {
   "cell_type": "code",
   "execution_count": 44,
   "metadata": {
    "collapsed": false
   },
   "outputs": [],
   "source": [
    "def avg_score(scores_emails):\n",
    "    scores = np.zeros(len(counts))\n",
    "    for i,country_name in enumerate(list(countries_dict.keys())):\n",
    "        for j,country in enumerate(countries_lst):\n",
    "            if country_name in country:\n",
    "                scores[i] += scores_emails[j]\n",
    "    average_score = scores/(counts+1*(counts==0))\n",
    "    return average_score"
   ]
  },
  {
   "cell_type": "markdown",
   "metadata": {},
   "source": [
    "#### Compound Score"
   ]
  },
  {
   "cell_type": "code",
   "execution_count": 126,
   "metadata": {
    "collapsed": false
   },
   "outputs": [],
   "source": [
    "average_polar = avg_score(compound_scores)"
   ]
  },
  {
   "cell_type": "code",
   "execution_count": 127,
   "metadata": {
    "collapsed": false,
    "scrolled": true
   },
   "outputs": [
    {
     "name": "stderr",
     "output_type": "stream",
     "text": [
      "/Users/salehi/anaconda3/lib/python3.5/site-packages/ipykernel/__main__.py:4: FutureWarning: sort(columns=....) is deprecated, use sort_values(by=.....)\n"
     ]
    }
   ],
   "source": [
    "data_country = pd.DataFrame({'name':list(countries_dict.keys())})\n",
    "data_country['count'] = counts\n",
    "data_country['polar'] = average_polar\n",
    "data_country = data_country.sort(['polar'])\n",
    "data_country = data_country.set_index(['name'])"
   ]
  },
  {
   "cell_type": "markdown",
   "metadata": {},
   "source": [
    "We decide to keep only the countries who have more than 30 entries"
   ]
  },
  {
   "cell_type": "code",
   "execution_count": 128,
   "metadata": {
    "collapsed": false
   },
   "outputs": [],
   "source": [
    "data_country_frequent = data_country[data_country['count']>30]\n",
    "data_country_frequent_compound = data_country_frequent"
   ]
  },
  {
   "cell_type": "code",
   "execution_count": 130,
   "metadata": {
    "collapsed": false
   },
   "outputs": [
    {
     "data": {
      "text/plain": [
       "(array([   0.,   20.,   40.,   60.,   80.,  100.,  120.,  140.,  160.,  180.]),\n",
       " <a list of 10 Text yticklabel objects>)"
      ]
     },
     "execution_count": 130,
     "metadata": {},
     "output_type": "execute_result"
    },
    {
     "data": {
      "image/png": "[encoded data removed]",
      "text/plain": [
       "<matplotlib.figure.Figure at 0x171d17400>"
      ]
     },
     "metadata": {},
     "output_type": "display_data"
    }
   ],
   "source": [
    "from matplotlib import cm\n",
    "\n",
    "# Set up colors : red to green\n",
    "y = np.array(data_country_frequent['polar'])\n",
    "colors = cm.RdYlGn(y / float(max(y)))\n",
    "plot = plt.scatter(y, y, c=y, cmap = 'RdYlGn')\n",
    "plt.clf()\n",
    "clb = plt.colorbar(plot)\n",
    "clb.ax.set_title(\"Sentiment\")\n",
    "\n",
    "# Display bar plot : country frequency vs. country name, with color indicating polarity score\n",
    "plt.bar(bins, data_country_frequent['count'], align='center', tick_label=data_country_frequent.index, color=colors)\n",
    "#plt.xticks(rotation=45, ha='right')\n",
    "plt.xlabel(\"Country\",fontsize = 20)\n",
    "plt.ylabel(\"Frequency\",fontsize = 20)\n",
    "plt.rcParams['figure.figsize'] = (20, 10)\n",
    "plt.xticks(fontsize = 17)\n",
    "plt.yticks(fontsize = 17)"
   ]
  },
  {
   "cell_type": "markdown",
   "metadata": {},
   "source": [
    "#### demo_liu_hu_lexicon\n",
    "First we transform the scores to integers, we set the negetaive score to 0, the neutral score to 0.5, and the positive score to 1."
   ]
  },
  {
   "cell_type": "code",
   "execution_count": 118,
   "metadata": {
    "collapsed": true
   },
   "outputs": [],
   "source": [
    "def thingy(x):\n",
    "    if x=='Neutral':\n",
    "        return 0.5\n",
    "    elif  x=='Negative':\n",
    "        return 0\n",
    "    elif x=='Positive':\n",
    "        return 1\n",
    "liu_hu_float_score = liu_hu_scores.map(thingy)"
   ]
  },
  {
   "cell_type": "code",
   "execution_count": 119,
   "metadata": {
    "collapsed": false
   },
   "outputs": [],
   "source": [
    "average_polar = avg_score(liu_hu_float_score)"
   ]
  },
  {
   "cell_type": "code",
   "execution_count": 120,
   "metadata": {
    "collapsed": false,
    "scrolled": true
   },
   "outputs": [
    {
     "name": "stderr",
     "output_type": "stream",
     "text": [
      "/Users/salehi/anaconda3/lib/python3.5/site-packages/ipykernel/__main__.py:5: FutureWarning: sort(columns=....) is deprecated, use sort_values(by=.....)\n"
     ]
    }
   ],
   "source": [
    "# we made a dataframe of the existing information to handle better them\n",
    "data_country = pd.DataFrame({'name':list(countries_dict.keys())})\n",
    "data_country['count'] = counts\n",
    "data_country['polar'] = average_polar\n",
    "data_country = data_country.sort(['polar'])\n",
    "data_country = data_country.set_index(['name'])"
   ]
  },
  {
   "cell_type": "markdown",
   "metadata": {},
   "source": [
    "We decide to keep only the countries who have more than 30 entries."
   ]
  },
  {
   "cell_type": "code",
   "execution_count": 121,
   "metadata": {
    "collapsed": false
   },
   "outputs": [],
   "source": [
    "data_country_frequent = data_country[data_country['count']>30]\n",
    "data_country_frequent_liu = data_country_frequent"
   ]
  },
  {
   "cell_type": "code",
   "execution_count": 123,
   "metadata": {
    "collapsed": false
   },
   "outputs": [
    {
     "data": {
      "text/plain": [
       "(array([   0.,   20.,   40.,   60.,   80.,  100.,  120.,  140.,  160.,  180.]),\n",
       " <a list of 10 Text yticklabel objects>)"
      ]
     },
     "execution_count": 123,
     "metadata": {},
     "output_type": "execute_result"
    },
    {
     "data": {
      "image/png": "[encoded data removed]",
      "text/plain": [
       "<matplotlib.figure.Figure at 0x11fa58940>"
      ]
     },
     "metadata": {},
     "output_type": "display_data"
    }
   ],
   "source": [
    "from matplotlib import cm\n",
    "\n",
    "# Set up colors : red to green\n",
    "y = np.array(data_country_frequent['polar'])\n",
    "colors = cm.RdYlGn(y / float(max(y)))\n",
    "plot = plt.scatter(y, y, c=y, cmap = 'RdYlGn')\n",
    "plt.clf()\n",
    "clb = plt.colorbar(plot)\n",
    "clb.ax.set_title(\"Sentiment\")\n",
    "\n",
    "# Display bar plot : country frequency vs. country name, with color indicating polarity score\n",
    "plt.bar(bins, data_country_frequent['count'], align='center', tick_label=data_country_frequent.index, color=colors)\n",
    "#plt.xticks(rotation=45, ha='right')\n",
    "plt.xlabel(\"Country\",fontsize = 20)\n",
    "plt.ylabel(\"Frequency\",fontsize = 20)\n",
    "plt.rcParams['figure.figsize'] = (20, 10)\n",
    "plt.xticks(fontsize = 17)\n",
    "plt.yticks(fontsize = 17)"
   ]
  },
  {
   "cell_type": "markdown",
   "metadata": {},
   "source": [
    "#### demo_sent_subjectivity:\n",
    "Here we want to see the subjectivity or objectivity of each country in the corpus. Again we first transform the score them to numbers, subjective to 0 and objective to 1."
   ]
  },
  {
   "cell_type": "code",
   "execution_count": 131,
   "metadata": {
    "collapsed": false
   },
   "outputs": [],
   "source": [
    "def thingy2(x):\n",
    "    if x=='subj':\n",
    "        return 0\n",
    "    elif  x=='obj':\n",
    "        return 1\n",
    "sent_sub_float_score = sent_sub_scores.map(thingy2)\n"
   ]
  },
  {
   "cell_type": "code",
   "execution_count": 132,
   "metadata": {
    "collapsed": false
   },
   "outputs": [
    {
     "name": "stderr",
     "output_type": "stream",
     "text": [
      "/Users/salehi/anaconda3/lib/python3.5/site-packages/ipykernel/__main__.py:6: FutureWarning: sort(columns=....) is deprecated, use sort_values(by=.....)\n"
     ]
    }
   ],
   "source": [
    "average_polar = avg_score(sent_sub_float_score)\n",
    "# we made a dataframe of the existing information to handle better them\n",
    "data_country = pd.DataFrame({'name':list(countries_dict.keys())})\n",
    "data_country['count'] = counts\n",
    "data_country['polar'] = average_polar\n",
    "data_country = data_country.sort(['polar'])\n",
    "data_country = data_country.set_index(['name'])\n",
    "data_country_frequent = data_country[data_country['count']>30]"
   ]
  },
  {
   "cell_type": "code",
   "execution_count": 134,
   "metadata": {
    "collapsed": false
   },
   "outputs": [
    {
     "data": {
      "text/plain": [
       "(array([   0.,   20.,   40.,   60.,   80.,  100.,  120.,  140.,  160.,  180.]),\n",
       " <a list of 10 Text yticklabel objects>)"
      ]
     },
     "execution_count": 134,
     "metadata": {},
     "output_type": "execute_result"
    },
    {
     "data": {
      "image/png": "[encoded data removed]",
      "text/plain": [
       "<matplotlib.figure.Figure at 0x11d45c7b8>"
      ]
     },
     "metadata": {},
     "output_type": "display_data"
    }
   ],
   "source": [
    "from matplotlib import cm\n",
    "\n",
    "# Set up colors : red to green\n",
    "y = np.array(data_country_frequent['polar'])\n",
    "colors = cm.RdYlGn(y / float(max(y)))\n",
    "plot = plt.scatter(y, y, c=y, cmap = 'RdYlGn')\n",
    "plt.clf()\n",
    "clb = plt.colorbar(plot)\n",
    "clb.ax.set_title(\"Sentiment\")\n",
    "\n",
    "# Display bar plot : country frequency vs. country name, with color indicating polarity score\n",
    "plt.bar(bins, data_country_frequent['count'], align='center', tick_label=data_country_frequent.index, color=colors)\n",
    "#plt.xticks(rotation=45, ha='right')\n",
    "plt.xlabel(\"Country\",fontsize = 20)\n",
    "plt.ylabel(\"Frequency\",fontsize = 20)\n",
    "plt.rcParams['figure.figsize'] = (20, 10)\n",
    "plt.xticks(fontsize = 17)\n",
    "plt.yticks(fontsize = 17)"
   ]
  },
  {
   "cell_type": "markdown",
   "metadata": {},
   "source": [
    "### What these result say?\n",
    "Overall, the results of compound score and liu_hu_lexicon seem similar, but with some differences. \n",
    "Both give a high score to India and Senegal and low score to North Korea. Interestingly Pakistan is in the middle on both scores, meaning that in both scores Pakistan's score is more than 9 countries and less than 9 countries. Another interesting observation is that if we divide the countries to 2 set, one the countries whose score are more than Pakistan and the other less than Pakistan. The resulting sets for compound and liu_hu_lexicon are similar except one country (see below). However there are differences in the order of the countries."
   ]
  },
  {
   "cell_type": "code",
   "execution_count": 124,
   "metadata": {
    "collapsed": false
   },
   "outputs": [
    {
     "data": {
      "text/plain": [
       "{'IE', 'IL', 'IQ', 'IR', 'KP', 'KR', 'LY', 'PE', 'PK', 'US'}"
      ]
     },
     "execution_count": 124,
     "metadata": {},
     "output_type": "execute_result"
    }
   ],
   "source": [
    "set(data_country_frequent_liu.index[:10])"
   ]
  },
  {
   "cell_type": "code",
   "execution_count": 125,
   "metadata": {
    "collapsed": false
   },
   "outputs": [
    {
     "data": {
      "text/plain": [
       "{'IE', 'IL', 'IQ', 'IR', 'KP', 'KR', 'LY', 'PE', 'PK', 'TR'}"
      ]
     },
     "execution_count": 125,
     "metadata": {},
     "output_type": "execute_result"
    }
   ],
   "source": [
    "set(data_country_frequent_compound.index[:10])"
   ]
  },
  {
   "cell_type": "markdown",
   "metadata": {},
   "source": [
    "In the subjective and objective score, US is the least objective country in the corpus."
   ]
  }
 ],
 "metadata": {
  "anaconda-cloud": {},
  "kernelspec": {
   "display_name": "Python [Root]",
   "language": "python",
   "name": "Python [Root]"
  },
  "language_info": {
   "codemirror_mode": {
    "name": "ipython",
    "version": 3
   },
   "file_extension": ".py",
   "mimetype": "text/x-python",
   "name": "python",
   "nbconvert_exporter": "python",
   "pygments_lexer": "ipython3",
   "version": "3.5.2"
  }
 },
 "nbformat": 4,
 "nbformat_minor": 1
}
