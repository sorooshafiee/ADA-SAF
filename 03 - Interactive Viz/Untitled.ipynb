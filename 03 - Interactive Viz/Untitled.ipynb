{
 "cells": [
  {
   "cell_type": "markdown",
   "metadata": {},
   "source": [
    "## Data fields & description:\n",
    "- Project Number: the unique project id\n",
    "- Project Title: the project name (Mandatory)\n",
    "- Project Title English: the project name in English (Optional)\n",
    "- Reponsible Applicant: the person who submitted the research proposal to the SNSF (Mandatory)\n",
    "- Funding Instrument: funding schemes for research and scientific communication\n",
    "- Funding Instrument Hierarchy: top level hierarchy funding instrument\n",
    "- Institution: the research institution where the project will largely be carried out\n",
    "- University: the University where the project will largely be carried out. **This field is only filled if the research is carried out at a Swiss institution, otherwise the field remains blank. In the case of mobility fellowships, it is generally left empty.**\n",
    "- Discipline Number: number of the discipline\n",
    "- Discipline Name: name of the discipline\n",
    "- Discipline Name Hierarchy: top level of discipline\n",
    "- Start Date: the starting date of the project\n",
    "- End Date: the actual end date of the project\n",
    "- Approved Amount: the total approved money spent for the project. **This amount is not indicated in the case of mobility fellowships.**\n",
    "- Keywords: unstructured field."
   ]
  },
  {
   "cell_type": "code",
   "execution_count": 1,
   "metadata": {
    "collapsed": true
   },
   "outputs": [],
   "source": [
    "# import required packages\n",
    "import numpy as np\n",
    "import pandas as pd\n",
    "import matplotlib.pyplot as plt\n",
    "from IPython.display import HTML\n",
    "import folium\n",
    "import requests\n",
    "%matplotlib inline"
   ]
  },
  {
   "cell_type": "code",
   "execution_count": 2,
   "metadata": {
    "collapsed": true
   },
   "outputs": [],
   "source": [
    "# Define constants\n",
    "GEONAMES_SEARCH_URL = 'http://api.geonames.org/searchJSON'\n",
    "GOOGLE_SEARCH_URL = 'https://maps.googleapis.com/maps/api/place/textsearch/json'\n",
    "GOOGLE_GEOCODE_URL = 'https://maps.googleapis.com/maps/api/geocode/json'"
   ]
  },
  {
   "cell_type": "code",
   "execution_count": 3,
   "metadata": {
    "collapsed": false
   },
   "outputs": [],
   "source": [
    "# load the p3\n",
    "df = pd.read_csv('./data/P3_GrantExport.csv', sep=\";\")"
   ]
  },
  {
   "cell_type": "markdown",
   "metadata": {},
   "source": [
    "The documentation of fields mentions that institutes from outside Switzerland don't have an entry in University. So it's safe to throw away all rows has 'nicht zuteilbar - NA' in university column."
   ]
  },
  {
   "cell_type": "code",
   "execution_count": 4,
   "metadata": {
    "collapsed": true
   },
   "outputs": [],
   "source": [
    "df_Nicht = df[df['University'] == 'Nicht zuteilbar - NA']\n",
    "df = df[df['University'] != 'Nicht zuteilbar - NA']"
   ]
  },
  {
   "cell_type": "code",
   "execution_count": 8,
   "metadata": {
    "collapsed": false
   },
   "outputs": [],
   "source": [
    "df_null = df[df['University'].isnull()]\n",
    "df = df[df['University'].notnull()]"
   ]
  },
  {
   "cell_type": "code",
   "execution_count": 11,
   "metadata": {
    "collapsed": false
   },
   "outputs": [],
   "source": [
    "list_of_universities = set(df['University'].unique())"
   ]
  },
  {
   "cell_type": "markdown",
   "metadata": {},
   "source": [
    "## GeoNames Search Webservice:\n",
    "GeoNames api offers services in XML and JSON format. We use JSON format as it is easier to extract data from it."
   ]
  },
  {
   "cell_type": "code",
   "execution_count": 12,
   "metadata": {
    "collapsed": true
   },
   "outputs": [],
   "source": [
    "def search(url, params):\n",
    "    \"\"\" This function returns a json file containing the geographical results from the\n",
    "    Geonames or google map websites \"\"\"\n",
    "    try:\n",
    "        response = requests.get(url, params)\n",
    "    except:\n",
    "        raise ServiceException(url, params)\n",
    "    return response.json()"
   ]
  },
  {
   "cell_type": "code",
   "execution_count": 14,
   "metadata": {
    "collapsed": false
   },
   "outputs": [
    {
     "name": "stdout",
     "output_type": "stream",
     "text": [
      "Number of the recovered contons from the university name: 5/76\n"
     ]
    }
   ],
   "source": [
    "GEONAMES_SEARCH_URL = 'http://api.geonames.org/searchJSON'\n",
    "lst = []\n",
    "for university in list_of_universities:\n",
    "    response = search(GEONAMES_SEARCH_URL, {'q': university, 'maxRows': 1, 'country': 'CH', 'username': 'sorooshafiee'})\n",
    "    lst.append(response['totalResultsCount'])\n",
    "print('Number of the recovered contons from the university name: {}/{}'.format(sum(x != 0 for x in lst), len(lst)))"
   ]
  },
  {
   "cell_type": "markdown",
   "metadata": {
    "collapsed": true
   },
   "source": [
    "## Google API\n"
   ]
  },
  {
   "cell_type": "code",
   "execution_count": 81,
   "metadata": {
    "collapsed": false
   },
   "outputs": [],
   "source": [
    "def get_geonames(url, params, types):\n",
    "    \"\"\" This function returns the filtered address component \"\"\"\n",
    "    try:\n",
    "        response = requests.get(url,params)\n",
    "    except:\n",
    "        raise ServiceException(url, params)\n",
    "    address_comps = response.json()['results'][0]['address_components']\n",
    "    filter_method = lambda x: len(set(x['types']).intersection(list(types))\n",
    "    return filter(filter_method, address_comps)"
   ]
  },
  {
   "cell_type": "code",
   "execution_count": 18,
   "metadata": {
    "collapsed": true
   },
   "outputs": [],
   "source": [
    "with open('data/api_key.txt', 'r') as in_file:\n",
    "    api_key = in_file.read()"
   ]
  },
  {
   "cell_type": "code",
   "execution_count": 23,
   "metadata": {
    "collapsed": false
   },
   "outputs": [
    {
     "ename": "KeyError",
     "evalue": "'totalResultsCount'",
     "output_type": "error",
     "traceback": [
      "\u001b[0;31m---------------------------------------------------------------------------\u001b[0m",
      "\u001b[0;31mKeyError\u001b[0m                                  Traceback (most recent call last)",
      "\u001b[0;32m<ipython-input-23-1fb4df7fa143>\u001b[0m in \u001b[0;36m<module>\u001b[0;34m()\u001b[0m\n\u001b[1;32m      2\u001b[0m \u001b[1;32mfor\u001b[0m \u001b[0muniversity\u001b[0m \u001b[1;32min\u001b[0m \u001b[0mlist_of_universities\u001b[0m\u001b[1;33m:\u001b[0m\u001b[1;33m\u001b[0m\u001b[0m\n\u001b[1;32m      3\u001b[0m     \u001b[0mresponse\u001b[0m \u001b[1;33m=\u001b[0m \u001b[0msearch\u001b[0m\u001b[1;33m(\u001b[0m\u001b[0mGOOGLE_SEARCH_URL\u001b[0m\u001b[1;33m,\u001b[0m \u001b[1;33m{\u001b[0m\u001b[1;34m'key'\u001b[0m \u001b[1;33m:\u001b[0m \u001b[0mapi_key\u001b[0m\u001b[1;33m,\u001b[0m \u001b[1;34m'query'\u001b[0m \u001b[1;33m:\u001b[0m \u001b[1;34m'epfl'\u001b[0m\u001b[1;33m}\u001b[0m\u001b[1;33m)\u001b[0m\u001b[1;33m\u001b[0m\u001b[0m\n\u001b[0;32m----> 4\u001b[0;31m     \u001b[0mlst\u001b[0m\u001b[1;33m.\u001b[0m\u001b[0mappend\u001b[0m\u001b[1;33m(\u001b[0m\u001b[0mresponse\u001b[0m\u001b[1;33m[\u001b[0m\u001b[1;34m'totalResultsCount'\u001b[0m\u001b[1;33m]\u001b[0m\u001b[1;33m)\u001b[0m\u001b[1;33m\u001b[0m\u001b[0m\n\u001b[0m\u001b[1;32m      5\u001b[0m \u001b[0mprint\u001b[0m\u001b[1;33m(\u001b[0m\u001b[1;34m'Number of the recovered universities conton: {}/{}'\u001b[0m\u001b[1;33m.\u001b[0m\u001b[0mformat\u001b[0m\u001b[1;33m(\u001b[0m\u001b[0msum\u001b[0m\u001b[1;33m(\u001b[0m\u001b[0mx\u001b[0m \u001b[1;33m!=\u001b[0m \u001b[1;36m0\u001b[0m \u001b[1;32mfor\u001b[0m \u001b[0mx\u001b[0m \u001b[1;32min\u001b[0m \u001b[0mlst\u001b[0m\u001b[1;33m)\u001b[0m\u001b[1;33m,\u001b[0m \u001b[0mlen\u001b[0m\u001b[1;33m(\u001b[0m\u001b[0mlst\u001b[0m\u001b[1;33m)\u001b[0m\u001b[1;33m)\u001b[0m\u001b[1;33m)\u001b[0m\u001b[1;33m\u001b[0m\u001b[0m\n",
      "\u001b[0;31mKeyError\u001b[0m: 'totalResultsCount'"
     ]
    }
   ],
   "source": [
    "lst = []\n",
    "for university in list_of_universities:\n",
    "    response = search(GOOGLE_SEARCH_URL, {'key' : api_key, 'query' : 'epfl'})\n",
    "    lst.append(response['totalResultsCount'])\n",
    "print('Number of the recovered universities conton: {}/{}'.format(sum(x != 0 for x in lst), len(lst)))"
   ]
  },
  {
   "cell_type": "code",
   "execution_count": 84,
   "metadata": {
    "collapsed": false
   },
   "outputs": [],
   "source": [
    "types = ['administrative_area_level_1']\n",
    "asd = get_geonames('https://maps.googleapis.com/maps/api/geocode/json',\n",
    "                 {'key' : api_key, 'place_id' : response['results'][0]['place_id']},\n",
    "                 types)"
   ]
  },
  {
   "cell_type": "code",
   "execution_count": 87,
   "metadata": {
    "collapsed": false
   },
   "outputs": [
    {
     "data": {
      "text/plain": [
       "['administrative_area_level_1']"
      ]
     },
     "execution_count": 87,
     "metadata": {},
     "output_type": "execute_result"
    }
   ],
   "source": [
    "asd = list(types)\n",
    "asd"
   ]
  },
  {
   "cell_type": "code",
   "execution_count": 67,
   "metadata": {
    "collapsed": false
   },
   "outputs": [
    {
     "data": {
      "text/plain": [
       "[{'long_name': 'Vaud',\n",
       "  'short_name': 'VD',\n",
       "  'types': ['administrative_area_level_1', 'political']}]"
      ]
     },
     "execution_count": 67,
     "metadata": {},
     "output_type": "execute_result"
    }
   ],
   "source": [
    "list([filter(lambda x: tp in x.get('types'), asd) for tp in types][0])"
   ]
  },
  {
   "cell_type": "code",
   "execution_count": null,
   "metadata": {
    "collapsed": false
   },
   "outputs": [],
   "source": [
    "url = 'http://maps.googleapis.com/maps/api/geocode/json' + \\\n",
    "            '?place_id={}&sensor=false'.format(response['results'][0]['place_id'])"
   ]
  },
  {
   "cell_type": "code",
   "execution_count": null,
   "metadata": {
    "collapsed": true
   },
   "outputs": [],
   "source": [
    "data = requests.get('https://maps.googleapis.com/maps/api/geocode/json',\n",
    "                    {'key' : api_key, 'place_id' : response['results'][0]['place_id']})"
   ]
  },
  {
   "cell_type": "code",
   "execution_count": null,
   "metadata": {
    "collapsed": false
   },
   "outputs": [],
   "source": [
    "b['long_name']"
   ]
  },
  {
   "cell_type": "code",
   "execution_count": null,
   "metadata": {
    "collapsed": false
   },
   "outputs": [],
   "source": [
    "data.json()['results'][0]['address_components'][4]"
   ]
  },
  {
   "cell_type": "code",
   "execution_count": 29,
   "metadata": {
    "collapsed": false
   },
   "outputs": [],
   "source": [
    "squares = map(lambda x: x**2, range(10))\n",
    "special_squares = filter(lambda x: x > 5 and x < 50, squares)"
   ]
  },
  {
   "cell_type": "code",
   "execution_count": 33,
   "metadata": {
    "collapsed": false
   },
   "outputs": [
    {
     "data": {
      "text/plain": [
       "<filter at 0x1836466fb00>"
      ]
     },
     "execution_count": 33,
     "metadata": {},
     "output_type": "execute_result"
    }
   ],
   "source": [
    "special_squares"
   ]
  },
  {
   "cell_type": "code",
   "execution_count": null,
   "metadata": {
    "collapsed": true
   },
   "outputs": [],
   "source": []
  }
 ],
 "metadata": {
  "anaconda-cloud": {},
  "kernelspec": {
   "display_name": "Python [default]",
   "language": "python",
   "name": "python3"
  },
  "language_info": {
   "codemirror_mode": {
    "name": "ipython",
    "version": 3
   },
   "file_extension": ".py",
   "mimetype": "text/x-python",
   "name": "python",
   "nbconvert_exporter": "python",
   "pygments_lexer": "ipython3",
   "version": "3.5.2"
  }
 },
 "nbformat": 4,
 "nbformat_minor": 0
}
