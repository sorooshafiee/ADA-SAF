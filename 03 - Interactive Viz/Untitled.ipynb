{
 "cells": [
  {
   "cell_type": "markdown",
   "metadata": {},
   "source": [
    "## Data fields & description:\n",
    "- Project Number: the unique project id\n",
    "- Project Title: the project name (Mandatory)\n",
    "- Project Title English: the project name in English (Optional)\n",
    "- Reponsible Applicant: the person who submitted the research proposal to the SNSF (Mandatory)\n",
    "- Funding Instrument: funding schemes for research and scientific communication\n",
    "- Funding Instrument Hierarchy: top level hierarchy funding instrument\n",
    "- Institution: the research institution where the project will largely be carried out\n",
    "- University: the University where the project will largely be carried out. **This field is only filled if the research is carried out at a Swiss institution, otherwise the field remains blank. In the case of mobility fellowships, it is generally left empty.**\n",
    "- Discipline Number: number of the discipline\n",
    "- Discipline Name: name of the discipline\n",
    "- Discipline Name Hierarchy: top level of discipline\n",
    "- Start Date: the starting date of the project\n",
    "- End Date: the actual end date of the project\n",
    "- Approved Amount: the total approved money spent for the project. **This amount is not indicated in the case of mobility fellowships.**\n",
    "- Keywords: unstructured field."
   ]
  },
  {
   "cell_type": "code",
   "execution_count": 1,
   "metadata": {
    "collapsed": true
   },
   "outputs": [],
   "source": [
    "# import required packages\n",
    "import numpy as np\n",
    "import pandas as pd\n",
    "import matplotlib.pyplot as plt\n",
    "from IPython.display import HTML\n",
    "import folium\n",
    "import requests\n",
    "%matplotlib inline"
   ]
  },
  {
   "cell_type": "code",
   "execution_count": 2,
   "metadata": {
    "collapsed": true
   },
   "outputs": [],
   "source": [
    "# Define constants\n",
    "GEONAMES_SEARCH_URL = 'http://api.geonames.org/searchJSON'\n",
    "GOOGLE_SEARCH_URL = 'https://maps.googleapis.com/maps/api/place/textsearch/json'\n",
    "GOOGLE_GEOCODE_URL = 'https://maps.googleapis.com/maps/api/geocode/json'"
   ]
  },
  {
   "cell_type": "code",
   "execution_count": 3,
   "metadata": {
    "collapsed": false
   },
   "outputs": [],
   "source": [
    "# load the p3\n",
    "df = pd.read_csv('./data/P3_GrantExport.csv', sep=\";\")"
   ]
  },
  {
   "cell_type": "markdown",
   "metadata": {},
   "source": [
    "The documentation of fields mentions that institutes from outside Switzerland don't have an entry in University. So it's safe to throw away all rows has 'nicht zuteilbar - NA' in university column."
   ]
  },
  {
   "cell_type": "code",
   "execution_count": 4,
   "metadata": {
    "collapsed": true
   },
   "outputs": [],
   "source": [
    "df_Nicht = df[df['University'] == 'Nicht zuteilbar - NA']\n",
    "df = df[df['University'] != 'Nicht zuteilbar - NA']"
   ]
  },
  {
   "cell_type": "code",
   "execution_count": 5,
   "metadata": {
    "collapsed": false
   },
   "outputs": [],
   "source": [
    "df_null = df[df['University'].isnull()]\n",
    "df = df[df['University'].notnull()]"
   ]
  },
  {
   "cell_type": "code",
   "execution_count": 112,
   "metadata": {
    "collapsed": false
   },
   "outputs": [
    {
     "name": "stdout",
     "output_type": "stream",
     "text": [
      "Forschungskommission SAGW\n"
     ]
    }
   ],
   "source": [
    "universities = list(df['University'].unique())\n",
    "for university in universities:\n",
    "    if ' - ' not in university:\n",
    "        df.loc[df['University'] == university,'University'] = university[::-1].replace(\" \",\" - \",1)[::-1]"
   ]
  },
  {
   "cell_type": "markdown",
   "metadata": {},
   "source": [
    "## GeoNames Search Webservice:\n",
    "GeoNames api offers services in XML and JSON format. We use JSON format as it is easier to extract data from it."
   ]
  },
  {
   "cell_type": "code",
   "execution_count": 7,
   "metadata": {
    "collapsed": true
   },
   "outputs": [],
   "source": [
    "def search(url, params):\n",
    "    \"\"\" This function returns a json file containing the geographical results from the\n",
    "    Geonames or google map websites \"\"\"\n",
    "    try:\n",
    "        response = requests.get(url, params)\n",
    "    except:\n",
    "        raise ServiceException(url, params)\n",
    "    return response.json()"
   ]
  },
  {
   "cell_type": "code",
   "execution_count": 8,
   "metadata": {
    "collapsed": false
   },
   "outputs": [
    {
     "name": "stdout",
     "output_type": "stream",
     "text": [
      "Number of the recovered contons from the university name: 5/76\n"
     ]
    }
   ],
   "source": [
    "lst = []\n",
    "for university in list_of_universities:\n",
    "    params = {'q': university, 'maxRows': 1, 'country': 'CH', 'username': 'sorooshafiee'}\n",
    "    response = search(GEONAMES_SEARCH_URL, params)\n",
    "    lst.append(response['totalResultsCount'])\n",
    "print('Number of the recovered contons from the university name: {}/{}'.format(sum(x != 0 for x in lst), len(lst)))"
   ]
  },
  {
   "cell_type": "markdown",
   "metadata": {
    "collapsed": true
   },
   "source": [
    "## Google API\n"
   ]
  },
  {
   "cell_type": "code",
   "execution_count": 9,
   "metadata": {
    "collapsed": false
   },
   "outputs": [],
   "source": [
    "def get_geonames(url, params, types):\n",
    "    \"\"\" This function returns the filtered address component \"\"\"\n",
    "    try:\n",
    "        response = requests.get(url,params)\n",
    "    except:\n",
    "        raise ServiceException(url, params)\n",
    "    print(response.json())\n",
    "    address_comps = response.json()['results'][0]['address_components']\n",
    "    filter_method = lambda x: len(set(x['types']).intersection(list(types)))\n",
    "    return filter(filter_method, address_comps)"
   ]
  },
  {
   "cell_type": "code",
   "execution_count": 16,
   "metadata": {
    "collapsed": true
   },
   "outputs": [],
   "source": [
    "with open('data/api_key.txt', 'r') as in_file:\n",
    "    api_key = in_file.read()"
   ]
  },
  {
   "cell_type": "code",
   "execution_count": 17,
   "metadata": {
    "collapsed": false,
    "scrolled": true
   },
   "outputs": [
    {
     "name": "stdout",
     "output_type": "stream",
     "text": [
      "OK Université de Genève - GE\n",
      "ZERO_RESULTS NPO (Biblioth., Museen, Verwalt.) - NPO\n",
      "OK Universität Basel - BS\n",
      "OK Université de Fribourg - FR\n",
      "OK Universität Zürich - ZH\n",
      "OK Université de Lausanne - LA\n",
      "OK Universität Bern - BE\n",
      "ZERO_RESULTS Eidg. Forschungsanstalt für Wald,Schnee,Land - WSL\n",
      "OK Université de Neuchâtel - NE\n",
      "OK ETH Zürich - ETHZ\n",
      "OK Inst. de Hautes Etudes Internat. et du Dév - IHEID\n",
      "OK Universität St. Gallen - SG\n",
      "ZERO_RESULTS Weitere Institute - FINST\n",
      "ZERO_RESULTS Firmen/Privatwirtschaft - FP\n",
      "OK Pädagogische Hochschule Graubünden - PHGR\n",
      "OK EPF Lausanne - EPFL\n",
      "OK Pädagogische Hochschule Zürich - PHZFH\n",
      "OK Universität Luzern - LU\n",
      "OK Schweiz. Institut für Kunstwissenschaft - SIK-ISEA\n",
      "OK SUP della Svizzera italiana - SUPSI\n",
      "OK HES de Suisse occidentale - HES-SO\n",
      "OK Robert Walser-Stiftung Bern - RWS\n",
      "OK Paul Scherrer Institut - PSI\n",
      "OK Pädagogische Hochschule St. Gallen - PHSG\n",
      "OK Eidg. Anstalt für Wasserversorgung - EAWAG\n",
      "OK Eidg. Material und Prüfungsanstalt - EMPA\n",
      "ZERO_RESULTS Physikal.-Meteorolog. Observatorium Davos - PMOD\n",
      "OK Berner Fachhochschule - BFH\n",
      "ZERO_RESULTS Swiss Center for Electronics and Microtech. - CSEM\n",
      "ZERO_RESULTS Weitere Spitäler - ASPIT\n",
      "ZERO_RESULTS AO Research Institute - AORI\n",
      "OK Allergie- und Asthmaforschung - SIAF\n",
      "OK Forschungsinstitut für biologischen Landbau - FIBL\n",
      "OK Friedrich Miescher Institute - FMI\n",
      "OK Kantonsspital St. Gallen - KSPSG\n",
      "ZERO_RESULTS Forschungsanstalten Agroscope - AGS\n",
      "OK Ente Ospedaliero Cantonale - EOC\n",
      "OK Inst. universit. romand de Santé au Travail - IST\n",
      "OK Eidg. Hochschulinstitut für Berufsbildung - EHB\n",
      "ZERO_RESULTS Zürcher Fachhochschule (ohne PH) - ZFH\n",
      "OK Università della Svizzera italiana - USI\n",
      "OK Institut für Kulturforschung Graubünden - IKG\n",
      "OK Fachhochschule Nordwestschweiz (ohne PH) - FHNW\n",
      "OK Interkant. Hochschule für Heilpädagogik ZH - HfH\n",
      "OK Centre de rech. sur l'environnement alpin - CREALP\n",
      "OK Idiap Research Institute - IDIAP\n",
      "OK Pädagogische Hochschule Bern - PHBern\n",
      "OK Institut Universitaire Kurt Bösch - IUKB\n",
      "OK Schweizer Paraplegiker Forschung - SPF\n",
      "OK Hochschule Luzern - HSLU\n",
      "ZERO_RESULTS Forschungsinstitut für Opthalmologie - IRO\n",
      "OK Haute école pédagogique du canton de Vaud - HEPL\n",
      "OK Fachhochschule Ostschweiz - FHO\n",
      "OK Inst. Suisse de Spéléologie et Karstologie - ISSKA\n",
      "OK Swiss Institute of Bioinformatics - SIB\n",
      "OK Haute école pédagogique BE, JU, NE - HEPBEJUNE\n",
      "OK Pädagogische Hochschule Luzern - PHLU\n",
      "ZERO_RESULTS Forschungskommission SAGW\n",
      "OK Istituto Svizzero di Roma - ISR\n",
      "ZERO_RESULTS Pädag. Hochschule Tessin (Teilschule SUPSI) - ASP\n",
      "OK Haute école pédagogique fribourgeoise - HEPFR\n",
      "OK Pädagogische Hochschule Schwyz - PHSZ\n",
      "OK Pädagogische Hochschule Thurgau - PHTG\n",
      "OK Biotechnologie Institut Thurgau - BITG\n",
      "OK Fachhochschule Kalaidos - FHKD\n",
      "ZERO_RESULTS Schweizer Kompetenzzentrum Sozialwissensch. - FORS\n",
      "ZERO_RESULTS Pädagogische Hochschule Wallis - PHVS\n",
      "OK Schweiz. Hochschule für Logopädie Rorschach - SHLR\n",
      "OK Pädagogische Hochschule Zug - PHZG\n",
      "OK Instituto Ricerche Solari Locarno - IRSOL\n",
      "OK Franklin University Switzerland - FUS\n",
      "OK Pädagogische Hochschule Schaffhausen - PHSH\n",
      "OK Pädagogische Hochschule Nordwestschweiz - PHFHNW\n",
      "ZERO_RESULTS Staatsunabh. Theologische Hochschule Basel - STHB\n",
      "OK Facoltà di Teologia di Lugano - FTL\n",
      "OK Fernfachhochschule Schweiz (Mitglied SUPSI) - FFHS\n"
     ]
    }
   ],
   "source": [
    "response = {}\n",
    "for university in list_of_universities:\n",
    "    params = {'key' : api_key, 'query' : university}\n",
    "    response[university] = search(GOOGLE_SEARCH_URL, params)\n",
    "    print(response[university]['status'], university)"
   ]
  },
  {
   "cell_type": "code",
   "execution_count": null,
   "metadata": {
    "collapsed": true
   },
   "outputs": [],
   "source": [
    "lst = []\n",
    "types = ['administrative_area_level_1']\n",
    "response = {}\n",
    "for university in list_of_universities:\n",
    "    params = {'key' : api_key, 'query' : university}\n",
    "    response = search(GOOGLE_SEARCH_URL, params)\n",
    "    try:\n",
    "        location = response['results'][0]['geometry']['location']\n",
    "        latlng = str(round(location['lat'],2)) + ',' + str(round(location['lng'],2))\n",
    "    except:\n",
    "        raise KeyError\n",
    "    params = {'latlng': latlng}\n",
    "    address_comps = get_geonames(GOOGLE_GEOCODE_URL, params, types)\n",
    "    canton = list(address_comps)[0]['long_name']\n",
    "    lst.append((university, canton))\n",
    "    print(university, canton)\n",
    "print('Number of the recovered universities conton: {}/{}'.format(sum(x != 0 for x in lst), len(lst)))"
   ]
  },
  {
   "cell_type": "code",
   "execution_count": 14,
   "metadata": {
    "collapsed": false
   },
   "outputs": [
    {
     "data": {
      "text/plain": [
       "{'error_message': 'You have exceeded your daily request quota for this API.',\n",
       " 'html_attributions': [],\n",
       " 'results': [],\n",
       " 'status': 'OVER_QUERY_LIMIT'}"
      ]
     },
     "execution_count": 14,
     "metadata": {},
     "output_type": "execute_result"
    }
   ],
   "source": [
    "response[university]"
   ]
  },
  {
   "cell_type": "code",
   "execution_count": 19,
   "metadata": {
    "collapsed": false
   },
   "outputs": [],
   "source": [
    "lst = []\n",
    "for university in list_of_universities:\n",
    "    \n",
    "    if response[university]['status'] == 'ZERO_RESULTS':\n",
    "        lst.append(university)"
   ]
  },
  {
   "cell_type": "code",
   "execution_count": 20,
   "metadata": {
    "collapsed": false
   },
   "outputs": [
    {
     "data": {
      "text/plain": [
       "16"
      ]
     },
     "execution_count": 20,
     "metadata": {},
     "output_type": "execute_result"
    }
   ],
   "source": [
    "len(lst)"
   ]
  },
  {
   "cell_type": "code",
   "execution_count": 21,
   "metadata": {
    "collapsed": false
   },
   "outputs": [
    {
     "data": {
      "text/plain": [
       "['NPO (Biblioth., Museen, Verwalt.) - NPO',\n",
       " 'Eidg. Forschungsanstalt für Wald,Schnee,Land - WSL',\n",
       " 'Weitere Institute - FINST',\n",
       " 'Firmen/Privatwirtschaft - FP',\n",
       " 'Physikal.-Meteorolog. Observatorium Davos - PMOD',\n",
       " 'Swiss Center for Electronics and Microtech. - CSEM',\n",
       " 'Weitere Spitäler - ASPIT',\n",
       " 'AO Research Institute - AORI',\n",
       " 'Forschungsanstalten Agroscope - AGS',\n",
       " 'Zürcher Fachhochschule (ohne PH) - ZFH',\n",
       " 'Forschungsinstitut für Opthalmologie - IRO',\n",
       " 'Forschungskommission SAGW',\n",
       " 'Pädag. Hochschule Tessin (Teilschule SUPSI) - ASP',\n",
       " 'Schweizer Kompetenzzentrum Sozialwissensch. - FORS',\n",
       " 'Pädagogische Hochschule Wallis - PHVS',\n",
       " 'Staatsunabh. Theologische Hochschule Basel - STHB']"
      ]
     },
     "execution_count": 21,
     "metadata": {},
     "output_type": "execute_result"
    }
   ],
   "source": [
    "lst"
   ]
  },
  {
   "cell_type": "code",
   "execution_count": 25,
   "metadata": {
    "collapsed": false
   },
   "outputs": [
    {
     "ename": "AttributeError",
     "evalue": "'NoneType' object has no attribute 'group'",
     "output_type": "error",
     "traceback": [
      "\u001b[0;31m---------------------------------------------------------------------------\u001b[0m",
      "\u001b[0;31mAttributeError\u001b[0m                            Traceback (most recent call last)",
      "\u001b[0;32m<ipython-input-25-15714b3eea55>\u001b[0m in \u001b[0;36m<module>\u001b[0;34m()\u001b[0m\n\u001b[1;32m      1\u001b[0m \u001b[1;32mimport\u001b[0m \u001b[0mre\u001b[0m\u001b[1;33m\u001b[0m\u001b[0m\n\u001b[0;32m----> 2\u001b[0;31m \u001b[0mm\u001b[0m \u001b[1;33m=\u001b[0m \u001b[0mre\u001b[0m\u001b[1;33m.\u001b[0m\u001b[0msearch\u001b[0m\u001b[1;33m(\u001b[0m\u001b[1;34m'(?<=-)\\w+'\u001b[0m\u001b[1;33m,\u001b[0m \u001b[1;34m'Staatsunabh. Theologische Hochschule Basel - STHB'\u001b[0m\u001b[1;33m)\u001b[0m\u001b[1;33m.\u001b[0m\u001b[0mgroup\u001b[0m\u001b[1;33m(\u001b[0m\u001b[1;36m0\u001b[0m\u001b[1;33m)\u001b[0m\u001b[1;33m\u001b[0m\u001b[0m\n\u001b[0m",
      "\u001b[0;31mAttributeError\u001b[0m: 'NoneType' object has no attribute 'group'"
     ]
    }
   ],
   "source": [
    "import re\n",
    "m = re.search('(?<=-)\\w+', 'Staatsunabh. Theologische Hochschule Basel - STHB').group(0)\n"
   ]
  },
  {
   "cell_type": "code",
   "execution_count": 24,
   "metadata": {
    "collapsed": false
   },
   "outputs": [
    {
     "ename": "AttributeError",
     "evalue": "'NoneType' object has no attribute 'group'",
     "output_type": "error",
     "traceback": [
      "\u001b[0;31m---------------------------------------------------------------------------\u001b[0m",
      "\u001b[0;31mAttributeError\u001b[0m                            Traceback (most recent call last)",
      "\u001b[0;32m<ipython-input-24-13ebfe776708>\u001b[0m in \u001b[0;36m<module>\u001b[0;34m()\u001b[0m\n\u001b[0;32m----> 1\u001b[0;31m \u001b[0mm\u001b[0m\u001b[1;33m.\u001b[0m\u001b[0mgroup\u001b[0m\u001b[1;33m(\u001b[0m\u001b[1;36m0\u001b[0m\u001b[1;33m)\u001b[0m\u001b[1;33m\u001b[0m\u001b[0m\n\u001b[0m",
      "\u001b[0;31mAttributeError\u001b[0m: 'NoneType' object has no attribute 'group'"
     ]
    }
   ],
   "source": [
    "m.group(0)"
   ]
  },
  {
   "cell_type": "code",
   "execution_count": 111,
   "metadata": {
    "collapsed": false
   },
   "outputs": [
    {
     "ename": "AttributeError",
     "evalue": "'NoneType' object has no attribute 'group'",
     "output_type": "error",
     "traceback": [
      "\u001b[0;31m---------------------------------------------------------------------------\u001b[0m",
      "\u001b[0;31mAttributeError\u001b[0m                            Traceback (most recent call last)",
      "\u001b[0;32m<ipython-input-111-da7894cdff5e>\u001b[0m in \u001b[0;36m<module>\u001b[0;34m()\u001b[0m\n\u001b[1;32m      1\u001b[0m \u001b[0mm\u001b[0m \u001b[1;33m=\u001b[0m \u001b[0mre\u001b[0m\u001b[1;33m.\u001b[0m\u001b[0msearch\u001b[0m\u001b[1;33m(\u001b[0m\u001b[1;34mr'(.+?)\\.\\ (.+?) \\-\\ (\\w+)'\u001b[0m\u001b[1;33m,\u001b[0m \u001b[1;34m'Theologische Hochschule Basel - STHB'\u001b[0m\u001b[1;33m)\u001b[0m\u001b[1;33m\u001b[0m\u001b[0m\n\u001b[0;32m----> 2\u001b[0;31m \u001b[0mm\u001b[0m\u001b[1;33m.\u001b[0m\u001b[0mgroup\u001b[0m\u001b[1;33m(\u001b[0m\u001b[1;36m0\u001b[0m\u001b[1;33m)\u001b[0m\u001b[1;33m\u001b[0m\u001b[0m\n\u001b[0m",
      "\u001b[0;31mAttributeError\u001b[0m: 'NoneType' object has no attribute 'group'"
     ]
    }
   ],
   "source": [
    "m = re.search(r'(.+?)\\.\\ (.+?) \\-\\ (\\w+)', 'Theologische Hochschule Basel - STHB')\n",
    "m.group(0)"
   ]
  },
  {
   "cell_type": "code",
   "execution_count": 60,
   "metadata": {
    "collapsed": true
   },
   "outputs": [],
   "source": [
    "match = re.search(r'(\\w+), (\\w+): (\\S+)', 'Doe, John: 555-1212')"
   ]
  },
  {
   "cell_type": "code",
   "execution_count": 64,
   "metadata": {
    "collapsed": false
   },
   "outputs": [
    {
     "data": {
      "text/plain": [
       "'555-1212'"
      ]
     },
     "execution_count": 64,
     "metadata": {},
     "output_type": "execute_result"
    }
   ],
   "source": [
    "match.group(3)"
   ]
  },
  {
   "cell_type": "code",
   "execution_count": 121,
   "metadata": {
    "collapsed": false
   },
   "outputs": [],
   "source": [
    "df.loc[df['University'] == 'Forschungskommission SAGW','University'] = 'Forschungskommission - SAGW'"
   ]
  },
  {
   "cell_type": "code",
   "execution_count": 124,
   "metadata": {
    "collapsed": false
   },
   "outputs": [
    {
     "data": {
      "text/html": [
       "<div>\n",
       "<table border=\"1\" class=\"dataframe\">\n",
       "  <thead>\n",
       "    <tr style=\"text-align: right;\">\n",
       "      <th></th>\n",
       "      <th>﻿\"Project Number\"</th>\n",
       "      <th>Project Title</th>\n",
       "      <th>Project Title English</th>\n",
       "      <th>Responsible Applicant</th>\n",
       "      <th>Funding Instrument</th>\n",
       "      <th>Funding Instrument Hierarchy</th>\n",
       "      <th>Institution</th>\n",
       "      <th>University</th>\n",
       "      <th>Discipline Number</th>\n",
       "      <th>Discipline Name</th>\n",
       "      <th>Discipline Name Hierarchy</th>\n",
       "      <th>Start Date</th>\n",
       "      <th>End Date</th>\n",
       "      <th>Approved Amount</th>\n",
       "      <th>Keywords</th>\n",
       "    </tr>\n",
       "  </thead>\n",
       "  <tbody>\n",
       "    <tr>\n",
       "      <th>31512</th>\n",
       "      <td>101005</td>\n",
       "      <td>SELECTS 2003: Eidgenössische Wahlen 2003</td>\n",
       "      <td>SELECTS 2003: Federal elections 2003</td>\n",
       "      <td>Malaguerra Carlo</td>\n",
       "      <td>Swiss Priority Programmes (SPPs)</td>\n",
       "      <td>Programmes</td>\n",
       "      <td>Schweizerische Akademie der Geistes-und Sozial...</td>\n",
       "      <td>Forschungskommission - SAGW</td>\n",
       "      <td>10202</td>\n",
       "      <td>Political science</td>\n",
       "      <td>Human and Social Sciences;Sociology, social wo...</td>\n",
       "      <td>01.02.2003</td>\n",
       "      <td>31.01.2004</td>\n",
       "      <td>100000.00</td>\n",
       "      <td>NaN</td>\n",
       "    </tr>\n",
       "  </tbody>\n",
       "</table>\n",
       "</div>"
      ],
      "text/plain": [
       "       ﻿\"Project Number\"                             Project Title  \\\n",
       "31512             101005  SELECTS 2003: Eidgenössische Wahlen 2003   \n",
       "\n",
       "                      Project Title English Responsible Applicant  \\\n",
       "31512  SELECTS 2003: Federal elections 2003      Malaguerra Carlo   \n",
       "\n",
       "                     Funding Instrument Funding Instrument Hierarchy  \\\n",
       "31512  Swiss Priority Programmes (SPPs)                   Programmes   \n",
       "\n",
       "                                             Institution  \\\n",
       "31512  Schweizerische Akademie der Geistes-und Sozial...   \n",
       "\n",
       "                        University  Discipline Number    Discipline Name  \\\n",
       "31512  Forschungskommission - SAGW              10202  Political science   \n",
       "\n",
       "                               Discipline Name Hierarchy  Start Date  \\\n",
       "31512  Human and Social Sciences;Sociology, social wo...  01.02.2003   \n",
       "\n",
       "         End Date Approved Amount Keywords  \n",
       "31512  31.01.2004       100000.00      NaN  "
      ]
     },
     "execution_count": 124,
     "metadata": {},
     "output_type": "execute_result"
    }
   ],
   "source": [
    "df[df['University'] == 'Forschungskommission - SAGW']"
   ]
  },
  {
   "cell_type": "code",
   "execution_count": null,
   "metadata": {
    "collapsed": true
   },
   "outputs": [],
   "source": []
  }
 ],
 "metadata": {
  "anaconda-cloud": {},
  "kernelspec": {
   "display_name": "Python [default]",
   "language": "python",
   "name": "python3"
  },
  "language_info": {
   "codemirror_mode": {
    "name": "ipython",
    "version": 3
   },
   "file_extension": ".py",
   "mimetype": "text/x-python",
   "name": "python",
   "nbconvert_exporter": "python",
   "pygments_lexer": "ipython3",
   "version": "3.5.2"
  }
 },
 "nbformat": 4,
 "nbformat_minor": 0
}
