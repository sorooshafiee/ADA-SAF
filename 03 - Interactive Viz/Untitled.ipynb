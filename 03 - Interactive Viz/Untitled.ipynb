{
 "cells": [
  {
   "cell_type": "markdown",
   "metadata": {},
   "source": [
    "## Data fields & description:\n",
    "- Project Number: the unique project id\n",
    "- Project Title: the project name (Mandatory)\n",
    "- Project Title English: the project name in English (Optional)\n",
    "- Reponsible Applicant: the person who submitted the research proposal to the SNSF (Mandatory)\n",
    "- Funding Instrument: funding schemes for research and scientific communication\n",
    "- Funding Instrument Hierarchy: top level hierarchy funding instrument\n",
    "- Institution: the research institution where the project will largely be carried out\n",
    "- University: the University where the project will largely be carried out. **This field is only filled if the research is carried out at a Swiss institution, otherwise the field remains blank. In the case of mobility fellowships, it is generally left empty.**\n",
    "- Discipline Number: number of the discipline\n",
    "- Discipline Name: name of the discipline\n",
    "- Discipline Name Hierarchy: top level of discipline\n",
    "- Start Date: the starting date of the project\n",
    "- End Date: the actual end date of the project\n",
    "- Approved Amount: the total approved money spent for the project. **This amount is not indicated in the case of mobility fellowships.**\n",
    "- Keywords: unstructured field."
   ]
  },
  {
   "cell_type": "code",
   "execution_count": 1,
   "metadata": {
    "collapsed": true
   },
   "outputs": [],
   "source": [
    "# import required packages\n",
    "import numpy as np\n",
    "import pandas as pd\n",
    "import matplotlib.pyplot as plt\n",
    "from IPython.display import HTML\n",
    "import folium\n",
    "import requests\n",
    "import re\n",
    "%matplotlib inline"
   ]
  },
  {
   "cell_type": "code",
   "execution_count": 2,
   "metadata": {
    "collapsed": true
   },
   "outputs": [],
   "source": [
    "# Define constants\n",
    "GEONAMES_SEARCH_URL = 'http://api.geonames.org/searchJSON'\n",
    "GOOGLE_SEARCH_URL = 'https://maps.googleapis.com/maps/api/place/textsearch/json'\n",
    "GOOGLE_GEOCODE_URL = 'https://maps.googleapis.com/maps/api/geocode/json'"
   ]
  },
  {
   "cell_type": "code",
   "execution_count": 3,
   "metadata": {
    "collapsed": false
   },
   "outputs": [],
   "source": [
    "# load the p3\n",
    "df = pd.read_csv('./data/P3_GrantExport.csv', sep=\";\")"
   ]
  },
  {
   "cell_type": "markdown",
   "metadata": {},
   "source": [
    "The documentation of fields mentions that institutes from outside Switzerland don't have an entry in University. So it's safe to throw away all rows has 'nicht zuteilbar - NA' in university column."
   ]
  },
  {
   "cell_type": "code",
   "execution_count": 4,
   "metadata": {
    "collapsed": false
   },
   "outputs": [
    {
     "data": {
      "text/plain": [
       "<matplotlib.axes._subplots.AxesSubplot at 0x1f5329b4d68>"
      ]
     },
     "execution_count": 4,
     "metadata": {},
     "output_type": "execute_result"
    },
    {
     "data": {
      "image/png": "[encoded data removed]",
      "text/plain": [
       "<matplotlib.figure.Figure at 0x1f532c2c4e0>"
      ]
     },
     "metadata": {},
     "output_type": "display_data"
    }
   ],
   "source": [
    "df = df[df['Approved Amount'] != 'data not included in P3']\n",
    "df['Approved Amount'] = df['Approved Amount'].astype(float)\n",
    "df['Approved Amount'].plot()"
   ]
  },
  {
   "cell_type": "markdown",
   "metadata": {},
   "source": [
    "- 'Nicht zuteilbar - NA' : not assignable\n",
    "\n",
    "So we remove this field!"
   ]
  },
  {
   "cell_type": "code",
   "execution_count": 5,
   "metadata": {
    "collapsed": true
   },
   "outputs": [],
   "source": [
    "df_Nicht = df[df['University'] == 'Nicht zuteilbar - NA']\n",
    "df = df[df['University'] != 'Nicht zuteilbar - NA']"
   ]
  },
  {
   "cell_type": "code",
   "execution_count": 6,
   "metadata": {
    "collapsed": false
   },
   "outputs": [],
   "source": [
    "df_null = df[df['University'].isnull()]\n",
    "df = df[df['University'].notnull()]"
   ]
  },
  {
   "cell_type": "code",
   "execution_count": 7,
   "metadata": {
    "collapsed": false
   },
   "outputs": [],
   "source": [
    "universities = list(df['University'].unique())\n",
    "for university in universities:\n",
    "    if ' - ' not in university:\n",
    "        df.loc[df['University'] == university,'University'] = university[::-1].replace(\" \",\" - \",1)[::-1]\n",
    "universities = list(df['University'].unique())"
   ]
  },
  {
   "cell_type": "markdown",
   "metadata": {},
   "source": [
    "## GeoNames Search Webservice:\n",
    "GeoNames api offers services in XML and JSON format. We use JSON format as it is easier to extract data from it."
   ]
  },
  {
   "cell_type": "code",
   "execution_count": 8,
   "metadata": {
    "collapsed": true
   },
   "outputs": [],
   "source": [
    "def search(url, params):\n",
    "    \"\"\" This function returns a json file containing the geographical results from the\n",
    "    Geonames or google map websites \"\"\"\n",
    "    try:\n",
    "        response = requests.get(url, params)\n",
    "    except:\n",
    "        raise ServiceException(url, params)\n",
    "    return response.json()"
   ]
  },
  {
   "cell_type": "code",
   "execution_count": 9,
   "metadata": {
    "collapsed": false
   },
   "outputs": [
    {
     "name": "stdout",
     "output_type": "stream",
     "text": [
      "Number of the recovered contons from the university name: 5/76\n"
     ]
    }
   ],
   "source": [
    "lst = []\n",
    "for university in universities:\n",
    "    params = {'q': university, 'maxRows': 1, 'country': 'CH', 'username': 'sorooshafiee'}\n",
    "    response = search(GEONAMES_SEARCH_URL, params)\n",
    "    lst.append(response['totalResultsCount'])\n",
    "print('Number of the recovered contons from the university name: {}/{}'.format(sum(x != 0 for x in lst), len(lst)))"
   ]
  },
  {
   "cell_type": "markdown",
   "metadata": {
    "collapsed": true
   },
   "source": [
    "## Google API\n"
   ]
  },
  {
   "cell_type": "code",
   "execution_count": 10,
   "metadata": {
    "collapsed": false
   },
   "outputs": [],
   "source": [
    "def get_geonames(url, params, types):\n",
    "    \"\"\" This function returns the filtered address component \"\"\"\n",
    "    try:\n",
    "        response = requests.get(url,params)\n",
    "    except:\n",
    "        raise ServiceException(url, params)\n",
    "    address_comps = response.json()['results'][0]['address_components']\n",
    "    filter_method = lambda x: len(set(x['types']).intersection(list(types)))\n",
    "    return filter(filter_method, address_comps)"
   ]
  },
  {
   "cell_type": "code",
   "execution_count": 21,
   "metadata": {
    "collapsed": true
   },
   "outputs": [],
   "source": [
    "with open('data/api_key.txt', 'r') as in_file:\n",
    "    api_key = in_file.read()"
   ]
  },
  {
   "cell_type": "code",
   "execution_count": 13,
   "metadata": {
    "collapsed": false
   },
   "outputs": [
    {
     "name": "stdout",
     "output_type": "stream",
     "text": [
      "Number of the recovered contons from the university name: 59/76\n"
     ]
    }
   ],
   "source": [
    "match = {}\n",
    "response = {}\n",
    "unmatch = []\n",
    "types = ['administrative_area_level_1']\n",
    "for university in universities:\n",
    "    params = {'key' : api_key, 'query' : university}\n",
    "    response[university] = search(GOOGLE_SEARCH_URL, params)\n",
    "    if response[university]['status'] == 'OK':\n",
    "        location = response[university]['results'][0]['geometry']['location']\n",
    "        latlng = str(round(location['lat'],2)) + ',' + str(round(location['lng'],2))\n",
    "        params = {'latlng': latlng}\n",
    "        address_comps = get_geonames(GOOGLE_GEOCODE_URL, params, types)\n",
    "        canton = list(address_comps)[0]['long_name']\n",
    "        match.update({university: canton})\n",
    "    else:   \n",
    "        unmatch.append(university)\n",
    "print('Number of the recovered contons from the university name: {}/{}'.format(len(match), len(universities)))"
   ]
  },
  {
   "cell_type": "code",
   "execution_count": 27,
   "metadata": {
    "collapsed": false
   },
   "outputs": [
    {
     "name": "stdout",
     "output_type": "stream",
     "text": [
      "Number of the recovered contons from the university name: 65/76\n"
     ]
    }
   ],
   "source": [
    "new_match = []\n",
    "for university in unmatch:\n",
    "    print(university)\n",
    "    sub_str = re.search(r'(.+?) \\-\\ (\\w+)', university).group(1)\n",
    "    if '(' in sub_str:\n",
    "        sub_str = re.search(r'(.+?) \\((.+?)\\)', sub_str).group(1)\n",
    "    params = {'key' : api_key, 'query' : sub_str}\n",
    "    response[university] = search(GOOGLE_SEARCH_URL, params)\n",
    "    if response[university]['status'] == 'OK':\n",
    "        location = response[university]['results'][0]['geometry']['location']\n",
    "        latlng = str(round(location['lat'],2)) + ',' + str(round(location['lng'],2))\n",
    "        params = {'latlng': latlng}\n",
    "        address_comps = get_geonames(GOOGLE_GEOCODE_URL, params, types)\n",
    "        canton = list(address_comps)[0]['long_name']\n",
    "        match.update({university: canton})\n",
    "        new_match.append(university)\n",
    "unmatch = [university for university in unmatch if university not in new_match]\n",
    "print('Number of the recovered contons from the university name: {}/{}'.format(len(match), len(universities)))"
   ]
  },
  {
   "cell_type": "code",
   "execution_count": 56,
   "metadata": {
    "collapsed": false,
    "scrolled": true
   },
   "outputs": [
    {
     "name": "stdout",
     "output_type": "stream",
     "text": [
      "Number of the recovered contons from the university name: 69/76\n"
     ]
    }
   ],
   "source": [
    "new_match = []\n",
    "for university in unmatch:\n",
    "    sub_str = re.search(r'(.+?) \\-\\ (\\w+)', university).group(1)\n",
    "    if '(' in sub_str:\n",
    "        sub_str = re.search(r'(.+?) \\((.+?)\\)', sub_str).group(1)\n",
    "    if '.' in sub_str:\n",
    "        if sub_str.endswith('.'):\n",
    "            sub_str = re.search(r'(.+?) (\\w+)\\.', sub_str).group(1)\n",
    "        else:\n",
    "            sub_str = sub_str[sub_str.rfind('.')+2::]\n",
    "    params = {'key' : api_key, 'query' : sub_str}\n",
    "    response[university] = search(GOOGLE_SEARCH_URL, params)\n",
    "    if response[university]['status'] == 'OK':\n",
    "        location = response[university]['results'][0]['geometry']['location']\n",
    "        latlng = str(round(location['lat'],2)) + ',' + str(round(location['lng'],2))\n",
    "        params = {'latlng': latlng}\n",
    "        address_comps = get_geonames(GOOGLE_GEOCODE_URL, params, types)\n",
    "        canton = list(address_comps)[0]['long_name']\n",
    "        match.update({university: canton})\n",
    "        new_match.append(university)\n",
    "unmatch = [university for university in unmatch if university not in new_match]\n",
    "print('Number of the recovered contons from the university name: {}/{}'.format(len(match), len(universities)))"
   ]
  },
  {
   "cell_type": "code",
   "execution_count": 70,
   "metadata": {
    "collapsed": false
   },
   "outputs": [],
   "source": [
    "# Add the rest manually\n",
    "manual_match = {\n",
    "    'Eidg. Forschungsanstalt für Wald,Schnee,Land - WSL': 'Zürich',   \n",
    "    'Forschungsanstalten Agroscope - AGS': 'Zürich',\n",
    "    'Schweizer Kompetenzzentrum Sozialwissensch. - FORS': 'Vaud'\n",
    "}"
   ]
  },
  {
   "cell_type": "markdown",
   "metadata": {
    "collapsed": false
   },
   "source": [
    "The following items in university field should be searched through the institution filed as it is not clear where they are located.\n",
    "- 'NPO (Biblioth., Museen, Verwalt.) - NPO': for libraries, museums, administrations\n",
    "- 'Firmen/Privatwirtschaft - FP': companies/private sectors\n",
    "- 'Weitere Spitäler - ASPIT': other hospitals\n",
    "- 'Weitere Institute - FINST': other institutes"
   ]
  },
  {
   "cell_type": "code",
   "execution_count": null,
   "metadata": {
    "collapsed": false
   },
   "outputs": [],
   "source": [
    "lst"
   ]
  },
  {
   "cell_type": "code",
   "execution_count": null,
   "metadata": {
    "collapsed": false
   },
   "outputs": [],
   "source": [
    "m = re.search('(?<=-)\\w+', 'Staatsunabh. Theologische Hochschule Basel - STHB').group(0)\n"
   ]
  },
  {
   "cell_type": "code",
   "execution_count": null,
   "metadata": {
    "collapsed": false
   },
   "outputs": [],
   "source": [
    "m.group(0)"
   ]
  },
  {
   "cell_type": "code",
   "execution_count": null,
   "metadata": {
    "collapsed": false
   },
   "outputs": [],
   "source": [
    "m = re.sub(r'(.+?)\\.\\ (.+?) \\-\\ (\\w+)', 'Theologische. Hochschule Basel - STHB')"
   ]
  },
  {
   "cell_type": "code",
   "execution_count": null,
   "metadata": {
    "collapsed": true
   },
   "outputs": [],
   "source": [
    "match = re.search(r'(\\w+), (\\w+): (\\S+)', 'Doe, John: 555-1212')"
   ]
  },
  {
   "cell_type": "code",
   "execution_count": null,
   "metadata": {
    "collapsed": false
   },
   "outputs": [],
   "source": [
    "match.group(3)"
   ]
  },
  {
   "cell_type": "code",
   "execution_count": null,
   "metadata": {
    "collapsed": false
   },
   "outputs": [],
   "source": [
    "df.loc[df['University'] == 'Forschungskommission SAGW','University'] = 'Forschungskommission - SAGW'"
   ]
  },
  {
   "cell_type": "code",
   "execution_count": null,
   "metadata": {
    "collapsed": false
   },
   "outputs": [],
   "source": [
    "df[df['University'] == 'Forschungskommission - SAGW']"
   ]
  },
  {
   "cell_type": "code",
   "execution_count": null,
   "metadata": {
    "collapsed": false
   },
   "outputs": [],
   "source": [
    "len(universities)"
   ]
  },
  {
   "cell_type": "code",
   "execution_count": null,
   "metadata": {
    "collapsed": false
   },
   "outputs": [],
   "source": [
    "response"
   ]
  },
  {
   "cell_type": "code",
   "execution_count": null,
   "metadata": {
    "collapsed": true
   },
   "outputs": [],
   "source": [
    "m = re.search(r'(.+?) \\-\\ (\\w+)', university)"
   ]
  },
  {
   "cell_type": "code",
   "execution_count": null,
   "metadata": {
    "collapsed": false
   },
   "outputs": [],
   "source": [
    "sub_str = re.search(r'(.+?) \\-\\ (\\w+)', university).group(1)"
   ]
  },
  {
   "cell_type": "code",
   "execution_count": null,
   "metadata": {
    "collapsed": false
   },
   "outputs": [],
   "source": [
    "sub_str2 = re.search(r'(.+?) \\((.+?)\\)', university).group(1)"
   ]
  },
  {
   "cell_type": "code",
   "execution_count": null,
   "metadata": {
    "collapsed": false
   },
   "outputs": [],
   "source": [
    "sub_str2"
   ]
  },
  {
   "cell_type": "code",
   "execution_count": null,
   "metadata": {
    "collapsed": false
   },
   "outputs": [],
   "source": [
    "university"
   ]
  },
  {
   "cell_type": "code",
   "execution_count": null,
   "metadata": {
    "collapsed": false
   },
   "outputs": [],
   "source": [
    "for university in universities:\n",
    "    sub_str = re.search(r'(.+?) \\-\\ (\\w+)', university).group(1)\n",
    "    if '(' in sub_str:\n",
    "        sub_str = re.search(r'(.+?) \\((.+?)\\)', sub_str).group(1)\n",
    "    print(sub_str)"
   ]
  },
  {
   "cell_type": "code",
   "execution_count": null,
   "metadata": {
    "collapsed": false
   },
   "outputs": [],
   "source": [
    "a = {1: 2}"
   ]
  },
  {
   "cell_type": "code",
   "execution_count": null,
   "metadata": {
    "collapsed": false
   },
   "outputs": [],
   "source": [
    "a[1] = 3"
   ]
  },
  {
   "cell_type": "code",
   "execution_count": null,
   "metadata": {
    "collapsed": false
   },
   "outputs": [],
   "source": [
    "a"
   ]
  },
  {
   "cell_type": "code",
   "execution_count": null,
   "metadata": {
    "collapsed": true
   },
   "outputs": [],
   "source": []
  }
 ],
 "metadata": {
  "anaconda-cloud": {},
  "kernelspec": {
   "display_name": "Python 3",
   "language": "python",
   "name": "python3"
  },
  "language_info": {
   "codemirror_mode": {
    "name": "ipython",
    "version": 3
   },
   "file_extension": ".py",
   "mimetype": "text/x-python",
   "name": "python",
   "nbconvert_exporter": "python",
   "pygments_lexer": "ipython3",
   "version": "3.5.1"
  }
 },
 "nbformat": 4,
 "nbformat_minor": 0
}
