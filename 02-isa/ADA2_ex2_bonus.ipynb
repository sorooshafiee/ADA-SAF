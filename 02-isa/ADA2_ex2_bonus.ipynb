{
 "cells": [
  {
   "cell_type": "markdown",
   "metadata": {},
   "source": [
    "# Homework 2 (excercise 2 and Bonus)"
   ]
  },
  {
   "cell_type": "code",
   "execution_count": 1,
   "metadata": {
    "collapsed": false
   },
   "outputs": [],
   "source": [
    "%matplotlib inline\n",
    "import matplotlib.pyplot as plt\n",
    "plt.rcParams['figure.figsize'] = (9, 5)\n",
    "import numpy as np\n",
    "import sys\n",
    "from bs4 import BeautifulSoup as BSoup\n",
    "import requests\n",
    "import pandas as pd\n",
    "import scipy.stats as stats"
   ]
  },
  {
   "cell_type": "markdown",
   "metadata": {},
   "source": [
    "\n",
    "## Assumptions\n",
    "**As the data has many missing values, especially for the field of their master projects, we are going to make some assumptions.**\n",
    "\n",
    "### 1) The students finally will graduate:\n",
    "** This is based on our intuition, unlike the bachelor students, usually most of the master students tend to graduate**.\n",
    "**So if the master project data is missing and 2 semesters past from the last taken semester (minimum 2 semesters already taken), we are going to add a master project to them (note that master student in Informatique need to take master project in order to graduate)**\n",
    "#### Exception: we can not make this assumption for the students which are studying in 2015-2016.\n",
    "\n",
    "\n",
    "### 2) The students whose first record is 'semester  2' or 'semester 3' in year 2007  has begun their study before 2007:\n",
    "**Although master students can begin their studies by semester 2, so as we do not have enough information we are going to discard them**\n",
    "\n",
    "### 3) The students who are taking their master semester (not project) in 2016-2017 cannot finish their studies by the end of the year.\n",
    "**This assumption yields that we only keep the master project data for 2016-2017**\n",
    "### 4) If there is two consecutive 'semester 2' in the records we add a 'semester 3' in between.\n",
    "**This is based on the EPFL regulation that after semester 2 there is semester 3.**\n",
    "\n",
    "### 5) The students whose Mineur field is not empty takes longer time to finish their results.\n",
    "**Since there are students who are doing mineur it is not 'fair' to analyze their time to finish with others. SO, after general analysis investigate minor students seperately.**\n"
   ]
  },
  {
   "cell_type": "code",
   "execution_count": 2,
   "metadata": {
    "collapsed": false
   },
   "outputs": [],
   "source": [
    "r = requests.get('http://isa.epfl.ch/imoniteur_ISAP/!GEDPUBLICREPORTS.filter?ww_b_list=1&ww_i_reportmodel=133685247&ww_c_langue=&ww_i_reportModelXsl=133685270')\n",
    "soup = BSoup(r.text.encode('utf-8'),'lxml')\n",
    "links = soup.find_all(\"select\")\n",
    "\n",
    "# The following code stores the values which are going to \n",
    "#be used in request.get for data\n",
    "\n",
    "value_years = {} # Initilizing the datas\n",
    "years = []\n",
    "value_semesters = {}\n",
    "semester = []\n",
    "value_typeSemester = {}\n",
    "value_typeSemester[\"Semestre d'automne\"] = []\n",
    "value_typeSemester['Semestre de printemps'] = []\n",
    "typeSemester = []\n",
    "typeSemester.append(\"Semestre d'automne\")\n",
    "typeSemester.append('Semestre de printemps')\n",
    "\n",
    "for i in range(2007,2017):\n",
    "    value_years[str(i)] = []\n",
    "    years.append(str(i))\n",
    "for i in range(1,4):\n",
    "    value_semesters['Master semestre '+str(i)] = []\n",
    "    semester.append('Master semestre '+str(i))\n",
    "value_semesters['Projet Master automne'] = []\n",
    "value_semesters['Projet Master printemps'] = []\n",
    "semester.append('Projet Master automne')\n",
    "semester.append('Projet Master printemps')\n",
    "value_informatique = '249847'\n",
    "for link in links:                     \n",
    "    namesAll = link.find_all(\"option\")\n",
    "    for names in namesAll:\n",
    "        #print(names.contents)\n",
    "        if names.contents:\n",
    "            if names.contents[0][:4] in years: # stores the values for years\n",
    "                value_years[str(names.contents[0][:4])] = names['value']\n",
    "            elif names.contents[0] in semester: # stores the values for semesters\n",
    "                value_semesters[names.contents[0]] = names['value']\n",
    "            elif names.contents[0] in typeSemester: # stores the values for type of semesters\n",
    "                value_typeSemester[names.contents[0]] = names['value']"
   ]
  },
  {
   "cell_type": "code",
   "execution_count": 3,
   "metadata": {
    "collapsed": true
   },
   "outputs": [],
   "source": [
    "# The following code get the data for a special year and field and semester \n",
    "def get_data3(query):\n",
    "    r = requests.get('http://isa.epfl.ch/imoniteur_ISAP/!GEDPUBLICREPORTS.bhtml?ww_x_GPS=-1&ww_i_reportmodel=133685247&ww_i_reportModelXsl=133685270',params=query)\n",
    "    soup = BSoup(r.text.encode('utf-8'),'lxml')\n",
    "    table_soup = soup.find('table')\n",
    "    #data inside the cells of table\n",
    "    data_cell = table_soup.find_all('td')#.renderContents()#.strip()\n",
    "    d=[]\n",
    "    st = []\n",
    "    h = []\n",
    "    for entry in data_cell:\n",
    "        s = entry.text\n",
    "        s = s.replace(u'\\xa0', u' ')\n",
    "        s = s.replace(u'Ã©',u'e') \n",
    "        d.append(s)\n",
    "    #headers\n",
    "    headers=soup.findAll('th')\n",
    "    for header in headers[1:]:\n",
    "        temp = header.text\n",
    "        temp = temp.replace(u'Ã©',u'e')\n",
    "        h.append(temp)\n",
    "        \n",
    "    #for getting current semester info\n",
    "    headers=soup.findAll('th')\n",
    "    #creating dataframe with the obtained data\n",
    "    st=[d[x:x+11] for x in range(0,len(d),12)]\n",
    "    dfr=pd.DataFrame(st,columns=h)\n",
    "    return dfr\n",
    "    "
   ]
  },
  {
   "cell_type": "code",
   "execution_count": 4,
   "metadata": {
    "collapsed": false
   },
   "outputs": [
    {
     "data": {
      "text/html": [
       "<div>\n",
       "<table border=\"1\" class=\"dataframe\">\n",
       "  <thead>\n",
       "    <tr style=\"text-align: right;\">\n",
       "      <th></th>\n",
       "      <th>Civilite</th>\n",
       "      <th>Ecole Echange</th>\n",
       "      <th>FiliÃ¨re opt.</th>\n",
       "      <th>Mineur</th>\n",
       "      <th>No Sciper</th>\n",
       "      <th>Nom Prenom</th>\n",
       "      <th>Orientation Bachelor</th>\n",
       "      <th>Orientation Master</th>\n",
       "      <th>Specialisation</th>\n",
       "      <th>Statut</th>\n",
       "      <th>Type Echange</th>\n",
       "      <th>semester</th>\n",
       "      <th>type semester</th>\n",
       "      <th>year</th>\n",
       "    </tr>\n",
       "  </thead>\n",
       "  <tbody>\n",
       "    <tr>\n",
       "      <th>0</th>\n",
       "      <td>Monsieur</td>\n",
       "      <td></td>\n",
       "      <td></td>\n",
       "      <td></td>\n",
       "      <td>153066</td>\n",
       "      <td>Aeberhard FranÃ§ois-Xavier</td>\n",
       "      <td></td>\n",
       "      <td></td>\n",
       "      <td></td>\n",
       "      <td>Present</td>\n",
       "      <td></td>\n",
       "      <td>Master semestre 1</td>\n",
       "      <td>Semestre d'automne</td>\n",
       "      <td>2007</td>\n",
       "    </tr>\n",
       "    <tr>\n",
       "      <th>1</th>\n",
       "      <td>Madame</td>\n",
       "      <td></td>\n",
       "      <td></td>\n",
       "      <td></td>\n",
       "      <td>180027</td>\n",
       "      <td>Agarwal Megha</td>\n",
       "      <td></td>\n",
       "      <td></td>\n",
       "      <td></td>\n",
       "      <td>Present</td>\n",
       "      <td></td>\n",
       "      <td>Master semestre 1</td>\n",
       "      <td>Semestre d'automne</td>\n",
       "      <td>2007</td>\n",
       "    </tr>\n",
       "    <tr>\n",
       "      <th>2</th>\n",
       "      <td>Monsieur</td>\n",
       "      <td></td>\n",
       "      <td></td>\n",
       "      <td></td>\n",
       "      <td>152232</td>\n",
       "      <td>Anagnostaras David</td>\n",
       "      <td></td>\n",
       "      <td></td>\n",
       "      <td></td>\n",
       "      <td>Present</td>\n",
       "      <td></td>\n",
       "      <td>Master semestre 1</td>\n",
       "      <td>Semestre d'automne</td>\n",
       "      <td>2007</td>\n",
       "    </tr>\n",
       "    <tr>\n",
       "      <th>3</th>\n",
       "      <td>Monsieur</td>\n",
       "      <td></td>\n",
       "      <td></td>\n",
       "      <td></td>\n",
       "      <td>177395</td>\n",
       "      <td>Auroux Damien</td>\n",
       "      <td></td>\n",
       "      <td></td>\n",
       "      <td></td>\n",
       "      <td>Present</td>\n",
       "      <td></td>\n",
       "      <td>Master semestre 1</td>\n",
       "      <td>Semestre d'automne</td>\n",
       "      <td>2007</td>\n",
       "    </tr>\n",
       "    <tr>\n",
       "      <th>4</th>\n",
       "      <td>Monsieur</td>\n",
       "      <td></td>\n",
       "      <td></td>\n",
       "      <td></td>\n",
       "      <td>161970</td>\n",
       "      <td>Awalebo Joseph</td>\n",
       "      <td></td>\n",
       "      <td></td>\n",
       "      <td></td>\n",
       "      <td>Present</td>\n",
       "      <td></td>\n",
       "      <td>Master semestre 1</td>\n",
       "      <td>Semestre d'automne</td>\n",
       "      <td>2007</td>\n",
       "    </tr>\n",
       "  </tbody>\n",
       "</table>\n",
       "</div>"
      ],
      "text/plain": [
       "   Civilite Ecole Echange FiliÃ¨re opt. Mineur No Sciper  \\\n",
       "0  Monsieur                                       153066   \n",
       "1    Madame                                       180027   \n",
       "2  Monsieur                                       152232   \n",
       "3  Monsieur                                       177395   \n",
       "4  Monsieur                                       161970   \n",
       "\n",
       "                   Nom Prenom Orientation Bachelor Orientation Master  \\\n",
       "0  Aeberhard FranÃ§ois-Xavier                                           \n",
       "1               Agarwal Megha                                           \n",
       "2          Anagnostaras David                                           \n",
       "3               Auroux Damien                                           \n",
       "4              Awalebo Joseph                                           \n",
       "\n",
       "  Specialisation   Statut Type Echange           semester       type semester  \\\n",
       "0                 Present               Master semestre 1  Semestre d'automne   \n",
       "1                 Present               Master semestre 1  Semestre d'automne   \n",
       "2                 Present               Master semestre 1  Semestre d'automne   \n",
       "3                 Present               Master semestre 1  Semestre d'automne   \n",
       "4                 Present               Master semestre 1  Semestre d'automne   \n",
       "\n",
       "   year  \n",
       "0  2007  \n",
       "1  2007  \n",
       "2  2007  \n",
       "3  2007  \n",
       "4  2007  "
      ]
     },
     "execution_count": 4,
     "metadata": {},
     "output_type": "execute_result"
    }
   ],
   "source": [
    "# In this cell we want to import whole data into a pandas dataframe\n",
    "# where we pass the paramters found in the previouse cell\n",
    "#data = pd.DataFrame({'field':[],'gender':[],'name':[],'status':[],'sciper':[],'gender':[]\n",
    " #                    ,'year':[],'semester':[],'type semester':[]})\n",
    "data = pd.DataFrame()\n",
    "for y in years: # concatenating whole data into a pandas dataframe\n",
    "    for tS in typeSemester:\n",
    "        for vS in semester:\n",
    "            #print(y,vS,tS)\n",
    "            query = {'ww_x_UNITE_ACAD' : value_informatique,'ww_x_PERIODE_ACAD':value_years[str(y)],\n",
    "        'ww_x_PERIODE_PEDAGO':value_semesters[vS],\n",
    "         'ww_x_HIVERETE':value_typeSemester[tS]}\n",
    "            data_recieved = get_data3(query)\n",
    "            #data_recieved['field'] = field\n",
    "            data_recieved['year'] = y\n",
    "            data_recieved['semester'] = vS\n",
    "            data_recieved['type semester'] = tS     \n",
    "            data = pd.concat([data,data_recieved])\n",
    "data.head()"
   ]
  },
  {
   "cell_type": "code",
   "execution_count": 5,
   "metadata": {
    "collapsed": false
   },
   "outputs": [],
   "source": [
    "mineurs = data[data['Mineur']!=''] # find the students who have mineur\n",
    "unique_mineurs = pd.Series.unique(mineurs['No Sciper']) # getting their Sciper #\n",
    "unique_data = pd.Series.unique(data['No Sciper'])"
   ]
  },
  {
   "cell_type": "code",
   "execution_count": 6,
   "metadata": {
    "collapsed": true
   },
   "outputs": [],
   "source": [
    "def duration(person): # The following code calculates the passed time for each student\n",
    "    semester = data.loc[data['No Sciper']==person]['semester'] # The taken semesters\n",
    "    years_semester = data.loc[data['No Sciper']==person]['year'] # The taken semesters' years\n",
    "    # The following command is related to the Assumption 2\n",
    "    if semester.iloc[0] != 'Master semestre 1': \n",
    "        if years_semester.iloc[0] == '2007':\n",
    "            return -1\n",
    "    # The following command is related to the Assumption 3\n",
    "    if semester.iloc[-1] != 'Projet Master automne' and semester.iloc[-1] != 'Projet Master printemps':\n",
    "        if years_semester.iloc[0] == '2016':\n",
    "            return -1\n",
    "    current_sem = semester.iloc[0]\n",
    "    appended_sem = []\n",
    "    # The following code is related to assumption 4\n",
    "    for sem in semester.iloc[1:]:\n",
    "        if sem == current_sem and sem=='Master semestre 2':\n",
    "            appended_sem.append(current_sem)\n",
    "        current_sem = sem\n",
    "    # The following code is related to assumption 1    \n",
    "    if semester.iloc[-1] != 'Projet Master automne' and semester.iloc[-1] != 'Projet Master printemps': \n",
    "        semester = semester.append(pd.Series('master'))\n",
    "    length_study = len(semester) + len(appended_sem)\n",
    "    return length_study*6"
   ]
  },
  {
   "cell_type": "code",
   "execution_count": 7,
   "metadata": {
    "collapsed": false,
    "scrolled": true
   },
   "outputs": [],
   "source": [
    "Male = []\n",
    "Female = []\n",
    "Male_mineurs = []\n",
    "Female_mineurs = []\n",
    "for person in unique_data:\n",
    "    gen = data.loc[data['No Sciper']==person]['Civilite']\n",
    "    # check if the students has mineur or not (check Assumption 5)\n",
    "    if person in unique_mineurs:\n",
    "        length_study = duration(person)\n",
    "        if length_study != -1:\n",
    "            # adding the duration based on the gender\n",
    "            if gen.iloc[0] == 'Monsieur':\n",
    "                Male_mineurs.append(length_study)\n",
    "            else:\n",
    "                Female_mineurs.append(length_study)\n",
    "    else:\n",
    "        length_study = duration(person)\n",
    "        if length_study != -1:\n",
    "            if gen.iloc[0] == 'Monsieur':\n",
    "                Male.append(length_study)\n",
    "            else:\n",
    "                Female.append(length_study)\n",
    "\n",
    "        "
   ]
  },
  {
   "cell_type": "code",
   "execution_count": 8,
   "metadata": {
    "collapsed": false
   },
   "outputs": [
    {
     "name": "stdout",
     "output_type": "stream",
     "text": [
      "24.7616361072\n",
      "6.04038086467\n"
     ]
    }
   ],
   "source": [
    "Whole_data = np.concatenate([Male,Female])\n",
    "print(np.mean(Whole_data))\n",
    "print(np.std(Whole_data))"
   ]
  },
  {
   "cell_type": "markdown",
   "metadata": {},
   "source": [
    "# The average time of studies for the master student is 24.76 months with standard deviation of 6.04"
   ]
  },
  {
   "cell_type": "markdown",
   "metadata": {},
   "source": [
    "### Finding the average stay for each specialisation"
   ]
  },
  {
   "cell_type": "code",
   "execution_count": 9,
   "metadata": {
    "collapsed": true
   },
   "outputs": [],
   "source": [
    "special = data[data['Specialisation']!='']\n",
    "# Extracting the specializations from the data\n",
    "special_categories = pd.Series.unique(special['Specialisation'])\n",
    "unique_special = pd.Series.unique(special['No Sciper'])"
   ]
  },
  {
   "cell_type": "code",
   "execution_count": 10,
   "metadata": {
    "collapsed": false
   },
   "outputs": [],
   "source": [
    "duration_categori = {}\n",
    "for categori in special_categories:\n",
    "    duration_categori[categori] = []\n",
    "    counts = []\n",
    "    categori_special = special[special['Specialisation'] == categori]\n",
    "    unique_sciper = pd.Series.unique(categori_special['No Sciper'])\n",
    "    for student in unique_sciper:\n",
    "        length_study = duration(student)\n",
    "        if length_study != -1:\n",
    "            counts.append(length_study)\n",
    "    duration_categori[categori] = np.mean(counts)\n",
    "    "
   ]
  },
  {
   "cell_type": "code",
   "execution_count": 11,
   "metadata": {
    "collapsed": false,
    "scrolled": true
   },
   "outputs": [
    {
     "data": {
      "text/plain": [
       "{'Biocomputing': 30.0,\n",
       " 'Computer Engineering - SP': 27.600000000000001,\n",
       " 'Computer Science Theory': 24.0,\n",
       " 'Data Analytics': 23.0,\n",
       " 'Foundations of Software': 29.225806451612904,\n",
       " 'Information Security - SP': 25.714285714285715,\n",
       " 'Internet Information Systems': 24.0,\n",
       " 'Internet computing': 28.531914893617021,\n",
       " 'Service science': 27.600000000000001,\n",
       " 'Signals, Images and Interfaces': 30.375,\n",
       " 'Software Systems': 26.117647058823529}"
      ]
     },
     "execution_count": 11,
     "metadata": {},
     "output_type": "execute_result"
    }
   ],
   "source": [
    "duration_categori"
   ]
  },
  {
   "cell_type": "code",
   "execution_count": 12,
   "metadata": {
    "collapsed": false,
    "scrolled": true
   },
   "outputs": [
    {
     "data": {
      "image/png": "[encoded data removed]",
      "text/plain": [
       "<matplotlib.figure.Figure at 0x1189fb208>"
      ]
     },
     "metadata": {},
     "output_type": "display_data"
    }
   ],
   "source": [
    "plt.bar(range(len(duration_categori)), duration_categori.values(), align='center')\n",
    "plt.xticks(range(len(duration_categori)), duration_categori.keys(),rotation=85,fontsize=14)\n",
    "plt.tick_params(axis='both', which='major', labelsize=20)\n",
    "plt.tick_params(axis='both', which='minor', labelsize=18)"
   ]
  },
  {
   "cell_type": "markdown",
   "metadata": {},
   "source": [
    "### In order to show difference in average is statistically significan for specific specialization, we are going to use the T-student test again. However, this time we are going to use One-Sample T-Test. The reason is for general distribution we have enough data, so we  can just check if a sample mean differs from the population mean."
   ]
  },
  {
   "cell_type": "code",
   "execution_count": 13,
   "metadata": {
    "collapsed": false
   },
   "outputs": [
    {
     "name": "stderr",
     "output_type": "stream",
     "text": [
      "/Users/salehi/anaconda3/lib/python3.5/site-packages/numpy/core/_methods.py:82: RuntimeWarning: Degrees of freedom <= 0 for slice\n",
      "  warnings.warn(\"Degrees of freedom <= 0 for slice\", RuntimeWarning)\n",
      "/Users/salehi/anaconda3/lib/python3.5/site-packages/numpy/core/_methods.py:116: RuntimeWarning: invalid value encountered in double_scalars\n",
      "  ret = ret.dtype.type(ret / rcount)\n"
     ]
    }
   ],
   "source": [
    "statistics = []\n",
    "for categori in special_categories:\n",
    "    duration_categori[categori] = []\n",
    "    counts = []\n",
    "    categori_special = special[special['Specialisation'] == categori]\n",
    "    unique_sciper = pd.Series.unique(categori_special['No Sciper'])\n",
    "    for student in unique_sciper:\n",
    "        length_study = duration(student)\n",
    "        if length_study != -1:\n",
    "            counts.append(length_study)\n",
    "    statistics.append(stats.ttest_1samp(a= counts,               # Sample data\n",
    "                 popmean= 24.7616361072))  # Pop mean\n",
    "    duration_categori[categori] = np.mean(counts)\n",
    "    "
   ]
  },
  {
   "cell_type": "code",
   "execution_count": 14,
   "metadata": {
    "collapsed": false
   },
   "outputs": [
    {
     "data": {
      "text/plain": [
       "[Ttest_1sampResult(statistic=6.3587100407372237, pvalue=7.5080181516131099e-09),\n",
       " Ttest_1sampResult(statistic=6.2870156367834502, pvalue=3.829242358218992e-08),\n",
       " Ttest_1sampResult(statistic=1.5121854018106478, pvalue=0.2276792301514903),\n",
       " Ttest_1sampResult(statistic=4.0911813188090056, pvalue=0.00028333830093252906),\n",
       " Ttest_1sampResult(statistic=2.8060586473301679, pvalue=0.011273847627930701),\n",
       " Ttest_1sampResult(statistic=1.1826516220000003, pvalue=0.30244149997552422),\n",
       " Ttest_1sampResult(statistic=1.8916853112892975, pvalue=0.076775784690045659),\n",
       " Ttest_1sampResult(statistic=0.86090574803660247, pvalue=0.4223540235948065),\n",
       " Ttest_1sampResult(statistic=-1.7616361072000011, pvalue=0.13843121387942231),\n",
       " Ttest_1sampResult(statistic=nan, pvalue=nan),\n",
       " Ttest_1sampResult(statistic=nan, pvalue=nan)]"
      ]
     },
     "execution_count": 14,
     "metadata": {},
     "output_type": "execute_result"
    }
   ],
   "source": [
    "statistics"
   ]
  },
  {
   "cell_type": "code",
   "execution_count": 15,
   "metadata": {
    "collapsed": false
   },
   "outputs": [
    {
     "data": {
      "text/plain": [
       "{'Biocomputing': 30.0,\n",
       " 'Computer Engineering - SP': 27.600000000000001,\n",
       " 'Computer Science Theory': 24.0,\n",
       " 'Data Analytics': 23.0,\n",
       " 'Foundations of Software': 29.225806451612904,\n",
       " 'Information Security - SP': 25.714285714285715,\n",
       " 'Internet Information Systems': 24.0,\n",
       " 'Internet computing': 28.531914893617021,\n",
       " 'Service science': 27.600000000000001,\n",
       " 'Signals, Images and Interfaces': 30.375,\n",
       " 'Software Systems': 26.117647058823529}"
      ]
     },
     "execution_count": 15,
     "metadata": {},
     "output_type": "execute_result"
    }
   ],
   "source": [
    "duration_categori"
   ]
  },
  {
   "cell_type": "markdown",
   "metadata": {},
   "source": [
    "### We choose the confidence level to be 95%. As it can be seen Biocomputing and Computer Engineering are significantly different than population. Furthermore, according to the chosen confidence level Data Analytics and Foundations of Software."
   ]
  },
  {
   "cell_type": "markdown",
   "metadata": {},
   "source": [
    "# Bonus:  The duration that takes for male and female to finish the master is not significantly different\n",
    "\n",
    "### Similar to the excercise 1 we use Two-Sample T-Test, as it is seen the null hypothesis is accepted, which means with high probability the two genders are from same distribution.\n"
   ]
  },
  {
   "cell_type": "code",
   "execution_count": 16,
   "metadata": {
    "collapsed": false
   },
   "outputs": [
    {
     "data": {
      "text/plain": [
       "Ttest_indResult(statistic=0.43043287417696613, pvalue=0.66763496567037306)"
      ]
     },
     "execution_count": 16,
     "metadata": {},
     "output_type": "execute_result"
    }
   ],
   "source": [
    "stats.ttest_ind(a= Male,\n",
    "                b= Female,\n",
    "                equal_var=False)    # Assume samples have equal variance?"
   ]
  },
  {
   "cell_type": "markdown",
   "metadata": {},
   "source": [
    "### For this part we only consider students who have not mineure. We find the average time it takes to finish the master as a function of the starting year. More precisely, we gather the duration of studies for student who have started their study in 2007-2008, 2008-2009,..., 2015-21016 and we plot that as a function of starting year."
   ]
  },
  {
   "cell_type": "code",
   "execution_count": 17,
   "metadata": {
    "collapsed": false
   },
   "outputs": [],
   "source": [
    "Male = {}\n",
    "Female = {}\n",
    "for i in range(2007,2016):\n",
    "    Male[str(i)] = []\n",
    "    Female[str(i)] = []\n",
    "    \n",
    "for person in unique_data:\n",
    "    gen = data.loc[data['No Sciper']==person]['Civilite']\n",
    "    year_person = data.loc[data['No Sciper']==person]['year']\n",
    "    # check if the students has mineur or not (check Assumption 5)\n",
    "    if person not in unique_mineurs:\n",
    "        length_study = duration(person)\n",
    "        if length_study != -1:\n",
    "            # adding the duration based on the gender\n",
    "            if gen.iloc[0] == 'Monsieur':\n",
    "                Male[year_person.iloc[0]].append(length_study)\n",
    "            else:\n",
    "                Female[year_person.iloc[0]].append(length_study)\n"
   ]
  },
  {
   "cell_type": "code",
   "execution_count": 18,
   "metadata": {
    "collapsed": false
   },
   "outputs": [],
   "source": [
    "Male_duration = []\n",
    "Female_duration = []\n",
    "year = []\n",
    "for i in range(2007,2016):\n",
    "    year.append(i)\n",
    "    Male_duration.append(np.mean(Male[str(i)]))\n",
    "    Female_duration.append(np.mean(Female[str(i)]))\n",
    "    "
   ]
  },
  {
   "cell_type": "code",
   "execution_count": 19,
   "metadata": {
    "collapsed": false
   },
   "outputs": [
    {
     "data": {
      "text/plain": [
       "<matplotlib.legend.Legend at 0x1195e6ac8>"
      ]
     },
     "execution_count": 19,
     "metadata": {},
     "output_type": "execute_result"
    },
    {
     "data": {
      "image/png": "[encoded data removed]",
      "text/plain": [
       "<matplotlib.figure.Figure at 0x119203160>"
      ]
     },
     "metadata": {},
     "output_type": "display_data"
    }
   ],
   "source": [
    "ma=plt.scatter(year,Male_duration,marker = 'x',color='b',s=60)\n",
    "fe=plt.scatter(year,Female_duration,marker = 'o',color='r',s=60)\n",
    "plt.legend((ma,fe),('Male average','Female average'),loc=2)"
   ]
  },
  {
   "cell_type": "markdown",
   "metadata": {},
   "source": [
    "### The scatterplot follows our expectation, i.e., the two genders have same mean. As it can be seen sometimes men are males are more than female, and sometimes reverse."
   ]
  },
  {
   "cell_type": "code",
   "execution_count": null,
   "metadata": {
    "collapsed": true
   },
   "outputs": [],
   "source": []
  }
 ],
 "metadata": {
  "anaconda-cloud": {},
  "kernelspec": {
   "display_name": "Python [Root]",
   "language": "python",
   "name": "Python [Root]"
  },
  "language_info": {
   "codemirror_mode": {
    "name": "ipython",
    "version": 3
   },
   "file_extension": ".py",
   "mimetype": "text/x-python",
   "name": "python",
   "nbconvert_exporter": "python",
   "pygments_lexer": "ipython3",
   "version": "3.5.2"
  }
 },
 "nbformat": 4,
 "nbformat_minor": 0
}
