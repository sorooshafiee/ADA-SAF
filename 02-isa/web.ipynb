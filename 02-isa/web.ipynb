{
 "cells": [
  {
   "cell_type": "code",
   "execution_count": 1,
   "metadata": {
    "collapsed": false
   },
   "outputs": [],
   "source": [
    "%matplotlib inline\n",
    "import matplotlib.pyplot as plt\n",
    "import numpy as np\n",
    "import sys\n",
    "from bs4 import BeautifulSoup as BSoup\n",
    "import requests\n",
    "import pandas as pd"
   ]
  },
  {
   "cell_type": "code",
   "execution_count": 2,
   "metadata": {
    "collapsed": false,
    "scrolled": true
   },
   "outputs": [
    {
     "name": "stdout",
     "output_type": "stream",
     "text": [
      "<option value=\"249847\">Informatique</option> 249847 Informatique\n",
      "<option value=\"355925344\">2016-2017</option> 355925344 2016-2017\n",
      "<option value=\"213638028\">2015-2016</option> 213638028 2015-2016\n",
      "<option value=\"213637922\">2014-2015</option> 213637922 2014-2015\n",
      "<option value=\"213637754\">2013-2014</option> 213637754 2013-2014\n",
      "<option value=\"123456101\">2012-2013</option> 123456101 2012-2013\n",
      "<option value=\"123455150\">2011-2012</option> 123455150 2011-2012\n",
      "<option value=\"39486325\">2010-2011</option> 39486325 2010-2011\n",
      "<option value=\"978195\">2009-2010</option> 978195 2009-2010\n",
      "<option value=\"978187\">2008-2009</option> 978187 2008-2009\n",
      "<option value=\"978181\">2007-2008</option> 978181 2007-2008\n",
      "<option value=\"249108\">Bachelor semestre 1</option> 249108 Bachelor semestre 1\n",
      "<option value=\"249114\">Bachelor semestre 2</option> 249114 Bachelor semestre 2\n",
      "<option value=\"942155\">Bachelor semestre 3</option> 942155 Bachelor semestre 3\n",
      "<option value=\"942163\">Bachelor semestre 4</option> 942163 Bachelor semestre 4\n",
      "<option value=\"942120\">Bachelor semestre 5</option> 942120 Bachelor semestre 5\n",
      "<option value=\"2226768\">Bachelor semestre 5b</option> 2226768 Bachelor semestre 5b\n",
      "<option value=\"942175\">Bachelor semestre 6</option> 942175 Bachelor semestre 6\n",
      "<option value=\"2226785\">Bachelor semestre 6b</option> 2226785 Bachelor semestre 6b\n",
      "<option value=\"2936286\">Semestre d'automne</option> 2936286 Semestre d'automne\n",
      "<option value=\"2936295\">Semestre de printemps</option> 2936295 Semestre de printemps\n"
     ]
    }
   ],
   "source": [
    "r = requests.get('http://isa.epfl.ch/imoniteur_ISAP/!GEDPUBLICREPORTS.filter?ww_b_list=1&ww_i_reportmodel=133685247&ww_c_langue=&ww_i_reportModelXsl=133685270')\n",
    "soup = BSoup(r.text.encode('utf-8'),'lxml')\n",
    "links = soup.find_all(\"select\")\n",
    "\n",
    "# The following code stores the values which are going to \n",
    "#be used in request.get for data\n",
    "\n",
    "value_years = {} # Initilizing the datas\n",
    "years = []\n",
    "value_semesters = {}\n",
    "semester = []\n",
    "value_typeSemester = {}\n",
    "value_typeSemester[\"Semestre d'automne\"] = []\n",
    "value_typeSemester['Semestre de printemps'] = []\n",
    "b = []\n",
    "typeSemester = []\n",
    "typeSemester.append(\"Semestre d'automne\")\n",
    "typeSemester.append('Semestre de printemps')\n",
    "\n",
    "for i in range(2007,2017):\n",
    "    value_years[str(i)] = []\n",
    "    years.append(str(i))\n",
    "for i in range(1,7):\n",
    "    value_semesters['Bachelor semestre '+str(i)] = []\n",
    "    semester.append('Bachelor semestre '+str(i))\n",
    "value_semesters['Bachelor semestre '+str(5)+'b'] = []\n",
    "value_semesters['Bachelor semestre '+str(6)+'b'] = []\n",
    "semester.append('Bachelor semestre '+str(5)+'b')\n",
    "semester.append('Bachelor semestre '+str(6)+'b')\n",
    "\n",
    "for link in links:                     \n",
    "    namesAll = link.find_all(\"option\")\n",
    "    for names in namesAll:\n",
    "        #print(names.contents)\n",
    "        if names.contents:\n",
    "            if names.contents[0][:4] in years: # stores the values for years\n",
    "                value_years[str(names.contents[0][:4])] = int(names['value'])\n",
    "                print(names,names['value'],names.contents[0])\n",
    "            elif names.contents[0] == 'Informatique': # stores the value for field Informatique\n",
    "                value_informatiq = int(names['value'])\n",
    "                print(names,names['value'],names.contents[0]) \n",
    "            elif names.contents[0] in semester: # stores the values for semesters\n",
    "                value_semesters[names.contents[0]] = int(names['value'])\n",
    "                print(names,names['value'],names.contents[0]) \n",
    "            elif names.contents[0] in typeSemester: # stores the values for type of semesters\n",
    "                value_typeSemester[names.contents[0]] = int(names['value'])\n",
    "                print(names,names['value'],names.contents[0]) "
   ]
  },
  {
   "cell_type": "code",
   "execution_count": 3,
   "metadata": {
    "collapsed": false
   },
   "outputs": [],
   "source": [
    "query = {'ww_x_UNITE_ACAD' : str(value_informatiq),'ww_x_PERIODE_ACAD':str(value_years['2015']),\n",
    "        'ww_x_PERIODE_PEDAGO':str(value_semesters['Bachelor semestre 4']),\n",
    "         'ww_x_HIVERETE':str(value_typeSemester[typeSemester[1]])}\n",
    "#print(r.url)"
   ]
  },
  {
   "cell_type": "code",
   "execution_count": 79,
   "metadata": {
    "collapsed": false
   },
   "outputs": [],
   "source": [
    "#print(soup.prettify)\n",
    "def get_data(query):\n",
    "    r = requests.get('http://isa.epfl.ch/imoniteur_ISAP/!GEDPUBLICREPORTS.bhtml?ww_x_GPS=-1&ww_i_reportmodel=133685247&ww_i_reportModelXsl=133685270',params=query)\n",
    "    soup = BSoup(r.text.encode('utf-8'),'lxml')\n",
    "    dataSheet = {}\n",
    "    dataSheet['name'] = []\n",
    "    dataSheet['gender'] = []\n",
    "    dataSheet['sciper'] = []\n",
    "    dataSheet['status'] = []\n",
    "    content = soup.find_all(\"tr\")\n",
    "    flag_init = 0\n",
    "    j = 1\n",
    "    for n in content:\n",
    "        n1 = n.find_all(\"th\")\n",
    "        for n2 in n:\n",
    "            #print(n2.text,'--')\n",
    "            if n2.text == \"No Sciper\":\n",
    "                flag_init = 1\n",
    "                continue\n",
    "            if flag_init == 1:\n",
    "                if j % 12 == 1:\n",
    "                    dataSheet['gender'].append(n2.text)\n",
    "                    #print(n2.text)\n",
    "                elif j % 12 == 2:\n",
    "                    dataSheet['name'].append(n2.text)\n",
    "                    #print(n2.text)\n",
    "                elif j % 12 == 8:\n",
    "                    dataSheet['status'].append(n2.text)\n",
    "                    #print(n2.text)\n",
    "                elif j % 12 == 11:\n",
    "                    #print(n2.text)\n",
    "                    dataSheet['sciper'].append(n2.text)\n",
    "                j += 1\n",
    "    length = np.zeros(4)\n",
    "    length[0] = len(dataSheet['name'])\n",
    "    length[1] = len(dataSheet['gender'])\n",
    "    length[2] = len(dataSheet['sciper'])\n",
    "    length[3] = len(dataSheet['status'])\n",
    "    min_length = int(min(length))\n",
    "    dataSheet['name'] = dataSheet['name'][:min_length]\n",
    "    dataSheet['gender'] = dataSheet['gender'][:min_length]\n",
    "    dataSheet['status'] = dataSheet['status'][:min_length]\n",
    "    dataSheet['sciper'] = dataSheet['sciper'][:min_length]\n",
    "    data_recieved = pd.DataFrame(dataSheet)\n",
    "    return data_recieved"
   ]
  },
  {
   "cell_type": "code",
   "execution_count": 80,
   "metadata": {
    "collapsed": false
   },
   "outputs": [],
   "source": [
    "query = {'ww_x_UNITE_ACAD' : str(value_field[field_name[1]]),'ww_x_PERIODE_ACAD':str(value_years[str(2010)]),\n",
    "           'ww_x_PERIODE_PEDAGO':str(value_semesters[semester[6]]),\n",
    "         'ww_x_HIVERETE':str(value_typeSemester[typeSemester[0]])}\n",
    "r = requests.get('http://isa.epfl.ch/imoniteur_ISAP/!GEDPUBLICREPORTS.bhtml?ww_x_GPS=-1&ww_i_reportmodel=133685247&ww_i_reportModelXsl=133685270',params=query)\n",
    "soup = BSoup(r.text.encode('utf-8'),'lxml')\n",
    "dataSheet = {}\n",
    "dataSheet['name'] = []\n",
    "dataSheet['gender'] = []\n",
    "dataSheet['sciper'] = []\n",
    "dataSheet['status'] = []\n",
    "content = soup.find_all(\"tr\")\n",
    "flag_init = 0\n",
    "j = 1\n",
    "for n in content:\n",
    "        n1 = n.find_all(\"th\")\n",
    "        for n2 in n:\n",
    "            #print(n2.text,'--')\n",
    "            if n2.text == \"No Sciper\":\n",
    "                flag_init = 1\n",
    "                continue\n",
    "            if flag_init == 1:\n",
    "                if j % 12 == 1:\n",
    "                    dataSheet['gender'].append(n2.text)\n",
    "                    #print(n2.text)\n",
    "                elif j % 12 == 2:\n",
    "                    dataSheet['name'].append(n2.text)\n",
    "                    #print(n2.text)\n",
    "                elif j % 12 == 8:\n",
    "                    dataSheet['status'].append(n2.text)\n",
    "                    #print(n2.text)\n",
    "                elif j % 12 == 11:\n",
    "                    #print(n2.text)\n",
    "                    dataSheet['sciper'].append(n2.text)\n",
    "                j+=1\n",
    "dataSheet\n",
    "len(dataSheet)\n",
    "#data_recieved = pd.DataFrame(dataSheet)\n",
    "data_recieved = get_data(query)"
   ]
  },
  {
   "cell_type": "code",
   "execution_count": 5,
   "metadata": {
    "collapsed": false
   },
   "outputs": [],
   "source": [
    "query = {'ww_x_UNITE_ACAD' : str(value_informatiq),'ww_x_PERIODE_ACAD':str(value_years['2015']),\n",
    "        'ww_x_PERIODE_PEDAGO':str(value_semesters['Bachelor semestre 4']),\n",
    "         'ww_x_HIVERETE':str(value_typeSemester[typeSemester[1]])}\n",
    "da1 = get_data(query)\n",
    "#da1 = pd.DataFrame(data)\n",
    "da1['year'] = 2015\n",
    "query = {'ww_x_UNITE_ACAD' : str(value_informatiq),'ww_x_PERIODE_ACAD':str(value_years['2015']),\n",
    "        'ww_x_PERIODE_PEDAGO':str(value_semesters['Bachelor semestre 6']),\n",
    "         'ww_x_HIVERETE':str(value_typeSemester[typeSemester[1]])}\n",
    "da2 = get_data(query)\n",
    "#da2 = pd.DataFrame(data)\n",
    "da2['year'] = 2016\n",
    "da3 = pd.concat([da2,da1])"
   ]
  },
  {
   "cell_type": "code",
   "execution_count": 6,
   "metadata": {
    "collapsed": false
   },
   "outputs": [
    {
     "data": {
      "text/html": [
       "<div>\n",
       "<table border=\"1\" class=\"dataframe\">\n",
       "  <thead>\n",
       "    <tr style=\"text-align: right;\">\n",
       "      <th></th>\n",
       "      <th>gender</th>\n",
       "      <th>name</th>\n",
       "      <th>sciper</th>\n",
       "      <th>semester</th>\n",
       "      <th>status</th>\n",
       "      <th>type semester</th>\n",
       "      <th>year</th>\n",
       "    </tr>\n",
       "  </thead>\n",
       "  <tbody>\n",
       "    <tr>\n",
       "      <th>0</th>\n",
       "      <td>Monsieur</td>\n",
       "      <td>ArÃ©valo Christian</td>\n",
       "      <td>169569</td>\n",
       "      <td>Bachelor semestre 1</td>\n",
       "      <td>PrÃ©sent</td>\n",
       "      <td>Semestre d'automne</td>\n",
       "      <td>2007.0</td>\n",
       "    </tr>\n",
       "    <tr>\n",
       "      <th>1</th>\n",
       "      <td>Monsieur</td>\n",
       "      <td>Aubelle Flavien</td>\n",
       "      <td>174905</td>\n",
       "      <td>Bachelor semestre 1</td>\n",
       "      <td>PrÃ©sent</td>\n",
       "      <td>Semestre d'automne</td>\n",
       "      <td>2007.0</td>\n",
       "    </tr>\n",
       "    <tr>\n",
       "      <th>2</th>\n",
       "      <td>Monsieur</td>\n",
       "      <td>Badoud Morgan</td>\n",
       "      <td>173922</td>\n",
       "      <td>Bachelor semestre 1</td>\n",
       "      <td>PrÃ©sent</td>\n",
       "      <td>Semestre d'automne</td>\n",
       "      <td>2007.0</td>\n",
       "    </tr>\n",
       "    <tr>\n",
       "      <th>3</th>\n",
       "      <td>Monsieur</td>\n",
       "      <td>Baeriswyl Jonathan</td>\n",
       "      <td>179406</td>\n",
       "      <td>Bachelor semestre 1</td>\n",
       "      <td>PrÃ©sent</td>\n",
       "      <td>Semestre d'automne</td>\n",
       "      <td>2007.0</td>\n",
       "    </tr>\n",
       "    <tr>\n",
       "      <th>4</th>\n",
       "      <td>Monsieur</td>\n",
       "      <td>Barroco Michael</td>\n",
       "      <td>179428</td>\n",
       "      <td>Bachelor semestre 1</td>\n",
       "      <td>PrÃ©sent</td>\n",
       "      <td>Semestre d'automne</td>\n",
       "      <td>2007.0</td>\n",
       "    </tr>\n",
       "  </tbody>\n",
       "</table>\n",
       "</div>"
      ],
      "text/plain": [
       "     gender                name  sciper             semester    status  \\\n",
       "0  Monsieur  ArÃ©valo Christian  169569  Bachelor semestre 1  PrÃ©sent   \n",
       "1  Monsieur     Aubelle Flavien  174905  Bachelor semestre 1  PrÃ©sent   \n",
       "2  Monsieur       Badoud Morgan  173922  Bachelor semestre 1  PrÃ©sent   \n",
       "3  Monsieur  Baeriswyl Jonathan  179406  Bachelor semestre 1  PrÃ©sent   \n",
       "4  Monsieur     Barroco Michael  179428  Bachelor semestre 1  PrÃ©sent   \n",
       "\n",
       "        type semester    year  \n",
       "0  Semestre d'automne  2007.0  \n",
       "1  Semestre d'automne  2007.0  \n",
       "2  Semestre d'automne  2007.0  \n",
       "3  Semestre d'automne  2007.0  \n",
       "4  Semestre d'automne  2007.0  "
      ]
     },
     "execution_count": 6,
     "metadata": {},
     "output_type": "execute_result"
    }
   ],
   "source": [
    "data = pd.DataFrame({'gender':[],'name':[],'status':[],'sciper':[],'gender':[],'year':[]\n",
    "                     ,'semester':[],'type semester':[]})\n",
    "for y in range(2007,2017): # concatenating whole data into a pandas dataframe\n",
    "    for vS in semester:\n",
    "        for tS in typeSemester:\n",
    "            query = {'ww_x_UNITE_ACAD' : str(value_informatiq),'ww_x_PERIODE_ACAD':str(value_years[str(y)]),\n",
    "        'ww_x_PERIODE_PEDAGO':str(value_semesters[vS]),\n",
    "         'ww_x_HIVERETE':str(value_typeSemester[tS])}\n",
    "            data_recieved = get_data(query)\n",
    "            data_recieved['year'] = y\n",
    "            data_recieved['semester'] = vS\n",
    "            data_recieved['type semester'] = tS\n",
    "            data = pd.concat([data,data_recieved])\n",
    "data.head()"
   ]
  },
  {
   "cell_type": "code",
   "execution_count": 7,
   "metadata": {
    "collapsed": false
   },
   "outputs": [],
   "source": [
    "# remove exchange students as they might not study their whole Bachelore at EPFL\n",
    "data2= data.drop(data['sciper']=='Ecole Echange') # about 119 entreis removed"
   ]
  },
  {
   "cell_type": "code",
   "execution_count": 8,
   "metadata": {
    "collapsed": false
   },
   "outputs": [],
   "source": [
    "# get the unique sciper of students\n",
    "unique_scipers = pd.Series.unique(data2['sciper'])"
   ]
  },
  {
   "cell_type": "code",
   "execution_count": 9,
   "metadata": {
    "collapsed": false
   },
   "outputs": [
    {
     "data": {
      "text/plain": [
       "119"
      ]
     },
     "execution_count": 9,
     "metadata": {},
     "output_type": "execute_result"
    }
   ],
   "source": [
    "len(data)-len(data2)"
   ]
  },
  {
   "cell_type": "code",
   "execution_count": 10,
   "metadata": {
    "collapsed": false
   },
   "outputs": [],
   "source": [
    "# students who reach term 6\n",
    "term6_reached_sciper = pd.Series.unique(data2.loc[data2['semester'] == 'Bachelor semestre 6']['sciper'])\n",
    "# students who begin term 1\n",
    "term1_reached_sciper = pd.Series.unique(data2.loc[data2['semester'] == 'Bachelor semestre 1']['sciper'])"
   ]
  },
  {
   "cell_type": "code",
   "execution_count": 11,
   "metadata": {
    "collapsed": false
   },
   "outputs": [],
   "source": [
    "# students who exist both in se,ester 1 and 6\n",
    "# The number of these students is 387\n",
    "finished = np.intersect1d(term6_reached_sciper,term1_reached_sciper)"
   ]
  },
  {
   "cell_type": "code",
   "execution_count": 12,
   "metadata": {
    "collapsed": false
   },
   "outputs": [],
   "source": [
    "Male = []\n",
    "Female = []\n",
    "for i in range(len(finished)): # counting the number of semesters for students\n",
    "    count = data2.loc[data2['sciper']==finished[i]].count()[0]\n",
    "    gen = data2.loc[data2['sciper']==finished[i]]['gender']\n",
    "    if gen.iloc[0] == 'Monsieur':\n",
    "        Male.append(count)\n",
    "    else:\n",
    "        Female.append(count)\n",
    "#    print(gen.iloc[0])\n"
   ]
  },
  {
   "cell_type": "markdown",
   "metadata": {},
   "source": [
    "As it is seen in the following cell, the average time it takes for **boys** to finish Bachelor is \n",
    "**7.084** and for **girls** it is **6.79**.\n",
    "There is also one boy who has finished bacheore in less than 6 semesters we keep that as he might take more courses than usual and finish bachelore quickly."
   ]
  },
  {
   "cell_type": "code",
   "execution_count": 13,
   "metadata": {
    "collapsed": false
   },
   "outputs": [
    {
     "data": {
      "text/plain": [
       "7.0837988826815641"
      ]
     },
     "execution_count": 13,
     "metadata": {},
     "output_type": "execute_result"
    }
   ],
   "source": [
    "np.mean(Male) # average number of semesters for boys"
   ]
  },
  {
   "cell_type": "code",
   "execution_count": 14,
   "metadata": {
    "collapsed": false
   },
   "outputs": [
    {
     "data": {
      "text/plain": [
       "6.7931034482758621"
      ]
     },
     "execution_count": 14,
     "metadata": {},
     "output_type": "execute_result"
    }
   ],
   "source": [
    "np.mean(Female) # average number of semesters for girls"
   ]
  },
  {
   "cell_type": "code",
   "execution_count": 15,
   "metadata": {
    "collapsed": false
   },
   "outputs": [
    {
     "data": {
      "text/plain": [
       "<matplotlib.text.Text at 0x117c617f0>"
      ]
     },
     "execution_count": 15,
     "metadata": {},
     "output_type": "execute_result"
    },
    {
     "data": {
      "image/png": "[encoded data removed]",
      "text/plain": [
       "<matplotlib.figure.Figure at 0x112f44470>"
      ]
     },
     "metadata": {},
     "output_type": "display_data"
    }
   ],
   "source": [
    "plt.boxplot([Male,Female])\n",
    "plt.xticks([1, 2], ['Male', 'Female'],fontsize=14)\n",
    "plt.ylabel('# semesters',fontsize=14)"
   ]
  },
  {
   "cell_type": "markdown",
   "metadata": {},
   "source": [
    "As it is seen there is no significant difference between the two genders and they are almost same"
   ]
  },
  {
   "cell_type": "markdown",
   "metadata": {},
   "source": [
    "# Task 2"
   ]
  },
  {
   "cell_type": "code",
   "execution_count": 16,
   "metadata": {
    "collapsed": false
   },
   "outputs": [],
   "source": [
    "# Here we want to find all the fields of study and theire value which is going \n",
    "#to be used in request.get\n",
    "r = requests.get('http://isa.epfl.ch/imoniteur_ISAP/!GEDPUBLICREPORTS.filter?ww_b_list=1&ww_i_reportmodel=133685247&ww_c_langue=&ww_i_reportModelXsl=133685270')\n",
    "soup = BSoup(r.text.encode('utf-8'),'lxml') # passing the html to Bsoup\n",
    "names = soup.find('select', attrs={'name': 'ww_x_UNITE_ACAD'}) # finding the place relates to the name of fields\n",
    "field_name = []\n",
    "value_field = {}\n",
    "for n in names:\n",
    "    if len(n)!=0:\n",
    "        field_name.append(n.contents[0])\n",
    "        value_field[n.contents[0]] = int(n['value'])"
   ]
  },
  {
   "cell_type": "code",
   "execution_count": 22,
   "metadata": {
    "collapsed": false
   },
   "outputs": [
    {
     "name": "stdout",
     "output_type": "stream",
     "text": [
      "<option value=\"355925344\">2016-2017</option> 355925344 2016-2017\n",
      "<option value=\"213638028\">2015-2016</option> 213638028 2015-2016\n",
      "<option value=\"213637922\">2014-2015</option> 213637922 2014-2015\n",
      "<option value=\"213637754\">2013-2014</option> 213637754 2013-2014\n",
      "<option value=\"123456101\">2012-2013</option> 123456101 2012-2013\n",
      "<option value=\"123455150\">2011-2012</option> 123455150 2011-2012\n",
      "<option value=\"39486325\">2010-2011</option> 39486325 2010-2011\n",
      "<option value=\"978195\">2009-2010</option> 978195 2009-2010\n",
      "<option value=\"978187\">2008-2009</option> 978187 2008-2009\n",
      "<option value=\"978181\">2007-2008</option> 978181 2007-2008\n",
      "<option value=\"2230106\">Master semestre 1</option> 2230106 Master semestre 1\n",
      "<option value=\"942192\">Master semestre 2</option> 942192 Master semestre 2\n",
      "<option value=\"2230128\">Master semestre 3</option> 2230128 Master semestre 3\n",
      "<option value=\"2230140\">Master semestre 4</option> 2230140 Master semestre 4\n",
      "<option value=\"2335667\">Mineur semestre 1</option> 2335667 Mineur semestre 1\n",
      "<option value=\"2335676\">Mineur semestre 2</option> 2335676 Mineur semestre 2\n",
      "<option value=\"249127\">Projet Master automne</option> 249127 Projet Master automne\n",
      "<option value=\"3781783\">Projet Master printemps</option> 3781783 Projet Master printemps\n",
      "<option value=\"2227132\">Stage printemps master</option> 2227132 Stage printemps master\n",
      "<option value=\"2936286\">Semestre d'automne</option> 2936286 Semestre d'automne\n",
      "<option value=\"2936295\">Semestre de printemps</option> 2936295 Semestre de printemps\n"
     ]
    }
   ],
   "source": [
    "r = requests.get('http://isa.epfl.ch/imoniteur_ISAP/!GEDPUBLICREPORTS.filter?ww_b_list=1&ww_i_reportmodel=133685247&ww_c_langue=&ww_i_reportModelXsl=133685270')\n",
    "soup = BSoup(r.text.encode('utf-8'),'lxml')\n",
    "links = soup.find_all(\"select\")\n",
    "\n",
    "# The following code stores the values which are going to \n",
    "#be used in request.get for data\n",
    "\n",
    "value_years = {} # Initilizing the datas\n",
    "years = []\n",
    "value_semesters = {}\n",
    "semester = []\n",
    "value_typeSemester = {}\n",
    "value_typeSemester[\"Semestre d'automne\"] = []\n",
    "value_typeSemester['Semestre de printemps'] = []\n",
    "typeSemester = []\n",
    "typeSemester.append(\"Semestre d'automne\")\n",
    "typeSemester.append('Semestre de printemps')\n",
    "\n",
    "for i in range(2007,2017):\n",
    "    value_years[str(i)] = []\n",
    "    years.append(str(i))\n",
    "for i in range(1,5):\n",
    "    value_semesters['Master semestre '+str(i)] = []\n",
    "    semester.append('Master semestre '+str(i))\n",
    "value_semesters['Mineur semestre 1'] = []\n",
    "value_semesters['Mineur semestre 2'] = []\n",
    "value_semesters['Projet Master automne'] = []\n",
    "value_semesters['Projet Master printemps'] = []\n",
    "value_semesters['Stage printemps master'] = []\n",
    "semester.append('Mineur semestre 1')\n",
    "semester.append('Mineur semestre 2')\n",
    "semester.append('Projet Master automne')\n",
    "semester.append('Projet Master printemps')\n",
    "semester.append('Stage printemps master')\n",
    "\n",
    "for link in links:                     \n",
    "    namesAll = link.find_all(\"option\")\n",
    "    for names in namesAll:\n",
    "        #print(names.contents)\n",
    "        if names.contents:\n",
    "            if names.contents[0][:4] in years: # stores the values for years\n",
    "                value_years[str(names.contents[0][:4])] = int(names['value'])\n",
    "                print(names,names['value'],names.contents[0]) \n",
    "            elif names.contents[0] in semester: # stores the values for semesters\n",
    "                value_semesters[names.contents[0]] = int(names['value'])\n",
    "                print(names,names['value'],names.contents[0]) \n",
    "            elif names.contents[0] in typeSemester: # stores the values for type of semesters\n",
    "                value_typeSemester[names.contents[0]] = int(names['value'])\n",
    "                print(names,names['value'],names.contents[0]) "
   ]
  },
  {
   "cell_type": "code",
   "execution_count": 82,
   "metadata": {
    "collapsed": false
   },
   "outputs": [
    {
     "data": {
      "text/html": [
       "<div>\n",
       "<table border=\"1\" class=\"dataframe\">\n",
       "  <thead>\n",
       "    <tr style=\"text-align: right;\">\n",
       "      <th></th>\n",
       "      <th>field</th>\n",
       "      <th>gender</th>\n",
       "      <th>name</th>\n",
       "      <th>sciper</th>\n",
       "      <th>semester</th>\n",
       "      <th>status</th>\n",
       "      <th>type semester</th>\n",
       "      <th>year</th>\n",
       "    </tr>\n",
       "  </thead>\n",
       "  <tbody>\n",
       "    <tr>\n",
       "      <th>0</th>\n",
       "      <td>Chimie et gÃ©nie chimique</td>\n",
       "      <td>Madame</td>\n",
       "      <td>Borcard FranÃ§oise</td>\n",
       "      <td>180368</td>\n",
       "      <td>Master semestre 1</td>\n",
       "      <td>PrÃ©sent</td>\n",
       "      <td>Semestre d'automne</td>\n",
       "      <td>2007</td>\n",
       "    </tr>\n",
       "    <tr>\n",
       "      <th>1</th>\n",
       "      <td>Chimie et gÃ©nie chimique</td>\n",
       "      <td>Monsieur</td>\n",
       "      <td>Cornuz Maurin</td>\n",
       "      <td>166600</td>\n",
       "      <td>Master semestre 1</td>\n",
       "      <td>PrÃ©sent</td>\n",
       "      <td>Semestre d'automne</td>\n",
       "      <td>2007</td>\n",
       "    </tr>\n",
       "    <tr>\n",
       "      <th>2</th>\n",
       "      <td>Chimie et gÃ©nie chimique</td>\n",
       "      <td>Monsieur</td>\n",
       "      <td>Curchod Basile</td>\n",
       "      <td>167367</td>\n",
       "      <td>Master semestre 1</td>\n",
       "      <td>PrÃ©sent</td>\n",
       "      <td>Semestre d'automne</td>\n",
       "      <td>2007</td>\n",
       "    </tr>\n",
       "    <tr>\n",
       "      <th>3</th>\n",
       "      <td>Chimie et gÃ©nie chimique</td>\n",
       "      <td>Madame</td>\n",
       "      <td>Ding Laura</td>\n",
       "      <td>161128</td>\n",
       "      <td>Master semestre 1</td>\n",
       "      <td>PrÃ©sent</td>\n",
       "      <td>Semestre d'automne</td>\n",
       "      <td>2007</td>\n",
       "    </tr>\n",
       "    <tr>\n",
       "      <th>4</th>\n",
       "      <td>Chimie et gÃ©nie chimique</td>\n",
       "      <td>Monsieur</td>\n",
       "      <td>Dubois Maxime</td>\n",
       "      <td>166755</td>\n",
       "      <td>Master semestre 1</td>\n",
       "      <td>PrÃ©sent</td>\n",
       "      <td>Semestre d'automne</td>\n",
       "      <td>2007</td>\n",
       "    </tr>\n",
       "  </tbody>\n",
       "</table>\n",
       "</div>"
      ],
      "text/plain": [
       "                       field    gender                name  sciper  \\\n",
       "0  Chimie et gÃ©nie chimique    Madame  Borcard FranÃ§oise  180368   \n",
       "1  Chimie et gÃ©nie chimique  Monsieur       Cornuz Maurin  166600   \n",
       "2  Chimie et gÃ©nie chimique  Monsieur      Curchod Basile  167367   \n",
       "3  Chimie et gÃ©nie chimique    Madame          Ding Laura  161128   \n",
       "4  Chimie et gÃ©nie chimique  Monsieur       Dubois Maxime  166755   \n",
       "\n",
       "            semester    status       type semester  year  \n",
       "0  Master semestre 1  PrÃ©sent  Semestre d'automne  2007  \n",
       "1  Master semestre 1  PrÃ©sent  Semestre d'automne  2007  \n",
       "2  Master semestre 1  PrÃ©sent  Semestre d'automne  2007  \n",
       "3  Master semestre 1  PrÃ©sent  Semestre d'automne  2007  \n",
       "4  Master semestre 1  PrÃ©sent  Semestre d'automne  2007  "
      ]
     },
     "execution_count": 82,
     "metadata": {},
     "output_type": "execute_result"
    }
   ],
   "source": [
    "# In this cell we want to import whole data into a pandas dataframe\n",
    "# where we pass the paramters found in the previouse cell\n",
    "data = pd.DataFrame({'field':[],'gender':[],'name':[],'status':[],'sciper':[],'gender':[]\n",
    "                     ,'year':[],'semester':[],'type semester':[]})\n",
    "for field in [field_name[1]]:\n",
    "    for y in years: # concatenating whole data into a pandas dataframe\n",
    "        for vS in semester:\n",
    "            for tS in typeSemester:\n",
    "                #print(field,y,vS,tS)\n",
    "                query = {'ww_x_UNITE_ACAD' : str(value_field[field]),'ww_x_PERIODE_ACAD':str(value_years[str(y)]),\n",
    "            'ww_x_PERIODE_PEDAGO':str(value_semesters[vS]),\n",
    "             'ww_x_HIVERETE':str(value_typeSemester[tS])}\n",
    "                data_recieved = get_data(query)\n",
    "                data_recieved['field'] = field\n",
    "                data_recieved['year'] = y\n",
    "                data_recieved['semester'] = vS\n",
    "                data_recieved['type semester'] = tS     \n",
    "                data = pd.concat([data,data_recieved])\n",
    "data.head()"
   ]
  },
  {
   "cell_type": "code",
   "execution_count": 33,
   "metadata": {
    "collapsed": false
   },
   "outputs": [
    {
     "data": {
      "text/plain": [
       "'Chimie et gÃ©nie chimique'"
      ]
     },
     "execution_count": 33,
     "metadata": {},
     "output_type": "execute_result"
    }
   ],
   "source": [
    "field_name[1]"
   ]
  },
  {
   "cell_type": "code",
   "execution_count": 38,
   "metadata": {
    "collapsed": false
   },
   "outputs": [
    {
     "data": {
      "text/plain": [
       "['Master semestre 1',\n",
       " 'Master semestre 2',\n",
       " 'Master semestre 3',\n",
       " 'Master semestre 4',\n",
       " 'Mineur semestre 1',\n",
       " 'Mineur semestre 2',\n",
       " 'Projet Master automne',\n",
       " 'Projet Master printemps',\n",
       " 'Stage printemps master']"
      ]
     },
     "execution_count": 38,
     "metadata": {},
     "output_type": "execute_result"
    }
   ],
   "source": [
    "semester"
   ]
  },
  {
   "cell_type": "code",
   "execution_count": null,
   "metadata": {
    "collapsed": true
   },
   "outputs": [],
   "source": []
  }
 ],
 "metadata": {
  "anaconda-cloud": {},
  "kernelspec": {
   "display_name": "Python [Root]",
   "language": "python",
   "name": "Python [Root]"
  },
  "language_info": {
   "codemirror_mode": {
    "name": "ipython",
    "version": 3
   },
   "file_extension": ".py",
   "mimetype": "text/x-python",
   "name": "python",
   "nbconvert_exporter": "python",
   "pygments_lexer": "ipython3",
   "version": "3.5.2"
  }
 },
 "nbformat": 4,
 "nbformat_minor": 0
}
