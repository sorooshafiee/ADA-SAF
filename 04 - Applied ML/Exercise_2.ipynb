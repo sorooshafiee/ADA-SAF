{
 "cells": [
  {
   "cell_type": "code",
   "execution_count": 31,
   "metadata": {
    "collapsed": true
   },
   "outputs": [],
   "source": [
    "#===============================================================================\n",
    "# Import libraries\n",
    "#===============================================================================\n",
    "import numpy as np\n",
    "import pandas as pd\n",
    "import matplotlib.pyplot as plt\n",
    "from scipy.stats import mode\n",
    "from sklearn.cluster import KMeans\n",
    "%matplotlib inline"
   ]
  },
  {
   "cell_type": "code",
   "execution_count": 23,
   "metadata": {
    "collapsed": false
   },
   "outputs": [],
   "source": [
    "df = pd.read_csv('./dataset/players_without_nan.csv')"
   ]
  },
  {
   "cell_type": "code",
   "execution_count": 24,
   "metadata": {
    "collapsed": false
   },
   "outputs": [],
   "source": [
    "df['player'] = df['player'].factorize(sort=True)[0]\n",
    "df['club'] = df['club'].factorize(sort=True)[0]\n",
    "df['leagueCountry'] = df['leagueCountry'].factorize(sort=True)[0]\n",
    "df['position'] = df['position'].factorize(sort=True)[0]\n",
    "df['skintone'] = df['skintone'].apply(lambda x: 0 if x >= 0.5 else 1)\n",
    "useless_cols = ['playerShort', 'birthday', 'photoID', 'rater1', 'rater2', 'Alpha_3', 'refCount']\n",
    "df.drop(useless_cols, axis=1, inplace=True)"
   ]
  },
  {
   "cell_type": "code",
   "execution_count": 25,
   "metadata": {
    "collapsed": false
   },
   "outputs": [],
   "source": [
    "df_agg = pd.DataFrame()\n",
    "df_agg['total_yellow'] = df.groupby('player')['yellowCards'].agg('sum')\n",
    "df_agg['total_yellow_red'] = df.groupby('player')['yellowReds'].agg('sum')\n",
    "df_agg['total_direct_red'] = df.groupby('player')['redCards'].agg('sum')\n",
    "df_agg['total_red'] = df.groupby('player')['allreds'].agg('sum')\n",
    "df_agg['total_game'] = df.groupby('player')['games'].agg('sum')\n",
    "df_agg['total_win'] = df.groupby('player')['victories'].agg('sum')\n",
    "df_agg['total_lose'] = df.groupby('player')['defeats'].agg('sum')\n",
    "df_agg['total_draw'] = df.groupby('player')['ties'].agg('sum')\n",
    "df_agg['total_goal'] = df.groupby('player')['goals'].agg('sum')"
   ]
  },
  {
   "cell_type": "markdown",
   "metadata": {},
   "source": [
    "There are some players who transfer to another country. For such players, we consider the country with highest number of occurrence."
   ]
  },
  {
   "cell_type": "code",
   "execution_count": 28,
   "metadata": {
    "collapsed": false
   },
   "outputs": [],
   "source": [
    "df_agg['league'] = df.groupby('player')['leagueCountry'].apply(lambda x: mode(x)[0][0])\n",
    "df_agg['club'] = df.groupby('player')['club'].apply(lambda x: mode(x)[0][0])\n",
    "df_agg['height'] = df.groupby('player')['height'].apply(lambda x: mode(x)[0][0])\n",
    "df_agg['weight'] = df.groupby('player')['weight'].apply(lambda x: mode(x)[0][0])\n",
    "df_agg['position'] = df.groupby('player')['position'].apply(lambda x: mode(x)[0][0])\n",
    "df_agg['birthyear'] = df.groupby('player')['birthyear'].apply(lambda x: mode(x)[0][0])\n",
    "df_agg['skintone'] = df.groupby('player')['skintone'].apply(lambda x: mode(x)[0][0])"
   ]
  },
  {
   "cell_type": "code",
   "execution_count": 38,
   "metadata": {
    "collapsed": false
   },
   "outputs": [],
   "source": [
    "kmeans = KMeans(n_clusters=2).fit(df_agg.iloc[:,:-1])\n",
    "labels = kmeans.labels_"
   ]
  },
  {
   "cell_type": "code",
   "execution_count": 39,
   "metadata": {
    "collapsed": false
   },
   "outputs": [
    {
     "data": {
      "text/plain": [
       "array([1, 1, 0, ..., 0, 0, 1])"
      ]
     },
     "execution_count": 39,
     "metadata": {},
     "output_type": "execute_result"
    }
   ],
   "source": [
    "labels"
   ]
  },
  {
   "cell_type": "code",
   "execution_count": 40,
   "metadata": {
    "collapsed": false
   },
   "outputs": [
    {
     "data": {
      "text/plain": [
       "array([1, 1, 1, ..., 1, 1, 1], dtype=int64)"
      ]
     },
     "execution_count": 40,
     "metadata": {},
     "output_type": "execute_result"
    }
   ],
   "source": [
    "df_agg['skintone'].values"
   ]
  },
  {
   "cell_type": "code",
   "execution_count": null,
   "metadata": {
    "collapsed": true
   },
   "outputs": [],
   "source": []
  }
 ],
 "metadata": {
  "kernelspec": {
   "display_name": "Python [conda root]",
   "language": "python",
   "name": "conda-root-py"
  },
  "language_info": {
   "codemirror_mode": {
    "name": "ipython",
    "version": 3
   },
   "file_extension": ".py",
   "mimetype": "text/x-python",
   "name": "python",
   "nbconvert_exporter": "python",
   "pygments_lexer": "ipython3",
   "version": "3.5.2"
  }
 },
 "nbformat": 4,
 "nbformat_minor": 1
}
