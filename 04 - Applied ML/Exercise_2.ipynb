{
 "cells": [
  {
   "cell_type": "code",
   "execution_count": 1,
   "metadata": {
    "collapsed": true
   },
   "outputs": [],
   "source": [
    "#===============================================================================\n",
    "# Import libraries\n",
    "#===============================================================================\n",
    "\n",
    "import numpy as np\n",
    "import pandas as pd\n",
    "import matplotlib.pyplot as plt\n",
    "from scipy.stats import mode\n",
    "from sklearn.cluster import KMeans\n",
    "%matplotlib inline\n",
    "from sklearn.metrics import silhouette_score,accuracy_score\n",
    "from sklearn import preprocessing\n",
    "from sklearn import metrics\n",
    "import operator"
   ]
  },
  {
   "cell_type": "code",
   "execution_count": 2,
   "metadata": {
    "collapsed": false
   },
   "outputs": [],
   "source": [
    "df = pd.read_csv('ppplayers_without_nan.csv') # this is the data cleaned in previous step"
   ]
  },
  {
   "cell_type": "code",
   "execution_count": 3,
   "metadata": {
    "collapsed": false
   },
   "outputs": [],
   "source": [
    "#delete useless columns that arent useful for clustering\n",
    "useless_cols = ['playerShort', 'birthday', 'photoID', 'rater1', 'rater2', 'Alpha_3', 'refCount']\n",
    "df.drop(useless_cols, axis=1, inplace=True)\n",
    "\n",
    "# Encode input values as an enumerated type or categorical variable for further processing\n",
    "df['player'] = df['player'].factorize(sort=True)[0]\n",
    "df['club'] = df['club'].factorize(sort=True)[0]\n",
    "df['leagueCountry'] = df['leagueCountry'].factorize(sort=True)[0]\n",
    "df['position'] = df['position'].factorize(sort=True)[0]\n",
    "df['skintone'] = df['skintone'].apply(lambda x: 0 if x <= 0.5 else 1)"
   ]
  },
  {
   "cell_type": "markdown",
   "metadata": {},
   "source": [
    "Two possible ways such as summing or taking a mean value of numerical data(total games,win,red cards,etc.) of corresponding players would be reasonable for preprocessing data to make it ready for clustering step."
   ]
  },
  {
   "cell_type": "markdown",
   "metadata": {},
   "source": [
    "#### Aggregate data by summing and save it in df_agg for clustering"
   ]
  },
  {
   "cell_type": "code",
   "execution_count": 4,
   "metadata": {
    "collapsed": true
   },
   "outputs": [],
   "source": [
    "df_agg = pd.DataFrame()\n",
    "df_agg['total_yellow'] = df.groupby('player')['yellowCards'].agg('sum')\n",
    "df_agg['total_yellow_red'] = df.groupby('player')['yellowReds'].agg('sum')\n",
    "df_agg['total_direct_red'] = df.groupby('player')['redCards'].agg('sum')\n",
    "df_agg['total_red'] = df.groupby('player')['allreds'].agg('sum')\n",
    "df_agg['total_game'] = df.groupby('player')['games'].agg('sum')\n",
    "df_agg['total_win'] = df.groupby('player')['victories'].agg('sum')\n",
    "df_agg['total_lose'] = df.groupby('player')['defeats'].agg('sum')\n",
    "df_agg['total_draw'] = df.groupby('player')['ties'].agg('sum')\n",
    "df_agg['total_goal'] = df.groupby('player')['goals'].agg('sum')"
   ]
  },
  {
   "cell_type": "code",
   "execution_count": 5,
   "metadata": {
    "collapsed": false
   },
   "outputs": [],
   "source": [
    "df_agg['league'] = df.groupby('player')['leagueCountry'].apply(lambda x: mode(x)[0][0])\n",
    "df_agg['club'] = df.groupby('player')['club'].apply(lambda x: mode(x)[0][0])\n",
    "df_agg['height'] = df.groupby('player')['height'].apply(lambda x: mode(x)[0][0])\n",
    "df_agg['weight'] = df.groupby('player')['weight'].apply(lambda x: mode(x)[0][0])\n",
    "df_agg['position'] = df.groupby('player')['position'].apply(lambda x: mode(x)[0][0])\n",
    "#df_agg['birthyear'] = df.groupby('player')['birthyear'].apply(lambda x: mode(x)[0][0])\n",
    "df_agg['skintone'] = df.groupby('player')['skintone'].apply(lambda x: mode(x)[0][0])"
   ]
  },
  {
   "cell_type": "markdown",
   "metadata": {},
   "source": [
    "#### Aggregate by taking mean values"
   ]
  },
  {
   "cell_type": "code",
   "execution_count": 6,
   "metadata": {
    "collapsed": true
   },
   "outputs": [],
   "source": [
    "df_mean = pd.DataFrame()\n",
    "df_mean['mean_yellow'] = df.groupby('player')['yellowCards'].agg('mean')\n",
    "df_mean['mean_yellow_red'] = df.groupby('player')['yellowReds'].agg('mean')\n",
    "df_mean['mean_direct_red'] = df.groupby('player')['redCards'].agg('mean')\n",
    "df_mean['mean_red'] = df.groupby('player')['allreds'].agg('mean')\n",
    "#df_mean['total_game'] = df.groupby('player')['games'].agg('mean')\n",
    "df_mean['mean_win'] = df.groupby('player')['victories'].agg('mean')\n",
    "df_mean['mean_lose'] = df.groupby('player')['defeats'].agg('mean')\n",
    "df_mean['mean_draw'] = df.groupby('player')['ties'].agg('mean')\n",
    "df_mean['mean_goal'] = df.groupby('player')['goals'].agg('mean')"
   ]
  },
  {
   "cell_type": "code",
   "execution_count": 7,
   "metadata": {
    "collapsed": true
   },
   "outputs": [],
   "source": [
    "df_mean['league'] = df_agg['league']\n",
    "df_mean['club'] = df_agg['club']\n",
    "df_mean['height'] = df_agg['height']\n",
    "df_mean['weight'] = df_agg['weight']\n",
    "df_mean['position'] = df_agg['position']\n",
    "#df_agg['birthyear'] = df.groupby('player')['birthyear'].apply(lambda x: mode(x)[0][0])\n",
    "df_mean['skintone'] = df_agg['skintone']"
   ]
  },
  {
   "cell_type": "code",
   "execution_count": 8,
   "metadata": {
    "collapsed": false
   },
   "outputs": [
    {
     "data": {
      "text/html": [
       "<div>\n",
       "<table border=\"1\" class=\"dataframe\">\n",
       "  <thead>\n",
       "    <tr style=\"text-align: right;\">\n",
       "      <th></th>\n",
       "      <th>mean_yellow</th>\n",
       "      <th>mean_yellow_red</th>\n",
       "      <th>mean_direct_red</th>\n",
       "      <th>mean_red</th>\n",
       "      <th>mean_win</th>\n",
       "      <th>mean_lose</th>\n",
       "      <th>mean_draw</th>\n",
       "      <th>mean_goal</th>\n",
       "      <th>league</th>\n",
       "      <th>club</th>\n",
       "      <th>height</th>\n",
       "      <th>weight</th>\n",
       "      <th>position</th>\n",
       "      <th>skintone</th>\n",
       "    </tr>\n",
       "  </thead>\n",
       "  <tbody>\n",
       "    <tr>\n",
       "      <th>count</th>\n",
       "      <td>1572.000000</td>\n",
       "      <td>1572.000000</td>\n",
       "      <td>1572.000000</td>\n",
       "      <td>1572.000000</td>\n",
       "      <td>1572.000000</td>\n",
       "      <td>1572.000000</td>\n",
       "      <td>1572.000000</td>\n",
       "      <td>1572.000000</td>\n",
       "      <td>1572.000000</td>\n",
       "      <td>1572.000000</td>\n",
       "      <td>1572.000000</td>\n",
       "      <td>1572.000000</td>\n",
       "      <td>1572.000000</td>\n",
       "      <td>1572.000000</td>\n",
       "    </tr>\n",
       "    <tr>\n",
       "      <th>mean</th>\n",
       "      <td>0.396640</td>\n",
       "      <td>0.012182</td>\n",
       "      <td>0.012882</td>\n",
       "      <td>0.025064</td>\n",
       "      <td>1.241414</td>\n",
       "      <td>0.946435</td>\n",
       "      <td>0.700037</td>\n",
       "      <td>0.309289</td>\n",
       "      <td>1.599873</td>\n",
       "      <td>46.963740</td>\n",
       "      <td>182.059796</td>\n",
       "      <td>76.053435</td>\n",
       "      <td>4.804707</td>\n",
       "      <td>0.169847</td>\n",
       "    </tr>\n",
       "    <tr>\n",
       "      <th>std</th>\n",
       "      <td>0.284908</td>\n",
       "      <td>0.017692</td>\n",
       "      <td>0.017862</td>\n",
       "      <td>0.028073</td>\n",
       "      <td>0.529053</td>\n",
       "      <td>0.433371</td>\n",
       "      <td>0.316185</td>\n",
       "      <td>0.365928</td>\n",
       "      <td>1.128114</td>\n",
       "      <td>27.754068</td>\n",
       "      <td>6.748476</td>\n",
       "      <td>7.070506</td>\n",
       "      <td>3.434858</td>\n",
       "      <td>0.375618</td>\n",
       "    </tr>\n",
       "    <tr>\n",
       "      <th>min</th>\n",
       "      <td>0.000000</td>\n",
       "      <td>0.000000</td>\n",
       "      <td>0.000000</td>\n",
       "      <td>0.000000</td>\n",
       "      <td>0.000000</td>\n",
       "      <td>0.000000</td>\n",
       "      <td>0.000000</td>\n",
       "      <td>0.000000</td>\n",
       "      <td>0.000000</td>\n",
       "      <td>0.000000</td>\n",
       "      <td>161.000000</td>\n",
       "      <td>54.000000</td>\n",
       "      <td>0.000000</td>\n",
       "      <td>0.000000</td>\n",
       "    </tr>\n",
       "    <tr>\n",
       "      <th>25%</th>\n",
       "      <td>0.201163</td>\n",
       "      <td>0.000000</td>\n",
       "      <td>0.000000</td>\n",
       "      <td>0.000000</td>\n",
       "      <td>0.845979</td>\n",
       "      <td>0.642857</td>\n",
       "      <td>0.487649</td>\n",
       "      <td>0.063600</td>\n",
       "      <td>1.000000</td>\n",
       "      <td>25.000000</td>\n",
       "      <td>178.000000</td>\n",
       "      <td>71.000000</td>\n",
       "      <td>2.000000</td>\n",
       "      <td>0.000000</td>\n",
       "    </tr>\n",
       "    <tr>\n",
       "      <th>50%</th>\n",
       "      <td>0.333333</td>\n",
       "      <td>0.000000</td>\n",
       "      <td>0.007874</td>\n",
       "      <td>0.017621</td>\n",
       "      <td>1.207222</td>\n",
       "      <td>0.863270</td>\n",
       "      <td>0.654859</td>\n",
       "      <td>0.186047</td>\n",
       "      <td>2.000000</td>\n",
       "      <td>45.500000</td>\n",
       "      <td>182.000000</td>\n",
       "      <td>76.000000</td>\n",
       "      <td>5.000000</td>\n",
       "      <td>0.000000</td>\n",
       "    </tr>\n",
       "    <tr>\n",
       "      <th>75%</th>\n",
       "      <td>0.527237</td>\n",
       "      <td>0.018576</td>\n",
       "      <td>0.019608</td>\n",
       "      <td>0.036397</td>\n",
       "      <td>1.573558</td>\n",
       "      <td>1.163265</td>\n",
       "      <td>0.878393</td>\n",
       "      <td>0.429915</td>\n",
       "      <td>3.000000</td>\n",
       "      <td>70.000000</td>\n",
       "      <td>187.000000</td>\n",
       "      <td>81.000000</td>\n",
       "      <td>7.000000</td>\n",
       "      <td>0.000000</td>\n",
       "    </tr>\n",
       "    <tr>\n",
       "      <th>max</th>\n",
       "      <td>2.482759</td>\n",
       "      <td>0.132075</td>\n",
       "      <td>0.166667</td>\n",
       "      <td>0.243590</td>\n",
       "      <td>3.657343</td>\n",
       "      <td>3.450980</td>\n",
       "      <td>2.274510</td>\n",
       "      <td>3.299145</td>\n",
       "      <td>3.000000</td>\n",
       "      <td>96.000000</td>\n",
       "      <td>203.000000</td>\n",
       "      <td>100.000000</td>\n",
       "      <td>12.000000</td>\n",
       "      <td>1.000000</td>\n",
       "    </tr>\n",
       "  </tbody>\n",
       "</table>\n",
       "</div>"
      ],
      "text/plain": [
       "       mean_yellow  mean_yellow_red  mean_direct_red     mean_red  \\\n",
       "count  1572.000000      1572.000000      1572.000000  1572.000000   \n",
       "mean      0.396640         0.012182         0.012882     0.025064   \n",
       "std       0.284908         0.017692         0.017862     0.028073   \n",
       "min       0.000000         0.000000         0.000000     0.000000   \n",
       "25%       0.201163         0.000000         0.000000     0.000000   \n",
       "50%       0.333333         0.000000         0.007874     0.017621   \n",
       "75%       0.527237         0.018576         0.019608     0.036397   \n",
       "max       2.482759         0.132075         0.166667     0.243590   \n",
       "\n",
       "          mean_win    mean_lose    mean_draw    mean_goal       league  \\\n",
       "count  1572.000000  1572.000000  1572.000000  1572.000000  1572.000000   \n",
       "mean      1.241414     0.946435     0.700037     0.309289     1.599873   \n",
       "std       0.529053     0.433371     0.316185     0.365928     1.128114   \n",
       "min       0.000000     0.000000     0.000000     0.000000     0.000000   \n",
       "25%       0.845979     0.642857     0.487649     0.063600     1.000000   \n",
       "50%       1.207222     0.863270     0.654859     0.186047     2.000000   \n",
       "75%       1.573558     1.163265     0.878393     0.429915     3.000000   \n",
       "max       3.657343     3.450980     2.274510     3.299145     3.000000   \n",
       "\n",
       "              club       height       weight     position     skintone  \n",
       "count  1572.000000  1572.000000  1572.000000  1572.000000  1572.000000  \n",
       "mean     46.963740   182.059796    76.053435     4.804707     0.169847  \n",
       "std      27.754068     6.748476     7.070506     3.434858     0.375618  \n",
       "min       0.000000   161.000000    54.000000     0.000000     0.000000  \n",
       "25%      25.000000   178.000000    71.000000     2.000000     0.000000  \n",
       "50%      45.500000   182.000000    76.000000     5.000000     0.000000  \n",
       "75%      70.000000   187.000000    81.000000     7.000000     0.000000  \n",
       "max      96.000000   203.000000   100.000000    12.000000     1.000000  "
      ]
     },
     "execution_count": 8,
     "metadata": {},
     "output_type": "execute_result"
    }
   ],
   "source": [
    "df_mean.describe()"
   ]
  },
  {
   "cell_type": "code",
   "execution_count": 9,
   "metadata": {
    "collapsed": false
   },
   "outputs": [
    {
     "data": {
      "text/html": [
       "<div>\n",
       "<table border=\"1\" class=\"dataframe\">\n",
       "  <thead>\n",
       "    <tr style=\"text-align: right;\">\n",
       "      <th></th>\n",
       "      <th>total_yellow</th>\n",
       "      <th>total_yellow_red</th>\n",
       "      <th>total_direct_red</th>\n",
       "      <th>total_red</th>\n",
       "      <th>total_game</th>\n",
       "      <th>total_win</th>\n",
       "      <th>total_lose</th>\n",
       "      <th>total_draw</th>\n",
       "      <th>total_goal</th>\n",
       "      <th>league</th>\n",
       "      <th>club</th>\n",
       "      <th>height</th>\n",
       "      <th>weight</th>\n",
       "      <th>position</th>\n",
       "      <th>skintone</th>\n",
       "    </tr>\n",
       "  </thead>\n",
       "  <tbody>\n",
       "    <tr>\n",
       "      <th>count</th>\n",
       "      <td>1572.000000</td>\n",
       "      <td>1572.000000</td>\n",
       "      <td>1572.000000</td>\n",
       "      <td>1572.000000</td>\n",
       "      <td>1572.000000</td>\n",
       "      <td>1572.000000</td>\n",
       "      <td>1572.000000</td>\n",
       "      <td>1572.000000</td>\n",
       "      <td>1572.000000</td>\n",
       "      <td>1572.000000</td>\n",
       "      <td>1572.000000</td>\n",
       "      <td>1572.000000</td>\n",
       "      <td>1572.000000</td>\n",
       "      <td>1572.000000</td>\n",
       "      <td>1572.000000</td>\n",
       "    </tr>\n",
       "    <tr>\n",
       "      <th>mean</th>\n",
       "      <td>31.632952</td>\n",
       "      <td>0.956107</td>\n",
       "      <td>1.010814</td>\n",
       "      <td>1.966921</td>\n",
       "      <td>237.201018</td>\n",
       "      <td>106.385496</td>\n",
       "      <td>74.166667</td>\n",
       "      <td>56.648855</td>\n",
       "      <td>28.001908</td>\n",
       "      <td>1.599873</td>\n",
       "      <td>46.963740</td>\n",
       "      <td>182.059796</td>\n",
       "      <td>76.053435</td>\n",
       "      <td>4.804707</td>\n",
       "      <td>0.169847</td>\n",
       "    </tr>\n",
       "    <tr>\n",
       "      <th>std</th>\n",
       "      <td>25.355665</td>\n",
       "      <td>1.398820</td>\n",
       "      <td>1.347090</td>\n",
       "      <td>2.281060</td>\n",
       "      <td>143.977858</td>\n",
       "      <td>78.043527</td>\n",
       "      <td>41.849328</td>\n",
       "      <td>34.415758</td>\n",
       "      <td>41.726421</td>\n",
       "      <td>1.128114</td>\n",
       "      <td>27.754068</td>\n",
       "      <td>6.748476</td>\n",
       "      <td>7.070506</td>\n",
       "      <td>3.434858</td>\n",
       "      <td>0.375618</td>\n",
       "    </tr>\n",
       "    <tr>\n",
       "      <th>min</th>\n",
       "      <td>0.000000</td>\n",
       "      <td>0.000000</td>\n",
       "      <td>0.000000</td>\n",
       "      <td>0.000000</td>\n",
       "      <td>1.000000</td>\n",
       "      <td>0.000000</td>\n",
       "      <td>0.000000</td>\n",
       "      <td>0.000000</td>\n",
       "      <td>0.000000</td>\n",
       "      <td>0.000000</td>\n",
       "      <td>0.000000</td>\n",
       "      <td>161.000000</td>\n",
       "      <td>54.000000</td>\n",
       "      <td>0.000000</td>\n",
       "      <td>0.000000</td>\n",
       "    </tr>\n",
       "    <tr>\n",
       "      <th>25%</th>\n",
       "      <td>13.000000</td>\n",
       "      <td>0.000000</td>\n",
       "      <td>0.000000</td>\n",
       "      <td>0.000000</td>\n",
       "      <td>131.000000</td>\n",
       "      <td>52.750000</td>\n",
       "      <td>44.000000</td>\n",
       "      <td>31.000000</td>\n",
       "      <td>4.000000</td>\n",
       "      <td>1.000000</td>\n",
       "      <td>25.000000</td>\n",
       "      <td>178.000000</td>\n",
       "      <td>71.000000</td>\n",
       "      <td>2.000000</td>\n",
       "      <td>0.000000</td>\n",
       "    </tr>\n",
       "    <tr>\n",
       "      <th>50%</th>\n",
       "      <td>26.000000</td>\n",
       "      <td>0.000000</td>\n",
       "      <td>1.000000</td>\n",
       "      <td>1.000000</td>\n",
       "      <td>215.000000</td>\n",
       "      <td>85.500000</td>\n",
       "      <td>69.000000</td>\n",
       "      <td>52.000000</td>\n",
       "      <td>13.000000</td>\n",
       "      <td>2.000000</td>\n",
       "      <td>45.500000</td>\n",
       "      <td>182.000000</td>\n",
       "      <td>76.000000</td>\n",
       "      <td>5.000000</td>\n",
       "      <td>0.000000</td>\n",
       "    </tr>\n",
       "    <tr>\n",
       "      <th>75%</th>\n",
       "      <td>43.000000</td>\n",
       "      <td>1.000000</td>\n",
       "      <td>2.000000</td>\n",
       "      <td>3.000000</td>\n",
       "      <td>324.000000</td>\n",
       "      <td>140.250000</td>\n",
       "      <td>98.000000</td>\n",
       "      <td>78.000000</td>\n",
       "      <td>35.000000</td>\n",
       "      <td>3.000000</td>\n",
       "      <td>70.000000</td>\n",
       "      <td>187.000000</td>\n",
       "      <td>81.000000</td>\n",
       "      <td>7.000000</td>\n",
       "      <td>0.000000</td>\n",
       "    </tr>\n",
       "    <tr>\n",
       "      <th>max</th>\n",
       "      <td>197.000000</td>\n",
       "      <td>12.000000</td>\n",
       "      <td>13.000000</td>\n",
       "      <td>19.000000</td>\n",
       "      <td>945.000000</td>\n",
       "      <td>527.000000</td>\n",
       "      <td>309.000000</td>\n",
       "      <td>234.000000</td>\n",
       "      <td>420.000000</td>\n",
       "      <td>3.000000</td>\n",
       "      <td>96.000000</td>\n",
       "      <td>203.000000</td>\n",
       "      <td>100.000000</td>\n",
       "      <td>12.000000</td>\n",
       "      <td>1.000000</td>\n",
       "    </tr>\n",
       "  </tbody>\n",
       "</table>\n",
       "</div>"
      ],
      "text/plain": [
       "       total_yellow  total_yellow_red  total_direct_red    total_red  \\\n",
       "count   1572.000000       1572.000000       1572.000000  1572.000000   \n",
       "mean      31.632952          0.956107          1.010814     1.966921   \n",
       "std       25.355665          1.398820          1.347090     2.281060   \n",
       "min        0.000000          0.000000          0.000000     0.000000   \n",
       "25%       13.000000          0.000000          0.000000     0.000000   \n",
       "50%       26.000000          0.000000          1.000000     1.000000   \n",
       "75%       43.000000          1.000000          2.000000     3.000000   \n",
       "max      197.000000         12.000000         13.000000    19.000000   \n",
       "\n",
       "        total_game    total_win   total_lose   total_draw   total_goal  \\\n",
       "count  1572.000000  1572.000000  1572.000000  1572.000000  1572.000000   \n",
       "mean    237.201018   106.385496    74.166667    56.648855    28.001908   \n",
       "std     143.977858    78.043527    41.849328    34.415758    41.726421   \n",
       "min       1.000000     0.000000     0.000000     0.000000     0.000000   \n",
       "25%     131.000000    52.750000    44.000000    31.000000     4.000000   \n",
       "50%     215.000000    85.500000    69.000000    52.000000    13.000000   \n",
       "75%     324.000000   140.250000    98.000000    78.000000    35.000000   \n",
       "max     945.000000   527.000000   309.000000   234.000000   420.000000   \n",
       "\n",
       "            league         club       height       weight     position  \\\n",
       "count  1572.000000  1572.000000  1572.000000  1572.000000  1572.000000   \n",
       "mean      1.599873    46.963740   182.059796    76.053435     4.804707   \n",
       "std       1.128114    27.754068     6.748476     7.070506     3.434858   \n",
       "min       0.000000     0.000000   161.000000    54.000000     0.000000   \n",
       "25%       1.000000    25.000000   178.000000    71.000000     2.000000   \n",
       "50%       2.000000    45.500000   182.000000    76.000000     5.000000   \n",
       "75%       3.000000    70.000000   187.000000    81.000000     7.000000   \n",
       "max       3.000000    96.000000   203.000000   100.000000    12.000000   \n",
       "\n",
       "          skintone  \n",
       "count  1572.000000  \n",
       "mean      0.169847  \n",
       "std       0.375618  \n",
       "min       0.000000  \n",
       "25%       0.000000  \n",
       "50%       0.000000  \n",
       "75%       0.000000  \n",
       "max       1.000000  "
      ]
     },
     "execution_count": 9,
     "metadata": {},
     "output_type": "execute_result"
    }
   ],
   "source": [
    "df_agg.describe()"
   ]
  },
  {
   "cell_type": "markdown",
   "metadata": {},
   "source": [
    "Best clustering to compare the results to is created by clustering only the skintone. So simply skintone values themselves(which consists of 0's and 1's) are the labels for the player's corresponding cluster that we want to compare later with different feature configurations.\n"
   ]
  },
  {
   "cell_type": "code",
   "execution_count": 10,
   "metadata": {
    "collapsed": false
   },
   "outputs": [],
   "source": [
    "best_cluster_labels=df_mean.iloc[:,df_mean.shape[1]-1]# 'skincolor' column"
   ]
  },
  {
   "cell_type": "markdown",
   "metadata": {},
   "source": [
    "### Check how related the resulting cluster is to the skincolor at the same time computing the silhoutte score of the result cluster\n",
    "For checking the accuracy of cluster in terms of its ability to cluster according to the skintone compare it with the 'best labels' defined above."
   ]
  },
  {
   "cell_type": "markdown",
   "metadata": {
    "collapsed": true
   },
   "source": [
    "Firstly, we use aggregated features by mean values (df_mean dataframe) for clustering."
   ]
  },
  {
   "cell_type": "markdown",
   "metadata": {
    "collapsed": true
   },
   "source": [
    "### Iteratively drop features and see the results\n",
    "Standardization of datasets is a common requirement for many machine learning estimators and in particular for our clustering problem it gives better results. We standardized the data to get better clustering. "
   ]
  },
  {
   "cell_type": "code",
   "execution_count": 11,
   "metadata": {
    "collapsed": false
   },
   "outputs": [],
   "source": [
    "silh_results=np.zeros(df_mean.shape[1])# for silhoutte scores for different feature configuration scenarios\n",
    "overl_cluster=np.zeros(df_mean.shape[1])# calculate how good players seperated by clusters according to skin color by\n",
    "#finding the overlapping number of clustering labels\n",
    "accuracy_res=np.zeros(df_mean.shape[1])#for standard accuracy score measure\n",
    "for i in range(2,df_mean.shape[1]):\n",
    "    Sdd=preprocessing.normalize(df_mean.iloc[:,:i])\n",
    "    kmeansp = KMeans(n_clusters=2).fit(Sdd)\n",
    "    labelsp = kmeansp.labels_\n",
    "    overl_cluster[i]=(best_cluster_labels==labelsp).sum()\n",
    "    accuracy_res[i]=metrics.accuracy_score(best_cluster_labels,labelsp)\n",
    "    silh_results[i]=metrics.silhouette_score(Sdd,labelsp,metric='euclidean')"
   ]
  },
  {
   "cell_type": "markdown",
   "metadata": {},
   "source": [
    "We compute accuracy score by comparing the result cluster labels with 'best cluster' labels"
   ]
  },
  {
   "cell_type": "code",
   "execution_count": 12,
   "metadata": {
    "collapsed": false
   },
   "outputs": [
    {
     "data": {
      "text/plain": [
       "array([ 0.        ,  0.        ,  0.83015267,  0.82888041,  0.82569975,\n",
       "        0.57251908,  0.53244275,  0.45292621,  0.53307888,  0.36832061,\n",
       "        0.21310433,  0.45547074,  0.45165394,  0.54834606])"
      ]
     },
     "execution_count": 12,
     "metadata": {},
     "output_type": "execute_result"
    }
   ],
   "source": [
    "accuracy_res"
   ]
  },
  {
   "cell_type": "code",
   "execution_count": 13,
   "metadata": {
    "collapsed": false
   },
   "outputs": [
    {
     "data": {
      "text/plain": [
       "array([    0.,     0.,  1305.,  1303.,  1298.,   900.,   837.,   712.,\n",
       "         838.,   579.,   335.,   716.,   710.,   862.])"
      ]
     },
     "execution_count": 13,
     "metadata": {},
     "output_type": "execute_result"
    }
   ],
   "source": [
    "overl_cluster"
   ]
  },
  {
   "cell_type": "code",
   "execution_count": 14,
   "metadata": {
    "collapsed": false
   },
   "outputs": [
    {
     "data": {
      "text/plain": [
       "array([ 0.        ,  0.        ,  0.96147577,  0.9190977 ,  0.88896111,\n",
       "        0.53073336,  0.38558711,  0.34042811,  0.25594822,  0.54316036,\n",
       "        0.88270567,  0.62110438,  0.58900474,  0.57304312])"
      ]
     },
     "execution_count": 14,
     "metadata": {},
     "output_type": "execute_result"
    }
   ],
   "source": [
    "silh_results"
   ]
  },
  {
   "cell_type": "markdown",
   "metadata": {},
   "source": [
    "For finding 'best' results(silhouette score is high where players with dark and light skin colors belong to different clusters ) we do following:\n",
    "We multiply results from label overlaps with the corresponding results(with the same feature configuration) of silhoutte scores.\n",
    "Best combination of features would be when the correspodning product is the highest."
   ]
  },
  {
   "cell_type": "code",
   "execution_count": 15,
   "metadata": {
    "collapsed": false
   },
   "outputs": [],
   "source": [
    "products=np.zeros(df_mean.shape[1])\n",
    "for i in range(0,df_mean.shape[1]):\n",
    "    products[i]=accuracy_res[i]*silh_results[i]"
   ]
  },
  {
   "cell_type": "code",
   "execution_count": 16,
   "metadata": {
    "collapsed": false
   },
   "outputs": [
    {
     "data": {
      "text/plain": [
       "array([ 0.        ,  0.        ,  0.79817168,  0.76182208,  0.73401496,\n",
       "        0.30385498,  0.20530306,  0.15418881,  0.13644059,  0.20005715,\n",
       "        0.1881084 ,  0.28289487,  0.26602631,  0.31422594])"
      ]
     },
     "execution_count": 16,
     "metadata": {},
     "output_type": "execute_result"
    }
   ],
   "source": [
    "products"
   ]
  },
  {
   "cell_type": "code",
   "execution_count": 17,
   "metadata": {
    "collapsed": false
   },
   "outputs": [
    {
     "name": "stdout",
     "output_type": "stream",
     "text": [
      "2\n",
      "0.798171682838\n"
     ]
    }
   ],
   "source": [
    "max_index,max_value=max(enumerate(products),key=operator.itemgetter(1))\n",
    "print(max_index)\n",
    "print(max_value)"
   ]
  },
  {
   "cell_type": "code",
   "execution_count": 18,
   "metadata": {
    "collapsed": false
   },
   "outputs": [
    {
     "data": {
      "text/html": [
       "<div>\n",
       "<table border=\"1\" class=\"dataframe\">\n",
       "  <thead>\n",
       "    <tr style=\"text-align: right;\">\n",
       "      <th></th>\n",
       "      <th>mean_yellow</th>\n",
       "      <th>mean_yellow_red</th>\n",
       "    </tr>\n",
       "    <tr>\n",
       "      <th>player</th>\n",
       "      <th></th>\n",
       "      <th></th>\n",
       "    </tr>\n",
       "  </thead>\n",
       "  <tbody>\n",
       "    <tr>\n",
       "      <th>0</th>\n",
       "      <td>0.537037</td>\n",
       "      <td>0.009259</td>\n",
       "    </tr>\n",
       "    <tr>\n",
       "      <th>1</th>\n",
       "      <td>0.166667</td>\n",
       "      <td>0.000000</td>\n",
       "    </tr>\n",
       "  </tbody>\n",
       "</table>\n",
       "</div>"
      ],
      "text/plain": [
       "        mean_yellow  mean_yellow_red\n",
       "player                              \n",
       "0          0.537037         0.009259\n",
       "1          0.166667         0.000000"
      ]
     },
     "execution_count": 18,
     "metadata": {},
     "output_type": "execute_result"
    }
   ],
   "source": [
    "df_mean.iloc[:,:2].head(2)"
   ]
  },
  {
   "cell_type": "markdown",
   "metadata": {},
   "source": [
    "As we can see the maximum case is the case where mean yellow data for players are clustered. In this case we get good result for silhoutte results which means data was clustered well, as well as in this case we got players with different skin colors belonged to different classes. This result is sadly consistent with the idea that player with different colors have gotten yellow cards correlated. "
   ]
  },
  {
   "cell_type": "code",
   "execution_count": 19,
   "metadata": {
    "collapsed": false
   },
   "outputs": [
    {
     "data": {
      "text/html": [
       "<div>\n",
       "<table border=\"1\" class=\"dataframe\">\n",
       "  <thead>\n",
       "    <tr style=\"text-align: right;\">\n",
       "      <th></th>\n",
       "      <th>mean_yellow</th>\n",
       "      <th>mean_yellow_red</th>\n",
       "      <th>mean_direct_red</th>\n",
       "    </tr>\n",
       "    <tr>\n",
       "      <th>player</th>\n",
       "      <th></th>\n",
       "      <th></th>\n",
       "      <th></th>\n",
       "    </tr>\n",
       "  </thead>\n",
       "  <tbody>\n",
       "    <tr>\n",
       "      <th>0</th>\n",
       "      <td>0.537037</td>\n",
       "      <td>0.009259</td>\n",
       "      <td>0.027778</td>\n",
       "    </tr>\n",
       "    <tr>\n",
       "      <th>1</th>\n",
       "      <td>0.166667</td>\n",
       "      <td>0.000000</td>\n",
       "      <td>0.000000</td>\n",
       "    </tr>\n",
       "  </tbody>\n",
       "</table>\n",
       "</div>"
      ],
      "text/plain": [
       "        mean_yellow  mean_yellow_red  mean_direct_red\n",
       "player                                               \n",
       "0          0.537037         0.009259         0.027778\n",
       "1          0.166667         0.000000         0.000000"
      ]
     },
     "execution_count": 19,
     "metadata": {},
     "output_type": "execute_result"
    }
   ],
   "source": [
    "df_mean.iloc[:,:3].head(2)"
   ]
  },
  {
   "cell_type": "markdown",
   "metadata": {},
   "source": [
    "As we could see from result 'products' scores using 3 features by adding mean direct red scores also had quite high score of silhoutte and accuracy."
   ]
  },
  {
   "cell_type": "code",
   "execution_count": null,
   "metadata": {
    "collapsed": true
   },
   "outputs": [],
   "source": []
  },
  {
   "cell_type": "markdown",
   "metadata": {},
   "source": [
    "### We do the same procedure with the summed data(df_agg dataframe) instead of previously averaged data"
   ]
  },
  {
   "cell_type": "code",
   "execution_count": 20,
   "metadata": {
    "collapsed": true
   },
   "outputs": [],
   "source": [
    "silh_results=np.zeros(df_agg.shape[1])# for silhoutte scores for different feature configuration scenarios\n",
    "overl_cluster=np.zeros(df_agg.shape[1])# calculate how good players seperated by clusters according to skin color by\n",
    "#finding the overlapping number of clustering labels\n",
    "accuracy_res=np.zeros(df_mean.shape[1])#for standard accuracy score measure\n",
    "for i in range(2,df_mean.shape[1]):\n",
    "    Sdd=preprocessing.normalize(df_agg.iloc[:,:i])\n",
    "    kmeansp = KMeans(n_clusters=2).fit(Sdd)\n",
    "    labelsp = kmeansp.labels_\n",
    "    overl_cluster[i]=(best_cluster_labels==labelsp).sum()\n",
    "    accuracy_res[i]=metrics.accuracy_score(best_cluster_labels,labelsp)\n",
    "    silh_results[i]=metrics.silhouette_score(Sdd,labelsp,metric='euclidean')"
   ]
  },
  {
   "cell_type": "code",
   "execution_count": 21,
   "metadata": {
    "collapsed": true
   },
   "outputs": [],
   "source": [
    "products=np.zeros(df_mean.shape[1])\n",
    "for i in range(0,df_mean.shape[1]):\n",
    "    products[i]=accuracy_res[i]*silh_results[i]"
   ]
  },
  {
   "cell_type": "code",
   "execution_count": 22,
   "metadata": {
    "collapsed": false
   },
   "outputs": [
    {
     "name": "stdout",
     "output_type": "stream",
     "text": [
      "2\n",
      "0.798171682842\n"
     ]
    }
   ],
   "source": [
    "max_index,max_value=max(enumerate(products),key=operator.itemgetter(1))\n",
    "print(max_index)\n",
    "print(max_value)"
   ]
  },
  {
   "cell_type": "code",
   "execution_count": 23,
   "metadata": {
    "collapsed": false
   },
   "outputs": [
    {
     "data": {
      "text/html": [
       "<div>\n",
       "<table border=\"1\" class=\"dataframe\">\n",
       "  <thead>\n",
       "    <tr style=\"text-align: right;\">\n",
       "      <th></th>\n",
       "      <th>total_yellow</th>\n",
       "      <th>total_yellow_red</th>\n",
       "    </tr>\n",
       "    <tr>\n",
       "      <th>player</th>\n",
       "      <th></th>\n",
       "      <th></th>\n",
       "    </tr>\n",
       "  </thead>\n",
       "  <tbody>\n",
       "    <tr>\n",
       "      <th>0</th>\n",
       "      <td>58</td>\n",
       "      <td>1</td>\n",
       "    </tr>\n",
       "    <tr>\n",
       "      <th>1</th>\n",
       "      <td>19</td>\n",
       "      <td>0</td>\n",
       "    </tr>\n",
       "  </tbody>\n",
       "</table>\n",
       "</div>"
      ],
      "text/plain": [
       "        total_yellow  total_yellow_red\n",
       "player                                \n",
       "0                 58                 1\n",
       "1                 19                 0"
      ]
     },
     "execution_count": 23,
     "metadata": {},
     "output_type": "execute_result"
    }
   ],
   "source": [
    "df_agg.iloc[:,:2].head(2)"
   ]
  },
  {
   "cell_type": "code",
   "execution_count": 24,
   "metadata": {
    "collapsed": false
   },
   "outputs": [
    {
     "data": {
      "text/plain": [
       "array([ 0.        ,  0.        ,  0.79817168,  0.76182208,  0.73401496,\n",
       "        0.28862501,  0.17267861,  0.20644677,  0.19169418,  0.14599327,\n",
       "        0.11550396,  0.42712527,  0.28119867,  0.17665136])"
      ]
     },
     "execution_count": 24,
     "metadata": {},
     "output_type": "execute_result"
    }
   ],
   "source": [
    "products"
   ]
  },
  {
   "cell_type": "markdown",
   "metadata": {},
   "source": [
    "Not surprisingly, we get the same result as above showing that clustering according to total yellow cards will yield in a cluster where players with different skincolors yield in different clusters. Again here also by adding third feature mean direct red cards we get approximately the same results. So,mainly features consisting of red and yellow cards do better clustering of data and result in players with dark and light skin colors belong to different clusters."
   ]
  },
  {
   "cell_type": "code",
   "execution_count": null,
   "metadata": {
    "collapsed": true
   },
   "outputs": [],
   "source": []
  }
 ],
 "metadata": {
  "kernelspec": {
   "display_name": "Python [Root]",
   "language": "python",
   "name": "Python [Root]"
  },
  "language_info": {
   "codemirror_mode": {
    "name": "ipython",
    "version": 3
   },
   "file_extension": ".py",
   "mimetype": "text/x-python",
   "name": "python",
   "nbconvert_exporter": "python",
   "pygments_lexer": "ipython3",
   "version": "3.5.2"
  }
 },
 "nbformat": 4,
 "nbformat_minor": 0
}
