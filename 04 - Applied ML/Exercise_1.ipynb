{
 "cells": [
  {
   "cell_type": "markdown",
   "metadata": {},
   "source": [
    "## 1- Data Preprocessing"
   ]
  },
  {
   "cell_type": "code",
   "execution_count": 1,
   "metadata": {
    "collapsed": true
   },
   "outputs": [],
   "source": [
    "#===============================================================================\n",
    "# Import libraries\n",
    "#===============================================================================\n",
    "import numpy as np\n",
    "import pandas as pd\n",
    "import matplotlib.pyplot as plt\n",
    "%matplotlib inline"
   ]
  },
  {
   "cell_type": "code",
   "execution_count": 2,
   "metadata": {
    "collapsed": false
   },
   "outputs": [
    {
     "name": "stdout",
     "output_type": "stream",
     "text": [
      "loading data ...\n",
      "data is loaded.\n"
     ]
    }
   ],
   "source": [
    "#===============================================================================\n",
    "# Load the dataset\n",
    "#===============================================================================\n",
    "print('loading data ...')\n",
    "df = pd.read_csv('./dataset/CrowdstormingDataJuly1st.csv')\n",
    "print('data is loaded.')"
   ]
  },
  {
   "cell_type": "markdown",
   "metadata": {},
   "source": [
    "### Variables description:\n",
    "- playerShort: short player ID\n",
    "- player: player name\n",
    "- club: player club\n",
    "- leagueCountry: country of player club (England, Germany, France, and Spain)\n",
    "- birthday: player birthday\n",
    "- height: player height (in cm)\n",
    "- weight: player weight (in kg)\n",
    "- position: detailed player position\n",
    "- games: number of games in the player-referee dyad\n",
    "- victories: victories in the player-referee dyad\n",
    "- ties: ties in the player-referee dyad\n",
    "- defeats: losses in the player-referee dyad\n",
    "- goals: goals scored by a player in the player-referee dyad\n",
    "- yellowCards: number of yellow cards player received from referee\n",
    "- yellowReds: number of yellow-red cards player received from referee\n",
    "- redCards: number of red cards player received from referee\n",
    "- photoID: ID of player photo (if available)\n",
    "- rater1: skin rating of photo by rater 1 (5-point scale ranging from “very light skin” to “very dark skin”)\n",
    "- rater2: skin rating of photo by rater 2 (5-point scale ranging from “very light skin” to “very dark skin”)\n",
    "- refNum: unique referee ID number (referee name removed for anonymizing purposes)\n",
    "- refCountry: unique referee country ID number (country name removed for anonymizing purposes)\n",
    "- meanIAT: mean implicit bias score (using the race IAT) for referee country, higher values correspond to faster white | good, black | bad associations\n",
    "- nIAT: sample size for race IAT in that particular country\n",
    "- seIAT: standard error for mean estimate of race IAT\n",
    "- meanExp: mean explicit bias score (using a racial thermometer task) for referee country, higher values correspond to greater feelings of warmth toward whites versus blacks\n",
    "- nExp: sample size for explicit bias in that particular country\n",
    "- seExp: standard error for mean estimate of explicit bias measure"
   ]
  },
  {
   "cell_type": "code",
   "execution_count": 3,
   "metadata": {
    "collapsed": false
   },
   "outputs": [
    {
     "data": {
      "text/html": [
       "<div>\n",
       "<table border=\"1\" class=\"dataframe\">\n",
       "  <thead>\n",
       "    <tr style=\"text-align: right;\">\n",
       "      <th></th>\n",
       "      <th>playerShort</th>\n",
       "      <th>player</th>\n",
       "      <th>club</th>\n",
       "      <th>leagueCountry</th>\n",
       "      <th>birthday</th>\n",
       "      <th>height</th>\n",
       "      <th>weight</th>\n",
       "      <th>position</th>\n",
       "      <th>games</th>\n",
       "      <th>victories</th>\n",
       "    </tr>\n",
       "  </thead>\n",
       "  <tbody>\n",
       "    <tr>\n",
       "      <th>0</th>\n",
       "      <td>lucas-wilchez</td>\n",
       "      <td>Lucas Wilchez</td>\n",
       "      <td>Real Zaragoza</td>\n",
       "      <td>Spain</td>\n",
       "      <td>31.08.1983</td>\n",
       "      <td>177.0</td>\n",
       "      <td>72.0</td>\n",
       "      <td>Attacking Midfielder</td>\n",
       "      <td>1</td>\n",
       "      <td>0</td>\n",
       "    </tr>\n",
       "    <tr>\n",
       "      <th>1</th>\n",
       "      <td>john-utaka</td>\n",
       "      <td>John Utaka</td>\n",
       "      <td>Montpellier HSC</td>\n",
       "      <td>France</td>\n",
       "      <td>08.01.1982</td>\n",
       "      <td>179.0</td>\n",
       "      <td>82.0</td>\n",
       "      <td>Right Winger</td>\n",
       "      <td>1</td>\n",
       "      <td>0</td>\n",
       "    </tr>\n",
       "    <tr>\n",
       "      <th>2</th>\n",
       "      <td>abdon-prats</td>\n",
       "      <td>Abdón Prats</td>\n",
       "      <td>RCD Mallorca</td>\n",
       "      <td>Spain</td>\n",
       "      <td>17.12.1992</td>\n",
       "      <td>181.0</td>\n",
       "      <td>79.0</td>\n",
       "      <td>NaN</td>\n",
       "      <td>1</td>\n",
       "      <td>0</td>\n",
       "    </tr>\n",
       "    <tr>\n",
       "      <th>3</th>\n",
       "      <td>pablo-mari</td>\n",
       "      <td>Pablo Marí</td>\n",
       "      <td>RCD Mallorca</td>\n",
       "      <td>Spain</td>\n",
       "      <td>31.08.1993</td>\n",
       "      <td>191.0</td>\n",
       "      <td>87.0</td>\n",
       "      <td>Center Back</td>\n",
       "      <td>1</td>\n",
       "      <td>1</td>\n",
       "    </tr>\n",
       "    <tr>\n",
       "      <th>4</th>\n",
       "      <td>ruben-pena</td>\n",
       "      <td>Rubén Peña</td>\n",
       "      <td>Real Valladolid</td>\n",
       "      <td>Spain</td>\n",
       "      <td>18.07.1991</td>\n",
       "      <td>172.0</td>\n",
       "      <td>70.0</td>\n",
       "      <td>Right Midfielder</td>\n",
       "      <td>1</td>\n",
       "      <td>1</td>\n",
       "    </tr>\n",
       "    <tr>\n",
       "      <th>5</th>\n",
       "      <td>aaron-hughes</td>\n",
       "      <td>Aaron Hughes</td>\n",
       "      <td>Fulham FC</td>\n",
       "      <td>England</td>\n",
       "      <td>08.11.1979</td>\n",
       "      <td>182.0</td>\n",
       "      <td>71.0</td>\n",
       "      <td>Center Back</td>\n",
       "      <td>1</td>\n",
       "      <td>0</td>\n",
       "    </tr>\n",
       "    <tr>\n",
       "      <th>6</th>\n",
       "      <td>aleksandar-kolarov</td>\n",
       "      <td>Aleksandar Kolarov</td>\n",
       "      <td>Manchester City</td>\n",
       "      <td>England</td>\n",
       "      <td>10.11.1985</td>\n",
       "      <td>187.0</td>\n",
       "      <td>80.0</td>\n",
       "      <td>Left Fullback</td>\n",
       "      <td>1</td>\n",
       "      <td>1</td>\n",
       "    </tr>\n",
       "    <tr>\n",
       "      <th>7</th>\n",
       "      <td>alexander-tettey</td>\n",
       "      <td>Alexander Tettey</td>\n",
       "      <td>Norwich City</td>\n",
       "      <td>England</td>\n",
       "      <td>04.04.1986</td>\n",
       "      <td>180.0</td>\n",
       "      <td>68.0</td>\n",
       "      <td>Defensive Midfielder</td>\n",
       "      <td>1</td>\n",
       "      <td>0</td>\n",
       "    </tr>\n",
       "    <tr>\n",
       "      <th>8</th>\n",
       "      <td>anders-lindegaard</td>\n",
       "      <td>Anders Lindegaard</td>\n",
       "      <td>Manchester United</td>\n",
       "      <td>England</td>\n",
       "      <td>13.04.1984</td>\n",
       "      <td>193.0</td>\n",
       "      <td>80.0</td>\n",
       "      <td>Goalkeeper</td>\n",
       "      <td>1</td>\n",
       "      <td>0</td>\n",
       "    </tr>\n",
       "    <tr>\n",
       "      <th>9</th>\n",
       "      <td>andreas-beck</td>\n",
       "      <td>Andreas Beck</td>\n",
       "      <td>1899 Hoffenheim</td>\n",
       "      <td>Germany</td>\n",
       "      <td>13.03.1987</td>\n",
       "      <td>180.0</td>\n",
       "      <td>70.0</td>\n",
       "      <td>Right Fullback</td>\n",
       "      <td>1</td>\n",
       "      <td>1</td>\n",
       "    </tr>\n",
       "  </tbody>\n",
       "</table>\n",
       "</div>"
      ],
      "text/plain": [
       "          playerShort              player               club leagueCountry  \\\n",
       "0       lucas-wilchez       Lucas Wilchez      Real Zaragoza         Spain   \n",
       "1          john-utaka          John Utaka    Montpellier HSC        France   \n",
       "2         abdon-prats         Abdón Prats       RCD Mallorca         Spain   \n",
       "3          pablo-mari          Pablo Marí       RCD Mallorca         Spain   \n",
       "4          ruben-pena          Rubén Peña    Real Valladolid         Spain   \n",
       "5        aaron-hughes        Aaron Hughes          Fulham FC       England   \n",
       "6  aleksandar-kolarov  Aleksandar Kolarov    Manchester City       England   \n",
       "7    alexander-tettey    Alexander Tettey       Norwich City       England   \n",
       "8   anders-lindegaard   Anders Lindegaard  Manchester United       England   \n",
       "9        andreas-beck        Andreas Beck    1899 Hoffenheim       Germany   \n",
       "\n",
       "     birthday  height  weight              position  games  victories  \n",
       "0  31.08.1983   177.0    72.0  Attacking Midfielder      1          0  \n",
       "1  08.01.1982   179.0    82.0          Right Winger      1          0  \n",
       "2  17.12.1992   181.0    79.0                   NaN      1          0  \n",
       "3  31.08.1993   191.0    87.0           Center Back      1          1  \n",
       "4  18.07.1991   172.0    70.0      Right Midfielder      1          1  \n",
       "5  08.11.1979   182.0    71.0           Center Back      1          0  \n",
       "6  10.11.1985   187.0    80.0         Left Fullback      1          1  \n",
       "7  04.04.1986   180.0    68.0  Defensive Midfielder      1          0  \n",
       "8  13.04.1984   193.0    80.0            Goalkeeper      1          0  \n",
       "9  13.03.1987   180.0    70.0        Right Fullback      1          1  "
      ]
     },
     "execution_count": 3,
     "metadata": {},
     "output_type": "execute_result"
    }
   ],
   "source": [
    "# show the first 10 columns for the first 10 players\n",
    "df.iloc[:10,:10]"
   ]
  },
  {
   "cell_type": "code",
   "execution_count": 4,
   "metadata": {
    "collapsed": false
   },
   "outputs": [
    {
     "data": {
      "text/html": [
       "<div>\n",
       "<table border=\"1\" class=\"dataframe\">\n",
       "  <thead>\n",
       "    <tr style=\"text-align: right;\">\n",
       "      <th></th>\n",
       "      <th>ties</th>\n",
       "      <th>defeats</th>\n",
       "      <th>goals</th>\n",
       "      <th>yellowCards</th>\n",
       "      <th>yellowReds</th>\n",
       "      <th>redCards</th>\n",
       "      <th>photoID</th>\n",
       "      <th>rater1</th>\n",
       "      <th>rater2</th>\n",
       "      <th>refNum</th>\n",
       "      <th>refCountry</th>\n",
       "      <th>Alpha_3</th>\n",
       "    </tr>\n",
       "  </thead>\n",
       "  <tbody>\n",
       "    <tr>\n",
       "      <th>0</th>\n",
       "      <td>0</td>\n",
       "      <td>1</td>\n",
       "      <td>0</td>\n",
       "      <td>0</td>\n",
       "      <td>0</td>\n",
       "      <td>0</td>\n",
       "      <td>95212.jpg</td>\n",
       "      <td>0.25</td>\n",
       "      <td>0.50</td>\n",
       "      <td>1</td>\n",
       "      <td>1</td>\n",
       "      <td>GRC</td>\n",
       "    </tr>\n",
       "    <tr>\n",
       "      <th>1</th>\n",
       "      <td>0</td>\n",
       "      <td>1</td>\n",
       "      <td>0</td>\n",
       "      <td>1</td>\n",
       "      <td>0</td>\n",
       "      <td>0</td>\n",
       "      <td>1663.jpg</td>\n",
       "      <td>0.75</td>\n",
       "      <td>0.75</td>\n",
       "      <td>2</td>\n",
       "      <td>2</td>\n",
       "      <td>ZMB</td>\n",
       "    </tr>\n",
       "    <tr>\n",
       "      <th>2</th>\n",
       "      <td>1</td>\n",
       "      <td>0</td>\n",
       "      <td>0</td>\n",
       "      <td>1</td>\n",
       "      <td>0</td>\n",
       "      <td>0</td>\n",
       "      <td>NaN</td>\n",
       "      <td>NaN</td>\n",
       "      <td>NaN</td>\n",
       "      <td>3</td>\n",
       "      <td>3</td>\n",
       "      <td>ESP</td>\n",
       "    </tr>\n",
       "    <tr>\n",
       "      <th>3</th>\n",
       "      <td>0</td>\n",
       "      <td>0</td>\n",
       "      <td>0</td>\n",
       "      <td>0</td>\n",
       "      <td>0</td>\n",
       "      <td>0</td>\n",
       "      <td>NaN</td>\n",
       "      <td>NaN</td>\n",
       "      <td>NaN</td>\n",
       "      <td>3</td>\n",
       "      <td>3</td>\n",
       "      <td>ESP</td>\n",
       "    </tr>\n",
       "    <tr>\n",
       "      <th>4</th>\n",
       "      <td>0</td>\n",
       "      <td>0</td>\n",
       "      <td>0</td>\n",
       "      <td>0</td>\n",
       "      <td>0</td>\n",
       "      <td>0</td>\n",
       "      <td>NaN</td>\n",
       "      <td>NaN</td>\n",
       "      <td>NaN</td>\n",
       "      <td>3</td>\n",
       "      <td>3</td>\n",
       "      <td>ESP</td>\n",
       "    </tr>\n",
       "    <tr>\n",
       "      <th>5</th>\n",
       "      <td>0</td>\n",
       "      <td>1</td>\n",
       "      <td>0</td>\n",
       "      <td>0</td>\n",
       "      <td>0</td>\n",
       "      <td>0</td>\n",
       "      <td>3868.jpg</td>\n",
       "      <td>0.25</td>\n",
       "      <td>0.00</td>\n",
       "      <td>4</td>\n",
       "      <td>4</td>\n",
       "      <td>LUX</td>\n",
       "    </tr>\n",
       "    <tr>\n",
       "      <th>6</th>\n",
       "      <td>0</td>\n",
       "      <td>0</td>\n",
       "      <td>0</td>\n",
       "      <td>0</td>\n",
       "      <td>0</td>\n",
       "      <td>0</td>\n",
       "      <td>47704.jpg</td>\n",
       "      <td>0.00</td>\n",
       "      <td>0.25</td>\n",
       "      <td>4</td>\n",
       "      <td>4</td>\n",
       "      <td>LUX</td>\n",
       "    </tr>\n",
       "    <tr>\n",
       "      <th>7</th>\n",
       "      <td>0</td>\n",
       "      <td>1</td>\n",
       "      <td>0</td>\n",
       "      <td>0</td>\n",
       "      <td>0</td>\n",
       "      <td>0</td>\n",
       "      <td>22356.jpg</td>\n",
       "      <td>1.00</td>\n",
       "      <td>1.00</td>\n",
       "      <td>4</td>\n",
       "      <td>4</td>\n",
       "      <td>LUX</td>\n",
       "    </tr>\n",
       "    <tr>\n",
       "      <th>8</th>\n",
       "      <td>1</td>\n",
       "      <td>0</td>\n",
       "      <td>0</td>\n",
       "      <td>0</td>\n",
       "      <td>0</td>\n",
       "      <td>0</td>\n",
       "      <td>16528.jpg</td>\n",
       "      <td>0.25</td>\n",
       "      <td>0.25</td>\n",
       "      <td>4</td>\n",
       "      <td>4</td>\n",
       "      <td>LUX</td>\n",
       "    </tr>\n",
       "    <tr>\n",
       "      <th>9</th>\n",
       "      <td>0</td>\n",
       "      <td>0</td>\n",
       "      <td>0</td>\n",
       "      <td>0</td>\n",
       "      <td>0</td>\n",
       "      <td>0</td>\n",
       "      <td>36499.jpg</td>\n",
       "      <td>0.00</td>\n",
       "      <td>0.00</td>\n",
       "      <td>4</td>\n",
       "      <td>4</td>\n",
       "      <td>LUX</td>\n",
       "    </tr>\n",
       "  </tbody>\n",
       "</table>\n",
       "</div>"
      ],
      "text/plain": [
       "   ties  defeats  goals  yellowCards  yellowReds  redCards    photoID  rater1  \\\n",
       "0     0        1      0            0           0         0  95212.jpg    0.25   \n",
       "1     0        1      0            1           0         0   1663.jpg    0.75   \n",
       "2     1        0      0            1           0         0        NaN     NaN   \n",
       "3     0        0      0            0           0         0        NaN     NaN   \n",
       "4     0        0      0            0           0         0        NaN     NaN   \n",
       "5     0        1      0            0           0         0   3868.jpg    0.25   \n",
       "6     0        0      0            0           0         0  47704.jpg    0.00   \n",
       "7     0        1      0            0           0         0  22356.jpg    1.00   \n",
       "8     1        0      0            0           0         0  16528.jpg    0.25   \n",
       "9     0        0      0            0           0         0  36499.jpg    0.00   \n",
       "\n",
       "   rater2  refNum  refCountry Alpha_3  \n",
       "0    0.50       1           1     GRC  \n",
       "1    0.75       2           2     ZMB  \n",
       "2     NaN       3           3     ESP  \n",
       "3     NaN       3           3     ESP  \n",
       "4     NaN       3           3     ESP  \n",
       "5    0.00       4           4     LUX  \n",
       "6    0.25       4           4     LUX  \n",
       "7    1.00       4           4     LUX  \n",
       "8    0.25       4           4     LUX  \n",
       "9    0.00       4           4     LUX  "
      ]
     },
     "execution_count": 4,
     "metadata": {},
     "output_type": "execute_result"
    }
   ],
   "source": [
    "# show columns 10 to 21 for the first 10 players\n",
    "df.iloc[:10,10:22]"
   ]
  },
  {
   "cell_type": "code",
   "execution_count": 5,
   "metadata": {
    "collapsed": false
   },
   "outputs": [
    {
     "data": {
      "text/html": [
       "<div>\n",
       "<table border=\"1\" class=\"dataframe\">\n",
       "  <thead>\n",
       "    <tr style=\"text-align: right;\">\n",
       "      <th></th>\n",
       "      <th>meanIAT</th>\n",
       "      <th>nIAT</th>\n",
       "      <th>seIAT</th>\n",
       "      <th>meanExp</th>\n",
       "      <th>nExp</th>\n",
       "      <th>seExp</th>\n",
       "    </tr>\n",
       "  </thead>\n",
       "  <tbody>\n",
       "    <tr>\n",
       "      <th>0</th>\n",
       "      <td>0.326391</td>\n",
       "      <td>712.0</td>\n",
       "      <td>0.000564</td>\n",
       "      <td>0.396000</td>\n",
       "      <td>750.0</td>\n",
       "      <td>0.002696</td>\n",
       "    </tr>\n",
       "    <tr>\n",
       "      <th>1</th>\n",
       "      <td>0.203375</td>\n",
       "      <td>40.0</td>\n",
       "      <td>0.010875</td>\n",
       "      <td>-0.204082</td>\n",
       "      <td>49.0</td>\n",
       "      <td>0.061504</td>\n",
       "    </tr>\n",
       "    <tr>\n",
       "      <th>2</th>\n",
       "      <td>0.369894</td>\n",
       "      <td>1785.0</td>\n",
       "      <td>0.000229</td>\n",
       "      <td>0.588297</td>\n",
       "      <td>1897.0</td>\n",
       "      <td>0.001002</td>\n",
       "    </tr>\n",
       "    <tr>\n",
       "      <th>3</th>\n",
       "      <td>0.369894</td>\n",
       "      <td>1785.0</td>\n",
       "      <td>0.000229</td>\n",
       "      <td>0.588297</td>\n",
       "      <td>1897.0</td>\n",
       "      <td>0.001002</td>\n",
       "    </tr>\n",
       "    <tr>\n",
       "      <th>4</th>\n",
       "      <td>0.369894</td>\n",
       "      <td>1785.0</td>\n",
       "      <td>0.000229</td>\n",
       "      <td>0.588297</td>\n",
       "      <td>1897.0</td>\n",
       "      <td>0.001002</td>\n",
       "    </tr>\n",
       "    <tr>\n",
       "      <th>5</th>\n",
       "      <td>0.325185</td>\n",
       "      <td>127.0</td>\n",
       "      <td>0.003297</td>\n",
       "      <td>0.538462</td>\n",
       "      <td>130.0</td>\n",
       "      <td>0.013752</td>\n",
       "    </tr>\n",
       "    <tr>\n",
       "      <th>6</th>\n",
       "      <td>0.325185</td>\n",
       "      <td>127.0</td>\n",
       "      <td>0.003297</td>\n",
       "      <td>0.538462</td>\n",
       "      <td>130.0</td>\n",
       "      <td>0.013752</td>\n",
       "    </tr>\n",
       "    <tr>\n",
       "      <th>7</th>\n",
       "      <td>0.325185</td>\n",
       "      <td>127.0</td>\n",
       "      <td>0.003297</td>\n",
       "      <td>0.538462</td>\n",
       "      <td>130.0</td>\n",
       "      <td>0.013752</td>\n",
       "    </tr>\n",
       "    <tr>\n",
       "      <th>8</th>\n",
       "      <td>0.325185</td>\n",
       "      <td>127.0</td>\n",
       "      <td>0.003297</td>\n",
       "      <td>0.538462</td>\n",
       "      <td>130.0</td>\n",
       "      <td>0.013752</td>\n",
       "    </tr>\n",
       "    <tr>\n",
       "      <th>9</th>\n",
       "      <td>0.325185</td>\n",
       "      <td>127.0</td>\n",
       "      <td>0.003297</td>\n",
       "      <td>0.538462</td>\n",
       "      <td>130.0</td>\n",
       "      <td>0.013752</td>\n",
       "    </tr>\n",
       "  </tbody>\n",
       "</table>\n",
       "</div>"
      ],
      "text/plain": [
       "    meanIAT    nIAT     seIAT   meanExp    nExp     seExp\n",
       "0  0.326391   712.0  0.000564  0.396000   750.0  0.002696\n",
       "1  0.203375    40.0  0.010875 -0.204082    49.0  0.061504\n",
       "2  0.369894  1785.0  0.000229  0.588297  1897.0  0.001002\n",
       "3  0.369894  1785.0  0.000229  0.588297  1897.0  0.001002\n",
       "4  0.369894  1785.0  0.000229  0.588297  1897.0  0.001002\n",
       "5  0.325185   127.0  0.003297  0.538462   130.0  0.013752\n",
       "6  0.325185   127.0  0.003297  0.538462   130.0  0.013752\n",
       "7  0.325185   127.0  0.003297  0.538462   130.0  0.013752\n",
       "8  0.325185   127.0  0.003297  0.538462   130.0  0.013752\n",
       "9  0.325185   127.0  0.003297  0.538462   130.0  0.013752"
      ]
     },
     "execution_count": 5,
     "metadata": {},
     "output_type": "execute_result"
    }
   ],
   "source": [
    "# show the last 6 columns for the first 10 players\n",
    "df.iloc[:10,22::]"
   ]
  },
  {
   "cell_type": "code",
   "execution_count": 6,
   "metadata": {
    "collapsed": false
   },
   "outputs": [
    {
     "data": {
      "text/html": [
       "<div>\n",
       "<table border=\"1\" class=\"dataframe\">\n",
       "  <thead>\n",
       "    <tr style=\"text-align: right;\">\n",
       "      <th></th>\n",
       "      <th>height</th>\n",
       "      <th>weight</th>\n",
       "      <th>games</th>\n",
       "      <th>victories</th>\n",
       "      <th>ties</th>\n",
       "      <th>defeats</th>\n",
       "      <th>goals</th>\n",
       "      <th>yellowCards</th>\n",
       "      <th>yellowReds</th>\n",
       "      <th>redCards</th>\n",
       "      <th>rater1</th>\n",
       "      <th>rater2</th>\n",
       "      <th>refNum</th>\n",
       "      <th>refCountry</th>\n",
       "      <th>meanIAT</th>\n",
       "      <th>nIAT</th>\n",
       "      <th>seIAT</th>\n",
       "      <th>meanExp</th>\n",
       "      <th>nExp</th>\n",
       "      <th>seExp</th>\n",
       "    </tr>\n",
       "  </thead>\n",
       "  <tbody>\n",
       "    <tr>\n",
       "      <th>count</th>\n",
       "      <td>145765.000000</td>\n",
       "      <td>143785.000000</td>\n",
       "      <td>146028.000000</td>\n",
       "      <td>146028.000000</td>\n",
       "      <td>146028.000000</td>\n",
       "      <td>146028.000000</td>\n",
       "      <td>146028.000000</td>\n",
       "      <td>146028.000000</td>\n",
       "      <td>146028.000000</td>\n",
       "      <td>146028.000000</td>\n",
       "      <td>124621.000000</td>\n",
       "      <td>124621.000000</td>\n",
       "      <td>146028.000000</td>\n",
       "      <td>146028.000000</td>\n",
       "      <td>145865.000000</td>\n",
       "      <td>1.458650e+05</td>\n",
       "      <td>1.458650e+05</td>\n",
       "      <td>145865.000000</td>\n",
       "      <td>1.458650e+05</td>\n",
       "      <td>145865.000000</td>\n",
       "    </tr>\n",
       "    <tr>\n",
       "      <th>mean</th>\n",
       "      <td>181.935938</td>\n",
       "      <td>76.075662</td>\n",
       "      <td>2.921166</td>\n",
       "      <td>1.278344</td>\n",
       "      <td>0.708241</td>\n",
       "      <td>0.934581</td>\n",
       "      <td>0.338058</td>\n",
       "      <td>0.385364</td>\n",
       "      <td>0.011381</td>\n",
       "      <td>0.012559</td>\n",
       "      <td>0.264255</td>\n",
       "      <td>0.302862</td>\n",
       "      <td>1534.827444</td>\n",
       "      <td>29.642842</td>\n",
       "      <td>0.346276</td>\n",
       "      <td>1.969741e+04</td>\n",
       "      <td>6.310849e-04</td>\n",
       "      <td>0.452026</td>\n",
       "      <td>2.044023e+04</td>\n",
       "      <td>0.002994</td>\n",
       "    </tr>\n",
       "    <tr>\n",
       "      <th>std</th>\n",
       "      <td>6.738726</td>\n",
       "      <td>7.140906</td>\n",
       "      <td>3.413633</td>\n",
       "      <td>1.790725</td>\n",
       "      <td>1.116793</td>\n",
       "      <td>1.383059</td>\n",
       "      <td>0.906481</td>\n",
       "      <td>0.795333</td>\n",
       "      <td>0.107931</td>\n",
       "      <td>0.112889</td>\n",
       "      <td>0.295382</td>\n",
       "      <td>0.293020</td>\n",
       "      <td>918.736625</td>\n",
       "      <td>27.496189</td>\n",
       "      <td>0.032246</td>\n",
       "      <td>1.271262e+05</td>\n",
       "      <td>4.735857e-03</td>\n",
       "      <td>0.217469</td>\n",
       "      <td>1.306157e+05</td>\n",
       "      <td>0.019723</td>\n",
       "    </tr>\n",
       "    <tr>\n",
       "      <th>min</th>\n",
       "      <td>161.000000</td>\n",
       "      <td>54.000000</td>\n",
       "      <td>1.000000</td>\n",
       "      <td>0.000000</td>\n",
       "      <td>0.000000</td>\n",
       "      <td>0.000000</td>\n",
       "      <td>0.000000</td>\n",
       "      <td>0.000000</td>\n",
       "      <td>0.000000</td>\n",
       "      <td>0.000000</td>\n",
       "      <td>0.000000</td>\n",
       "      <td>0.000000</td>\n",
       "      <td>1.000000</td>\n",
       "      <td>1.000000</td>\n",
       "      <td>-0.047254</td>\n",
       "      <td>2.000000e+00</td>\n",
       "      <td>2.235373e-07</td>\n",
       "      <td>-1.375000</td>\n",
       "      <td>2.000000e+00</td>\n",
       "      <td>0.000001</td>\n",
       "    </tr>\n",
       "    <tr>\n",
       "      <th>25%</th>\n",
       "      <td>177.000000</td>\n",
       "      <td>71.000000</td>\n",
       "      <td>1.000000</td>\n",
       "      <td>0.000000</td>\n",
       "      <td>0.000000</td>\n",
       "      <td>0.000000</td>\n",
       "      <td>0.000000</td>\n",
       "      <td>0.000000</td>\n",
       "      <td>0.000000</td>\n",
       "      <td>0.000000</td>\n",
       "      <td>0.000000</td>\n",
       "      <td>0.000000</td>\n",
       "      <td>641.000000</td>\n",
       "      <td>7.000000</td>\n",
       "      <td>0.334684</td>\n",
       "      <td>1.785000e+03</td>\n",
       "      <td>5.454025e-05</td>\n",
       "      <td>0.336101</td>\n",
       "      <td>1.897000e+03</td>\n",
       "      <td>0.000225</td>\n",
       "    </tr>\n",
       "    <tr>\n",
       "      <th>50%</th>\n",
       "      <td>182.000000</td>\n",
       "      <td>76.000000</td>\n",
       "      <td>2.000000</td>\n",
       "      <td>1.000000</td>\n",
       "      <td>0.000000</td>\n",
       "      <td>1.000000</td>\n",
       "      <td>0.000000</td>\n",
       "      <td>0.000000</td>\n",
       "      <td>0.000000</td>\n",
       "      <td>0.000000</td>\n",
       "      <td>0.250000</td>\n",
       "      <td>0.250000</td>\n",
       "      <td>1604.000000</td>\n",
       "      <td>21.000000</td>\n",
       "      <td>0.336628</td>\n",
       "      <td>2.882000e+03</td>\n",
       "      <td>1.508847e-04</td>\n",
       "      <td>0.356446</td>\n",
       "      <td>3.011000e+03</td>\n",
       "      <td>0.000586</td>\n",
       "    </tr>\n",
       "    <tr>\n",
       "      <th>75%</th>\n",
       "      <td>187.000000</td>\n",
       "      <td>81.000000</td>\n",
       "      <td>3.000000</td>\n",
       "      <td>2.000000</td>\n",
       "      <td>1.000000</td>\n",
       "      <td>1.000000</td>\n",
       "      <td>0.000000</td>\n",
       "      <td>1.000000</td>\n",
       "      <td>0.000000</td>\n",
       "      <td>0.000000</td>\n",
       "      <td>0.250000</td>\n",
       "      <td>0.500000</td>\n",
       "      <td>2345.000000</td>\n",
       "      <td>44.000000</td>\n",
       "      <td>0.369894</td>\n",
       "      <td>7.749000e+03</td>\n",
       "      <td>2.294896e-04</td>\n",
       "      <td>0.588297</td>\n",
       "      <td>7.974000e+03</td>\n",
       "      <td>0.001002</td>\n",
       "    </tr>\n",
       "    <tr>\n",
       "      <th>max</th>\n",
       "      <td>203.000000</td>\n",
       "      <td>100.000000</td>\n",
       "      <td>47.000000</td>\n",
       "      <td>29.000000</td>\n",
       "      <td>14.000000</td>\n",
       "      <td>18.000000</td>\n",
       "      <td>23.000000</td>\n",
       "      <td>14.000000</td>\n",
       "      <td>3.000000</td>\n",
       "      <td>2.000000</td>\n",
       "      <td>1.000000</td>\n",
       "      <td>1.000000</td>\n",
       "      <td>3147.000000</td>\n",
       "      <td>161.000000</td>\n",
       "      <td>0.573793</td>\n",
       "      <td>1.975803e+06</td>\n",
       "      <td>2.862871e-01</td>\n",
       "      <td>1.800000</td>\n",
       "      <td>2.029548e+06</td>\n",
       "      <td>1.060660</td>\n",
       "    </tr>\n",
       "  </tbody>\n",
       "</table>\n",
       "</div>"
      ],
      "text/plain": [
       "              height         weight          games      victories  \\\n",
       "count  145765.000000  143785.000000  146028.000000  146028.000000   \n",
       "mean      181.935938      76.075662       2.921166       1.278344   \n",
       "std         6.738726       7.140906       3.413633       1.790725   \n",
       "min       161.000000      54.000000       1.000000       0.000000   \n",
       "25%       177.000000      71.000000       1.000000       0.000000   \n",
       "50%       182.000000      76.000000       2.000000       1.000000   \n",
       "75%       187.000000      81.000000       3.000000       2.000000   \n",
       "max       203.000000     100.000000      47.000000      29.000000   \n",
       "\n",
       "                ties        defeats          goals    yellowCards  \\\n",
       "count  146028.000000  146028.000000  146028.000000  146028.000000   \n",
       "mean        0.708241       0.934581       0.338058       0.385364   \n",
       "std         1.116793       1.383059       0.906481       0.795333   \n",
       "min         0.000000       0.000000       0.000000       0.000000   \n",
       "25%         0.000000       0.000000       0.000000       0.000000   \n",
       "50%         0.000000       1.000000       0.000000       0.000000   \n",
       "75%         1.000000       1.000000       0.000000       1.000000   \n",
       "max        14.000000      18.000000      23.000000      14.000000   \n",
       "\n",
       "          yellowReds       redCards         rater1         rater2  \\\n",
       "count  146028.000000  146028.000000  124621.000000  124621.000000   \n",
       "mean        0.011381       0.012559       0.264255       0.302862   \n",
       "std         0.107931       0.112889       0.295382       0.293020   \n",
       "min         0.000000       0.000000       0.000000       0.000000   \n",
       "25%         0.000000       0.000000       0.000000       0.000000   \n",
       "50%         0.000000       0.000000       0.250000       0.250000   \n",
       "75%         0.000000       0.000000       0.250000       0.500000   \n",
       "max         3.000000       2.000000       1.000000       1.000000   \n",
       "\n",
       "              refNum     refCountry        meanIAT          nIAT  \\\n",
       "count  146028.000000  146028.000000  145865.000000  1.458650e+05   \n",
       "mean     1534.827444      29.642842       0.346276  1.969741e+04   \n",
       "std       918.736625      27.496189       0.032246  1.271262e+05   \n",
       "min         1.000000       1.000000      -0.047254  2.000000e+00   \n",
       "25%       641.000000       7.000000       0.334684  1.785000e+03   \n",
       "50%      1604.000000      21.000000       0.336628  2.882000e+03   \n",
       "75%      2345.000000      44.000000       0.369894  7.749000e+03   \n",
       "max      3147.000000     161.000000       0.573793  1.975803e+06   \n",
       "\n",
       "              seIAT        meanExp          nExp          seExp  \n",
       "count  1.458650e+05  145865.000000  1.458650e+05  145865.000000  \n",
       "mean   6.310849e-04       0.452026  2.044023e+04       0.002994  \n",
       "std    4.735857e-03       0.217469  1.306157e+05       0.019723  \n",
       "min    2.235373e-07      -1.375000  2.000000e+00       0.000001  \n",
       "25%    5.454025e-05       0.336101  1.897000e+03       0.000225  \n",
       "50%    1.508847e-04       0.356446  3.011000e+03       0.000586  \n",
       "75%    2.294896e-04       0.588297  7.974000e+03       0.001002  \n",
       "max    2.862871e-01       1.800000  2.029548e+06       1.060660  "
      ]
     },
     "execution_count": 6,
     "metadata": {},
     "output_type": "execute_result"
    }
   ],
   "source": [
    "# the data desrption\n",
    "df.describe()"
   ]
  },
  {
   "cell_type": "markdown",
   "metadata": {},
   "source": [
    "As we can see from the first 10 players and data desription, there are some inconsistencies in data, which are as following:\n",
    "- 1) Some players' photo are not available. Hence, there is no information on their skin color.\n",
    "- 2) The race IAT informatios are not availbale for some regions/players.\n",
    "- 3) For some players, the height/weight informations are not given.\n",
    "- 4) The two raters disagree about player skintone.\n",
    "- 5) There are some refs with less than 22 dyads. However, any ref officiated a full game in one of our selected premier leagues should at least 22 dyads (2 teams of 11 players each, more if substitutions occur)."
   ]
  },
  {
   "cell_type": "code",
   "execution_count": 7,
   "metadata": {
    "collapsed": false
   },
   "outputs": [
    {
     "name": "stdout",
     "output_type": "stream",
     "text": [
      "The size of data before any cleaning: (146028, 28)\n",
      "The size of data after droping all players whose skin color are not available: (124621, 28)\n"
     ]
    }
   ],
   "source": [
    "# First of all, we remove all players whose skin color are not available\n",
    "print('The size of data before any cleaning:', df.shape)\n",
    "df.dropna(subset=['photoID', 'rater1', 'rater2'], how='any', inplace=True)\n",
    "print('The size of data after droping all players whose skin color are not available:', df.shape)"
   ]
  },
  {
   "cell_type": "markdown",
   "metadata": {},
   "source": [
    "So we almost loose 20000 dyads. Now let see the description of the resulting dataframe."
   ]
  },
  {
   "cell_type": "code",
   "execution_count": 8,
   "metadata": {
    "collapsed": false
   },
   "outputs": [
    {
     "data": {
      "text/html": [
       "<div>\n",
       "<table border=\"1\" class=\"dataframe\">\n",
       "  <thead>\n",
       "    <tr style=\"text-align: right;\">\n",
       "      <th></th>\n",
       "      <th>height</th>\n",
       "      <th>weight</th>\n",
       "      <th>games</th>\n",
       "      <th>victories</th>\n",
       "      <th>ties</th>\n",
       "      <th>defeats</th>\n",
       "      <th>goals</th>\n",
       "      <th>yellowCards</th>\n",
       "      <th>yellowReds</th>\n",
       "      <th>redCards</th>\n",
       "      <th>rater1</th>\n",
       "      <th>rater2</th>\n",
       "      <th>refNum</th>\n",
       "      <th>refCountry</th>\n",
       "      <th>meanIAT</th>\n",
       "      <th>nIAT</th>\n",
       "      <th>seIAT</th>\n",
       "      <th>meanExp</th>\n",
       "      <th>nExp</th>\n",
       "      <th>seExp</th>\n",
       "    </tr>\n",
       "  </thead>\n",
       "  <tbody>\n",
       "    <tr>\n",
       "      <th>count</th>\n",
       "      <td>124575.000000</td>\n",
       "      <td>123868.000000</td>\n",
       "      <td>124621.000000</td>\n",
       "      <td>124621.000000</td>\n",
       "      <td>124621.000000</td>\n",
       "      <td>124621.000000</td>\n",
       "      <td>124621.000000</td>\n",
       "      <td>124621.000000</td>\n",
       "      <td>124621.000000</td>\n",
       "      <td>124621.000000</td>\n",
       "      <td>124621.000000</td>\n",
       "      <td>124621.000000</td>\n",
       "      <td>124621.000000</td>\n",
       "      <td>124621.000000</td>\n",
       "      <td>124468.000000</td>\n",
       "      <td>1.244680e+05</td>\n",
       "      <td>1.244680e+05</td>\n",
       "      <td>124468.000000</td>\n",
       "      <td>1.244680e+05</td>\n",
       "      <td>124468.000000</td>\n",
       "    </tr>\n",
       "    <tr>\n",
       "      <th>mean</th>\n",
       "      <td>182.125330</td>\n",
       "      <td>76.368102</td>\n",
       "      <td>2.993613</td>\n",
       "      <td>1.342663</td>\n",
       "      <td>0.714968</td>\n",
       "      <td>0.935982</td>\n",
       "      <td>0.353432</td>\n",
       "      <td>0.399170</td>\n",
       "      <td>0.012061</td>\n",
       "      <td>0.012751</td>\n",
       "      <td>0.264255</td>\n",
       "      <td>0.302862</td>\n",
       "      <td>1531.111546</td>\n",
       "      <td>29.488096</td>\n",
       "      <td>0.348123</td>\n",
       "      <td>1.817187e+04</td>\n",
       "      <td>6.287461e-04</td>\n",
       "      <td>0.463797</td>\n",
       "      <td>1.884147e+04</td>\n",
       "      <td>0.002988</td>\n",
       "    </tr>\n",
       "    <tr>\n",
       "      <th>std</th>\n",
       "      <td>6.804843</td>\n",
       "      <td>7.188595</td>\n",
       "      <td>3.580429</td>\n",
       "      <td>1.879913</td>\n",
       "      <td>1.143873</td>\n",
       "      <td>1.422906</td>\n",
       "      <td>0.944250</td>\n",
       "      <td>0.821651</td>\n",
       "      <td>0.111052</td>\n",
       "      <td>0.113901</td>\n",
       "      <td>0.295382</td>\n",
       "      <td>0.293020</td>\n",
       "      <td>916.314559</td>\n",
       "      <td>27.963752</td>\n",
       "      <td>0.032087</td>\n",
       "      <td>1.261437e+05</td>\n",
       "      <td>4.788647e-03</td>\n",
       "      <td>0.219206</td>\n",
       "      <td>1.296022e+05</td>\n",
       "      <td>0.019719</td>\n",
       "    </tr>\n",
       "    <tr>\n",
       "      <th>min</th>\n",
       "      <td>161.000000</td>\n",
       "      <td>54.000000</td>\n",
       "      <td>1.000000</td>\n",
       "      <td>0.000000</td>\n",
       "      <td>0.000000</td>\n",
       "      <td>0.000000</td>\n",
       "      <td>0.000000</td>\n",
       "      <td>0.000000</td>\n",
       "      <td>0.000000</td>\n",
       "      <td>0.000000</td>\n",
       "      <td>0.000000</td>\n",
       "      <td>0.000000</td>\n",
       "      <td>1.000000</td>\n",
       "      <td>1.000000</td>\n",
       "      <td>-0.047254</td>\n",
       "      <td>2.000000e+00</td>\n",
       "      <td>2.235373e-07</td>\n",
       "      <td>-1.375000</td>\n",
       "      <td>2.000000e+00</td>\n",
       "      <td>0.000001</td>\n",
       "    </tr>\n",
       "    <tr>\n",
       "      <th>25%</th>\n",
       "      <td>178.000000</td>\n",
       "      <td>71.000000</td>\n",
       "      <td>1.000000</td>\n",
       "      <td>0.000000</td>\n",
       "      <td>0.000000</td>\n",
       "      <td>0.000000</td>\n",
       "      <td>0.000000</td>\n",
       "      <td>0.000000</td>\n",
       "      <td>0.000000</td>\n",
       "      <td>0.000000</td>\n",
       "      <td>0.000000</td>\n",
       "      <td>0.000000</td>\n",
       "      <td>652.000000</td>\n",
       "      <td>7.000000</td>\n",
       "      <td>0.334684</td>\n",
       "      <td>1.785000e+03</td>\n",
       "      <td>5.454025e-05</td>\n",
       "      <td>0.336101</td>\n",
       "      <td>1.897000e+03</td>\n",
       "      <td>0.000225</td>\n",
       "    </tr>\n",
       "    <tr>\n",
       "      <th>50%</th>\n",
       "      <td>183.000000</td>\n",
       "      <td>76.000000</td>\n",
       "      <td>1.000000</td>\n",
       "      <td>1.000000</td>\n",
       "      <td>0.000000</td>\n",
       "      <td>1.000000</td>\n",
       "      <td>0.000000</td>\n",
       "      <td>0.000000</td>\n",
       "      <td>0.000000</td>\n",
       "      <td>0.000000</td>\n",
       "      <td>0.250000</td>\n",
       "      <td>0.250000</td>\n",
       "      <td>1574.000000</td>\n",
       "      <td>15.000000</td>\n",
       "      <td>0.336628</td>\n",
       "      <td>2.882000e+03</td>\n",
       "      <td>1.508847e-04</td>\n",
       "      <td>0.356446</td>\n",
       "      <td>3.011000e+03</td>\n",
       "      <td>0.000586</td>\n",
       "    </tr>\n",
       "    <tr>\n",
       "      <th>75%</th>\n",
       "      <td>187.000000</td>\n",
       "      <td>81.000000</td>\n",
       "      <td>3.000000</td>\n",
       "      <td>2.000000</td>\n",
       "      <td>1.000000</td>\n",
       "      <td>1.000000</td>\n",
       "      <td>0.000000</td>\n",
       "      <td>1.000000</td>\n",
       "      <td>0.000000</td>\n",
       "      <td>0.000000</td>\n",
       "      <td>0.250000</td>\n",
       "      <td>0.500000</td>\n",
       "      <td>2332.000000</td>\n",
       "      <td>45.000000</td>\n",
       "      <td>0.369894</td>\n",
       "      <td>7.749000e+03</td>\n",
       "      <td>2.294896e-04</td>\n",
       "      <td>0.588297</td>\n",
       "      <td>7.974000e+03</td>\n",
       "      <td>0.001002</td>\n",
       "    </tr>\n",
       "    <tr>\n",
       "      <th>max</th>\n",
       "      <td>203.000000</td>\n",
       "      <td>100.000000</td>\n",
       "      <td>47.000000</td>\n",
       "      <td>29.000000</td>\n",
       "      <td>14.000000</td>\n",
       "      <td>18.000000</td>\n",
       "      <td>23.000000</td>\n",
       "      <td>14.000000</td>\n",
       "      <td>3.000000</td>\n",
       "      <td>2.000000</td>\n",
       "      <td>1.000000</td>\n",
       "      <td>1.000000</td>\n",
       "      <td>3147.000000</td>\n",
       "      <td>161.000000</td>\n",
       "      <td>0.573793</td>\n",
       "      <td>1.975803e+06</td>\n",
       "      <td>2.862871e-01</td>\n",
       "      <td>1.800000</td>\n",
       "      <td>2.029548e+06</td>\n",
       "      <td>1.060660</td>\n",
       "    </tr>\n",
       "  </tbody>\n",
       "</table>\n",
       "</div>"
      ],
      "text/plain": [
       "              height         weight          games      victories  \\\n",
       "count  124575.000000  123868.000000  124621.000000  124621.000000   \n",
       "mean      182.125330      76.368102       2.993613       1.342663   \n",
       "std         6.804843       7.188595       3.580429       1.879913   \n",
       "min       161.000000      54.000000       1.000000       0.000000   \n",
       "25%       178.000000      71.000000       1.000000       0.000000   \n",
       "50%       183.000000      76.000000       1.000000       1.000000   \n",
       "75%       187.000000      81.000000       3.000000       2.000000   \n",
       "max       203.000000     100.000000      47.000000      29.000000   \n",
       "\n",
       "                ties        defeats          goals    yellowCards  \\\n",
       "count  124621.000000  124621.000000  124621.000000  124621.000000   \n",
       "mean        0.714968       0.935982       0.353432       0.399170   \n",
       "std         1.143873       1.422906       0.944250       0.821651   \n",
       "min         0.000000       0.000000       0.000000       0.000000   \n",
       "25%         0.000000       0.000000       0.000000       0.000000   \n",
       "50%         0.000000       1.000000       0.000000       0.000000   \n",
       "75%         1.000000       1.000000       0.000000       1.000000   \n",
       "max        14.000000      18.000000      23.000000      14.000000   \n",
       "\n",
       "          yellowReds       redCards         rater1         rater2  \\\n",
       "count  124621.000000  124621.000000  124621.000000  124621.000000   \n",
       "mean        0.012061       0.012751       0.264255       0.302862   \n",
       "std         0.111052       0.113901       0.295382       0.293020   \n",
       "min         0.000000       0.000000       0.000000       0.000000   \n",
       "25%         0.000000       0.000000       0.000000       0.000000   \n",
       "50%         0.000000       0.000000       0.250000       0.250000   \n",
       "75%         0.000000       0.000000       0.250000       0.500000   \n",
       "max         3.000000       2.000000       1.000000       1.000000   \n",
       "\n",
       "              refNum     refCountry        meanIAT          nIAT  \\\n",
       "count  124621.000000  124621.000000  124468.000000  1.244680e+05   \n",
       "mean     1531.111546      29.488096       0.348123  1.817187e+04   \n",
       "std       916.314559      27.963752       0.032087  1.261437e+05   \n",
       "min         1.000000       1.000000      -0.047254  2.000000e+00   \n",
       "25%       652.000000       7.000000       0.334684  1.785000e+03   \n",
       "50%      1574.000000      15.000000       0.336628  2.882000e+03   \n",
       "75%      2332.000000      45.000000       0.369894  7.749000e+03   \n",
       "max      3147.000000     161.000000       0.573793  1.975803e+06   \n",
       "\n",
       "              seIAT        meanExp          nExp          seExp  \n",
       "count  1.244680e+05  124468.000000  1.244680e+05  124468.000000  \n",
       "mean   6.287461e-04       0.463797  1.884147e+04       0.002988  \n",
       "std    4.788647e-03       0.219206  1.296022e+05       0.019719  \n",
       "min    2.235373e-07      -1.375000  2.000000e+00       0.000001  \n",
       "25%    5.454025e-05       0.336101  1.897000e+03       0.000225  \n",
       "50%    1.508847e-04       0.356446  3.011000e+03       0.000586  \n",
       "75%    2.294896e-04       0.588297  7.974000e+03       0.001002  \n",
       "max    2.862871e-01       1.800000  2.029548e+06       1.060660  "
      ]
     },
     "execution_count": 8,
     "metadata": {},
     "output_type": "execute_result"
    }
   ],
   "source": [
    "df.describe()"
   ]
  },
  {
   "cell_type": "markdown",
   "metadata": {},
   "source": [
    "The race IAT informatios are also crucial to make any conclusion on refs. Let first see for how many rows these informations are not available."
   ]
  },
  {
   "cell_type": "code",
   "execution_count": 9,
   "metadata": {
    "collapsed": false
   },
   "outputs": [
    {
     "data": {
      "text/plain": [
       "(153, 28)"
      ]
     },
     "execution_count": 9,
     "metadata": {},
     "output_type": "execute_result"
    }
   ],
   "source": [
    "df[df.iloc[:, 22::].isnull().any(axis=1)].shape"
   ]
  },
  {
   "cell_type": "markdown",
   "metadata": {},
   "source": [
    "Hence, there are 153 row with missing informations in race IAT. Lets drop them."
   ]
  },
  {
   "cell_type": "code",
   "execution_count": 10,
   "metadata": {
    "collapsed": false
   },
   "outputs": [
    {
     "name": "stdout",
     "output_type": "stream",
     "text": [
      "The size of data is now (124468, 28)\n"
     ]
    }
   ],
   "source": [
    "df.dropna(subset=df.columns[22::], how='any', inplace=True)\n",
    "print('The size of data is now', df.shape)"
   ]
  },
  {
   "cell_type": "markdown",
   "metadata": {},
   "source": [
    "Lets consider the data with missing values for wieght and height columns."
   ]
  },
  {
   "cell_type": "code",
   "execution_count": 11,
   "metadata": {
    "collapsed": false
   },
   "outputs": [
    {
     "name": "stdout",
     "output_type": "stream",
     "text": [
      "Number of missing weight data: 753\n",
      "Number of missing height data: 46\n"
     ]
    }
   ],
   "source": [
    "print('Number of missing weight data:', sum(df['weight'].isnull()))\n",
    "print('Number of missing height data:', sum(df['height'].isnull()))"
   ]
  },
  {
   "cell_type": "markdown",
   "metadata": {},
   "source": [
    "It should be safe to remove data with missing height or weight as we loose less than 1% of data."
   ]
  },
  {
   "cell_type": "code",
   "execution_count": 12,
   "metadata": {
    "collapsed": false
   },
   "outputs": [
    {
     "name": "stdout",
     "output_type": "stream",
     "text": [
      "The size of data after removing all NaN is (123715, 28)\n"
     ]
    }
   ],
   "source": [
    "df.dropna(subset=['weight', 'height'], how='any', inplace=True)\n",
    "print('The size of data after removing all NaN is', df.shape)"
   ]
  },
  {
   "cell_type": "code",
   "execution_count": 13,
   "metadata": {
    "collapsed": false
   },
   "outputs": [],
   "source": [
    "from scipy.stats import mode\n",
    "# Adding new columns\n",
    "df['allreds'] = df['yellowReds'] + df['redCards']\n",
    "df['refCount'] = df.groupby('refNum')['refNum'].transform('count')"
   ]
  },
  {
   "cell_type": "markdown",
   "metadata": {},
   "source": [
    "As we also mentioned before, there is some inconsistency in the raters' opinion. It is necessary to find a way to aggregate their opinions. we use simple average function to fuse two raters' optinion. Note that instead of having 5 different ranges for skin color, now we have 9 ranges."
   ]
  },
  {
   "cell_type": "code",
   "execution_count": 14,
   "metadata": {
    "collapsed": true
   },
   "outputs": [],
   "source": [
    "df['skintone'] = (df['rater1'] + df['rater2'])/2"
   ]
  },
  {
   "cell_type": "code",
   "execution_count": 15,
   "metadata": {
    "collapsed": false
   },
   "outputs": [],
   "source": [
    "# Player position is not specified for many players\n",
    "df.loc[df['position'].isnull(), 'position'] = 'Any'"
   ]
  },
  {
   "cell_type": "markdown",
   "metadata": {},
   "source": [
    "We also remove all rows that have `refCount` less than 22. This is based on the observation [here](http://nbviewer.jupyter.org/github/mathewzilla/redcard/blob/master/Crowdstorming_visualisation.ipynb), where it is assumed that the data corresponding to the referees with less than 22 dayads is incomplete. The reason is if a referee judges a game he should be in at least 22 dayds."
   ]
  },
  {
   "cell_type": "code",
   "execution_count": 16,
   "metadata": {
    "collapsed": false
   },
   "outputs": [],
   "source": [
    "df = df[df['refCount'] >= 22]"
   ]
  },
  {
   "cell_type": "code",
   "execution_count": 17,
   "metadata": {
    "collapsed": true
   },
   "outputs": [],
   "source": [
    "# Adding new column for birthyear\n",
    "df['birthyear'] = df['birthday'].apply(lambda x: int(x.split('.')[-1]))"
   ]
  },
  {
   "cell_type": "code",
   "execution_count": 18,
   "metadata": {
    "collapsed": true
   },
   "outputs": [],
   "source": [
    "# Reset the index\n",
    "df.reset_index(drop=True, inplace=True)"
   ]
  },
  {
   "cell_type": "code",
   "execution_count": 19,
   "metadata": {
    "collapsed": true
   },
   "outputs": [],
   "source": [
    "# Save the data without NaN\n",
    "df.to_csv('./dataset/players_without_nan.csv', index=False, encoding='utf-8')"
   ]
  },
  {
   "cell_type": "markdown",
   "metadata": {},
   "source": [
    "## 2- Discretize Features"
   ]
  },
  {
   "cell_type": "markdown",
   "metadata": {},
   "source": [
    "The original decision tree algorithm relies on categorical/discrete features that will yield the largest information gain for categorical/discrete targets. Hence, it seems to be crucial to discretize features for random forest classifier. However, scikit-learn library uses an optimised version of the CART algorithm. CART (Classification and Regression Trees) supports numerical feature and target variables. It constructs binary trees using the feature and threshold that yield the largest information gain at each node. See [here](http://scikit-learn.org/stable/modules/tree.html#classification) for more information. Thus, there is no need to discretize features and pass them to random forest classifier. As it is also suggested [here](http://stackoverflow.com/a/32681750/5267664) it is not advisable to discretize the data yourself."
   ]
  },
  {
   "cell_type": "markdown",
   "metadata": {},
   "source": [
    "## 3- Learn Random Forest Classifier"
   ]
  },
  {
   "cell_type": "code",
   "execution_count": 20,
   "metadata": {
    "collapsed": false
   },
   "outputs": [],
   "source": [
    "#===============================================================================\n",
    "# Import libraries\n",
    "#===============================================================================\n",
    "from sklearn.ensemble import RandomForestClassifier\n",
    "from sklearn.model_selection import train_test_split, StratifiedKFold, KFold\n",
    "from sklearn.preprocessing import StandardScaler, MinMaxScaler\n",
    "from sklearn.metrics import f1_score, accuracy_score, confusion_matrix, make_scorer,recall_score\n",
    "from sklearn.feature_selection import RFECV\n",
    "import random"
   ]
  },
  {
   "cell_type": "markdown",
   "metadata": {},
   "source": [
    "We first implement the decision tree classifier to have an initial understanding of features quality. For this case, we consider the binary classification problem; i.e., a player with skintone less than 0.5 considered as white skin; otherwise considered as black skin."
   ]
  },
  {
   "cell_type": "code",
   "execution_count": 21,
   "metadata": {
    "collapsed": true
   },
   "outputs": [],
   "source": [
    "binary_targets = df['skintone'].apply(lambda x: 0 if x <= 0.5 else 1).values"
   ]
  },
  {
   "cell_type": "code",
   "execution_count": 22,
   "metadata": {
    "collapsed": false
   },
   "outputs": [],
   "source": [
    "meaningfull_cols = ['leagueCountry',\n",
    "                    'height',\n",
    "                    'weight',\n",
    "                    'birthyear',\n",
    "                    'position',\n",
    "                    'games',\n",
    "                    'victories',\n",
    "                    'ties',\n",
    "                    'defeats',\n",
    "                    'goals',\n",
    "                    'yellowCards',\n",
    "                    'yellowReds',\n",
    "                    'redCards',\n",
    "                    'allreds',\n",
    "                    'meanIAT',\n",
    "                    'nIAT',\n",
    "                    'seIAT',\n",
    "                    'meanExp',\n",
    "                    'nExp',\n",
    "                    'seExp'\n",
    "                   ]\n",
    "features = df.loc[:, meaningfull_cols]\n",
    "categorical_feature = [val \n",
    "                       for val in meaningfull_cols\n",
    "                       if val in df.columns[df.dtypes == object]]\n",
    "# Convert categorical features to Integer features\n",
    "# We could use pd.factoize of pandas as well\n",
    "for catg_name in categorical_feature:\n",
    "    catg = list(enumerate(sorted(np.unique(features[catg_name]))))\n",
    "    catg_dict = {name: i for i, name in catg}\n",
    "    features[catg_name] = features[catg_name].apply(lambda x: catg_dict[x]).astype(int)\n",
    "\n",
    "# in case you are interested in binary coding for categorical features,\n",
    "# you can use these lines of code:\n",
    "\n",
    "# bin_catg = pd.get_dummies(df[categorical_feature])\n",
    "# features.drop(categorical_feature, axis=1, inplace=True)\n",
    "# features = features.join(bin_catg)"
   ]
  },
  {
   "cell_type": "markdown",
   "metadata": {},
   "source": [
    "Now, it is the time to fit the Random Forest Classifier to the binary classification problem. Before that, we split the dataset into two different sets; train and test data. As the classification problem is highly skewed; i.e., the number of players has white skin is much more than the black skin ones, we use the stratigy option in `train_test_split` function. The number of trees in our Random Forest Classifier is set to 256 and we use parallel processing to accelerate the training phase. To have a better generalization, we also set oob_score to true. It acctually uses the unused data in each bootstraping step to prune the each tree in the forest."
   ]
  },
  {
   "cell_type": "code",
   "execution_count": 23,
   "metadata": {
    "collapsed": false
   },
   "outputs": [
    {
     "name": "stdout",
     "output_type": "stream",
     "text": [
      "Training...\n",
      "is done!\n"
     ]
    }
   ],
   "source": [
    "x_train, x_test, y_train, y_test = train_test_split(\n",
    "    features.values, binary_targets, test_size=0.25, stratify=binary_targets)\n",
    "print('Training...')\n",
    "forest_c = RandomForestClassifier(n_estimators=256, n_jobs=-1, oob_score=True)\n",
    "forest = forest_c.fit(x_train, y_train)\n",
    "print('is done!')"
   ]
  },
  {
   "cell_type": "markdown",
   "metadata": {},
   "source": [
    "To show the performance of the classifier on the test data, we use three different metrics:\n",
    "- **accuracy score**: The most intuitive classification score. It works well for balanced data but it is not informative for imbalanced data.\n",
    "- **F1-score**: It can be interpreted as a weighted average of the precision and recall. It is more suitable when we face skewed labels like this dataset.\n",
    "- **Recall**: It can be intreperted as the power of classifier to classify the positive samples"
   ]
  },
  {
   "cell_type": "code",
   "execution_count": 24,
   "metadata": {
    "collapsed": false
   },
   "outputs": [
    {
     "name": "stdout",
     "output_type": "stream",
     "text": [
      "Accuracy score for test data is: 0.979258463192\n",
      "F1-score for test data is: 0.931324872494\n",
      "Recall score for test is: 0.88583032491\n",
      "Confusion matrix for test is:\n",
      " [[23410    73]\n",
      " [  506  3926]]\n"
     ]
    }
   ],
   "source": [
    "print('Accuracy score for test data is:', accuracy_score(y_test, forest_c.predict(x_test)))\n",
    "print('F1-score for test data is:', f1_score(y_test, forest_c.predict(x_test)))\n",
    "print('Recall score for test is:', recall_score(y_test, forest_c.predict(x_test)))\n",
    "print('Confusion matrix for test is:\\n', confusion_matrix(y_test, forest_c.predict(x_test)))"
   ]
  },
  {
   "cell_type": "markdown",
   "metadata": {},
   "source": [
    "However, the above results are kind of cheating. We know that there exist several pairs for a player. Thus, it is possible that a player be in both test and train set but with different referees in dyads! Taking advantage of the informations , we actually memorize players' skin color in the train set and we just recall them once it appears in the test dataset. As a result in the next step, we are going to split the data with respect to the name of the players."
   ]
  },
  {
   "cell_type": "markdown",
   "metadata": {},
   "source": [
    "### Aggregating the data over the referee:\n",
    "Note that in this prediction, it might be possible that a player with different referees assigned to different classes, so we aggregate the information over the referees to get a better prediction. We  take average over the predictions of a player and predict his skin color based on this prediction."
   ]
  },
  {
   "cell_type": "code",
   "execution_count": 25,
   "metadata": {
    "collapsed": false
   },
   "outputs": [],
   "source": [
    "df_aggregated = df.groupby('playerShort').mean()\n",
    "df_aggregated['position'] = df.groupby('playerShort')['position'].first()\n",
    "df_aggregated['leagueCountry'] = df.groupby('playerShort')['leagueCountry'].first()\n"
   ]
  },
  {
   "cell_type": "markdown",
   "metadata": {},
   "source": [
    "Next, we choose important variables and factorize the categories to integer numbers"
   ]
  },
  {
   "cell_type": "code",
   "execution_count": 26,
   "metadata": {
    "collapsed": false
   },
   "outputs": [],
   "source": [
    "binary_targets = df_aggregated['skintone'].apply(lambda x: 0 if x <= 0.5 else 1).values\n",
    "meaningfull_cols = ['leagueCountry',\n",
    "                    'height',\n",
    "                    'weight',\n",
    "                    'birthyear',\n",
    "                    'position',\n",
    "                    'games',\n",
    "                    'victories',\n",
    "                    'ties',\n",
    "                    'defeats',\n",
    "                    'goals',\n",
    "                    'yellowCards',\n",
    "                    'yellowReds',\n",
    "                    'redCards',\n",
    "                    'allreds',\n",
    "                    'meanIAT',\n",
    "                    'nIAT',\n",
    "                    'seIAT',\n",
    "                    'meanExp',\n",
    "                    'nExp',\n",
    "                    'seExp'\n",
    "                   ]\n",
    "features = df_aggregated.loc[:, meaningfull_cols]\n",
    "categorical_feature = [val \n",
    "                       for val in meaningfull_cols\n",
    "                       if val in df.columns[df.dtypes == object]]\n",
    "# Convert categorical features to Integer features\n",
    "# We could use pd.factoize of pandas as well\n",
    "for catg_name in categorical_feature:\n",
    "    catg = list(enumerate(sorted(np.unique(features[catg_name]))))\n",
    "    catg_dict = {name: i for i, name in catg}\n",
    "    features[catg_name] = features[catg_name].apply(lambda x: catg_dict[x]).astype(int)\n"
   ]
  },
  {
   "cell_type": "code",
   "execution_count": 27,
   "metadata": {
    "collapsed": false
   },
   "outputs": [],
   "source": [
    "def train_forest(depth, n_trees ,features):\n",
    "    # First split the data to test and train using K-fold cross validation\n",
    "    #x_train, x_test, y_train, y_test = train_test_split(\n",
    "    #    features.values, binary_targets, test_size=0.25, stratify=binary_targets)\n",
    "    num_folds = 10\n",
    "    skf = StratifiedKFold(n_splits=num_folds)\n",
    "    f1_sc = 0\n",
    "    accuracy = 0\n",
    "    conf_matrix = np.zeros([2,2])\n",
    "    for train_index, test_index in skf.split(features.values, binary_targets):\n",
    "        X_train = features.values[train_index]\n",
    "        Y_train = binary_targets[train_index]\n",
    "        X_test = features.values[test_index]\n",
    "        Y_test = binary_targets[test_index]\n",
    "        # Train the random forest\n",
    "        forest_c = RandomForestClassifier(n_estimators=n_trees, n_jobs=-1, max_depth=depth) #, oob_score=True\n",
    "        forest = forest_c.fit(X_train,Y_train)\n",
    "        # Calculate the scores\n",
    "        accuracy += accuracy_score(Y_test, forest_c.predict(X_test))\n",
    "        f1_sc += f1_score(Y_test, forest_c.predict(X_test))\n",
    "        conf_matrix += confusion_matrix(Y_test, forest_c.predict(X_test))\n",
    "    f1_sc /= num_folds\n",
    "    accuracy /= num_folds\n",
    "    conf_matrix /= num_folds\n",
    "    return accuracy,f1_sc, conf_matrix"
   ]
  },
  {
   "cell_type": "markdown",
   "metadata": {},
   "source": [
    "To get a better estimation of the error we do each training 5 times."
   ]
  },
  {
   "cell_type": "code",
   "execution_count": 115,
   "metadata": {
    "collapsed": false
   },
   "outputs": [
    {
     "name": "stdout",
     "output_type": "stream",
     "text": [
      "Accuracy score for test data is: 0.857333006696\n",
      "F1-score for test data is: 0.384744078813\n",
      "Confusion matrix for test is:\n",
      " [[ 126.7    3.3]\n",
      " [  19.     7.3]]\n"
     ]
    }
   ],
   "source": [
    "ac = []\n",
    "f1 = []\n",
    "confus_matrix = np.zeros([2,2])\n",
    "accuracy,f1_sc, conf_matrix = train_forest(20,256,features)\n",
    "ac = accuracy\n",
    "f1 = f1_sc\n",
    "confus_matrix = conf_matrix\n",
    "\n",
    "print('Accuracy score for test data is:', ac)\n",
    "print('F1-score for test data is:', f1)\n",
    "print('Confusion matrix for test is:\\n', confus_matrix)"
   ]
  },
  {
   "cell_type": "markdown",
   "metadata": {},
   "source": [
    "### CV over the paramters\n",
    "We change the paramterss to get a feeling of the bais and variance of the model for different number of trees. With increasing the number of trees the variance decreases, however the training time increases as well. Hence, there is a tradeoff between the accuracy and training time."
   ]
  },
  {
   "cell_type": "code",
   "execution_count": 49,
   "metadata": {
    "collapsed": false
   },
   "outputs": [
    {
     "name": "stdout",
     "output_type": "stream",
     "text": [
      "0.388049572369\n"
     ]
    }
   ],
   "source": [
    "trees_list = [5,20, 100, 400, 1000, 2000,5000]\n",
    "ac = []\n",
    "f1 = []\n",
    "confus_matrix = np.zeros([2,2])\n",
    "for tree in trees_list:\n",
    "    accur_temp = 0\n",
    "    f1_scor_temp = 0\n",
    "    accuracy,f1_sc, conf_matrix = train_forest(20,tree,features)\n",
    "    accur_temp += accuracy\n",
    "    f1_scor_temp += f1_sc\n",
    "    ac.append(accur_temp)\n",
    "    f1.append(f1_scor_temp)\n",
    "    print(f1[-1])"
   ]
  },
  {
   "cell_type": "code",
   "execution_count": 61,
   "metadata": {
    "collapsed": false,
    "scrolled": false
   },
   "outputs": [
    {
     "name": "stdout",
     "output_type": "stream",
     "text": [
      "[5, 20, 100, 400, 1000, 2000, 5000]\n"
     ]
    },
    {
     "data": {
      "image/png": "[encoded data removed]",
      "text/plain": [
       "<matplotlib.figure.Figure at 0x129e100f0>"
      ]
     },
     "metadata": {},
     "output_type": "display_data"
    },
    {
     "data": {
      "text/plain": [
       "<matplotlib.figure.Figure at 0x12e7c6eb8>"
      ]
     },
     "metadata": {},
     "output_type": "display_data"
    }
   ],
   "source": [
    "f1 = [0.414, 0.381, 0.388, 0.38, 0.389, 0.387,0.388]\n",
    "ac = [0.841, 0.854, 0.855, 0.8556, 0.857, 0.856,0.857]\n",
    "ax = plt.subplot(111)  \n",
    "ax.spines[\"top\"].set_visible(False)  \n",
    "ax.spines[\"right\"].set_visible(False)  \n",
    "plt.plot(trees_list,ac,Linewidth=2)\n",
    "plt.xlabel(\"# of trees\", fontsize=16)  \n",
    "plt.ylabel(\"accuracy\", fontsize=16)  \n",
    "plt.xticks(fontsize=14)\n",
    "plt.yticks(fontsize=14)  \n",
    "plt.figure(figsize=(12, 9))  \n",
    "#ax.set_xscale('log')\n",
    "print(trees_list)"
   ]
  },
  {
   "cell_type": "markdown",
   "metadata": {},
   "source": [
    "As it is seen with increasing the number of trees first the accuracy increases, the reason is with increasing the number of trees the variance decrease. However the training time increase"
   ]
  },
  {
   "cell_type": "markdown",
   "metadata": {},
   "source": [
    "Next we change the depth to see the effect of depth of the trees. "
   ]
  },
  {
   "cell_type": "code",
   "execution_count": 55,
   "metadata": {
    "collapsed": false
   },
   "outputs": [],
   "source": [
    "depth_list = list(map(lambda x: int(x),np.logspace(0.8,4,10)))\n",
    "depth_list = [3,10,20,40,100,500]\n",
    "ac = []\n",
    "f1 = []\n",
    "for depth in depth_list:\n",
    "    accur_temp = 0\n",
    "    f1_scor_temp = 0\n",
    "    accuracy,f1_sc, conf_matrix = train_forest(depth,50,features)\n",
    "    ac.append(accuracy)\n",
    "    f1.append(f1_sc)"
   ]
  },
  {
   "cell_type": "code",
   "execution_count": 59,
   "metadata": {
    "collapsed": false,
    "scrolled": true
   },
   "outputs": [
    {
     "name": "stdout",
     "output_type": "stream",
     "text": [
      "[0.85412787849093574, 0.85733300669606405, 0.85349501878164291, 0.85478115302956059, 0.85797811530295609, 0.85414012738853506]\n"
     ]
    },
    {
     "data": {
      "image/png": "[encoded data removed]",
      "text/plain": [
       "<matplotlib.figure.Figure at 0x11a44e160>"
      ]
     },
     "metadata": {},
     "output_type": "display_data"
    }
   ],
   "source": [
    "plt.plot(depth_list,f1,Linewidth=2)\n",
    "ax = plt.subplot(111)  \n",
    "ax.spines[\"top\"].set_visible(False)  \n",
    "ax.spines[\"right\"].set_visible(False)  \n",
    "plt.xlabel(\"depth of trees\", fontsize=16)  \n",
    "plt.ylabel(\"f1 score\", fontsize=16)  \n",
    "plt.xticks(fontsize=14)\n",
    "plt.yticks(fontsize=14)  \n",
    "meaningfull_cols\n",
    "print(ac)\n"
   ]
  },
  {
   "cell_type": "markdown",
   "metadata": {},
   "source": [
    "We can see the expected pattern in the figure, for small depth there is high bias and for very large depth there is hih variance. Also note that after some point increasing the depth does not change anything, the reason might be that the depth is enough to classify the data and increasing the depth does not change anything."
   ]
  },
  {
   "cell_type": "markdown",
   "metadata": {},
   "source": [
    "### Important features"
   ]
  },
  {
   "cell_type": "markdown",
   "metadata": {},
   "source": [
    "As we are asked to show the most important features, we use the `feature_importances_` to find the importance of each feature."
   ]
  },
  {
   "cell_type": "code",
   "execution_count": 62,
   "metadata": {
    "collapsed": false
   },
   "outputs": [],
   "source": [
    "importances = forest.feature_importances_"
   ]
  },
  {
   "cell_type": "markdown",
   "metadata": {},
   "source": [
    "Using the code available [here](http://scikit-learn.org/stable/auto_examples/ensemble/plot_forest_importances.html), we can plot the importance of each feature along with different trees in forest!"
   ]
  },
  {
   "cell_type": "code",
   "execution_count": 63,
   "metadata": {
    "collapsed": false
   },
   "outputs": [
    {
     "data": {
      "text/plain": [
       "RandomForestClassifier(bootstrap=True, class_weight=None, criterion='gini',\n",
       "            max_depth=20, max_features='auto', max_leaf_nodes=None,\n",
       "            min_impurity_split=1e-07, min_samples_leaf=1,\n",
       "            min_samples_split=2, min_weight_fraction_leaf=0.0,\n",
       "            n_estimators=256, n_jobs=-1, oob_score=True, random_state=None,\n",
       "            verbose=0, warm_start=False)"
      ]
     },
     "execution_count": 63,
     "metadata": {},
     "output_type": "execute_result"
    }
   ],
   "source": [
    "x_train, x_test, y_train, y_test = train_test_split(\n",
    "        features.values, binary_targets, test_size=0.25, stratify=binary_targets)\n",
    "forest_c = RandomForestClassifier(n_estimators=256,max_depth=20, n_jobs=-1, oob_score=True)\n",
    "forest_c.fit(x_train,y_train)"
   ]
  },
  {
   "cell_type": "code",
   "execution_count": 64,
   "metadata": {
    "collapsed": false
   },
   "outputs": [
    {
     "name": "stdout",
     "output_type": "stream",
     "text": [
      "Feature ranking: score\n",
      "1. seIAT (feature 16) : 0.104251\n",
      "2. seExp (feature 19) : 0.084175\n",
      "3. meanExp (feature 17) : 0.080046\n",
      "4. meanIAT (feature 14) : 0.078264\n",
      "5. nIAT (feature 15) : 0.061905\n",
      "6. nExp (feature 18) : 0.060537\n",
      "7. goals (feature 9) : 0.049773\n",
      "8. victories (feature 6) : 0.047053\n",
      "9. defeats (feature 8) : 0.046845\n",
      "10. games (feature 5) : 0.045635\n",
      "11. yellowCards (feature 10) : 0.044688\n",
      "12. ties (feature 7) : 0.040546\n",
      "13. weight (feature 2) : 0.039276\n",
      "14. leagueCountry (feature 0) : 0.037462\n",
      "15. height (feature 1) : 0.035298\n",
      "16. birthyear (feature 3) : 0.033650\n",
      "17. allreds (feature 13) : 0.029711\n",
      "18. position (feature 4) : 0.028949\n",
      "19. redCards (feature 12) : 0.027420\n",
      "20. yellowReds (feature 11) : 0.024516\n"
     ]
    },
    {
     "data": {
      "image/png": "[encoded data removed]",
      "text/plain": [
       "<matplotlib.figure.Figure at 0x11eb588d0>"
      ]
     },
     "metadata": {},
     "output_type": "display_data"
    },
    {
     "data": {
      "text/plain": [
       "<matplotlib.figure.Figure at 0x11a4d6978>"
      ]
     },
     "metadata": {},
     "output_type": "display_data"
    }
   ],
   "source": [
    "importances = forest_c.feature_importances_\n",
    "std = np.std([tree.feature_importances_ for tree in forest_c.estimators_],\n",
    "             axis=0)\n",
    "indices = np.argsort(importances)[::-1]\n",
    "\n",
    "# Print the feature ranking\n",
    "print(\"Feature ranking: score\")\n",
    "\n",
    "for f in range(len(indices)):\n",
    "    print(\"%d. %s (feature %d) : %f\" % (f + 1, meaningfull_cols[indices[f]],\n",
    "                                        indices[f],\n",
    "                                        importances[indices[f]]))\n",
    "\n",
    "# Plot the feature importances of the forest\n",
    "plt.figure()\n",
    "plt.title(\"Feature importances\")\n",
    "plt.bar(range(len(meaningfull_cols)), importances[indices],\n",
    "       color=\"r\", yerr=std[indices], align=\"center\")\n",
    "plt.xticks(range(len(meaningfull_cols)), indices)\n",
    "plt.yticks(fontsize=14)\n",
    "plt.xlim([-1, len(meaningfull_cols)])\n",
    "plt.figure(figsize=(12, 9)) \n",
    "plt.show()"
   ]
  },
  {
   "cell_type": "markdown",
   "metadata": {},
   "source": [
    "Unfortuantely, the race scores get the first four positions."
   ]
  },
  {
   "cell_type": "markdown",
   "metadata": {},
   "source": [
    "## 4- Learning Curves (Bonus)"
   ]
  },
  {
   "cell_type": "code",
   "execution_count": 66,
   "metadata": {
    "collapsed": false
   },
   "outputs": [],
   "source": [
    "from sklearn.model_selection import learning_curve"
   ]
  },
  {
   "cell_type": "markdown",
   "metadata": {},
   "source": [
    "There is acode for plotting the learning curve [here](http://scikit-learn.org/stable/auto_examples/model_selection/plot_learning_curve.html#sphx-glr-auto-examples-model-selection-plot-learning-curve-py) but in order to understand the code better we decide to implement it ourselves\n",
    "and accuracy to measure the classifiers performance with stratified data split."
   ]
  },
  {
   "cell_type": "code",
   "execution_count": 111,
   "metadata": {
    "collapsed": true
   },
   "outputs": [],
   "source": [
    "def plotLearningCurves2():\n",
    "    f1_mean_train = []\n",
    "    f1_std_train = []\n",
    "    f1_mean_test = []\n",
    "    f1_std_test = []\n",
    "    train_sizes=np.linspace(0.1,0.8,5)\n",
    "    for p in train_sizes:\n",
    "        f1_score_train = []\n",
    "        f1_score_test = []\n",
    "        for num in range(5):\n",
    "            x_train, x_test, y_train, y_test = train_test_split(\n",
    "                features.values, binary_targets, test_size=1-p, stratify=binary_targets)\n",
    "\n",
    "            forest_c = RandomForestClassifier(n_estimators=10,max_depth=20, n_jobs=-1)\n",
    "            forest_c.fit(x_train,y_train)\n",
    "            f1_score_train.append(accuracy_score(y_train, forest_c.predict(x_train)))\n",
    "            f1_score_test.append(accuracy_score(y_test, forest_c.predict(x_test)))\n",
    "            \n",
    "        f1_mean_train.append(np.mean(f1_score_train))\n",
    "        f1_mean_test.append(np.mean(f1_score_test))\n",
    "        f1_std_train.append(np.std(f1_score_train))\n",
    "        f1_std_test.append(np.std(f1_score_test))\n",
    "    f1_mean_train = np.asarray(f1_mean_train)\n",
    "    f1_mean_test = np.asarray(f1_mean_test)\n",
    "    f1_std_train = np.asarray(f1_std_train)\n",
    "    f1_std_test = np.asarray(f1_std_test)\n",
    "    \n",
    "    plt.figure()\n",
    "    plt.title(\"Learning Curves\",fontsize=14)\n",
    "    plt.legend(loc=\"best\")\n",
    "    plt.xlabel(\"Training samples\",fontsize=14)\n",
    "    plt.ylabel(\"Error Rate\",fontsize=14)\n",
    "    plt.ylim((0.8, 1.01))\n",
    "    plt.xticks(fontsize=14)\n",
    "    plt.yticks(fontsize=14)\n",
    "    plt.gca().invert_yaxis()\n",
    "    plt.grid()\n",
    "\n",
    "    # Plot the average training and test score lines at each training set size\n",
    "    plt.plot(train_sizes, f1_mean_train, 'o-', color=\"b\", label=\"Training score\")\n",
    "    plt.plot(train_sizes, f1_mean_test, 'o-', color=\"r\", label=\"Test score\")\n",
    "\n",
    "    # Plot the std deviation as a transparent range at each training set size\n",
    "    plt.fill_between(train_sizes, f1_mean_train - f1_std_train,\n",
    "                     f1_mean_train + f1_std_train, alpha=0.1, color=\"b\")\n",
    "    plt.fill_between(train_sizes, f1_mean_test - f1_std_test,\n",
    "                     f1_mean_test + f1_std_test, alpha=0.1, color=\"r\")\n",
    "\n",
    "    # Draw the plot and reset the y-axis\n",
    "    plt.draw()\n",
    "    plt.gca().invert_yaxis()\n",
    "\n",
    "    return plt"
   ]
  },
  {
   "cell_type": "code",
   "execution_count": 112,
   "metadata": {
    "collapsed": false
   },
   "outputs": [
    {
     "name": "stdout",
     "output_type": "stream",
     "text": [
      "computing learning curves for the model...\n",
      "is done!\n"
     ]
    },
    {
     "name": "stderr",
     "output_type": "stream",
     "text": [
      "/Users/salehi/anaconda3/lib/python3.5/site-packages/matplotlib/axes/_axes.py:519: UserWarning: No labelled objects found. Use label='...' kwarg on individual plots.\n",
      "  warnings.warn(\"No labelled objects found. \"\n"
     ]
    },
    {
     "data": {
      "image/png": "[encoded data removed]",
      "text/plain": [
       "<matplotlib.figure.Figure at 0x12ec07080>"
      ]
     },
     "metadata": {},
     "output_type": "display_data"
    }
   ],
   "source": [
    "x_train, x_test, y_train, y_test = train_test_split(\n",
    "        features.values, binary_targets, test_size=0.1, stratify=binary_targets)\n",
    "forest_c = RandomForestClassifier(n_estimators=256,max_depth=20, n_jobs=-1, oob_score=True)\n",
    "forest_c.fit(x_train,y_train)\n",
    "print('computing learning curves for the model...')\n",
    "#plt1 = plotLearningCurves2(x_train, y_train, forest_c)\n",
    "plotLearningCurves2()\n",
    "print('is done!')\n",
    "# Learning curves for the second model (removing categorical data)\n"
   ]
  }
 ],
 "metadata": {
  "anaconda-cloud": {},
  "kernelspec": {
   "display_name": "Python [Root]",
   "language": "python",
   "name": "Python [Root]"
  },
  "language_info": {
   "codemirror_mode": {
    "name": "ipython",
    "version": 3
   },
   "file_extension": ".py",
   "mimetype": "text/x-python",
   "name": "python",
   "nbconvert_exporter": "python",
   "pygments_lexer": "ipython3",
   "version": "3.5.2"
  }
 },
 "nbformat": 4,
 "nbformat_minor": 1
}
