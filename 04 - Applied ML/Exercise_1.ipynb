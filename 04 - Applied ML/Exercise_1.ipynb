{
 "cells": [
  {
   "cell_type": "markdown",
   "metadata": {},
   "source": [
    "## 1- Data Preprocessing"
   ]
  },
  {
   "cell_type": "code",
   "execution_count": 1,
   "metadata": {
    "collapsed": true
   },
   "outputs": [],
   "source": [
    "#===============================================================================\n",
    "# Import libraries\n",
    "#===============================================================================\n",
    "import numpy as np\n",
    "import pandas as pd\n",
    "import matplotlib.pyplot as plt\n",
    "%matplotlib inline"
   ]
  },
  {
   "cell_type": "code",
   "execution_count": 2,
   "metadata": {
    "collapsed": false
   },
   "outputs": [
    {
     "name": "stdout",
     "output_type": "stream",
     "text": [
      "loading data ...\n",
      "data is loaded.\n"
     ]
    }
   ],
   "source": [
    "#===============================================================================\n",
    "# Load the dataset\n",
    "#===============================================================================\n",
    "print('loading data ...')\n",
    "df = pd.read_csv('./dataset/CrowdstormingDataJuly1st.csv')\n",
    "print('data is loaded.')"
   ]
  },
  {
   "cell_type": "markdown",
   "metadata": {},
   "source": [
    "### Variables description:\n",
    "- playerShort: short player ID\n",
    "- player: player name\n",
    "- club: player club\n",
    "- leagueCountry: country of player club (England, Germany, France, and Spain)\n",
    "- birthday: player birthday\n",
    "- height: player height (in cm)\n",
    "- weight: player weight (in kg)\n",
    "- position: detailed player position\n",
    "- games: number of games in the player-referee dyad\n",
    "- victories: victories in the player-referee dyad\n",
    "- ties: ties in the player-referee dyad\n",
    "- defeats: losses in the player-referee dyad\n",
    "- goals: goals scored by a player in the player-referee dyad\n",
    "- yellowCards: number of yellow cards player received from referee\n",
    "- yellowReds: number of yellow-red cards player received from referee\n",
    "- redCards: number of red cards player received from referee\n",
    "- photoID: ID of player photo (if available)\n",
    "- rater1: skin rating of photo by rater 1 (5-point scale ranging from “very light skin” to “very dark skin”)\n",
    "- rater2: skin rating of photo by rater 2 (5-point scale ranging from “very light skin” to “very dark skin”)\n",
    "- refNum: unique referee ID number (referee name removed for anonymizing purposes)\n",
    "- refCountry: unique referee country ID number (country name removed for anonymizing purposes)\n",
    "- meanIAT: mean implicit bias score (using the race IAT) for referee country, higher values correspond to faster white | good, black | bad associations\n",
    "- nIAT: sample size for race IAT in that particular country\n",
    "- seIAT: standard error for mean estimate of race IAT\n",
    "- meanExp: mean explicit bias score (using a racial thermometer task) for referee country, higher values correspond to greater feelings of warmth toward whites versus blacks\n",
    "- nExp: sample size for explicit bias in that particular country\n",
    "- seExp: standard error for mean estimate of explicit bias measure"
   ]
  },
  {
   "cell_type": "code",
   "execution_count": 3,
   "metadata": {
    "collapsed": false
   },
   "outputs": [
    {
     "data": {
      "text/html": [
       "<div>\n",
       "<table border=\"1\" class=\"dataframe\">\n",
       "  <thead>\n",
       "    <tr style=\"text-align: right;\">\n",
       "      <th></th>\n",
       "      <th>playerShort</th>\n",
       "      <th>player</th>\n",
       "      <th>club</th>\n",
       "      <th>leagueCountry</th>\n",
       "      <th>birthday</th>\n",
       "      <th>height</th>\n",
       "      <th>weight</th>\n",
       "      <th>position</th>\n",
       "      <th>games</th>\n",
       "      <th>victories</th>\n",
       "    </tr>\n",
       "  </thead>\n",
       "  <tbody>\n",
       "    <tr>\n",
       "      <th>0</th>\n",
       "      <td>lucas-wilchez</td>\n",
       "      <td>Lucas Wilchez</td>\n",
       "      <td>Real Zaragoza</td>\n",
       "      <td>Spain</td>\n",
       "      <td>31.08.1983</td>\n",
       "      <td>177.0</td>\n",
       "      <td>72.0</td>\n",
       "      <td>Attacking Midfielder</td>\n",
       "      <td>1</td>\n",
       "      <td>0</td>\n",
       "    </tr>\n",
       "    <tr>\n",
       "      <th>1</th>\n",
       "      <td>john-utaka</td>\n",
       "      <td>John Utaka</td>\n",
       "      <td>Montpellier HSC</td>\n",
       "      <td>France</td>\n",
       "      <td>08.01.1982</td>\n",
       "      <td>179.0</td>\n",
       "      <td>82.0</td>\n",
       "      <td>Right Winger</td>\n",
       "      <td>1</td>\n",
       "      <td>0</td>\n",
       "    </tr>\n",
       "    <tr>\n",
       "      <th>2</th>\n",
       "      <td>abdon-prats</td>\n",
       "      <td>Abdón Prats</td>\n",
       "      <td>RCD Mallorca</td>\n",
       "      <td>Spain</td>\n",
       "      <td>17.12.1992</td>\n",
       "      <td>181.0</td>\n",
       "      <td>79.0</td>\n",
       "      <td>NaN</td>\n",
       "      <td>1</td>\n",
       "      <td>0</td>\n",
       "    </tr>\n",
       "    <tr>\n",
       "      <th>3</th>\n",
       "      <td>pablo-mari</td>\n",
       "      <td>Pablo Marí</td>\n",
       "      <td>RCD Mallorca</td>\n",
       "      <td>Spain</td>\n",
       "      <td>31.08.1993</td>\n",
       "      <td>191.0</td>\n",
       "      <td>87.0</td>\n",
       "      <td>Center Back</td>\n",
       "      <td>1</td>\n",
       "      <td>1</td>\n",
       "    </tr>\n",
       "    <tr>\n",
       "      <th>4</th>\n",
       "      <td>ruben-pena</td>\n",
       "      <td>Rubén Peña</td>\n",
       "      <td>Real Valladolid</td>\n",
       "      <td>Spain</td>\n",
       "      <td>18.07.1991</td>\n",
       "      <td>172.0</td>\n",
       "      <td>70.0</td>\n",
       "      <td>Right Midfielder</td>\n",
       "      <td>1</td>\n",
       "      <td>1</td>\n",
       "    </tr>\n",
       "    <tr>\n",
       "      <th>5</th>\n",
       "      <td>aaron-hughes</td>\n",
       "      <td>Aaron Hughes</td>\n",
       "      <td>Fulham FC</td>\n",
       "      <td>England</td>\n",
       "      <td>08.11.1979</td>\n",
       "      <td>182.0</td>\n",
       "      <td>71.0</td>\n",
       "      <td>Center Back</td>\n",
       "      <td>1</td>\n",
       "      <td>0</td>\n",
       "    </tr>\n",
       "    <tr>\n",
       "      <th>6</th>\n",
       "      <td>aleksandar-kolarov</td>\n",
       "      <td>Aleksandar Kolarov</td>\n",
       "      <td>Manchester City</td>\n",
       "      <td>England</td>\n",
       "      <td>10.11.1985</td>\n",
       "      <td>187.0</td>\n",
       "      <td>80.0</td>\n",
       "      <td>Left Fullback</td>\n",
       "      <td>1</td>\n",
       "      <td>1</td>\n",
       "    </tr>\n",
       "    <tr>\n",
       "      <th>7</th>\n",
       "      <td>alexander-tettey</td>\n",
       "      <td>Alexander Tettey</td>\n",
       "      <td>Norwich City</td>\n",
       "      <td>England</td>\n",
       "      <td>04.04.1986</td>\n",
       "      <td>180.0</td>\n",
       "      <td>68.0</td>\n",
       "      <td>Defensive Midfielder</td>\n",
       "      <td>1</td>\n",
       "      <td>0</td>\n",
       "    </tr>\n",
       "    <tr>\n",
       "      <th>8</th>\n",
       "      <td>anders-lindegaard</td>\n",
       "      <td>Anders Lindegaard</td>\n",
       "      <td>Manchester United</td>\n",
       "      <td>England</td>\n",
       "      <td>13.04.1984</td>\n",
       "      <td>193.0</td>\n",
       "      <td>80.0</td>\n",
       "      <td>Goalkeeper</td>\n",
       "      <td>1</td>\n",
       "      <td>0</td>\n",
       "    </tr>\n",
       "    <tr>\n",
       "      <th>9</th>\n",
       "      <td>andreas-beck</td>\n",
       "      <td>Andreas Beck</td>\n",
       "      <td>1899 Hoffenheim</td>\n",
       "      <td>Germany</td>\n",
       "      <td>13.03.1987</td>\n",
       "      <td>180.0</td>\n",
       "      <td>70.0</td>\n",
       "      <td>Right Fullback</td>\n",
       "      <td>1</td>\n",
       "      <td>1</td>\n",
       "    </tr>\n",
       "  </tbody>\n",
       "</table>\n",
       "</div>"
      ],
      "text/plain": [
       "          playerShort              player               club leagueCountry  \\\n",
       "0       lucas-wilchez       Lucas Wilchez      Real Zaragoza         Spain   \n",
       "1          john-utaka          John Utaka    Montpellier HSC        France   \n",
       "2         abdon-prats         Abdón Prats       RCD Mallorca         Spain   \n",
       "3          pablo-mari          Pablo Marí       RCD Mallorca         Spain   \n",
       "4          ruben-pena          Rubén Peña    Real Valladolid         Spain   \n",
       "5        aaron-hughes        Aaron Hughes          Fulham FC       England   \n",
       "6  aleksandar-kolarov  Aleksandar Kolarov    Manchester City       England   \n",
       "7    alexander-tettey    Alexander Tettey       Norwich City       England   \n",
       "8   anders-lindegaard   Anders Lindegaard  Manchester United       England   \n",
       "9        andreas-beck        Andreas Beck    1899 Hoffenheim       Germany   \n",
       "\n",
       "     birthday  height  weight              position  games  victories  \n",
       "0  31.08.1983   177.0    72.0  Attacking Midfielder      1          0  \n",
       "1  08.01.1982   179.0    82.0          Right Winger      1          0  \n",
       "2  17.12.1992   181.0    79.0                   NaN      1          0  \n",
       "3  31.08.1993   191.0    87.0           Center Back      1          1  \n",
       "4  18.07.1991   172.0    70.0      Right Midfielder      1          1  \n",
       "5  08.11.1979   182.0    71.0           Center Back      1          0  \n",
       "6  10.11.1985   187.0    80.0         Left Fullback      1          1  \n",
       "7  04.04.1986   180.0    68.0  Defensive Midfielder      1          0  \n",
       "8  13.04.1984   193.0    80.0            Goalkeeper      1          0  \n",
       "9  13.03.1987   180.0    70.0        Right Fullback      1          1  "
      ]
     },
     "execution_count": 3,
     "metadata": {},
     "output_type": "execute_result"
    }
   ],
   "source": [
    "# show the first 10 columns for the first 10 players\n",
    "df.iloc[:10,:10]"
   ]
  },
  {
   "cell_type": "code",
   "execution_count": 4,
   "metadata": {
    "collapsed": false
   },
   "outputs": [
    {
     "data": {
      "text/html": [
       "<div>\n",
       "<table border=\"1\" class=\"dataframe\">\n",
       "  <thead>\n",
       "    <tr style=\"text-align: right;\">\n",
       "      <th></th>\n",
       "      <th>ties</th>\n",
       "      <th>defeats</th>\n",
       "      <th>goals</th>\n",
       "      <th>yellowCards</th>\n",
       "      <th>yellowReds</th>\n",
       "      <th>redCards</th>\n",
       "      <th>photoID</th>\n",
       "      <th>rater1</th>\n",
       "      <th>rater2</th>\n",
       "      <th>refNum</th>\n",
       "      <th>refCountry</th>\n",
       "      <th>Alpha_3</th>\n",
       "    </tr>\n",
       "  </thead>\n",
       "  <tbody>\n",
       "    <tr>\n",
       "      <th>0</th>\n",
       "      <td>0</td>\n",
       "      <td>1</td>\n",
       "      <td>0</td>\n",
       "      <td>0</td>\n",
       "      <td>0</td>\n",
       "      <td>0</td>\n",
       "      <td>95212.jpg</td>\n",
       "      <td>0.25</td>\n",
       "      <td>0.50</td>\n",
       "      <td>1</td>\n",
       "      <td>1</td>\n",
       "      <td>GRC</td>\n",
       "    </tr>\n",
       "    <tr>\n",
       "      <th>1</th>\n",
       "      <td>0</td>\n",
       "      <td>1</td>\n",
       "      <td>0</td>\n",
       "      <td>1</td>\n",
       "      <td>0</td>\n",
       "      <td>0</td>\n",
       "      <td>1663.jpg</td>\n",
       "      <td>0.75</td>\n",
       "      <td>0.75</td>\n",
       "      <td>2</td>\n",
       "      <td>2</td>\n",
       "      <td>ZMB</td>\n",
       "    </tr>\n",
       "    <tr>\n",
       "      <th>2</th>\n",
       "      <td>1</td>\n",
       "      <td>0</td>\n",
       "      <td>0</td>\n",
       "      <td>1</td>\n",
       "      <td>0</td>\n",
       "      <td>0</td>\n",
       "      <td>NaN</td>\n",
       "      <td>NaN</td>\n",
       "      <td>NaN</td>\n",
       "      <td>3</td>\n",
       "      <td>3</td>\n",
       "      <td>ESP</td>\n",
       "    </tr>\n",
       "    <tr>\n",
       "      <th>3</th>\n",
       "      <td>0</td>\n",
       "      <td>0</td>\n",
       "      <td>0</td>\n",
       "      <td>0</td>\n",
       "      <td>0</td>\n",
       "      <td>0</td>\n",
       "      <td>NaN</td>\n",
       "      <td>NaN</td>\n",
       "      <td>NaN</td>\n",
       "      <td>3</td>\n",
       "      <td>3</td>\n",
       "      <td>ESP</td>\n",
       "    </tr>\n",
       "    <tr>\n",
       "      <th>4</th>\n",
       "      <td>0</td>\n",
       "      <td>0</td>\n",
       "      <td>0</td>\n",
       "      <td>0</td>\n",
       "      <td>0</td>\n",
       "      <td>0</td>\n",
       "      <td>NaN</td>\n",
       "      <td>NaN</td>\n",
       "      <td>NaN</td>\n",
       "      <td>3</td>\n",
       "      <td>3</td>\n",
       "      <td>ESP</td>\n",
       "    </tr>\n",
       "    <tr>\n",
       "      <th>5</th>\n",
       "      <td>0</td>\n",
       "      <td>1</td>\n",
       "      <td>0</td>\n",
       "      <td>0</td>\n",
       "      <td>0</td>\n",
       "      <td>0</td>\n",
       "      <td>3868.jpg</td>\n",
       "      <td>0.25</td>\n",
       "      <td>0.00</td>\n",
       "      <td>4</td>\n",
       "      <td>4</td>\n",
       "      <td>LUX</td>\n",
       "    </tr>\n",
       "    <tr>\n",
       "      <th>6</th>\n",
       "      <td>0</td>\n",
       "      <td>0</td>\n",
       "      <td>0</td>\n",
       "      <td>0</td>\n",
       "      <td>0</td>\n",
       "      <td>0</td>\n",
       "      <td>47704.jpg</td>\n",
       "      <td>0.00</td>\n",
       "      <td>0.25</td>\n",
       "      <td>4</td>\n",
       "      <td>4</td>\n",
       "      <td>LUX</td>\n",
       "    </tr>\n",
       "    <tr>\n",
       "      <th>7</th>\n",
       "      <td>0</td>\n",
       "      <td>1</td>\n",
       "      <td>0</td>\n",
       "      <td>0</td>\n",
       "      <td>0</td>\n",
       "      <td>0</td>\n",
       "      <td>22356.jpg</td>\n",
       "      <td>1.00</td>\n",
       "      <td>1.00</td>\n",
       "      <td>4</td>\n",
       "      <td>4</td>\n",
       "      <td>LUX</td>\n",
       "    </tr>\n",
       "    <tr>\n",
       "      <th>8</th>\n",
       "      <td>1</td>\n",
       "      <td>0</td>\n",
       "      <td>0</td>\n",
       "      <td>0</td>\n",
       "      <td>0</td>\n",
       "      <td>0</td>\n",
       "      <td>16528.jpg</td>\n",
       "      <td>0.25</td>\n",
       "      <td>0.25</td>\n",
       "      <td>4</td>\n",
       "      <td>4</td>\n",
       "      <td>LUX</td>\n",
       "    </tr>\n",
       "    <tr>\n",
       "      <th>9</th>\n",
       "      <td>0</td>\n",
       "      <td>0</td>\n",
       "      <td>0</td>\n",
       "      <td>0</td>\n",
       "      <td>0</td>\n",
       "      <td>0</td>\n",
       "      <td>36499.jpg</td>\n",
       "      <td>0.00</td>\n",
       "      <td>0.00</td>\n",
       "      <td>4</td>\n",
       "      <td>4</td>\n",
       "      <td>LUX</td>\n",
       "    </tr>\n",
       "  </tbody>\n",
       "</table>\n",
       "</div>"
      ],
      "text/plain": [
       "   ties  defeats  goals  yellowCards  yellowReds  redCards    photoID  rater1  \\\n",
       "0     0        1      0            0           0         0  95212.jpg    0.25   \n",
       "1     0        1      0            1           0         0   1663.jpg    0.75   \n",
       "2     1        0      0            1           0         0        NaN     NaN   \n",
       "3     0        0      0            0           0         0        NaN     NaN   \n",
       "4     0        0      0            0           0         0        NaN     NaN   \n",
       "5     0        1      0            0           0         0   3868.jpg    0.25   \n",
       "6     0        0      0            0           0         0  47704.jpg    0.00   \n",
       "7     0        1      0            0           0         0  22356.jpg    1.00   \n",
       "8     1        0      0            0           0         0  16528.jpg    0.25   \n",
       "9     0        0      0            0           0         0  36499.jpg    0.00   \n",
       "\n",
       "   rater2  refNum  refCountry Alpha_3  \n",
       "0    0.50       1           1     GRC  \n",
       "1    0.75       2           2     ZMB  \n",
       "2     NaN       3           3     ESP  \n",
       "3     NaN       3           3     ESP  \n",
       "4     NaN       3           3     ESP  \n",
       "5    0.00       4           4     LUX  \n",
       "6    0.25       4           4     LUX  \n",
       "7    1.00       4           4     LUX  \n",
       "8    0.25       4           4     LUX  \n",
       "9    0.00       4           4     LUX  "
      ]
     },
     "execution_count": 4,
     "metadata": {},
     "output_type": "execute_result"
    }
   ],
   "source": [
    "# show columns 10 to 21 for the first 10 players\n",
    "df.iloc[:10,10:22]"
   ]
  },
  {
   "cell_type": "code",
   "execution_count": 5,
   "metadata": {
    "collapsed": false
   },
   "outputs": [
    {
     "data": {
      "text/html": [
       "<div>\n",
       "<table border=\"1\" class=\"dataframe\">\n",
       "  <thead>\n",
       "    <tr style=\"text-align: right;\">\n",
       "      <th></th>\n",
       "      <th>meanIAT</th>\n",
       "      <th>nIAT</th>\n",
       "      <th>seIAT</th>\n",
       "      <th>meanExp</th>\n",
       "      <th>nExp</th>\n",
       "      <th>seExp</th>\n",
       "    </tr>\n",
       "  </thead>\n",
       "  <tbody>\n",
       "    <tr>\n",
       "      <th>0</th>\n",
       "      <td>0.326391</td>\n",
       "      <td>712.0</td>\n",
       "      <td>0.000564</td>\n",
       "      <td>0.396000</td>\n",
       "      <td>750.0</td>\n",
       "      <td>0.002696</td>\n",
       "    </tr>\n",
       "    <tr>\n",
       "      <th>1</th>\n",
       "      <td>0.203375</td>\n",
       "      <td>40.0</td>\n",
       "      <td>0.010875</td>\n",
       "      <td>-0.204082</td>\n",
       "      <td>49.0</td>\n",
       "      <td>0.061504</td>\n",
       "    </tr>\n",
       "    <tr>\n",
       "      <th>2</th>\n",
       "      <td>0.369894</td>\n",
       "      <td>1785.0</td>\n",
       "      <td>0.000229</td>\n",
       "      <td>0.588297</td>\n",
       "      <td>1897.0</td>\n",
       "      <td>0.001002</td>\n",
       "    </tr>\n",
       "    <tr>\n",
       "      <th>3</th>\n",
       "      <td>0.369894</td>\n",
       "      <td>1785.0</td>\n",
       "      <td>0.000229</td>\n",
       "      <td>0.588297</td>\n",
       "      <td>1897.0</td>\n",
       "      <td>0.001002</td>\n",
       "    </tr>\n",
       "    <tr>\n",
       "      <th>4</th>\n",
       "      <td>0.369894</td>\n",
       "      <td>1785.0</td>\n",
       "      <td>0.000229</td>\n",
       "      <td>0.588297</td>\n",
       "      <td>1897.0</td>\n",
       "      <td>0.001002</td>\n",
       "    </tr>\n",
       "    <tr>\n",
       "      <th>5</th>\n",
       "      <td>0.325185</td>\n",
       "      <td>127.0</td>\n",
       "      <td>0.003297</td>\n",
       "      <td>0.538462</td>\n",
       "      <td>130.0</td>\n",
       "      <td>0.013752</td>\n",
       "    </tr>\n",
       "    <tr>\n",
       "      <th>6</th>\n",
       "      <td>0.325185</td>\n",
       "      <td>127.0</td>\n",
       "      <td>0.003297</td>\n",
       "      <td>0.538462</td>\n",
       "      <td>130.0</td>\n",
       "      <td>0.013752</td>\n",
       "    </tr>\n",
       "    <tr>\n",
       "      <th>7</th>\n",
       "      <td>0.325185</td>\n",
       "      <td>127.0</td>\n",
       "      <td>0.003297</td>\n",
       "      <td>0.538462</td>\n",
       "      <td>130.0</td>\n",
       "      <td>0.013752</td>\n",
       "    </tr>\n",
       "    <tr>\n",
       "      <th>8</th>\n",
       "      <td>0.325185</td>\n",
       "      <td>127.0</td>\n",
       "      <td>0.003297</td>\n",
       "      <td>0.538462</td>\n",
       "      <td>130.0</td>\n",
       "      <td>0.013752</td>\n",
       "    </tr>\n",
       "    <tr>\n",
       "      <th>9</th>\n",
       "      <td>0.325185</td>\n",
       "      <td>127.0</td>\n",
       "      <td>0.003297</td>\n",
       "      <td>0.538462</td>\n",
       "      <td>130.0</td>\n",
       "      <td>0.013752</td>\n",
       "    </tr>\n",
       "  </tbody>\n",
       "</table>\n",
       "</div>"
      ],
      "text/plain": [
       "    meanIAT    nIAT     seIAT   meanExp    nExp     seExp\n",
       "0  0.326391   712.0  0.000564  0.396000   750.0  0.002696\n",
       "1  0.203375    40.0  0.010875 -0.204082    49.0  0.061504\n",
       "2  0.369894  1785.0  0.000229  0.588297  1897.0  0.001002\n",
       "3  0.369894  1785.0  0.000229  0.588297  1897.0  0.001002\n",
       "4  0.369894  1785.0  0.000229  0.588297  1897.0  0.001002\n",
       "5  0.325185   127.0  0.003297  0.538462   130.0  0.013752\n",
       "6  0.325185   127.0  0.003297  0.538462   130.0  0.013752\n",
       "7  0.325185   127.0  0.003297  0.538462   130.0  0.013752\n",
       "8  0.325185   127.0  0.003297  0.538462   130.0  0.013752\n",
       "9  0.325185   127.0  0.003297  0.538462   130.0  0.013752"
      ]
     },
     "execution_count": 5,
     "metadata": {},
     "output_type": "execute_result"
    }
   ],
   "source": [
    "# show the last 6 columns for the first 10 players\n",
    "df.iloc[:10,22::]"
   ]
  },
  {
   "cell_type": "code",
   "execution_count": 6,
   "metadata": {
    "collapsed": false
   },
   "outputs": [
    {
     "name": "stderr",
     "output_type": "stream",
     "text": [
      "C:\\Users\\shafieez\\AppData\\Local\\Continuum\\Anaconda3\\lib\\site-packages\\numpy\\lib\\function_base.py:3834: RuntimeWarning: Invalid value encountered in percentile\n",
      "  RuntimeWarning)\n"
     ]
    },
    {
     "data": {
      "text/html": [
       "<div>\n",
       "<table border=\"1\" class=\"dataframe\">\n",
       "  <thead>\n",
       "    <tr style=\"text-align: right;\">\n",
       "      <th></th>\n",
       "      <th>height</th>\n",
       "      <th>weight</th>\n",
       "      <th>games</th>\n",
       "      <th>victories</th>\n",
       "      <th>ties</th>\n",
       "      <th>defeats</th>\n",
       "      <th>goals</th>\n",
       "      <th>yellowCards</th>\n",
       "      <th>yellowReds</th>\n",
       "      <th>redCards</th>\n",
       "      <th>rater1</th>\n",
       "      <th>rater2</th>\n",
       "      <th>refNum</th>\n",
       "      <th>refCountry</th>\n",
       "      <th>meanIAT</th>\n",
       "      <th>nIAT</th>\n",
       "      <th>seIAT</th>\n",
       "      <th>meanExp</th>\n",
       "      <th>nExp</th>\n",
       "      <th>seExp</th>\n",
       "    </tr>\n",
       "  </thead>\n",
       "  <tbody>\n",
       "    <tr>\n",
       "      <th>count</th>\n",
       "      <td>145765.000000</td>\n",
       "      <td>143785.000000</td>\n",
       "      <td>146028.000000</td>\n",
       "      <td>146028.000000</td>\n",
       "      <td>146028.000000</td>\n",
       "      <td>146028.000000</td>\n",
       "      <td>146028.000000</td>\n",
       "      <td>146028.000000</td>\n",
       "      <td>146028.000000</td>\n",
       "      <td>146028.000000</td>\n",
       "      <td>124621.000000</td>\n",
       "      <td>124621.000000</td>\n",
       "      <td>146028.000000</td>\n",
       "      <td>146028.000000</td>\n",
       "      <td>145865.000000</td>\n",
       "      <td>1.458650e+05</td>\n",
       "      <td>1.458650e+05</td>\n",
       "      <td>145865.000000</td>\n",
       "      <td>1.458650e+05</td>\n",
       "      <td>145865.000000</td>\n",
       "    </tr>\n",
       "    <tr>\n",
       "      <th>mean</th>\n",
       "      <td>181.935938</td>\n",
       "      <td>76.075662</td>\n",
       "      <td>2.921166</td>\n",
       "      <td>1.278344</td>\n",
       "      <td>0.708241</td>\n",
       "      <td>0.934581</td>\n",
       "      <td>0.338058</td>\n",
       "      <td>0.385364</td>\n",
       "      <td>0.011381</td>\n",
       "      <td>0.012559</td>\n",
       "      <td>0.264255</td>\n",
       "      <td>0.302862</td>\n",
       "      <td>1534.827444</td>\n",
       "      <td>29.642842</td>\n",
       "      <td>0.346276</td>\n",
       "      <td>1.969741e+04</td>\n",
       "      <td>6.310849e-04</td>\n",
       "      <td>0.452026</td>\n",
       "      <td>2.044023e+04</td>\n",
       "      <td>0.002994</td>\n",
       "    </tr>\n",
       "    <tr>\n",
       "      <th>std</th>\n",
       "      <td>6.738726</td>\n",
       "      <td>7.140906</td>\n",
       "      <td>3.413633</td>\n",
       "      <td>1.790725</td>\n",
       "      <td>1.116793</td>\n",
       "      <td>1.383059</td>\n",
       "      <td>0.906481</td>\n",
       "      <td>0.795333</td>\n",
       "      <td>0.107931</td>\n",
       "      <td>0.112889</td>\n",
       "      <td>0.295382</td>\n",
       "      <td>0.293020</td>\n",
       "      <td>918.736625</td>\n",
       "      <td>27.496189</td>\n",
       "      <td>0.032246</td>\n",
       "      <td>1.271262e+05</td>\n",
       "      <td>4.735857e-03</td>\n",
       "      <td>0.217469</td>\n",
       "      <td>1.306157e+05</td>\n",
       "      <td>0.019723</td>\n",
       "    </tr>\n",
       "    <tr>\n",
       "      <th>min</th>\n",
       "      <td>161.000000</td>\n",
       "      <td>54.000000</td>\n",
       "      <td>1.000000</td>\n",
       "      <td>0.000000</td>\n",
       "      <td>0.000000</td>\n",
       "      <td>0.000000</td>\n",
       "      <td>0.000000</td>\n",
       "      <td>0.000000</td>\n",
       "      <td>0.000000</td>\n",
       "      <td>0.000000</td>\n",
       "      <td>0.000000</td>\n",
       "      <td>0.000000</td>\n",
       "      <td>1.000000</td>\n",
       "      <td>1.000000</td>\n",
       "      <td>-0.047254</td>\n",
       "      <td>2.000000e+00</td>\n",
       "      <td>2.235373e-07</td>\n",
       "      <td>-1.375000</td>\n",
       "      <td>2.000000e+00</td>\n",
       "      <td>0.000001</td>\n",
       "    </tr>\n",
       "    <tr>\n",
       "      <th>25%</th>\n",
       "      <td>NaN</td>\n",
       "      <td>NaN</td>\n",
       "      <td>1.000000</td>\n",
       "      <td>0.000000</td>\n",
       "      <td>0.000000</td>\n",
       "      <td>0.000000</td>\n",
       "      <td>0.000000</td>\n",
       "      <td>0.000000</td>\n",
       "      <td>0.000000</td>\n",
       "      <td>0.000000</td>\n",
       "      <td>NaN</td>\n",
       "      <td>NaN</td>\n",
       "      <td>641.000000</td>\n",
       "      <td>7.000000</td>\n",
       "      <td>NaN</td>\n",
       "      <td>NaN</td>\n",
       "      <td>NaN</td>\n",
       "      <td>NaN</td>\n",
       "      <td>NaN</td>\n",
       "      <td>NaN</td>\n",
       "    </tr>\n",
       "    <tr>\n",
       "      <th>50%</th>\n",
       "      <td>NaN</td>\n",
       "      <td>NaN</td>\n",
       "      <td>2.000000</td>\n",
       "      <td>1.000000</td>\n",
       "      <td>0.000000</td>\n",
       "      <td>1.000000</td>\n",
       "      <td>0.000000</td>\n",
       "      <td>0.000000</td>\n",
       "      <td>0.000000</td>\n",
       "      <td>0.000000</td>\n",
       "      <td>NaN</td>\n",
       "      <td>NaN</td>\n",
       "      <td>1604.000000</td>\n",
       "      <td>21.000000</td>\n",
       "      <td>NaN</td>\n",
       "      <td>NaN</td>\n",
       "      <td>NaN</td>\n",
       "      <td>NaN</td>\n",
       "      <td>NaN</td>\n",
       "      <td>NaN</td>\n",
       "    </tr>\n",
       "    <tr>\n",
       "      <th>75%</th>\n",
       "      <td>NaN</td>\n",
       "      <td>NaN</td>\n",
       "      <td>3.000000</td>\n",
       "      <td>2.000000</td>\n",
       "      <td>1.000000</td>\n",
       "      <td>1.000000</td>\n",
       "      <td>0.000000</td>\n",
       "      <td>1.000000</td>\n",
       "      <td>0.000000</td>\n",
       "      <td>0.000000</td>\n",
       "      <td>NaN</td>\n",
       "      <td>NaN</td>\n",
       "      <td>2345.000000</td>\n",
       "      <td>44.000000</td>\n",
       "      <td>NaN</td>\n",
       "      <td>NaN</td>\n",
       "      <td>NaN</td>\n",
       "      <td>NaN</td>\n",
       "      <td>NaN</td>\n",
       "      <td>NaN</td>\n",
       "    </tr>\n",
       "    <tr>\n",
       "      <th>max</th>\n",
       "      <td>203.000000</td>\n",
       "      <td>100.000000</td>\n",
       "      <td>47.000000</td>\n",
       "      <td>29.000000</td>\n",
       "      <td>14.000000</td>\n",
       "      <td>18.000000</td>\n",
       "      <td>23.000000</td>\n",
       "      <td>14.000000</td>\n",
       "      <td>3.000000</td>\n",
       "      <td>2.000000</td>\n",
       "      <td>1.000000</td>\n",
       "      <td>1.000000</td>\n",
       "      <td>3147.000000</td>\n",
       "      <td>161.000000</td>\n",
       "      <td>0.573793</td>\n",
       "      <td>1.975803e+06</td>\n",
       "      <td>2.862871e-01</td>\n",
       "      <td>1.800000</td>\n",
       "      <td>2.029548e+06</td>\n",
       "      <td>1.060660</td>\n",
       "    </tr>\n",
       "  </tbody>\n",
       "</table>\n",
       "</div>"
      ],
      "text/plain": [
       "              height         weight          games      victories  \\\n",
       "count  145765.000000  143785.000000  146028.000000  146028.000000   \n",
       "mean      181.935938      76.075662       2.921166       1.278344   \n",
       "std         6.738726       7.140906       3.413633       1.790725   \n",
       "min       161.000000      54.000000       1.000000       0.000000   \n",
       "25%              NaN            NaN       1.000000       0.000000   \n",
       "50%              NaN            NaN       2.000000       1.000000   \n",
       "75%              NaN            NaN       3.000000       2.000000   \n",
       "max       203.000000     100.000000      47.000000      29.000000   \n",
       "\n",
       "                ties        defeats          goals    yellowCards  \\\n",
       "count  146028.000000  146028.000000  146028.000000  146028.000000   \n",
       "mean        0.708241       0.934581       0.338058       0.385364   \n",
       "std         1.116793       1.383059       0.906481       0.795333   \n",
       "min         0.000000       0.000000       0.000000       0.000000   \n",
       "25%         0.000000       0.000000       0.000000       0.000000   \n",
       "50%         0.000000       1.000000       0.000000       0.000000   \n",
       "75%         1.000000       1.000000       0.000000       1.000000   \n",
       "max        14.000000      18.000000      23.000000      14.000000   \n",
       "\n",
       "          yellowReds       redCards         rater1         rater2  \\\n",
       "count  146028.000000  146028.000000  124621.000000  124621.000000   \n",
       "mean        0.011381       0.012559       0.264255       0.302862   \n",
       "std         0.107931       0.112889       0.295382       0.293020   \n",
       "min         0.000000       0.000000       0.000000       0.000000   \n",
       "25%         0.000000       0.000000            NaN            NaN   \n",
       "50%         0.000000       0.000000            NaN            NaN   \n",
       "75%         0.000000       0.000000            NaN            NaN   \n",
       "max         3.000000       2.000000       1.000000       1.000000   \n",
       "\n",
       "              refNum     refCountry        meanIAT          nIAT  \\\n",
       "count  146028.000000  146028.000000  145865.000000  1.458650e+05   \n",
       "mean     1534.827444      29.642842       0.346276  1.969741e+04   \n",
       "std       918.736625      27.496189       0.032246  1.271262e+05   \n",
       "min         1.000000       1.000000      -0.047254  2.000000e+00   \n",
       "25%       641.000000       7.000000            NaN           NaN   \n",
       "50%      1604.000000      21.000000            NaN           NaN   \n",
       "75%      2345.000000      44.000000            NaN           NaN   \n",
       "max      3147.000000     161.000000       0.573793  1.975803e+06   \n",
       "\n",
       "              seIAT        meanExp          nExp          seExp  \n",
       "count  1.458650e+05  145865.000000  1.458650e+05  145865.000000  \n",
       "mean   6.310849e-04       0.452026  2.044023e+04       0.002994  \n",
       "std    4.735857e-03       0.217469  1.306157e+05       0.019723  \n",
       "min    2.235373e-07      -1.375000  2.000000e+00       0.000001  \n",
       "25%             NaN            NaN           NaN            NaN  \n",
       "50%             NaN            NaN           NaN            NaN  \n",
       "75%             NaN            NaN           NaN            NaN  \n",
       "max    2.862871e-01       1.800000  2.029548e+06       1.060660  "
      ]
     },
     "execution_count": 6,
     "metadata": {},
     "output_type": "execute_result"
    }
   ],
   "source": [
    "# the data desrption\n",
    "df.describe()"
   ]
  },
  {
   "cell_type": "markdown",
   "metadata": {},
   "source": [
    "As we can see from the first 10 players and data desription, there are some inconsistencies in data, which are as following:\n",
    "- 1) Some players' photo are not available. Hence, there is no information on their skin color.\n",
    "- 2) The race IAT informatios are not availbale for some regions/players.\n",
    "- 3) For some players, the height/weight informations are not given.\n",
    "- 4) The two raters disagree about player skintone.\n",
    "- 5) There are some refs with less than 22 dyads. However, any ref officiated a full game in one of our selected premier leagues should at least 22 dyads (2 teams of 11 players each, more if substitutions occur)."
   ]
  },
  {
   "cell_type": "code",
   "execution_count": 7,
   "metadata": {
    "collapsed": false
   },
   "outputs": [
    {
     "name": "stdout",
     "output_type": "stream",
     "text": [
      "The size of data before any cleaning: (146028, 28)\n",
      "The size of data after droping all players whose skin color are not available: (124621, 28)\n"
     ]
    }
   ],
   "source": [
    "# First of all, we remove all players whose skin color are not available\n",
    "print('The size of data before any cleaning:', df.shape)\n",
    "df.dropna(subset=['photoID', 'rater1', 'rater2'], how='any', inplace=True)\n",
    "print('The size of data after droping all players whose skin color are not available:', df.shape)"
   ]
  },
  {
   "cell_type": "markdown",
   "metadata": {},
   "source": [
    "So we almost loose 20000 dyads. Now let see the description of the resulting dataframe."
   ]
  },
  {
   "cell_type": "code",
   "execution_count": 8,
   "metadata": {
    "collapsed": false
   },
   "outputs": [
    {
     "name": "stderr",
     "output_type": "stream",
     "text": [
      "C:\\Users\\shafieez\\AppData\\Local\\Continuum\\Anaconda3\\lib\\site-packages\\numpy\\lib\\function_base.py:3834: RuntimeWarning: Invalid value encountered in percentile\n",
      "  RuntimeWarning)\n"
     ]
    },
    {
     "data": {
      "text/html": [
       "<div>\n",
       "<table border=\"1\" class=\"dataframe\">\n",
       "  <thead>\n",
       "    <tr style=\"text-align: right;\">\n",
       "      <th></th>\n",
       "      <th>height</th>\n",
       "      <th>weight</th>\n",
       "      <th>games</th>\n",
       "      <th>victories</th>\n",
       "      <th>ties</th>\n",
       "      <th>defeats</th>\n",
       "      <th>goals</th>\n",
       "      <th>yellowCards</th>\n",
       "      <th>yellowReds</th>\n",
       "      <th>redCards</th>\n",
       "      <th>rater1</th>\n",
       "      <th>rater2</th>\n",
       "      <th>refNum</th>\n",
       "      <th>refCountry</th>\n",
       "      <th>meanIAT</th>\n",
       "      <th>nIAT</th>\n",
       "      <th>seIAT</th>\n",
       "      <th>meanExp</th>\n",
       "      <th>nExp</th>\n",
       "      <th>seExp</th>\n",
       "    </tr>\n",
       "  </thead>\n",
       "  <tbody>\n",
       "    <tr>\n",
       "      <th>count</th>\n",
       "      <td>124575.000000</td>\n",
       "      <td>123868.000000</td>\n",
       "      <td>124621.000000</td>\n",
       "      <td>124621.000000</td>\n",
       "      <td>124621.000000</td>\n",
       "      <td>124621.000000</td>\n",
       "      <td>124621.000000</td>\n",
       "      <td>124621.000000</td>\n",
       "      <td>124621.000000</td>\n",
       "      <td>124621.000000</td>\n",
       "      <td>124621.000000</td>\n",
       "      <td>124621.000000</td>\n",
       "      <td>124621.000000</td>\n",
       "      <td>124621.000000</td>\n",
       "      <td>124468.000000</td>\n",
       "      <td>1.244680e+05</td>\n",
       "      <td>1.244680e+05</td>\n",
       "      <td>124468.000000</td>\n",
       "      <td>1.244680e+05</td>\n",
       "      <td>124468.000000</td>\n",
       "    </tr>\n",
       "    <tr>\n",
       "      <th>mean</th>\n",
       "      <td>182.125330</td>\n",
       "      <td>76.368102</td>\n",
       "      <td>2.993613</td>\n",
       "      <td>1.342663</td>\n",
       "      <td>0.714968</td>\n",
       "      <td>0.935982</td>\n",
       "      <td>0.353432</td>\n",
       "      <td>0.399170</td>\n",
       "      <td>0.012061</td>\n",
       "      <td>0.012751</td>\n",
       "      <td>0.264255</td>\n",
       "      <td>0.302862</td>\n",
       "      <td>1531.111546</td>\n",
       "      <td>29.488096</td>\n",
       "      <td>0.348123</td>\n",
       "      <td>1.817187e+04</td>\n",
       "      <td>6.287461e-04</td>\n",
       "      <td>0.463797</td>\n",
       "      <td>1.884147e+04</td>\n",
       "      <td>0.002988</td>\n",
       "    </tr>\n",
       "    <tr>\n",
       "      <th>std</th>\n",
       "      <td>6.804843</td>\n",
       "      <td>7.188595</td>\n",
       "      <td>3.580429</td>\n",
       "      <td>1.879913</td>\n",
       "      <td>1.143873</td>\n",
       "      <td>1.422906</td>\n",
       "      <td>0.944250</td>\n",
       "      <td>0.821651</td>\n",
       "      <td>0.111052</td>\n",
       "      <td>0.113901</td>\n",
       "      <td>0.295382</td>\n",
       "      <td>0.293020</td>\n",
       "      <td>916.314559</td>\n",
       "      <td>27.963752</td>\n",
       "      <td>0.032087</td>\n",
       "      <td>1.261437e+05</td>\n",
       "      <td>4.788647e-03</td>\n",
       "      <td>0.219206</td>\n",
       "      <td>1.296022e+05</td>\n",
       "      <td>0.019719</td>\n",
       "    </tr>\n",
       "    <tr>\n",
       "      <th>min</th>\n",
       "      <td>161.000000</td>\n",
       "      <td>54.000000</td>\n",
       "      <td>1.000000</td>\n",
       "      <td>0.000000</td>\n",
       "      <td>0.000000</td>\n",
       "      <td>0.000000</td>\n",
       "      <td>0.000000</td>\n",
       "      <td>0.000000</td>\n",
       "      <td>0.000000</td>\n",
       "      <td>0.000000</td>\n",
       "      <td>0.000000</td>\n",
       "      <td>0.000000</td>\n",
       "      <td>1.000000</td>\n",
       "      <td>1.000000</td>\n",
       "      <td>-0.047254</td>\n",
       "      <td>2.000000e+00</td>\n",
       "      <td>2.235373e-07</td>\n",
       "      <td>-1.375000</td>\n",
       "      <td>2.000000e+00</td>\n",
       "      <td>0.000001</td>\n",
       "    </tr>\n",
       "    <tr>\n",
       "      <th>25%</th>\n",
       "      <td>NaN</td>\n",
       "      <td>NaN</td>\n",
       "      <td>1.000000</td>\n",
       "      <td>0.000000</td>\n",
       "      <td>0.000000</td>\n",
       "      <td>0.000000</td>\n",
       "      <td>0.000000</td>\n",
       "      <td>0.000000</td>\n",
       "      <td>0.000000</td>\n",
       "      <td>0.000000</td>\n",
       "      <td>0.000000</td>\n",
       "      <td>0.000000</td>\n",
       "      <td>652.000000</td>\n",
       "      <td>7.000000</td>\n",
       "      <td>NaN</td>\n",
       "      <td>NaN</td>\n",
       "      <td>NaN</td>\n",
       "      <td>NaN</td>\n",
       "      <td>NaN</td>\n",
       "      <td>NaN</td>\n",
       "    </tr>\n",
       "    <tr>\n",
       "      <th>50%</th>\n",
       "      <td>NaN</td>\n",
       "      <td>NaN</td>\n",
       "      <td>1.000000</td>\n",
       "      <td>1.000000</td>\n",
       "      <td>0.000000</td>\n",
       "      <td>1.000000</td>\n",
       "      <td>0.000000</td>\n",
       "      <td>0.000000</td>\n",
       "      <td>0.000000</td>\n",
       "      <td>0.000000</td>\n",
       "      <td>0.250000</td>\n",
       "      <td>0.250000</td>\n",
       "      <td>1574.000000</td>\n",
       "      <td>15.000000</td>\n",
       "      <td>NaN</td>\n",
       "      <td>NaN</td>\n",
       "      <td>NaN</td>\n",
       "      <td>NaN</td>\n",
       "      <td>NaN</td>\n",
       "      <td>NaN</td>\n",
       "    </tr>\n",
       "    <tr>\n",
       "      <th>75%</th>\n",
       "      <td>NaN</td>\n",
       "      <td>NaN</td>\n",
       "      <td>3.000000</td>\n",
       "      <td>2.000000</td>\n",
       "      <td>1.000000</td>\n",
       "      <td>1.000000</td>\n",
       "      <td>0.000000</td>\n",
       "      <td>1.000000</td>\n",
       "      <td>0.000000</td>\n",
       "      <td>0.000000</td>\n",
       "      <td>0.250000</td>\n",
       "      <td>0.500000</td>\n",
       "      <td>2332.000000</td>\n",
       "      <td>45.000000</td>\n",
       "      <td>NaN</td>\n",
       "      <td>NaN</td>\n",
       "      <td>NaN</td>\n",
       "      <td>NaN</td>\n",
       "      <td>NaN</td>\n",
       "      <td>NaN</td>\n",
       "    </tr>\n",
       "    <tr>\n",
       "      <th>max</th>\n",
       "      <td>203.000000</td>\n",
       "      <td>100.000000</td>\n",
       "      <td>47.000000</td>\n",
       "      <td>29.000000</td>\n",
       "      <td>14.000000</td>\n",
       "      <td>18.000000</td>\n",
       "      <td>23.000000</td>\n",
       "      <td>14.000000</td>\n",
       "      <td>3.000000</td>\n",
       "      <td>2.000000</td>\n",
       "      <td>1.000000</td>\n",
       "      <td>1.000000</td>\n",
       "      <td>3147.000000</td>\n",
       "      <td>161.000000</td>\n",
       "      <td>0.573793</td>\n",
       "      <td>1.975803e+06</td>\n",
       "      <td>2.862871e-01</td>\n",
       "      <td>1.800000</td>\n",
       "      <td>2.029548e+06</td>\n",
       "      <td>1.060660</td>\n",
       "    </tr>\n",
       "  </tbody>\n",
       "</table>\n",
       "</div>"
      ],
      "text/plain": [
       "              height         weight          games      victories  \\\n",
       "count  124575.000000  123868.000000  124621.000000  124621.000000   \n",
       "mean      182.125330      76.368102       2.993613       1.342663   \n",
       "std         6.804843       7.188595       3.580429       1.879913   \n",
       "min       161.000000      54.000000       1.000000       0.000000   \n",
       "25%              NaN            NaN       1.000000       0.000000   \n",
       "50%              NaN            NaN       1.000000       1.000000   \n",
       "75%              NaN            NaN       3.000000       2.000000   \n",
       "max       203.000000     100.000000      47.000000      29.000000   \n",
       "\n",
       "                ties        defeats          goals    yellowCards  \\\n",
       "count  124621.000000  124621.000000  124621.000000  124621.000000   \n",
       "mean        0.714968       0.935982       0.353432       0.399170   \n",
       "std         1.143873       1.422906       0.944250       0.821651   \n",
       "min         0.000000       0.000000       0.000000       0.000000   \n",
       "25%         0.000000       0.000000       0.000000       0.000000   \n",
       "50%         0.000000       1.000000       0.000000       0.000000   \n",
       "75%         1.000000       1.000000       0.000000       1.000000   \n",
       "max        14.000000      18.000000      23.000000      14.000000   \n",
       "\n",
       "          yellowReds       redCards         rater1         rater2  \\\n",
       "count  124621.000000  124621.000000  124621.000000  124621.000000   \n",
       "mean        0.012061       0.012751       0.264255       0.302862   \n",
       "std         0.111052       0.113901       0.295382       0.293020   \n",
       "min         0.000000       0.000000       0.000000       0.000000   \n",
       "25%         0.000000       0.000000       0.000000       0.000000   \n",
       "50%         0.000000       0.000000       0.250000       0.250000   \n",
       "75%         0.000000       0.000000       0.250000       0.500000   \n",
       "max         3.000000       2.000000       1.000000       1.000000   \n",
       "\n",
       "              refNum     refCountry        meanIAT          nIAT  \\\n",
       "count  124621.000000  124621.000000  124468.000000  1.244680e+05   \n",
       "mean     1531.111546      29.488096       0.348123  1.817187e+04   \n",
       "std       916.314559      27.963752       0.032087  1.261437e+05   \n",
       "min         1.000000       1.000000      -0.047254  2.000000e+00   \n",
       "25%       652.000000       7.000000            NaN           NaN   \n",
       "50%      1574.000000      15.000000            NaN           NaN   \n",
       "75%      2332.000000      45.000000            NaN           NaN   \n",
       "max      3147.000000     161.000000       0.573793  1.975803e+06   \n",
       "\n",
       "              seIAT        meanExp          nExp          seExp  \n",
       "count  1.244680e+05  124468.000000  1.244680e+05  124468.000000  \n",
       "mean   6.287461e-04       0.463797  1.884147e+04       0.002988  \n",
       "std    4.788647e-03       0.219206  1.296022e+05       0.019719  \n",
       "min    2.235373e-07      -1.375000  2.000000e+00       0.000001  \n",
       "25%             NaN            NaN           NaN            NaN  \n",
       "50%             NaN            NaN           NaN            NaN  \n",
       "75%             NaN            NaN           NaN            NaN  \n",
       "max    2.862871e-01       1.800000  2.029548e+06       1.060660  "
      ]
     },
     "execution_count": 8,
     "metadata": {},
     "output_type": "execute_result"
    }
   ],
   "source": [
    "df.describe()"
   ]
  },
  {
   "cell_type": "markdown",
   "metadata": {},
   "source": [
    "The race IAT informatios are also crucial to make any conclusion on refs. Let first see for how many rows these informations are not available."
   ]
  },
  {
   "cell_type": "code",
   "execution_count": 9,
   "metadata": {
    "collapsed": false
   },
   "outputs": [
    {
     "data": {
      "text/plain": [
       "(153, 28)"
      ]
     },
     "execution_count": 9,
     "metadata": {},
     "output_type": "execute_result"
    }
   ],
   "source": [
    "df[df.iloc[:, 22::].isnull().any(axis=1)].shape"
   ]
  },
  {
   "cell_type": "markdown",
   "metadata": {},
   "source": [
    "Hence, there are 153 row with missing informations in race IAT. Lets drop them."
   ]
  },
  {
   "cell_type": "code",
   "execution_count": 10,
   "metadata": {
    "collapsed": false
   },
   "outputs": [
    {
     "name": "stdout",
     "output_type": "stream",
     "text": [
      "The size of data is now (124468, 28)\n"
     ]
    }
   ],
   "source": [
    "df.dropna(subset=df.columns[22::], how='any', inplace=True)\n",
    "print('The size of data is now', df.shape)"
   ]
  },
  {
   "cell_type": "markdown",
   "metadata": {},
   "source": [
    "Lets consider the data with missing values for wieght and height columns."
   ]
  },
  {
   "cell_type": "code",
   "execution_count": 11,
   "metadata": {
    "collapsed": false
   },
   "outputs": [
    {
     "name": "stdout",
     "output_type": "stream",
     "text": [
      "Number of missing weight data: 753\n",
      "Number of missing height data: 46\n"
     ]
    }
   ],
   "source": [
    "print('Number of missing weight data:', sum(df['weight'].isnull()))\n",
    "print('Number of missing height data:', sum(df['height'].isnull()))"
   ]
  },
  {
   "cell_type": "markdown",
   "metadata": {},
   "source": [
    "It should be safe to remove data with missing height or weight as we loose less than 1% of data."
   ]
  },
  {
   "cell_type": "code",
   "execution_count": 12,
   "metadata": {
    "collapsed": false
   },
   "outputs": [
    {
     "name": "stdout",
     "output_type": "stream",
     "text": [
      "The size of data after removing all NaN is (123715, 28)\n"
     ]
    }
   ],
   "source": [
    "df.dropna(subset=['weight', 'height'], how='any', inplace=True)\n",
    "print('The size of data after removing all NaN is', df.shape)"
   ]
  },
  {
   "cell_type": "code",
   "execution_count": 13,
   "metadata": {
    "collapsed": false
   },
   "outputs": [],
   "source": [
    "# Adding new columns\n",
    "df['allreds'] = df['yellowReds'] + df['redCards']\n",
    "df['refCount'] = df.groupby('refNum')['refNum'].transform('count')"
   ]
  },
  {
   "cell_type": "markdown",
   "metadata": {},
   "source": [
    "As we also mentioned before, there is some inconsistency in the raters' opinion. It is necessary to find a way to aggregate their opinions. we use simple average function to fuse two raters' optinion. Note that instead of having 5 different ranges for skin color, now we have 9 ranges."
   ]
  },
  {
   "cell_type": "code",
   "execution_count": 14,
   "metadata": {
    "collapsed": true
   },
   "outputs": [],
   "source": [
    "df['skintone'] = (df['rater1'] + df['rater2'])/2"
   ]
  },
  {
   "cell_type": "code",
   "execution_count": 15,
   "metadata": {
    "collapsed": false
   },
   "outputs": [],
   "source": [
    "# Player position is not specified for many players\n",
    "df.loc[df['position'].isnull(), 'position'] = 'Any'"
   ]
  },
  {
   "cell_type": "markdown",
   "metadata": {},
   "source": [
    "We also remove all rows that have `refCount` less than 22."
   ]
  },
  {
   "cell_type": "code",
   "execution_count": 16,
   "metadata": {
    "collapsed": false
   },
   "outputs": [],
   "source": [
    "df = df[df['refCount'] >= 22]"
   ]
  },
  {
   "cell_type": "code",
   "execution_count": 17,
   "metadata": {
    "collapsed": true
   },
   "outputs": [],
   "source": [
    "# Adding new column for birthyear\n",
    "df['birthyear'] = df['birthday'].apply(lambda x: int(x.split('.')[-1]))"
   ]
  },
  {
   "cell_type": "code",
   "execution_count": 18,
   "metadata": {
    "collapsed": true
   },
   "outputs": [],
   "source": [
    "# Reset the index\n",
    "df.reset_index(drop=True, inplace=True)"
   ]
  },
  {
   "cell_type": "code",
   "execution_count": 19,
   "metadata": {
    "collapsed": true
   },
   "outputs": [],
   "source": [
    "# Save the data without NaN\n",
    "df.to_csv('./dataset/players_without_nan.csv', index=False, encoding='utf-8')"
   ]
  },
  {
   "cell_type": "markdown",
   "metadata": {},
   "source": [
    "## 2- Discretize Features"
   ]
  },
  {
   "cell_type": "markdown",
   "metadata": {},
   "source": [
    "The original decision tree algorithm relies on categorical/discrete features that will yield the largest information gain for categorical/discrete targets. Hence, it seems to be crucial to discretize features for random forest classifier. However, scikit-learn library uses an optimised version of the CART algorithm. CART (Classification and Regression Trees) supports numerical feature and target variables. It constructs binary trees using the feature and threshold that yield the largest information gain at each node. See [here](http://scikit-learn.org/stable/modules/tree.html#classification) for more information. Thus, there is no need to discretize features and pass them to random forest classifier. As it is also suggested [here](http://stackoverflow.com/a/32681750/5267664) it is not advisable to discretize the data yourself."
   ]
  },
  {
   "cell_type": "markdown",
   "metadata": {},
   "source": [
    "## 3- Learn Random Forest Classifier"
   ]
  },
  {
   "cell_type": "code",
   "execution_count": 20,
   "metadata": {
    "collapsed": false
   },
   "outputs": [],
   "source": [
    "#===============================================================================\n",
    "# Import libraries\n",
    "#===============================================================================\n",
    "from sklearn.ensemble import RandomForestClassifier\n",
    "from sklearn.model_selection import train_test_split, StratifiedKFold\n",
    "from sklearn.preprocessing import StandardScaler, MinMaxScaler\n",
    "from sklearn.metrics import f1_score, accuracy_score, confusion_matrix, make_scorer\n",
    "from sklearn.feature_selection import RFECV"
   ]
  },
  {
   "cell_type": "markdown",
   "metadata": {},
   "source": [
    "We first implement the decision tree classifier to have an initial understanding of features quality. For this case, we consider the binary classification problem; i.e., a player with skintone less than 0.5 considered as white skin; otherwise considered as black skin."
   ]
  },
  {
   "cell_type": "code",
   "execution_count": 21,
   "metadata": {
    "collapsed": true
   },
   "outputs": [],
   "source": [
    "binary_targets = df['skintone'].apply(lambda x: 0 if x <= 0.5 else 1).values"
   ]
  },
  {
   "cell_type": "code",
   "execution_count": 22,
   "metadata": {
    "collapsed": false
   },
   "outputs": [],
   "source": [
    "meaningfull_cols = ['leagueCountry',\n",
    "                    'height',\n",
    "                    'weight',\n",
    "                    'birthyear',\n",
    "                    'position',\n",
    "                    'games',\n",
    "                    'victories',\n",
    "                    'ties',\n",
    "                    'defeats',\n",
    "                    'goals',\n",
    "                    'yellowCards',\n",
    "                    'yellowReds',\n",
    "                    'redCards',\n",
    "                    'allreds',\n",
    "                    'meanIAT',\n",
    "                    'nIAT',\n",
    "                    'seIAT',\n",
    "                    'meanExp',\n",
    "                    'nExp',\n",
    "                    'seExp'\n",
    "                   ]\n",
    "features = df.loc[:, meaningfull_cols]\n",
    "categorical_feature = [val \n",
    "                       for val in meaningfull_cols\n",
    "                       if val in df.columns[df.dtypes == object]]\n",
    "# Convert categorical features to Integer features\n",
    "for catg_name in categorical_feature:\n",
    "    catg = list(enumerate(sorted(np.unique(features[catg_name]))))\n",
    "    catg_dict = {name: i for i, name in catg}\n",
    "    features[catg_name] = features[catg_name].apply(lambda x: catg_dict[x]).astype(int)\n",
    "\n",
    "# in case you are interested in binary coding for categorical features,\n",
    "# you can use these lines of code:\n",
    "\n",
    "# bin_catg = pd.get_dummies(df[categorical_feature])\n",
    "# features.drop(categorical_feature, axis=1, inplace=True)\n",
    "# features = features.join(bin_catg)"
   ]
  },
  {
   "cell_type": "markdown",
   "metadata": {},
   "source": [
    "Now, it is the time to fit the Random Forest Classifier to the binary classification problem. Before that, we split the dataset into two different sets; train and test data. As the classification problem is highly skewed; i.e., the number of players has white skin is much more than the black skin ones, we use the stratigy option in `train_test_split` function. The number of trees in our Random Forest Classifier is set to 256 and we use parallel processing to accelerate the training phase. To have a better generalization, we also set oob_score to true. It acctually uses the unused data in each bootstraping step to prune the each tree in the forest."
   ]
  },
  {
   "cell_type": "code",
   "execution_count": 23,
   "metadata": {
    "collapsed": false
   },
   "outputs": [
    {
     "name": "stdout",
     "output_type": "stream",
     "text": [
      "Training...\n",
      "is done!\n"
     ]
    }
   ],
   "source": [
    "x_train, x_test, y_train, y_test = train_test_split(\n",
    "    features.values, binary_targets, test_size=0.25, stratify=binary_targets)\n",
    "print('Training...')\n",
    "forest_c = RandomForestClassifier(n_estimators=256, n_jobs=-1, oob_score=True)\n",
    "forest = forest_c.fit(x_train, y_train)\n",
    "print('is done!')"
   ]
  },
  {
   "cell_type": "markdown",
   "metadata": {},
   "source": [
    "To show the performance of the classifier on the test data, we use three different metrics:\n",
    "- accuracy score: the most intuitive classification score. It works well for balanced data but it is not informative for imbalanced data.\n",
    "- F-score: it can be interpreted as a weighted average of the precision and recall. It is more suitable when we face skewed labels.\n",
    "- Confusion matrix: it is also known as error matrix. For binary classifcation, it contains 4 different values: specificity, sensitivity, type I error and type II error."
   ]
  },
  {
   "cell_type": "code",
   "execution_count": 24,
   "metadata": {
    "collapsed": false
   },
   "outputs": [
    {
     "name": "stdout",
     "output_type": "stream",
     "text": [
      "Accuracy score for test data is: 0.981013791868\n",
      "F1-score for test data is: 0.937764208549\n",
      "Confusion matrix for test is:\n",
      " [[23392    91]\n",
      " [  439  3993]]\n"
     ]
    }
   ],
   "source": [
    "print('Accuracy score for test data is:', accuracy_score(y_test, forest_c.predict(x_test)))\n",
    "print('F1-score for test data is:', f1_score(y_test, forest_c.predict(x_test)))\n",
    "print('Confusion matrix for test is:\\n', confusion_matrix(y_test, forest_c.predict(x_test)))"
   ]
  },
  {
   "cell_type": "markdown",
   "metadata": {},
   "source": [
    "As we are asked to show the most important features, we use the `feature_importances_` to find the importance of each feature."
   ]
  },
  {
   "cell_type": "code",
   "execution_count": 25,
   "metadata": {
    "collapsed": false
   },
   "outputs": [],
   "source": [
    "importances = forest.feature_importances_"
   ]
  },
  {
   "cell_type": "markdown",
   "metadata": {},
   "source": [
    "Using the code available [here](http://scikit-learn.org/stable/auto_examples/ensemble/plot_forest_importances.html), we can plot the importance of each feature along with different trees in forest!"
   ]
  },
  {
   "cell_type": "code",
   "execution_count": 26,
   "metadata": {
    "collapsed": false
   },
   "outputs": [
    {
     "name": "stdout",
     "output_type": "stream",
     "text": [
      "Feature ranking: score\n",
      "1. weight (feature 2) : 0.200683\n",
      "2. height (feature 1) : 0.199454\n",
      "3. birthyear (feature 3) : 0.168552\n",
      "4. position (feature 4) : 0.142899\n",
      "5. leagueCountry (feature 0) : 0.070024\n",
      "6. games (feature 5) : 0.025668\n",
      "7. meanIAT (feature 14) : 0.022837\n",
      "8. victories (feature 6) : 0.022391\n",
      "9. meanExp (feature 17) : 0.019915\n",
      "10. defeats (feature 8) : 0.019636\n",
      "11. ties (feature 7) : 0.017290\n",
      "12. goals (feature 9) : 0.016404\n",
      "13. yellowCards (feature 10) : 0.014976\n",
      "14. seIAT (feature 16) : 0.014161\n",
      "15. nIAT (feature 15) : 0.013987\n",
      "16. nExp (feature 18) : 0.013757\n",
      "17. seExp (feature 19) : 0.013150\n",
      "18. allreds (feature 13) : 0.001787\n",
      "19. redCards (feature 12) : 0.001220\n",
      "20. yellowReds (feature 11) : 0.001210\n"
     ]
    },
    {
     "data": {
      "image/png": "[encoded data removed]",
      "text/plain": [
       "<matplotlib.figure.Figure at 0x2364c478240>"
      ]
     },
     "metadata": {},
     "output_type": "display_data"
    }
   ],
   "source": [
    "std = np.std([tree.feature_importances_ for tree in forest_c.estimators_],\n",
    "             axis=0)\n",
    "indices = np.argsort(importances)[::-1]\n",
    "\n",
    "# Print the feature ranking\n",
    "print(\"Feature ranking: score\")\n",
    "\n",
    "for f in range(x_train.shape[1]):\n",
    "    print(\"%d. %s (feature %d) : %f\" % (f + 1, meaningfull_cols[indices[f]],\n",
    "                                        indices[f],\n",
    "                                        importances[indices[f]]))\n",
    "\n",
    "# Plot the feature importances of the forest\n",
    "plt.figure()\n",
    "plt.title(\"Feature importances\")\n",
    "plt.bar(range(x_train.shape[1]), importances[indices],\n",
    "       color=\"r\", yerr=std[indices], align=\"center\")\n",
    "plt.xticks(range(x_train.shape[1]), indices)\n",
    "plt.xlim([-1, x_train.shape[1]])\n",
    "plt.show()"
   ]
  },
  {
   "cell_type": "markdown",
   "metadata": {},
   "source": [
    "However, the above results are kind of cheating. We know that there exist several pairs for a player. Thus, it is possible that a player be in both test and train set but with different referees in dyads! Taking advantage of the informations related to height and weight, we actually memorize players' skin color in the train set and we just recall them once it appears in the test dataset. Hence, it actually makes more sense if remove the first two features with the highest importance. Now, we repeat the analysis once again for the new model."
   ]
  },
  {
   "cell_type": "code",
   "execution_count": 27,
   "metadata": {
    "collapsed": false
   },
   "outputs": [],
   "source": [
    "remove_col = ['weight', 'height']\n",
    "remove_ind = [ind for ind, val in enumerate(meaningfull_cols)\n",
    "              if val in remove_col]\n",
    "new_col = [i for i in meaningfull_cols if i not in remove_col]"
   ]
  },
  {
   "cell_type": "code",
   "execution_count": 28,
   "metadata": {
    "collapsed": false
   },
   "outputs": [
    {
     "name": "stdout",
     "output_type": "stream",
     "text": [
      "Training...\n",
      "is done!\n",
      "Accuracy score for test data is: 0.883682607917\n",
      "F1-score for test data is: 0.567124383416\n",
      "Confusion matrix for test is:\n",
      " [[22541   942]\n",
      " [ 2305  2127]]\n"
     ]
    }
   ],
   "source": [
    "print('Training...')\n",
    "forest_c2 = RandomForestClassifier(n_estimators=256, n_jobs=-1, oob_score=True)\n",
    "forest_new = forest_c2.fit(np.delete(x_train, remove_ind, axis=1), y_train)\n",
    "print('is done!')\n",
    "print('Accuracy score for test data is:',\n",
    "      accuracy_score(y_test, forest_c2.predict(np.delete(x_test, remove_ind, axis=1))))\n",
    "print('F1-score for test data is:',\n",
    "      f1_score(y_test, forest_c2.predict(np.delete(x_test, remove_ind, axis=1))))\n",
    "print('Confusion matrix for test is:\\n',\n",
    "      confusion_matrix(y_test, forest_c2.predict(np.delete(x_test, remove_ind, axis=1))))"
   ]
  },
  {
   "cell_type": "markdown",
   "metadata": {},
   "source": [
    "Huge loss! As we see the result now makes more sense as we do not commit to any cheating anymore. It is possible that several players share the year of their birth but it is not the case for height and weight."
   ]
  },
  {
   "cell_type": "code",
   "execution_count": 29,
   "metadata": {
    "collapsed": false
   },
   "outputs": [
    {
     "name": "stdout",
     "output_type": "stream",
     "text": [
      "Feature ranking: score\n",
      "1. birthyear (feature 1) : 0.263111\n",
      "2. position (feature 2) : 0.225460\n",
      "3. leagueCountry (feature 0) : 0.083805\n",
      "4. games (feature 3) : 0.062945\n",
      "5. victories (feature 4) : 0.056482\n",
      "6. defeats (feature 6) : 0.049063\n",
      "7. ties (feature 5) : 0.045442\n",
      "8. yellowCards (feature 8) : 0.042880\n",
      "9. goals (feature 7) : 0.039183\n",
      "10. meanIAT (feature 12) : 0.028880\n",
      "11. meanExp (feature 15) : 0.025044\n",
      "12. seIAT (feature 14) : 0.017901\n",
      "13. nIAT (feature 13) : 0.017341\n",
      "14. nExp (feature 16) : 0.017208\n",
      "15. seExp (feature 17) : 0.016565\n",
      "16. allreds (feature 11) : 0.003753\n",
      "17. yellowReds (feature 9) : 0.002481\n",
      "18. redCards (feature 10) : 0.002458\n"
     ]
    },
    {
     "data": {
      "image/png": "[encoded data removed]",
      "text/plain": [
       "<matplotlib.figure.Figure at 0x2364fefd240>"
      ]
     },
     "metadata": {},
     "output_type": "display_data"
    }
   ],
   "source": [
    "importances = forest_new.feature_importances_\n",
    "std = np.std([tree.feature_importances_ for tree in forest_c2.estimators_],\n",
    "             axis=0)\n",
    "indices = np.argsort(importances)[::-1]\n",
    "\n",
    "# Print the feature ranking\n",
    "print(\"Feature ranking: score\")\n",
    "\n",
    "for f in range(len(new_col)):\n",
    "    print(\"%d. %s (feature %d) : %f\" % (f + 1, new_col[indices[f]],\n",
    "                                        indices[f],\n",
    "                                        importances[indices[f]]))\n",
    "\n",
    "# Plot the feature importances of the forest\n",
    "plt.figure()\n",
    "plt.title(\"Feature importances\")\n",
    "plt.bar(range(len(new_col)), importances[indices],\n",
    "       color=\"r\", yerr=std[indices], align=\"center\")\n",
    "plt.xticks(range(len(new_col)), indices)\n",
    "plt.xlim([-1, len(new_col)])\n",
    "plt.show()"
   ]
  },
  {
   "cell_type": "markdown",
   "metadata": {},
   "source": [
    "## 4- Learning Curves (Bonus)"
   ]
  },
  {
   "cell_type": "code",
   "execution_count": 30,
   "metadata": {
    "collapsed": false
   },
   "outputs": [],
   "source": [
    "from sklearn.model_selection import learning_curve"
   ]
  },
  {
   "cell_type": "markdown",
   "metadata": {},
   "source": [
    "Using the code available [here](http://scikit-learn.org/stable/auto_examples/model_selection/plot_learning_curve.html#sphx-glr-auto-examples-model-selection-plot-learning-curve-py) and f-score to measure the classifiers performance, we show the learning curve for the second model; i.e., the model without height and weight feature."
   ]
  },
  {
   "cell_type": "code",
   "execution_count": 31,
   "metadata": {
    "collapsed": true
   },
   "outputs": [],
   "source": [
    "def plotLearningCurves(X, y, classifier):\n",
    "    \n",
    "    train_sizes, train_scores, test_scores = learning_curve(\n",
    "        classifier, X, y, cv=20, n_jobs=-1,\n",
    "        train_sizes=np.linspace(0.1, 1.0, 5),\n",
    "        scoring=make_scorer(f1_score), verbose=0)\n",
    "\n",
    "    train_scores_mean = np.mean(train_scores, axis=1)\n",
    "    train_scores_std = np.std(train_scores, axis=1)\n",
    "    test_scores_mean = np.mean(test_scores, axis=1)\n",
    "    test_scores_std = np.std(test_scores, axis=1)\n",
    "\n",
    "    plt.figure()\n",
    "    plt.title(\"Learning Curves\")\n",
    "    plt.legend(loc=\"best\")\n",
    "    plt.xlabel(\"Training samples\")\n",
    "    plt.ylabel(\"Error Rate\")\n",
    "    plt.ylim((0, 1))\n",
    "    plt.gca().invert_yaxis()\n",
    "    plt.grid()\n",
    "\n",
    "    # Plot the average training and test score lines at each training set size\n",
    "    plt.plot(train_sizes, train_scores_mean, 'o-', color=\"b\", label=\"Training score\")\n",
    "    plt.plot(train_sizes, test_scores_mean, 'o-', color=\"r\", label=\"Test score\")\n",
    "\n",
    "    # Plot the std deviation as a transparent range at each training set size\n",
    "    plt.fill_between(train_sizes, train_scores_mean - train_scores_std,\n",
    "                     train_scores_mean + train_scores_std, alpha=0.1, color=\"b\")\n",
    "    plt.fill_between(train_sizes, test_scores_mean - test_scores_std,\n",
    "                     test_scores_mean + test_scores_std, alpha=0.1, color=\"r\")\n",
    "\n",
    "    # Draw the plot and reset the y-axis\n",
    "    plt.draw()\n",
    "    plt.gca().invert_yaxis()\n",
    "\n",
    "    return plt"
   ]
  },
  {
   "cell_type": "code",
   "execution_count": 32,
   "metadata": {
    "collapsed": false
   },
   "outputs": [
    {
     "name": "stdout",
     "output_type": "stream",
     "text": [
      "computing learning curves for the second model...\n",
      "is done!\n"
     ]
    },
    {
     "name": "stderr",
     "output_type": "stream",
     "text": [
      "C:\\Users\\shafieez\\AppData\\Local\\Continuum\\Anaconda3\\lib\\site-packages\\matplotlib\\axes\\_axes.py:531: UserWarning: No labelled objects found. Use label='...' kwarg on individual plots.\n",
      "  warnings.warn(\"No labelled objects found. \"\n"
     ]
    },
    {
     "data": {
      "image/png": "[encoded data removed]",
      "text/plain": [
       "<matplotlib.figure.Figure at 0x23648f385c0>"
      ]
     },
     "metadata": {},
     "output_type": "display_data"
    }
   ],
   "source": [
    "print('computing learning curves for the second model...')\n",
    "plt1 = plotLearningCurves(np.delete(x_train, remove_ind, axis=1), y_train, forest_c2)\n",
    "print('is done!')\n",
    "# Learning curves for the second model (removing categorical data)\n",
    "plt1.show()"
   ]
  },
  {
   "cell_type": "code",
   "execution_count": null,
   "metadata": {
    "collapsed": true
   },
   "outputs": [],
   "source": []
  }
 ],
 "metadata": {
  "anaconda-cloud": {},
  "kernelspec": {
   "display_name": "Python [default]",
   "language": "python",
   "name": "python3"
  },
  "language_info": {
   "codemirror_mode": {
    "name": "ipython",
    "version": 3
   },
   "file_extension": ".py",
   "mimetype": "text/x-python",
   "name": "python",
   "nbconvert_exporter": "python",
   "pygments_lexer": "ipython3",
   "version": "3.5.2"
  }
 },
 "nbformat": 4,
 "nbformat_minor": 1
}
