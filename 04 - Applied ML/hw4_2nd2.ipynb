{
 "cells": [
  {
   "cell_type": "code",
   "execution_count": 13,
   "metadata": {
    "collapsed": true
   },
   "outputs": [],
   "source": [
    "#===============================================================================\n",
    "# Import libraries\n",
    "#===============================================================================\n",
    "import numpy as np\n",
    "import pandas as pd\n",
    "import matplotlib.pyplot as plt\n",
    "from scipy.stats import mode\n",
    "from sklearn.cluster import KMeans\n",
    "%matplotlib inline\n",
    "from sklearn.metrics import silhouette_score\n",
    "from sklearn import preprocessing\n",
    "from sklearn import metrics"
   ]
  },
  {
   "cell_type": "code",
   "execution_count": 60,
   "metadata": {
    "collapsed": false
   },
   "outputs": [],
   "source": [
    "df = pd.read_csv('ppplayers_without_nan.csv')"
   ]
  },
  {
   "cell_type": "code",
   "execution_count": 61,
   "metadata": {
    "collapsed": false
   },
   "outputs": [],
   "source": [
    "df['player'] = df['player'].factorize(sort=True)[0]\n",
    "df['club'] = df['club'].factorize(sort=True)[0]\n",
    "df['leagueCountry'] = df['leagueCountry'].factorize(sort=True)[0]\n",
    "df['position'] = df['position'].factorize(sort=True)[0]\n",
    "df['skintone'] = df['skintone'].apply(lambda x: 0 if x <= 0.5 else 1)\n",
    "\n",
    "useless_cols = ['playerShort', 'birthday', 'photoID', 'rater1', 'rater2', 'Alpha_3', 'refCount']\n",
    "df.drop(useless_cols, axis=1, inplace=True)"
   ]
  },
  {
   "cell_type": "markdown",
   "metadata": {},
   "source": [
    "#### Aggregate data by summing"
   ]
  },
  {
   "cell_type": "code",
   "execution_count": 46,
   "metadata": {
    "collapsed": true
   },
   "outputs": [],
   "source": [
    "df_agg = pd.DataFrame()\n",
    "df_agg['total_yellow'] = df.groupby('player')['yellowCards'].agg('sum')\n",
    "df_agg['total_yellow_red'] = df.groupby('player')['yellowReds'].agg('sum')\n",
    "df_agg['total_direct_red'] = df.groupby('player')['redCards'].agg('sum')\n",
    "df_agg['total_red'] = df.groupby('player')['allreds'].agg('sum')\n",
    "df_agg['total_game'] = df.groupby('player')['games'].agg('sum')\n",
    "df_agg['total_win'] = df.groupby('player')['victories'].agg('sum')\n",
    "df_agg['total_lose'] = df.groupby('player')['defeats'].agg('sum')\n",
    "df_agg['total_draw'] = df.groupby('player')['ties'].agg('sum')\n",
    "df_agg['total_goal'] = df.groupby('player')['goals'].agg('sum')"
   ]
  },
  {
   "cell_type": "code",
   "execution_count": 47,
   "metadata": {
    "collapsed": false
   },
   "outputs": [],
   "source": [
    "df_agg['league'] = df.groupby('player')['leagueCountry'].apply(lambda x: mode(x)[0][0])\n",
    "df_agg['club'] = df.groupby('player')['club'].apply(lambda x: mode(x)[0][0])\n",
    "df_agg['height'] = df.groupby('player')['height'].apply(lambda x: mode(x)[0][0])\n",
    "df_agg['weight'] = df.groupby('player')['weight'].apply(lambda x: mode(x)[0][0])\n",
    "df_agg['position'] = df.groupby('player')['position'].apply(lambda x: mode(x)[0][0])\n",
    "#df_agg['birthyear'] = df.groupby('player')['birthyear'].apply(lambda x: mode(x)[0][0])\n",
    "df_agg['skintone'] = df.groupby('player')['skintone'].apply(lambda x: mode(x)[0][0])"
   ]
  },
  {
   "cell_type": "markdown",
   "metadata": {},
   "source": [
    "#### Aggregate by taking mean values"
   ]
  },
  {
   "cell_type": "code",
   "execution_count": 64,
   "metadata": {
    "collapsed": true
   },
   "outputs": [],
   "source": [
    "df_mean = pd.DataFrame()\n",
    "df_mean['mean_yellow'] = df.groupby('player')['yellowCards'].agg('mean')\n",
    "df_mean['mean_yellow_red'] = df.groupby('player')['yellowReds'].agg('mean')\n",
    "df_mean['mean_direct_red'] = df.groupby('player')['redCards'].agg('mean')\n",
    "df_mean['mean_red'] = df.groupby('player')['allreds'].agg('mean')\n",
    "#df_mean['total_game'] = df.groupby('player')['games'].agg('mean')\n",
    "df_mean['mean_win'] = df.groupby('player')['victories'].agg('mean')\n",
    "df_mean['mean_lose'] = df.groupby('player')['defeats'].agg('mean')\n",
    "df_mean['mean_draw'] = df.groupby('player')['ties'].agg('mean')\n",
    "df_mean['mean_goal'] = df.groupby('player')['goals'].agg('mean')"
   ]
  },
  {
   "cell_type": "code",
   "execution_count": 65,
   "metadata": {
    "collapsed": true
   },
   "outputs": [],
   "source": [
    "df_mean['league'] = df_agg['league']\n",
    "df_mean['club'] = df_agg['club']\n",
    "df_mean['height'] = df_agg['height']\n",
    "df_mean['weight'] = df_agg['weight']\n",
    "df_mean['position'] = df_agg['position']\n",
    "#df_agg['birthyear'] = df.groupby('player')['birthyear'].apply(lambda x: mode(x)[0][0])\n",
    "df_mean['skintone'] = df_agg['skintone']"
   ]
  },
  {
   "cell_type": "code",
   "execution_count": 131,
   "metadata": {
    "collapsed": false
   },
   "outputs": [
    {
     "data": {
      "text/html": [
       "<div>\n",
       "<table border=\"1\" class=\"dataframe\">\n",
       "  <thead>\n",
       "    <tr style=\"text-align: right;\">\n",
       "      <th></th>\n",
       "      <th>mean_yellow</th>\n",
       "      <th>mean_yellow_red</th>\n",
       "      <th>mean_direct_red</th>\n",
       "      <th>mean_red</th>\n",
       "      <th>mean_win</th>\n",
       "      <th>mean_lose</th>\n",
       "      <th>mean_draw</th>\n",
       "      <th>mean_goal</th>\n",
       "      <th>league</th>\n",
       "      <th>club</th>\n",
       "      <th>height</th>\n",
       "      <th>weight</th>\n",
       "      <th>position</th>\n",
       "      <th>skintone</th>\n",
       "    </tr>\n",
       "  </thead>\n",
       "  <tbody>\n",
       "    <tr>\n",
       "      <th>count</th>\n",
       "      <td>1572.000000</td>\n",
       "      <td>1572.000000</td>\n",
       "      <td>1572.000000</td>\n",
       "      <td>1572.000000</td>\n",
       "      <td>1572.000000</td>\n",
       "      <td>1572.000000</td>\n",
       "      <td>1572.000000</td>\n",
       "      <td>1572.000000</td>\n",
       "      <td>1572.000000</td>\n",
       "      <td>1572.000000</td>\n",
       "      <td>1572.000000</td>\n",
       "      <td>1572.000000</td>\n",
       "      <td>1572.000000</td>\n",
       "      <td>1572.000000</td>\n",
       "    </tr>\n",
       "    <tr>\n",
       "      <th>mean</th>\n",
       "      <td>0.396640</td>\n",
       "      <td>0.012182</td>\n",
       "      <td>0.012882</td>\n",
       "      <td>0.025064</td>\n",
       "      <td>1.241414</td>\n",
       "      <td>0.946435</td>\n",
       "      <td>0.700037</td>\n",
       "      <td>0.309289</td>\n",
       "      <td>1.599873</td>\n",
       "      <td>46.963740</td>\n",
       "      <td>182.059796</td>\n",
       "      <td>76.053435</td>\n",
       "      <td>4.804707</td>\n",
       "      <td>0.169847</td>\n",
       "    </tr>\n",
       "    <tr>\n",
       "      <th>std</th>\n",
       "      <td>0.284908</td>\n",
       "      <td>0.017692</td>\n",
       "      <td>0.017862</td>\n",
       "      <td>0.028073</td>\n",
       "      <td>0.529053</td>\n",
       "      <td>0.433371</td>\n",
       "      <td>0.316185</td>\n",
       "      <td>0.365928</td>\n",
       "      <td>1.128114</td>\n",
       "      <td>27.754068</td>\n",
       "      <td>6.748476</td>\n",
       "      <td>7.070506</td>\n",
       "      <td>3.434858</td>\n",
       "      <td>0.375618</td>\n",
       "    </tr>\n",
       "    <tr>\n",
       "      <th>min</th>\n",
       "      <td>0.000000</td>\n",
       "      <td>0.000000</td>\n",
       "      <td>0.000000</td>\n",
       "      <td>0.000000</td>\n",
       "      <td>0.000000</td>\n",
       "      <td>0.000000</td>\n",
       "      <td>0.000000</td>\n",
       "      <td>0.000000</td>\n",
       "      <td>0.000000</td>\n",
       "      <td>0.000000</td>\n",
       "      <td>161.000000</td>\n",
       "      <td>54.000000</td>\n",
       "      <td>0.000000</td>\n",
       "      <td>0.000000</td>\n",
       "    </tr>\n",
       "    <tr>\n",
       "      <th>25%</th>\n",
       "      <td>0.201163</td>\n",
       "      <td>0.000000</td>\n",
       "      <td>0.000000</td>\n",
       "      <td>0.000000</td>\n",
       "      <td>0.845979</td>\n",
       "      <td>0.642857</td>\n",
       "      <td>0.487649</td>\n",
       "      <td>0.063600</td>\n",
       "      <td>1.000000</td>\n",
       "      <td>25.000000</td>\n",
       "      <td>178.000000</td>\n",
       "      <td>71.000000</td>\n",
       "      <td>2.000000</td>\n",
       "      <td>0.000000</td>\n",
       "    </tr>\n",
       "    <tr>\n",
       "      <th>50%</th>\n",
       "      <td>0.333333</td>\n",
       "      <td>0.000000</td>\n",
       "      <td>0.007874</td>\n",
       "      <td>0.017621</td>\n",
       "      <td>1.207222</td>\n",
       "      <td>0.863270</td>\n",
       "      <td>0.654859</td>\n",
       "      <td>0.186047</td>\n",
       "      <td>2.000000</td>\n",
       "      <td>45.500000</td>\n",
       "      <td>182.000000</td>\n",
       "      <td>76.000000</td>\n",
       "      <td>5.000000</td>\n",
       "      <td>0.000000</td>\n",
       "    </tr>\n",
       "    <tr>\n",
       "      <th>75%</th>\n",
       "      <td>0.527237</td>\n",
       "      <td>0.018576</td>\n",
       "      <td>0.019608</td>\n",
       "      <td>0.036397</td>\n",
       "      <td>1.573558</td>\n",
       "      <td>1.163265</td>\n",
       "      <td>0.878393</td>\n",
       "      <td>0.429915</td>\n",
       "      <td>3.000000</td>\n",
       "      <td>70.000000</td>\n",
       "      <td>187.000000</td>\n",
       "      <td>81.000000</td>\n",
       "      <td>7.000000</td>\n",
       "      <td>0.000000</td>\n",
       "    </tr>\n",
       "    <tr>\n",
       "      <th>max</th>\n",
       "      <td>2.482759</td>\n",
       "      <td>0.132075</td>\n",
       "      <td>0.166667</td>\n",
       "      <td>0.243590</td>\n",
       "      <td>3.657343</td>\n",
       "      <td>3.450980</td>\n",
       "      <td>2.274510</td>\n",
       "      <td>3.299145</td>\n",
       "      <td>3.000000</td>\n",
       "      <td>96.000000</td>\n",
       "      <td>203.000000</td>\n",
       "      <td>100.000000</td>\n",
       "      <td>12.000000</td>\n",
       "      <td>1.000000</td>\n",
       "    </tr>\n",
       "  </tbody>\n",
       "</table>\n",
       "</div>"
      ],
      "text/plain": [
       "       mean_yellow  mean_yellow_red  mean_direct_red     mean_red  \\\n",
       "count  1572.000000      1572.000000      1572.000000  1572.000000   \n",
       "mean      0.396640         0.012182         0.012882     0.025064   \n",
       "std       0.284908         0.017692         0.017862     0.028073   \n",
       "min       0.000000         0.000000         0.000000     0.000000   \n",
       "25%       0.201163         0.000000         0.000000     0.000000   \n",
       "50%       0.333333         0.000000         0.007874     0.017621   \n",
       "75%       0.527237         0.018576         0.019608     0.036397   \n",
       "max       2.482759         0.132075         0.166667     0.243590   \n",
       "\n",
       "          mean_win    mean_lose    mean_draw    mean_goal       league  \\\n",
       "count  1572.000000  1572.000000  1572.000000  1572.000000  1572.000000   \n",
       "mean      1.241414     0.946435     0.700037     0.309289     1.599873   \n",
       "std       0.529053     0.433371     0.316185     0.365928     1.128114   \n",
       "min       0.000000     0.000000     0.000000     0.000000     0.000000   \n",
       "25%       0.845979     0.642857     0.487649     0.063600     1.000000   \n",
       "50%       1.207222     0.863270     0.654859     0.186047     2.000000   \n",
       "75%       1.573558     1.163265     0.878393     0.429915     3.000000   \n",
       "max       3.657343     3.450980     2.274510     3.299145     3.000000   \n",
       "\n",
       "              club       height       weight     position     skintone  \n",
       "count  1572.000000  1572.000000  1572.000000  1572.000000  1572.000000  \n",
       "mean     46.963740   182.059796    76.053435     4.804707     0.169847  \n",
       "std      27.754068     6.748476     7.070506     3.434858     0.375618  \n",
       "min       0.000000   161.000000    54.000000     0.000000     0.000000  \n",
       "25%      25.000000   178.000000    71.000000     2.000000     0.000000  \n",
       "50%      45.500000   182.000000    76.000000     5.000000     0.000000  \n",
       "75%      70.000000   187.000000    81.000000     7.000000     0.000000  \n",
       "max      96.000000   203.000000   100.000000    12.000000     1.000000  "
      ]
     },
     "execution_count": 131,
     "metadata": {},
     "output_type": "execute_result"
    }
   ],
   "source": [
    "df_mean.describe()"
   ]
  },
  {
   "cell_type": "code",
   "execution_count": 132,
   "metadata": {
    "collapsed": false
   },
   "outputs": [
    {
     "data": {
      "text/html": [
       "<div>\n",
       "<table border=\"1\" class=\"dataframe\">\n",
       "  <thead>\n",
       "    <tr style=\"text-align: right;\">\n",
       "      <th></th>\n",
       "      <th>total_yellow</th>\n",
       "      <th>total_yellow_red</th>\n",
       "      <th>total_direct_red</th>\n",
       "      <th>total_red</th>\n",
       "      <th>total_game</th>\n",
       "      <th>total_win</th>\n",
       "      <th>total_lose</th>\n",
       "      <th>total_draw</th>\n",
       "      <th>total_goal</th>\n",
       "      <th>league</th>\n",
       "      <th>club</th>\n",
       "      <th>height</th>\n",
       "      <th>weight</th>\n",
       "      <th>position</th>\n",
       "      <th>skintone</th>\n",
       "    </tr>\n",
       "  </thead>\n",
       "  <tbody>\n",
       "    <tr>\n",
       "      <th>count</th>\n",
       "      <td>1572.000000</td>\n",
       "      <td>1572.000000</td>\n",
       "      <td>1572.000000</td>\n",
       "      <td>1572.000000</td>\n",
       "      <td>1572.000000</td>\n",
       "      <td>1572.000000</td>\n",
       "      <td>1572.000000</td>\n",
       "      <td>1572.000000</td>\n",
       "      <td>1572.000000</td>\n",
       "      <td>1572.000000</td>\n",
       "      <td>1572.000000</td>\n",
       "      <td>1572.000000</td>\n",
       "      <td>1572.000000</td>\n",
       "      <td>1572.000000</td>\n",
       "      <td>1572.000000</td>\n",
       "    </tr>\n",
       "    <tr>\n",
       "      <th>mean</th>\n",
       "      <td>31.632952</td>\n",
       "      <td>0.956107</td>\n",
       "      <td>1.010814</td>\n",
       "      <td>1.966921</td>\n",
       "      <td>237.201018</td>\n",
       "      <td>106.385496</td>\n",
       "      <td>74.166667</td>\n",
       "      <td>56.648855</td>\n",
       "      <td>28.001908</td>\n",
       "      <td>1.599873</td>\n",
       "      <td>46.963740</td>\n",
       "      <td>182.059796</td>\n",
       "      <td>76.053435</td>\n",
       "      <td>4.804707</td>\n",
       "      <td>0.169847</td>\n",
       "    </tr>\n",
       "    <tr>\n",
       "      <th>std</th>\n",
       "      <td>25.355665</td>\n",
       "      <td>1.398820</td>\n",
       "      <td>1.347090</td>\n",
       "      <td>2.281060</td>\n",
       "      <td>143.977858</td>\n",
       "      <td>78.043527</td>\n",
       "      <td>41.849328</td>\n",
       "      <td>34.415758</td>\n",
       "      <td>41.726421</td>\n",
       "      <td>1.128114</td>\n",
       "      <td>27.754068</td>\n",
       "      <td>6.748476</td>\n",
       "      <td>7.070506</td>\n",
       "      <td>3.434858</td>\n",
       "      <td>0.375618</td>\n",
       "    </tr>\n",
       "    <tr>\n",
       "      <th>min</th>\n",
       "      <td>0.000000</td>\n",
       "      <td>0.000000</td>\n",
       "      <td>0.000000</td>\n",
       "      <td>0.000000</td>\n",
       "      <td>1.000000</td>\n",
       "      <td>0.000000</td>\n",
       "      <td>0.000000</td>\n",
       "      <td>0.000000</td>\n",
       "      <td>0.000000</td>\n",
       "      <td>0.000000</td>\n",
       "      <td>0.000000</td>\n",
       "      <td>161.000000</td>\n",
       "      <td>54.000000</td>\n",
       "      <td>0.000000</td>\n",
       "      <td>0.000000</td>\n",
       "    </tr>\n",
       "    <tr>\n",
       "      <th>25%</th>\n",
       "      <td>13.000000</td>\n",
       "      <td>0.000000</td>\n",
       "      <td>0.000000</td>\n",
       "      <td>0.000000</td>\n",
       "      <td>131.000000</td>\n",
       "      <td>52.750000</td>\n",
       "      <td>44.000000</td>\n",
       "      <td>31.000000</td>\n",
       "      <td>4.000000</td>\n",
       "      <td>1.000000</td>\n",
       "      <td>25.000000</td>\n",
       "      <td>178.000000</td>\n",
       "      <td>71.000000</td>\n",
       "      <td>2.000000</td>\n",
       "      <td>0.000000</td>\n",
       "    </tr>\n",
       "    <tr>\n",
       "      <th>50%</th>\n",
       "      <td>26.000000</td>\n",
       "      <td>0.000000</td>\n",
       "      <td>1.000000</td>\n",
       "      <td>1.000000</td>\n",
       "      <td>215.000000</td>\n",
       "      <td>85.500000</td>\n",
       "      <td>69.000000</td>\n",
       "      <td>52.000000</td>\n",
       "      <td>13.000000</td>\n",
       "      <td>2.000000</td>\n",
       "      <td>45.500000</td>\n",
       "      <td>182.000000</td>\n",
       "      <td>76.000000</td>\n",
       "      <td>5.000000</td>\n",
       "      <td>0.000000</td>\n",
       "    </tr>\n",
       "    <tr>\n",
       "      <th>75%</th>\n",
       "      <td>43.000000</td>\n",
       "      <td>1.000000</td>\n",
       "      <td>2.000000</td>\n",
       "      <td>3.000000</td>\n",
       "      <td>324.000000</td>\n",
       "      <td>140.250000</td>\n",
       "      <td>98.000000</td>\n",
       "      <td>78.000000</td>\n",
       "      <td>35.000000</td>\n",
       "      <td>3.000000</td>\n",
       "      <td>70.000000</td>\n",
       "      <td>187.000000</td>\n",
       "      <td>81.000000</td>\n",
       "      <td>7.000000</td>\n",
       "      <td>0.000000</td>\n",
       "    </tr>\n",
       "    <tr>\n",
       "      <th>max</th>\n",
       "      <td>197.000000</td>\n",
       "      <td>12.000000</td>\n",
       "      <td>13.000000</td>\n",
       "      <td>19.000000</td>\n",
       "      <td>945.000000</td>\n",
       "      <td>527.000000</td>\n",
       "      <td>309.000000</td>\n",
       "      <td>234.000000</td>\n",
       "      <td>420.000000</td>\n",
       "      <td>3.000000</td>\n",
       "      <td>96.000000</td>\n",
       "      <td>203.000000</td>\n",
       "      <td>100.000000</td>\n",
       "      <td>12.000000</td>\n",
       "      <td>1.000000</td>\n",
       "    </tr>\n",
       "  </tbody>\n",
       "</table>\n",
       "</div>"
      ],
      "text/plain": [
       "       total_yellow  total_yellow_red  total_direct_red    total_red  \\\n",
       "count   1572.000000       1572.000000       1572.000000  1572.000000   \n",
       "mean      31.632952          0.956107          1.010814     1.966921   \n",
       "std       25.355665          1.398820          1.347090     2.281060   \n",
       "min        0.000000          0.000000          0.000000     0.000000   \n",
       "25%       13.000000          0.000000          0.000000     0.000000   \n",
       "50%       26.000000          0.000000          1.000000     1.000000   \n",
       "75%       43.000000          1.000000          2.000000     3.000000   \n",
       "max      197.000000         12.000000         13.000000    19.000000   \n",
       "\n",
       "        total_game    total_win   total_lose   total_draw   total_goal  \\\n",
       "count  1572.000000  1572.000000  1572.000000  1572.000000  1572.000000   \n",
       "mean    237.201018   106.385496    74.166667    56.648855    28.001908   \n",
       "std     143.977858    78.043527    41.849328    34.415758    41.726421   \n",
       "min       1.000000     0.000000     0.000000     0.000000     0.000000   \n",
       "25%     131.000000    52.750000    44.000000    31.000000     4.000000   \n",
       "50%     215.000000    85.500000    69.000000    52.000000    13.000000   \n",
       "75%     324.000000   140.250000    98.000000    78.000000    35.000000   \n",
       "max     945.000000   527.000000   309.000000   234.000000   420.000000   \n",
       "\n",
       "            league         club       height       weight     position  \\\n",
       "count  1572.000000  1572.000000  1572.000000  1572.000000  1572.000000   \n",
       "mean      1.599873    46.963740   182.059796    76.053435     4.804707   \n",
       "std       1.128114    27.754068     6.748476     7.070506     3.434858   \n",
       "min       0.000000     0.000000   161.000000    54.000000     0.000000   \n",
       "25%       1.000000    25.000000   178.000000    71.000000     2.000000   \n",
       "50%       2.000000    45.500000   182.000000    76.000000     5.000000   \n",
       "75%       3.000000    70.000000   187.000000    81.000000     7.000000   \n",
       "max       3.000000    96.000000   203.000000   100.000000    12.000000   \n",
       "\n",
       "          skintone  \n",
       "count  1572.000000  \n",
       "mean      0.169847  \n",
       "std       0.375618  \n",
       "min       0.000000  \n",
       "25%       0.000000  \n",
       "50%       0.000000  \n",
       "75%       0.000000  \n",
       "max       1.000000  "
      ]
     },
     "execution_count": 132,
     "metadata": {},
     "output_type": "execute_result"
    }
   ],
   "source": [
    "df_agg.describe()"
   ]
  },
  {
   "cell_type": "code",
   "execution_count": null,
   "metadata": {
    "collapsed": true
   },
   "outputs": [],
   "source": []
  },
  {
   "cell_type": "code",
   "execution_count": null,
   "metadata": {
    "collapsed": true
   },
   "outputs": [],
   "source": [
    "#### "
   ]
  },
  {
   "cell_type": "code",
   "execution_count": 81,
   "metadata": {
    "collapsed": false
   },
   "outputs": [
    {
     "data": {
      "text/plain": [
       "0.52566382123176392"
      ]
     },
     "execution_count": 81,
     "metadata": {},
     "output_type": "execute_result"
    }
   ],
   "source": [
    "kmeanss = KMeans(n_clusters=2,init='k-means++').fit(df_agg.iloc[:,:-1])\n",
    "labelss = kmeanss.labels_\n",
    "a=metrics.silhouette_score(df_agg.iloc[:,:-1],labels,metric='euclidean')\n",
    "kmeanss = KMeans(n_clusters=2,init='k-means++').fit(df_agg)\n",
    "labelss = kmeanss.labels_\n",
    "b=metrics.silhouette_score(df_agg,labels,metric='euclidean')"
   ]
  },
  {
   "cell_type": "code",
   "execution_count": 79,
   "metadata": {
    "collapsed": false
   },
   "outputs": [
    {
     "data": {
      "text/plain": [
       "0.5185165756638056"
      ]
     },
     "execution_count": 79,
     "metadata": {},
     "output_type": "execute_result"
    }
   ],
   "source": [
    "kmeansm = KMeans(n_clusters=2,init='k-means++').fit(df_mean.iloc[:,:-1])\n",
    "labelsm = kmeansm.labels_\n",
    "metrics.silhouette_score(df_mean.iloc[:,:-1],labelsm,metric='euclidean')"
   ]
  },
  {
   "cell_type": "markdown",
   "metadata": {},
   "source": [
    "Standardization of datasets is a common requirement for many machine learning estimators. Standardize the data to get better clustering. "
   ]
  },
  {
   "cell_type": "code",
   "execution_count": 83,
   "metadata": {
    "collapsed": false
   },
   "outputs": [
    {
     "data": {
      "text/plain": [
       "0.24810979469353819"
      ]
     },
     "execution_count": 83,
     "metadata": {},
     "output_type": "execute_result"
    }
   ],
   "source": [
    "scaled_agg = preprocessing.scale(df_agg)\n",
    "kmeanssa = KMeans(n_clusters=2,init='k-means++').fit(scaled_agg)\n",
    "labelssa = kmeanssa.labels_\n",
    "metrics.silhouette_score(scaled_agg,labelssa,metric='euclidean')"
   ]
  },
  {
   "cell_type": "code",
   "execution_count": 118,
   "metadata": {
    "collapsed": false
   },
   "outputs": [
    {
     "data": {
      "text/plain": [
       "0.91157380653552711"
      ]
     },
     "execution_count": 118,
     "metadata": {},
     "output_type": "execute_result"
    }
   ],
   "source": [
    "mdata=df_mean.iloc[:,7:10]\n",
    "scaled_mean = preprocessing.normalize(mdata)\n",
    "kmeanssm = KMeans(n_clusters=2,init='k-means++').fit(scaled_mean)\n",
    "labelssm = kmeanssm.labels_\n",
    "metrics.silhouette_score(scaled_mean,labelssm,metric='euclidean')"
   ]
  },
  {
   "cell_type": "code",
   "execution_count": 130,
   "metadata": {
    "collapsed": false
   },
   "outputs": [
    {
     "data": {
      "text/plain": [
       "0.3706553284466193"
      ]
     },
     "execution_count": 130,
     "metadata": {},
     "output_type": "execute_result"
    }
   ],
   "source": [
    "adata=df_agg.iloc[:,5:14]\n",
    "scaled_agg = preprocessing.normalize(adata)\n",
    "kmeanssa = KMeans(n_clusters=2,init='k-means++').fit(scaled_agg)\n",
    "labelssa = kmeanssa.labels_\n",
    "metrics.silhouette_score(scaled_agg,labelssa,metric='euclidean')"
   ]
  },
  {
   "cell_type": "code",
   "execution_count": 121,
   "metadata": {
    "collapsed": false
   },
   "outputs": [
    {
     "data": {
      "text/plain": [
       "'skintone'"
      ]
     },
     "execution_count": 121,
     "metadata": {},
     "output_type": "execute_result"
    }
   ],
   "source": [
    "df_mean.columns[13]"
   ]
  },
  {
   "cell_type": "code",
   "execution_count": null,
   "metadata": {
    "collapsed": true
   },
   "outputs": [],
   "source": []
  },
  {
   "cell_type": "code",
   "execution_count": null,
   "metadata": {
    "collapsed": true
   },
   "outputs": [],
   "source": []
  },
  {
   "cell_type": "code",
   "execution_count": 151,
   "metadata": {
    "collapsed": false
   },
   "outputs": [
    {
     "data": {
      "text/plain": [
       "Index(['total_yellow'], dtype='object')"
      ]
     },
     "execution_count": 151,
     "metadata": {},
     "output_type": "execute_result"
    }
   ],
   "source": [
    "df_agg.columns[0:1]"
   ]
  },
  {
   "cell_type": "markdown",
   "metadata": {},
   "source": [
    "### Iteratively drop features and see the results"
   ]
  },
  {
   "cell_type": "code",
   "execution_count": 164,
   "metadata": {
    "collapsed": false
   },
   "outputs": [],
   "source": [
    "silh_results=np.zeros(df_mean.shape[1])\n",
    "for i in range(2,14):\n",
    "    Sdd=preprocessing.normalize(df_mean.iloc[:,:i])\n",
    "    kmeansp = KMeans(n_clusters=2).fit(Sdd)\n",
    "    labelsp = kmeansp.labels_\n",
    "    silh_results[i]=metrics.silhouette_score(Sdd,labelsp,metric='euclidean')"
   ]
  },
  {
   "cell_type": "code",
   "execution_count": 165,
   "metadata": {
    "collapsed": false
   },
   "outputs": [
    {
     "name": "stdout",
     "output_type": "stream",
     "text": [
      "2\n",
      "0.961475774269\n"
     ]
    }
   ],
   "source": [
    "import operator\n",
    "max_index,max_value=max(enumerate(silh_results),key=operator.itemgetter(1))\n",
    "print(max_index)\n",
    "print(max_value)"
   ]
  },
  {
   "cell_type": "code",
   "execution_count": 166,
   "metadata": {
    "collapsed": false
   },
   "outputs": [
    {
     "data": {
      "text/plain": [
       "array([ 0.        ,  0.        ,  0.96147577,  0.9190977 ,  0.88896111,\n",
       "        0.53073336,  0.38558711,  0.34042811,  0.25590232,  0.54316036,\n",
       "        0.88270567,  0.62110438,  0.58900474,  0.57304312])"
      ]
     },
     "execution_count": 166,
     "metadata": {},
     "output_type": "execute_result"
    }
   ],
   "source": [
    "silh_results"
   ]
  },
  {
   "cell_type": "markdown",
   "metadata": {},
   "source": [
    "### Now iteratively use different set of features and check the results"
   ]
  },
  {
   "cell_type": "code",
   "execution_count": 143,
   "metadata": {
    "collapsed": false
   },
   "outputs": [],
   "source": [
    "results=np.zeros((df_agg.shape[1]-1,df_agg.shape[1]-1))\n",
    "for i in range(1,14):\n",
    "    for j in range(i+1,15):\n",
    "        for k in range(i,j):# feature with index k will not be used\n",
    "            Sdd=preprocessing.scale(df_agg.iloc[:,i:j])\n",
    "            kmeansp = KMeans(n_clusters=2).fit(Sdd)\n",
    "            labelsp = kmeansp.labels_\n",
    "            results[i-1][j-1]=metrics.silhouette_score(Sdd,labelsp,metric='euclidean')\n",
    "        \n",
    "        "
   ]
  },
  {
   "cell_type": "code",
   "execution_count": 161,
   "metadata": {
    "collapsed": false
   },
   "outputs": [
    {
     "ename": "ValueError",
     "evalue": "Number of labels is 1. Valid values are 2 to n_samples - 1 (inclusive)",
     "output_type": "error",
     "traceback": [
      "\u001b[0;31m---------------------------------------------------------------------------\u001b[0m",
      "\u001b[0;31mValueError\u001b[0m                                Traceback (most recent call last)",
      "\u001b[0;32m<ipython-input-161-649d2411f9c2>\u001b[0m in \u001b[0;36m<module>\u001b[0;34m()\u001b[0m\n\u001b[1;32m      5\u001b[0m         \u001b[0mkmeansp\u001b[0m \u001b[0;34m=\u001b[0m \u001b[0mKMeans\u001b[0m\u001b[0;34m(\u001b[0m\u001b[0mn_clusters\u001b[0m\u001b[0;34m=\u001b[0m\u001b[0;36m2\u001b[0m\u001b[0;34m)\u001b[0m\u001b[0;34m.\u001b[0m\u001b[0mfit\u001b[0m\u001b[0;34m(\u001b[0m\u001b[0mSdd\u001b[0m\u001b[0;34m)\u001b[0m\u001b[0;34m\u001b[0m\u001b[0m\n\u001b[1;32m      6\u001b[0m         \u001b[0mlabelsp\u001b[0m \u001b[0;34m=\u001b[0m \u001b[0mkmeansp\u001b[0m\u001b[0;34m.\u001b[0m\u001b[0mlabels_\u001b[0m\u001b[0;34m\u001b[0m\u001b[0m\n\u001b[0;32m----> 7\u001b[0;31m         \u001b[0mresults\u001b[0m\u001b[0;34m[\u001b[0m\u001b[0mi\u001b[0m\u001b[0;34m-\u001b[0m\u001b[0;36m1\u001b[0m\u001b[0;34m]\u001b[0m\u001b[0;34m[\u001b[0m\u001b[0mj\u001b[0m\u001b[0;34m-\u001b[0m\u001b[0;36m1\u001b[0m\u001b[0;34m]\u001b[0m\u001b[0;34m=\u001b[0m\u001b[0mmetrics\u001b[0m\u001b[0;34m.\u001b[0m\u001b[0msilhouette_score\u001b[0m\u001b[0;34m(\u001b[0m\u001b[0mSdd\u001b[0m\u001b[0;34m,\u001b[0m\u001b[0mlabelsp\u001b[0m\u001b[0;34m,\u001b[0m\u001b[0mmetric\u001b[0m\u001b[0;34m=\u001b[0m\u001b[0;34m'euclidean'\u001b[0m\u001b[0;34m)\u001b[0m\u001b[0;34m\u001b[0m\u001b[0m\n\u001b[0m",
      "\u001b[0;32m/Users/user/Desktop/epfl_semester5/data_analyis/anaconda_folder/anaconda/lib/python3.5/site-packages/sklearn/metrics/cluster/unsupervised.py\u001b[0m in \u001b[0;36msilhouette_score\u001b[0;34m(X, labels, metric, sample_size, random_state, **kwds)\u001b[0m\n\u001b[1;32m     98\u001b[0m         \u001b[0;32melse\u001b[0m\u001b[0;34m:\u001b[0m\u001b[0;34m\u001b[0m\u001b[0m\n\u001b[1;32m     99\u001b[0m             \u001b[0mX\u001b[0m\u001b[0;34m,\u001b[0m \u001b[0mlabels\u001b[0m \u001b[0;34m=\u001b[0m \u001b[0mX\u001b[0m\u001b[0;34m[\u001b[0m\u001b[0mindices\u001b[0m\u001b[0;34m]\u001b[0m\u001b[0;34m,\u001b[0m \u001b[0mlabels\u001b[0m\u001b[0;34m[\u001b[0m\u001b[0mindices\u001b[0m\u001b[0;34m]\u001b[0m\u001b[0;34m\u001b[0m\u001b[0m\n\u001b[0;32m--> 100\u001b[0;31m     \u001b[0;32mreturn\u001b[0m \u001b[0mnp\u001b[0m\u001b[0;34m.\u001b[0m\u001b[0mmean\u001b[0m\u001b[0;34m(\u001b[0m\u001b[0msilhouette_samples\u001b[0m\u001b[0;34m(\u001b[0m\u001b[0mX\u001b[0m\u001b[0;34m,\u001b[0m \u001b[0mlabels\u001b[0m\u001b[0;34m,\u001b[0m \u001b[0mmetric\u001b[0m\u001b[0;34m=\u001b[0m\u001b[0mmetric\u001b[0m\u001b[0;34m,\u001b[0m \u001b[0;34m**\u001b[0m\u001b[0mkwds\u001b[0m\u001b[0;34m)\u001b[0m\u001b[0;34m)\u001b[0m\u001b[0;34m\u001b[0m\u001b[0m\n\u001b[0m\u001b[1;32m    101\u001b[0m \u001b[0;34m\u001b[0m\u001b[0m\n\u001b[1;32m    102\u001b[0m \u001b[0;34m\u001b[0m\u001b[0m\n",
      "\u001b[0;32m/Users/user/Desktop/epfl_semester5/data_analyis/anaconda_folder/anaconda/lib/python3.5/site-packages/sklearn/metrics/cluster/unsupervised.py\u001b[0m in \u001b[0;36msilhouette_samples\u001b[0;34m(X, labels, metric, **kwds)\u001b[0m\n\u001b[1;32m    164\u001b[0m     \u001b[0mle\u001b[0m \u001b[0;34m=\u001b[0m \u001b[0mLabelEncoder\u001b[0m\u001b[0;34m(\u001b[0m\u001b[0;34m)\u001b[0m\u001b[0;34m\u001b[0m\u001b[0m\n\u001b[1;32m    165\u001b[0m     \u001b[0mlabels\u001b[0m \u001b[0;34m=\u001b[0m \u001b[0mle\u001b[0m\u001b[0;34m.\u001b[0m\u001b[0mfit_transform\u001b[0m\u001b[0;34m(\u001b[0m\u001b[0mlabels\u001b[0m\u001b[0;34m)\u001b[0m\u001b[0;34m\u001b[0m\u001b[0m\n\u001b[0;32m--> 166\u001b[0;31m     \u001b[0mcheck_number_of_labels\u001b[0m\u001b[0;34m(\u001b[0m\u001b[0mlen\u001b[0m\u001b[0;34m(\u001b[0m\u001b[0mle\u001b[0m\u001b[0;34m.\u001b[0m\u001b[0mclasses_\u001b[0m\u001b[0;34m)\u001b[0m\u001b[0;34m,\u001b[0m \u001b[0mX\u001b[0m\u001b[0;34m.\u001b[0m\u001b[0mshape\u001b[0m\u001b[0;34m[\u001b[0m\u001b[0;36m0\u001b[0m\u001b[0;34m]\u001b[0m\u001b[0;34m)\u001b[0m\u001b[0;34m\u001b[0m\u001b[0m\n\u001b[0m\u001b[1;32m    167\u001b[0m \u001b[0;34m\u001b[0m\u001b[0m\n\u001b[1;32m    168\u001b[0m     \u001b[0mdistances\u001b[0m \u001b[0;34m=\u001b[0m \u001b[0mpairwise_distances\u001b[0m\u001b[0;34m(\u001b[0m\u001b[0mX\u001b[0m\u001b[0;34m,\u001b[0m \u001b[0mmetric\u001b[0m\u001b[0;34m=\u001b[0m\u001b[0mmetric\u001b[0m\u001b[0;34m,\u001b[0m \u001b[0;34m**\u001b[0m\u001b[0mkwds\u001b[0m\u001b[0;34m)\u001b[0m\u001b[0;34m\u001b[0m\u001b[0m\n",
      "\u001b[0;32m/Users/user/Desktop/epfl_semester5/data_analyis/anaconda_folder/anaconda/lib/python3.5/site-packages/sklearn/metrics/cluster/unsupervised.py\u001b[0m in \u001b[0;36mcheck_number_of_labels\u001b[0;34m(n_labels, n_samples)\u001b[0m\n\u001b[1;32m     18\u001b[0m     \u001b[0;32mif\u001b[0m \u001b[0;32mnot\u001b[0m \u001b[0;36m1\u001b[0m \u001b[0;34m<\u001b[0m \u001b[0mn_labels\u001b[0m \u001b[0;34m<\u001b[0m \u001b[0mn_samples\u001b[0m\u001b[0;34m:\u001b[0m\u001b[0;34m\u001b[0m\u001b[0m\n\u001b[1;32m     19\u001b[0m         raise ValueError(\"Number of labels is %d. Valid values are 2 \"\n\u001b[0;32m---> 20\u001b[0;31m                          \"to n_samples - 1 (inclusive)\" % n_labels)\n\u001b[0m\u001b[1;32m     21\u001b[0m \u001b[0;34m\u001b[0m\u001b[0m\n\u001b[1;32m     22\u001b[0m \u001b[0;34m\u001b[0m\u001b[0m\n",
      "\u001b[0;31mValueError\u001b[0m: Number of labels is 1. Valid values are 2 to n_samples - 1 (inclusive)"
     ]
    }
   ],
   "source": [
    "results=np.zeros((df_agg.shape[1]-1,df_agg.shape[1]-1))\n",
    "for i in range(1,14):\n",
    "    for j in range(i+1,15):\n",
    "        Sdd=preprocessing.normalize(df_agg.iloc[:,i:j])\n",
    "        kmeansp = KMeans(n_clusters=2).fit(Sdd)\n",
    "        labelsp = kmeansp.labels_\n",
    "        results[i-1][j-1]=metrics.silhouette_score(Sdd,labelsp,metric='euclidean')"
   ]
  },
  {
   "cell_type": "code",
   "execution_count": null,
   "metadata": {
    "collapsed": true
   },
   "outputs": [],
   "source": []
  },
  {
   "cell_type": "code",
   "execution_count": null,
   "metadata": {
    "collapsed": true
   },
   "outputs": [],
   "source": []
  },
  {
   "cell_type": "code",
   "execution_count": null,
   "metadata": {
    "collapsed": true
   },
   "outputs": [],
   "source": []
  },
  {
   "cell_type": "code",
   "execution_count": 48,
   "metadata": {
    "collapsed": false
   },
   "outputs": [],
   "source": [
    "kmeans = KMeans(n_clusters=2,init='k-means++').fit(df_agg.iloc[:,:-1])\n",
    "labels = kmeans.labels_"
   ]
  },
  {
   "cell_type": "code",
   "execution_count": 50,
   "metadata": {
    "collapsed": false
   },
   "outputs": [
    {
     "data": {
      "text/plain": [
       "0.52566749884053066"
      ]
     },
     "execution_count": 50,
     "metadata": {},
     "output_type": "execute_result"
    }
   ],
   "source": [
    "labels = kmeans.labels_\n",
    "metrics.silhouette_score(df_agg.iloc[:,:-1],labels,metric='euclidean')"
   ]
  },
  {
   "cell_type": "code",
   "execution_count": 51,
   "metadata": {
    "collapsed": false
   },
   "outputs": [
    {
     "data": {
      "text/plain": [
       "951"
      ]
     },
     "execution_count": 51,
     "metadata": {},
     "output_type": "execute_result"
    }
   ],
   "source": [
    "(df_agg['skintone']==labels).sum()"
   ]
  },
  {
   "cell_type": "code",
   "execution_count": 54,
   "metadata": {
    "collapsed": false
   },
   "outputs": [
    {
     "data": {
      "text/plain": [
       "0.26359741572503315"
      ]
     },
     "execution_count": 54,
     "metadata": {},
     "output_type": "execute_result"
    }
   ],
   "source": [
    "#preprocess and apply\n",
    "Sdd=preprocessing.scale(df_agg.iloc[:,:-1])\n",
    "kmeansp = KMeans(n_clusters=2).fit(Sdd)\n",
    "labelsp = kmeansp.labels_\n",
    "metrics.silhouette_score(Sdd,labelsp,metric='euclidean')"
   ]
  },
  {
   "cell_type": "code",
   "execution_count": 56,
   "metadata": {
    "collapsed": false
   },
   "outputs": [
    {
     "data": {
      "text/plain": [
       "Index(['total_yellow', 'total_yellow_red', 'total_direct_red', 'total_red',\n",
       "       'total_game', 'total_win', 'total_lose', 'total_draw', 'total_goal',\n",
       "       'league', 'club', 'height', 'weight', 'position', 'skintone'],\n",
       "      dtype='object')"
      ]
     },
     "execution_count": 56,
     "metadata": {},
     "output_type": "execute_result"
    }
   ],
   "source": [
    "df_agg.columns"
   ]
  },
  {
   "cell_type": "code",
   "execution_count": 57,
   "metadata": {
    "collapsed": false
   },
   "outputs": [
    {
     "data": {
      "text/html": [
       "<div>\n",
       "<table border=\"1\" class=\"dataframe\">\n",
       "  <thead>\n",
       "    <tr style=\"text-align: right;\">\n",
       "      <th></th>\n",
       "      <th>player</th>\n",
       "      <th>club</th>\n",
       "      <th>leagueCountry</th>\n",
       "      <th>height</th>\n",
       "      <th>weight</th>\n",
       "      <th>position</th>\n",
       "      <th>games</th>\n",
       "      <th>victories</th>\n",
       "      <th>ties</th>\n",
       "      <th>defeats</th>\n",
       "      <th>...</th>\n",
       "      <th>refNum</th>\n",
       "      <th>refCountry</th>\n",
       "      <th>meanIAT</th>\n",
       "      <th>nIAT</th>\n",
       "      <th>seIAT</th>\n",
       "      <th>meanExp</th>\n",
       "      <th>nExp</th>\n",
       "      <th>seExp</th>\n",
       "      <th>allreds</th>\n",
       "      <th>skintone</th>\n",
       "    </tr>\n",
       "  </thead>\n",
       "  <tbody>\n",
       "    <tr>\n",
       "      <th>0</th>\n",
       "      <td>1046</td>\n",
       "      <td>70</td>\n",
       "      <td>3</td>\n",
       "      <td>177.0</td>\n",
       "      <td>72.0</td>\n",
       "      <td>1</td>\n",
       "      <td>1</td>\n",
       "      <td>0</td>\n",
       "      <td>0</td>\n",
       "      <td>1</td>\n",
       "      <td>...</td>\n",
       "      <td>1</td>\n",
       "      <td>1</td>\n",
       "      <td>0.326391</td>\n",
       "      <td>712.0</td>\n",
       "      <td>0.000564</td>\n",
       "      <td>0.396000</td>\n",
       "      <td>750.0</td>\n",
       "      <td>0.002696</td>\n",
       "      <td>0</td>\n",
       "      <td>0</td>\n",
       "    </tr>\n",
       "    <tr>\n",
       "      <th>1</th>\n",
       "      <td>919</td>\n",
       "      <td>51</td>\n",
       "      <td>1</td>\n",
       "      <td>179.0</td>\n",
       "      <td>82.0</td>\n",
       "      <td>12</td>\n",
       "      <td>1</td>\n",
       "      <td>0</td>\n",
       "      <td>0</td>\n",
       "      <td>1</td>\n",
       "      <td>...</td>\n",
       "      <td>2</td>\n",
       "      <td>2</td>\n",
       "      <td>0.203375</td>\n",
       "      <td>40.0</td>\n",
       "      <td>0.010875</td>\n",
       "      <td>-0.204082</td>\n",
       "      <td>49.0</td>\n",
       "      <td>0.061504</td>\n",
       "      <td>0</td>\n",
       "      <td>1</td>\n",
       "    </tr>\n",
       "    <tr>\n",
       "      <th>2</th>\n",
       "      <td>392</td>\n",
       "      <td>34</td>\n",
       "      <td>0</td>\n",
       "      <td>182.0</td>\n",
       "      <td>71.0</td>\n",
       "      <td>2</td>\n",
       "      <td>1</td>\n",
       "      <td>0</td>\n",
       "      <td>0</td>\n",
       "      <td>1</td>\n",
       "      <td>...</td>\n",
       "      <td>4</td>\n",
       "      <td>4</td>\n",
       "      <td>0.325185</td>\n",
       "      <td>127.0</td>\n",
       "      <td>0.003297</td>\n",
       "      <td>0.538462</td>\n",
       "      <td>130.0</td>\n",
       "      <td>0.013752</td>\n",
       "      <td>0</td>\n",
       "      <td>0</td>\n",
       "    </tr>\n",
       "  </tbody>\n",
       "</table>\n",
       "<p>3 rows × 24 columns</p>\n",
       "</div>"
      ],
      "text/plain": [
       "   player  club  leagueCountry  height  weight  position  games  victories  \\\n",
       "0    1046    70              3   177.0    72.0         1      1          0   \n",
       "1     919    51              1   179.0    82.0        12      1          0   \n",
       "2     392    34              0   182.0    71.0         2      1          0   \n",
       "\n",
       "   ties  defeats    ...     refNum  refCountry   meanIAT   nIAT     seIAT  \\\n",
       "0     0        1    ...          1           1  0.326391  712.0  0.000564   \n",
       "1     0        1    ...          2           2  0.203375   40.0  0.010875   \n",
       "2     0        1    ...          4           4  0.325185  127.0  0.003297   \n",
       "\n",
       "    meanExp   nExp     seExp  allreds  skintone  \n",
       "0  0.396000  750.0  0.002696        0         0  \n",
       "1 -0.204082   49.0  0.061504        0         1  \n",
       "2  0.538462  130.0  0.013752        0         0  \n",
       "\n",
       "[3 rows x 24 columns]"
      ]
     },
     "execution_count": 57,
     "metadata": {},
     "output_type": "execute_result"
    }
   ],
   "source": [
    "df.head(3)"
   ]
  },
  {
   "cell_type": "code",
   "execution_count": null,
   "metadata": {
    "collapsed": true
   },
   "outputs": [],
   "source": []
  }
 ],
 "metadata": {
  "kernelspec": {
   "display_name": "Python [Root]",
   "language": "python",
   "name": "Python [Root]"
  },
  "language_info": {
   "codemirror_mode": {
    "name": "ipython",
    "version": 3
   },
   "file_extension": ".py",
   "mimetype": "text/x-python",
   "name": "python",
   "nbconvert_exporter": "python",
   "pygments_lexer": "ipython3",
   "version": "3.5.2"
  }
 },
 "nbformat": 4,
 "nbformat_minor": 0
}
